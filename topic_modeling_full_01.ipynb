{
  "nbformat": 4,
  "nbformat_minor": 0,
  "metadata": {
    "colab": {
      "provenance": []
    },
    "kernelspec": {
      "name": "python3",
      "display_name": "Python 3"
    },
    "language_info": {
      "name": "python"
    }
  },
  "cells": [
    {
      "cell_type": "code",
      "source": [
        "!pip install nltk\n",
        "!pip install gensim\n",
        "!pip install itertools\n",
        "!pip install spacy\n",
        "!pip install langdetect\n",
        "!pip install pprint\n",
        "!pip install pyLDAvis"
      ],
      "metadata": {
        "colab": {
          "base_uri": "https://localhost:8080/"
        },
        "id": "qxmXVlyXLO63",
        "outputId": "0aa696af-038a-4271-8521-d7f4c99bffdf"
      },
      "execution_count": 1,
      "outputs": [
        {
          "output_type": "stream",
          "name": "stdout",
          "text": [
            "Requirement already satisfied: nltk in /usr/local/lib/python3.10/dist-packages (3.9.1)\n",
            "Requirement already satisfied: click in /usr/local/lib/python3.10/dist-packages (from nltk) (8.1.7)\n",
            "Requirement already satisfied: joblib in /usr/local/lib/python3.10/dist-packages (from nltk) (1.4.2)\n",
            "Requirement already satisfied: regex>=2021.8.3 in /usr/local/lib/python3.10/dist-packages (from nltk) (2024.9.11)\n",
            "Requirement already satisfied: tqdm in /usr/local/lib/python3.10/dist-packages (from nltk) (4.66.6)\n",
            "Requirement already satisfied: gensim in /usr/local/lib/python3.10/dist-packages (4.3.3)\n",
            "Requirement already satisfied: numpy<2.0,>=1.18.5 in /usr/local/lib/python3.10/dist-packages (from gensim) (1.26.4)\n",
            "Requirement already satisfied: scipy<1.14.0,>=1.7.0 in /usr/local/lib/python3.10/dist-packages (from gensim) (1.13.1)\n",
            "Requirement already satisfied: smart-open>=1.8.1 in /usr/local/lib/python3.10/dist-packages (from gensim) (7.0.5)\n",
            "Requirement already satisfied: wrapt in /usr/local/lib/python3.10/dist-packages (from smart-open>=1.8.1->gensim) (1.16.0)\n",
            "\u001b[31mERROR: Could not find a version that satisfies the requirement itertools (from versions: none)\u001b[0m\u001b[31m\n",
            "\u001b[0m\u001b[31mERROR: No matching distribution found for itertools\u001b[0m\u001b[31m\n",
            "\u001b[0mRequirement already satisfied: spacy in /usr/local/lib/python3.10/dist-packages (3.7.5)\n",
            "Requirement already satisfied: spacy-legacy<3.1.0,>=3.0.11 in /usr/local/lib/python3.10/dist-packages (from spacy) (3.0.12)\n",
            "Requirement already satisfied: spacy-loggers<2.0.0,>=1.0.0 in /usr/local/lib/python3.10/dist-packages (from spacy) (1.0.5)\n",
            "Requirement already satisfied: murmurhash<1.1.0,>=0.28.0 in /usr/local/lib/python3.10/dist-packages (from spacy) (1.0.10)\n",
            "Requirement already satisfied: cymem<2.1.0,>=2.0.2 in /usr/local/lib/python3.10/dist-packages (from spacy) (2.0.8)\n",
            "Requirement already satisfied: preshed<3.1.0,>=3.0.2 in /usr/local/lib/python3.10/dist-packages (from spacy) (3.0.9)\n",
            "Requirement already satisfied: thinc<8.3.0,>=8.2.2 in /usr/local/lib/python3.10/dist-packages (from spacy) (8.2.5)\n",
            "Requirement already satisfied: wasabi<1.2.0,>=0.9.1 in /usr/local/lib/python3.10/dist-packages (from spacy) (1.1.3)\n",
            "Requirement already satisfied: srsly<3.0.0,>=2.4.3 in /usr/local/lib/python3.10/dist-packages (from spacy) (2.4.8)\n",
            "Requirement already satisfied: catalogue<2.1.0,>=2.0.6 in /usr/local/lib/python3.10/dist-packages (from spacy) (2.0.10)\n",
            "Requirement already satisfied: weasel<0.5.0,>=0.1.0 in /usr/local/lib/python3.10/dist-packages (from spacy) (0.4.1)\n",
            "Requirement already satisfied: typer<1.0.0,>=0.3.0 in /usr/local/lib/python3.10/dist-packages (from spacy) (0.13.0)\n",
            "Requirement already satisfied: tqdm<5.0.0,>=4.38.0 in /usr/local/lib/python3.10/dist-packages (from spacy) (4.66.6)\n",
            "Requirement already satisfied: requests<3.0.0,>=2.13.0 in /usr/local/lib/python3.10/dist-packages (from spacy) (2.32.3)\n",
            "Requirement already satisfied: pydantic!=1.8,!=1.8.1,<3.0.0,>=1.7.4 in /usr/local/lib/python3.10/dist-packages (from spacy) (2.9.2)\n",
            "Requirement already satisfied: jinja2 in /usr/local/lib/python3.10/dist-packages (from spacy) (3.1.4)\n",
            "Requirement already satisfied: setuptools in /usr/local/lib/python3.10/dist-packages (from spacy) (75.1.0)\n",
            "Requirement already satisfied: packaging>=20.0 in /usr/local/lib/python3.10/dist-packages (from spacy) (24.2)\n",
            "Requirement already satisfied: langcodes<4.0.0,>=3.2.0 in /usr/local/lib/python3.10/dist-packages (from spacy) (3.4.1)\n",
            "Requirement already satisfied: numpy>=1.19.0 in /usr/local/lib/python3.10/dist-packages (from spacy) (1.26.4)\n",
            "Requirement already satisfied: language-data>=1.2 in /usr/local/lib/python3.10/dist-packages (from langcodes<4.0.0,>=3.2.0->spacy) (1.2.0)\n",
            "Requirement already satisfied: annotated-types>=0.6.0 in /usr/local/lib/python3.10/dist-packages (from pydantic!=1.8,!=1.8.1,<3.0.0,>=1.7.4->spacy) (0.7.0)\n",
            "Requirement already satisfied: pydantic-core==2.23.4 in /usr/local/lib/python3.10/dist-packages (from pydantic!=1.8,!=1.8.1,<3.0.0,>=1.7.4->spacy) (2.23.4)\n",
            "Requirement already satisfied: typing-extensions>=4.6.1 in /usr/local/lib/python3.10/dist-packages (from pydantic!=1.8,!=1.8.1,<3.0.0,>=1.7.4->spacy) (4.12.2)\n",
            "Requirement already satisfied: charset-normalizer<4,>=2 in /usr/local/lib/python3.10/dist-packages (from requests<3.0.0,>=2.13.0->spacy) (3.4.0)\n",
            "Requirement already satisfied: idna<4,>=2.5 in /usr/local/lib/python3.10/dist-packages (from requests<3.0.0,>=2.13.0->spacy) (3.10)\n",
            "Requirement already satisfied: urllib3<3,>=1.21.1 in /usr/local/lib/python3.10/dist-packages (from requests<3.0.0,>=2.13.0->spacy) (2.2.3)\n",
            "Requirement already satisfied: certifi>=2017.4.17 in /usr/local/lib/python3.10/dist-packages (from requests<3.0.0,>=2.13.0->spacy) (2024.8.30)\n",
            "Requirement already satisfied: blis<0.8.0,>=0.7.8 in /usr/local/lib/python3.10/dist-packages (from thinc<8.3.0,>=8.2.2->spacy) (0.7.11)\n",
            "Requirement already satisfied: confection<1.0.0,>=0.0.1 in /usr/local/lib/python3.10/dist-packages (from thinc<8.3.0,>=8.2.2->spacy) (0.1.5)\n",
            "Requirement already satisfied: click>=8.0.0 in /usr/local/lib/python3.10/dist-packages (from typer<1.0.0,>=0.3.0->spacy) (8.1.7)\n",
            "Requirement already satisfied: shellingham>=1.3.0 in /usr/local/lib/python3.10/dist-packages (from typer<1.0.0,>=0.3.0->spacy) (1.5.4)\n",
            "Requirement already satisfied: rich>=10.11.0 in /usr/local/lib/python3.10/dist-packages (from typer<1.0.0,>=0.3.0->spacy) (13.9.4)\n",
            "Requirement already satisfied: cloudpathlib<1.0.0,>=0.7.0 in /usr/local/lib/python3.10/dist-packages (from weasel<0.5.0,>=0.1.0->spacy) (0.20.0)\n",
            "Requirement already satisfied: smart-open<8.0.0,>=5.2.1 in /usr/local/lib/python3.10/dist-packages (from weasel<0.5.0,>=0.1.0->spacy) (7.0.5)\n",
            "Requirement already satisfied: MarkupSafe>=2.0 in /usr/local/lib/python3.10/dist-packages (from jinja2->spacy) (3.0.2)\n",
            "Requirement already satisfied: marisa-trie>=0.7.7 in /usr/local/lib/python3.10/dist-packages (from language-data>=1.2->langcodes<4.0.0,>=3.2.0->spacy) (1.2.1)\n",
            "Requirement already satisfied: markdown-it-py>=2.2.0 in /usr/local/lib/python3.10/dist-packages (from rich>=10.11.0->typer<1.0.0,>=0.3.0->spacy) (3.0.0)\n",
            "Requirement already satisfied: pygments<3.0.0,>=2.13.0 in /usr/local/lib/python3.10/dist-packages (from rich>=10.11.0->typer<1.0.0,>=0.3.0->spacy) (2.18.0)\n",
            "Requirement already satisfied: wrapt in /usr/local/lib/python3.10/dist-packages (from smart-open<8.0.0,>=5.2.1->weasel<0.5.0,>=0.1.0->spacy) (1.16.0)\n",
            "Requirement already satisfied: mdurl~=0.1 in /usr/local/lib/python3.10/dist-packages (from markdown-it-py>=2.2.0->rich>=10.11.0->typer<1.0.0,>=0.3.0->spacy) (0.1.2)\n",
            "Collecting langdetect\n",
            "  Downloading langdetect-1.0.9.tar.gz (981 kB)\n",
            "\u001b[2K     \u001b[90m━━━━━━━━━━━━━━━━━━━━━━━━━━━━━━━━━━━━━━━━\u001b[0m \u001b[32m981.5/981.5 kB\u001b[0m \u001b[31m9.3 MB/s\u001b[0m eta \u001b[36m0:00:00\u001b[0m\n",
            "\u001b[?25h  Preparing metadata (setup.py) ... \u001b[?25l\u001b[?25hdone\n",
            "Requirement already satisfied: six in /usr/local/lib/python3.10/dist-packages (from langdetect) (1.16.0)\n",
            "Building wheels for collected packages: langdetect\n",
            "  Building wheel for langdetect (setup.py) ... \u001b[?25l\u001b[?25hdone\n",
            "  Created wheel for langdetect: filename=langdetect-1.0.9-py3-none-any.whl size=993222 sha256=8715c4ab97f3358fe55c7da3d1234622ba819e502ef0668e28ef34a51aee63c0\n",
            "  Stored in directory: /root/.cache/pip/wheels/95/03/7d/59ea870c70ce4e5a370638b5462a7711ab78fba2f655d05106\n",
            "Successfully built langdetect\n",
            "Installing collected packages: langdetect\n",
            "Successfully installed langdetect-1.0.9\n",
            "\u001b[31mERROR: Could not find a version that satisfies the requirement pprint (from versions: none)\u001b[0m\u001b[31m\n",
            "\u001b[0m\u001b[31mERROR: No matching distribution found for pprint\u001b[0m\u001b[31m\n",
            "\u001b[0mCollecting pyLDAvis\n",
            "  Downloading pyLDAvis-3.4.1-py3-none-any.whl.metadata (4.2 kB)\n",
            "Requirement already satisfied: numpy>=1.24.2 in /usr/local/lib/python3.10/dist-packages (from pyLDAvis) (1.26.4)\n",
            "Requirement already satisfied: scipy in /usr/local/lib/python3.10/dist-packages (from pyLDAvis) (1.13.1)\n",
            "Requirement already satisfied: pandas>=2.0.0 in /usr/local/lib/python3.10/dist-packages (from pyLDAvis) (2.2.2)\n",
            "Requirement already satisfied: joblib>=1.2.0 in /usr/local/lib/python3.10/dist-packages (from pyLDAvis) (1.4.2)\n",
            "Requirement already satisfied: jinja2 in /usr/local/lib/python3.10/dist-packages (from pyLDAvis) (3.1.4)\n",
            "Requirement already satisfied: numexpr in /usr/local/lib/python3.10/dist-packages (from pyLDAvis) (2.10.1)\n",
            "Collecting funcy (from pyLDAvis)\n",
            "  Downloading funcy-2.0-py2.py3-none-any.whl.metadata (5.9 kB)\n",
            "Requirement already satisfied: scikit-learn>=1.0.0 in /usr/local/lib/python3.10/dist-packages (from pyLDAvis) (1.5.2)\n",
            "Requirement already satisfied: gensim in /usr/local/lib/python3.10/dist-packages (from pyLDAvis) (4.3.3)\n",
            "Requirement already satisfied: setuptools in /usr/local/lib/python3.10/dist-packages (from pyLDAvis) (75.1.0)\n",
            "Requirement already satisfied: python-dateutil>=2.8.2 in /usr/local/lib/python3.10/dist-packages (from pandas>=2.0.0->pyLDAvis) (2.8.2)\n",
            "Requirement already satisfied: pytz>=2020.1 in /usr/local/lib/python3.10/dist-packages (from pandas>=2.0.0->pyLDAvis) (2024.2)\n",
            "Requirement already satisfied: tzdata>=2022.7 in /usr/local/lib/python3.10/dist-packages (from pandas>=2.0.0->pyLDAvis) (2024.2)\n",
            "Requirement already satisfied: threadpoolctl>=3.1.0 in /usr/local/lib/python3.10/dist-packages (from scikit-learn>=1.0.0->pyLDAvis) (3.5.0)\n",
            "Requirement already satisfied: smart-open>=1.8.1 in /usr/local/lib/python3.10/dist-packages (from gensim->pyLDAvis) (7.0.5)\n",
            "Requirement already satisfied: MarkupSafe>=2.0 in /usr/local/lib/python3.10/dist-packages (from jinja2->pyLDAvis) (3.0.2)\n",
            "Requirement already satisfied: six>=1.5 in /usr/local/lib/python3.10/dist-packages (from python-dateutil>=2.8.2->pandas>=2.0.0->pyLDAvis) (1.16.0)\n",
            "Requirement already satisfied: wrapt in /usr/local/lib/python3.10/dist-packages (from smart-open>=1.8.1->gensim->pyLDAvis) (1.16.0)\n",
            "Downloading pyLDAvis-3.4.1-py3-none-any.whl (2.6 MB)\n",
            "\u001b[2K   \u001b[90m━━━━━━━━━━━━━━━━━━━━━━━━━━━━━━━━━━━━━━━━\u001b[0m \u001b[32m2.6/2.6 MB\u001b[0m \u001b[31m20.7 MB/s\u001b[0m eta \u001b[36m0:00:00\u001b[0m\n",
            "\u001b[?25hDownloading funcy-2.0-py2.py3-none-any.whl (30 kB)\n",
            "Installing collected packages: funcy, pyLDAvis\n",
            "Successfully installed funcy-2.0 pyLDAvis-3.4.1\n"
          ]
        }
      ]
    },
    {
      "cell_type": "code",
      "source": [
        "import re\n",
        "import pandas as pd\n",
        "import nltk\n",
        "from nltk.tokenize import regexp_tokenize\n",
        "from nltk.tokenize import word_tokenize\n",
        "from nltk.tokenize import sent_tokenize\n",
        "from nltk.corpus import stopwords\n",
        "import string\n",
        "\n",
        "from collections import Counter\n",
        "from nltk.stem import WordNetLemmatizer\n",
        "\n",
        "#  GENSIM\n",
        "import gensim\n",
        "from gensim.corpora.dictionary import Dictionary\n",
        "from gensim.corpora import MmCorpus\n",
        "# for Defaultdics\n",
        "from collections import defaultdict\n",
        "# itertools\n",
        "import itertools\n",
        "# TF-IDF\n",
        "from gensim.models.tfidfmodel import TfidfModel\n",
        "\n",
        "# spacy for lemmatization\n",
        "import spacy\n",
        "\n",
        "# to delete non english text\n",
        "from langdetect import detect, DetectorFactory\n",
        "\n",
        "from gensim.models import CoherenceModel\n",
        "\n",
        "from string import punctuation\n",
        "\n",
        "from pprint import pprint\n",
        "\n",
        "import pyLDAvis\n",
        "import pyLDAvis.gensim\n",
        "import pyLDAvis.gensim_models\n",
        "import matplotlib.pyplot as plt\n",
        "import pyLDAvis.gensim_models as gensimvis\n",
        "\n",
        "%matplotlib inline\n",
        "\n",
        "\n",
        "import gensim.models\n",
        "\n",
        "from nltk import pos_tag\n",
        "from nltk.corpus import wordnet\n",
        "from nltk.stem import PorterStemmer\n",
        "from sklearn import decomposition\n",
        "from scipy import linalg\n",
        "\n",
        "from sklearn.feature_extraction.text import TfidfVectorizer\n",
        "\n",
        "import collections\n",
        "from nltk.util import ngrams\n",
        "\n",
        "from gensim.models import Phrases\n",
        "from gensim.models.phrases import Phraser"
      ],
      "metadata": {
        "id": "HyvJ-wbnLFMw"
      },
      "execution_count": 9,
      "outputs": []
    },
    {
      "cell_type": "code",
      "source": [
        "nltk.download('stopwords')\n",
        "nltk.download('punkt')\n",
        "nltk.download('wordnet')\n",
        "nltk.download('punkt_tab')\n",
        "nltk.download('omw-1.4')  # Optional for better language support\n",
        "nltk.download('averaged_perceptron_tagger')  # For POS tagging\n",
        "nltk.download('averaged_perceptron_tagger_eng')"
      ],
      "metadata": {
        "colab": {
          "base_uri": "https://localhost:8080/"
        },
        "id": "VU_YI8JHLjvt",
        "outputId": "cd0ba2d3-0746-461c-90ea-4d66d4680d11"
      },
      "execution_count": 10,
      "outputs": [
        {
          "output_type": "stream",
          "name": "stderr",
          "text": [
            "/usr/local/lib/python3.10/dist-packages/ipykernel/ipkernel.py:283: DeprecationWarning: `should_run_async` will not call `transform_cell` automatically in the future. Please pass the result to `transformed_cell` argument and any exception that happen during thetransform in `preprocessing_exc_tuple` in IPython 7.17 and above.\n",
            "  and should_run_async(code)\n",
            "[nltk_data] Downloading package stopwords to /root/nltk_data...\n",
            "[nltk_data]   Unzipping corpora/stopwords.zip.\n",
            "[nltk_data] Downloading package punkt to /root/nltk_data...\n",
            "[nltk_data]   Unzipping tokenizers/punkt.zip.\n",
            "[nltk_data] Downloading package wordnet to /root/nltk_data...\n",
            "[nltk_data] Downloading package punkt_tab to /root/nltk_data...\n",
            "[nltk_data]   Unzipping tokenizers/punkt_tab.zip.\n",
            "[nltk_data] Downloading package omw-1.4 to /root/nltk_data...\n",
            "[nltk_data] Downloading package averaged_perceptron_tagger to\n",
            "[nltk_data]     /root/nltk_data...\n",
            "[nltk_data]   Unzipping taggers/averaged_perceptron_tagger.zip.\n",
            "[nltk_data] Downloading package averaged_perceptron_tagger_eng to\n",
            "[nltk_data]     /root/nltk_data...\n",
            "[nltk_data]   Unzipping taggers/averaged_perceptron_tagger_eng.zip.\n"
          ]
        },
        {
          "output_type": "execute_result",
          "data": {
            "text/plain": [
              "True"
            ]
          },
          "metadata": {},
          "execution_count": 10
        }
      ]
    },
    {
      "cell_type": "code",
      "source": [
        "from google.colab import files\n",
        "uploaded = files.upload()"
      ],
      "metadata": {
        "colab": {
          "base_uri": "https://localhost:8080/",
          "height": 129
        },
        "id": "4JFum7h8Lx1V",
        "outputId": "13f1e26d-6e6e-41c7-bc7f-acc6a8954771"
      },
      "execution_count": 11,
      "outputs": [
        {
          "output_type": "stream",
          "name": "stderr",
          "text": [
            "/usr/local/lib/python3.10/dist-packages/ipykernel/ipkernel.py:283: DeprecationWarning: `should_run_async` will not call `transform_cell` automatically in the future. Please pass the result to `transformed_cell` argument and any exception that happen during thetransform in `preprocessing_exc_tuple` in IPython 7.17 and above.\n",
            "  and should_run_async(code)\n"
          ]
        },
        {
          "output_type": "display_data",
          "data": {
            "text/plain": [
              "<IPython.core.display.HTML object>"
            ],
            "text/html": [
              "\n",
              "     <input type=\"file\" id=\"files-8e10a0e1-bb71-49ca-bbeb-d52e320855c8\" name=\"files[]\" multiple disabled\n",
              "        style=\"border:none\" />\n",
              "     <output id=\"result-8e10a0e1-bb71-49ca-bbeb-d52e320855c8\">\n",
              "      Upload widget is only available when the cell has been executed in the\n",
              "      current browser session. Please rerun this cell to enable.\n",
              "      </output>\n",
              "      <script>// Copyright 2017 Google LLC\n",
              "//\n",
              "// Licensed under the Apache License, Version 2.0 (the \"License\");\n",
              "// you may not use this file except in compliance with the License.\n",
              "// You may obtain a copy of the License at\n",
              "//\n",
              "//      http://www.apache.org/licenses/LICENSE-2.0\n",
              "//\n",
              "// Unless required by applicable law or agreed to in writing, software\n",
              "// distributed under the License is distributed on an \"AS IS\" BASIS,\n",
              "// WITHOUT WARRANTIES OR CONDITIONS OF ANY KIND, either express or implied.\n",
              "// See the License for the specific language governing permissions and\n",
              "// limitations under the License.\n",
              "\n",
              "/**\n",
              " * @fileoverview Helpers for google.colab Python module.\n",
              " */\n",
              "(function(scope) {\n",
              "function span(text, styleAttributes = {}) {\n",
              "  const element = document.createElement('span');\n",
              "  element.textContent = text;\n",
              "  for (const key of Object.keys(styleAttributes)) {\n",
              "    element.style[key] = styleAttributes[key];\n",
              "  }\n",
              "  return element;\n",
              "}\n",
              "\n",
              "// Max number of bytes which will be uploaded at a time.\n",
              "const MAX_PAYLOAD_SIZE = 100 * 1024;\n",
              "\n",
              "function _uploadFiles(inputId, outputId) {\n",
              "  const steps = uploadFilesStep(inputId, outputId);\n",
              "  const outputElement = document.getElementById(outputId);\n",
              "  // Cache steps on the outputElement to make it available for the next call\n",
              "  // to uploadFilesContinue from Python.\n",
              "  outputElement.steps = steps;\n",
              "\n",
              "  return _uploadFilesContinue(outputId);\n",
              "}\n",
              "\n",
              "// This is roughly an async generator (not supported in the browser yet),\n",
              "// where there are multiple asynchronous steps and the Python side is going\n",
              "// to poll for completion of each step.\n",
              "// This uses a Promise to block the python side on completion of each step,\n",
              "// then passes the result of the previous step as the input to the next step.\n",
              "function _uploadFilesContinue(outputId) {\n",
              "  const outputElement = document.getElementById(outputId);\n",
              "  const steps = outputElement.steps;\n",
              "\n",
              "  const next = steps.next(outputElement.lastPromiseValue);\n",
              "  return Promise.resolve(next.value.promise).then((value) => {\n",
              "    // Cache the last promise value to make it available to the next\n",
              "    // step of the generator.\n",
              "    outputElement.lastPromiseValue = value;\n",
              "    return next.value.response;\n",
              "  });\n",
              "}\n",
              "\n",
              "/**\n",
              " * Generator function which is called between each async step of the upload\n",
              " * process.\n",
              " * @param {string} inputId Element ID of the input file picker element.\n",
              " * @param {string} outputId Element ID of the output display.\n",
              " * @return {!Iterable<!Object>} Iterable of next steps.\n",
              " */\n",
              "function* uploadFilesStep(inputId, outputId) {\n",
              "  const inputElement = document.getElementById(inputId);\n",
              "  inputElement.disabled = false;\n",
              "\n",
              "  const outputElement = document.getElementById(outputId);\n",
              "  outputElement.innerHTML = '';\n",
              "\n",
              "  const pickedPromise = new Promise((resolve) => {\n",
              "    inputElement.addEventListener('change', (e) => {\n",
              "      resolve(e.target.files);\n",
              "    });\n",
              "  });\n",
              "\n",
              "  const cancel = document.createElement('button');\n",
              "  inputElement.parentElement.appendChild(cancel);\n",
              "  cancel.textContent = 'Cancel upload';\n",
              "  const cancelPromise = new Promise((resolve) => {\n",
              "    cancel.onclick = () => {\n",
              "      resolve(null);\n",
              "    };\n",
              "  });\n",
              "\n",
              "  // Wait for the user to pick the files.\n",
              "  const files = yield {\n",
              "    promise: Promise.race([pickedPromise, cancelPromise]),\n",
              "    response: {\n",
              "      action: 'starting',\n",
              "    }\n",
              "  };\n",
              "\n",
              "  cancel.remove();\n",
              "\n",
              "  // Disable the input element since further picks are not allowed.\n",
              "  inputElement.disabled = true;\n",
              "\n",
              "  if (!files) {\n",
              "    return {\n",
              "      response: {\n",
              "        action: 'complete',\n",
              "      }\n",
              "    };\n",
              "  }\n",
              "\n",
              "  for (const file of files) {\n",
              "    const li = document.createElement('li');\n",
              "    li.append(span(file.name, {fontWeight: 'bold'}));\n",
              "    li.append(span(\n",
              "        `(${file.type || 'n/a'}) - ${file.size} bytes, ` +\n",
              "        `last modified: ${\n",
              "            file.lastModifiedDate ? file.lastModifiedDate.toLocaleDateString() :\n",
              "                                    'n/a'} - `));\n",
              "    const percent = span('0% done');\n",
              "    li.appendChild(percent);\n",
              "\n",
              "    outputElement.appendChild(li);\n",
              "\n",
              "    const fileDataPromise = new Promise((resolve) => {\n",
              "      const reader = new FileReader();\n",
              "      reader.onload = (e) => {\n",
              "        resolve(e.target.result);\n",
              "      };\n",
              "      reader.readAsArrayBuffer(file);\n",
              "    });\n",
              "    // Wait for the data to be ready.\n",
              "    let fileData = yield {\n",
              "      promise: fileDataPromise,\n",
              "      response: {\n",
              "        action: 'continue',\n",
              "      }\n",
              "    };\n",
              "\n",
              "    // Use a chunked sending to avoid message size limits. See b/62115660.\n",
              "    let position = 0;\n",
              "    do {\n",
              "      const length = Math.min(fileData.byteLength - position, MAX_PAYLOAD_SIZE);\n",
              "      const chunk = new Uint8Array(fileData, position, length);\n",
              "      position += length;\n",
              "\n",
              "      const base64 = btoa(String.fromCharCode.apply(null, chunk));\n",
              "      yield {\n",
              "        response: {\n",
              "          action: 'append',\n",
              "          file: file.name,\n",
              "          data: base64,\n",
              "        },\n",
              "      };\n",
              "\n",
              "      let percentDone = fileData.byteLength === 0 ?\n",
              "          100 :\n",
              "          Math.round((position / fileData.byteLength) * 100);\n",
              "      percent.textContent = `${percentDone}% done`;\n",
              "\n",
              "    } while (position < fileData.byteLength);\n",
              "  }\n",
              "\n",
              "  // All done.\n",
              "  yield {\n",
              "    response: {\n",
              "      action: 'complete',\n",
              "    }\n",
              "  };\n",
              "}\n",
              "\n",
              "scope.google = scope.google || {};\n",
              "scope.google.colab = scope.google.colab || {};\n",
              "scope.google.colab._files = {\n",
              "  _uploadFiles,\n",
              "  _uploadFilesContinue,\n",
              "};\n",
              "})(self);\n",
              "</script> "
            ]
          },
          "metadata": {}
        },
        {
          "output_type": "stream",
          "name": "stdout",
          "text": [
            "Saving top5banksReviews_v1.csv to top5banksReviews_v1.csv\n"
          ]
        }
      ]
    },
    {
      "cell_type": "code",
      "source": [
        "import io\n",
        "\n",
        "df = pd.read_csv(io.BytesIO(uploaded[\"top5banksReviews_v1.csv\"]))"
      ],
      "metadata": {
        "colab": {
          "base_uri": "https://localhost:8080/"
        },
        "id": "ivCYCPHuLy7q",
        "outputId": "e66b78fd-f2fa-407e-ab83-732ab57eb610"
      },
      "execution_count": 12,
      "outputs": [
        {
          "output_type": "stream",
          "name": "stderr",
          "text": [
            "/usr/local/lib/python3.10/dist-packages/ipykernel/ipkernel.py:283: DeprecationWarning: `should_run_async` will not call `transform_cell` automatically in the future. Please pass the result to `transformed_cell` argument and any exception that happen during thetransform in `preprocessing_exc_tuple` in IPython 7.17 and above.\n",
            "  and should_run_async(code)\n"
          ]
        }
      ]
    },
    {
      "cell_type": "code",
      "source": [
        "df_copy = df.copy()"
      ],
      "metadata": {
        "colab": {
          "base_uri": "https://localhost:8080/"
        },
        "id": "tdnIlqN8L2rd",
        "outputId": "85258788-bc58-4aae-e0ae-ae7987e2c176"
      },
      "execution_count": 13,
      "outputs": [
        {
          "output_type": "stream",
          "name": "stderr",
          "text": [
            "/usr/local/lib/python3.10/dist-packages/ipykernel/ipkernel.py:283: DeprecationWarning: `should_run_async` will not call `transform_cell` automatically in the future. Please pass the result to `transformed_cell` argument and any exception that happen during thetransform in `preprocessing_exc_tuple` in IPython 7.17 and above.\n",
            "  and should_run_async(code)\n"
          ]
        }
      ]
    },
    {
      "cell_type": "code",
      "source": [
        "df_copy.info()"
      ],
      "metadata": {
        "colab": {
          "base_uri": "https://localhost:8080/"
        },
        "id": "Xcfu4RaHL2pT",
        "outputId": "e1a135da-eb1d-4476-ce03-705c31615f22"
      },
      "execution_count": 15,
      "outputs": [
        {
          "output_type": "stream",
          "name": "stdout",
          "text": [
            "<class 'pandas.core.frame.DataFrame'>\n",
            "RangeIndex: 11980 entries, 0 to 11979\n",
            "Data columns (total 5 columns):\n",
            " #   Column      Non-Null Count  Dtype \n",
            "---  ------      --------------  ----- \n",
            " 0   Unnamed: 0  11980 non-null  int64 \n",
            " 1   rating      11980 non-null  int64 \n",
            " 2   title       11979 non-null  object\n",
            " 3   review      11980 non-null  object\n",
            " 4   Bank        11980 non-null  object\n",
            "dtypes: int64(2), object(3)\n",
            "memory usage: 468.1+ KB\n"
          ]
        },
        {
          "output_type": "stream",
          "name": "stderr",
          "text": [
            "/usr/local/lib/python3.10/dist-packages/ipykernel/ipkernel.py:283: DeprecationWarning: `should_run_async` will not call `transform_cell` automatically in the future. Please pass the result to `transformed_cell` argument and any exception that happen during thetransform in `preprocessing_exc_tuple` in IPython 7.17 and above.\n",
            "  and should_run_async(code)\n"
          ]
        }
      ]
    },
    {
      "cell_type": "code",
      "source": [
        "df_copy.head()"
      ],
      "metadata": {
        "colab": {
          "base_uri": "https://localhost:8080/",
          "height": 262
        },
        "id": "H9iU54p4L2mT",
        "outputId": "fc97851e-d917-4513-aa38-2f0ca687b062"
      },
      "execution_count": 16,
      "outputs": [
        {
          "output_type": "stream",
          "name": "stderr",
          "text": [
            "/usr/local/lib/python3.10/dist-packages/ipykernel/ipkernel.py:283: DeprecationWarning: `should_run_async` will not call `transform_cell` automatically in the future. Please pass the result to `transformed_cell` argument and any exception that happen during thetransform in `preprocessing_exc_tuple` in IPython 7.17 and above.\n",
            "  and should_run_async(code)\n"
          ]
        },
        {
          "output_type": "execute_result",
          "data": {
            "text/plain": [
              "   Unnamed: 0  rating                           title  \\\n",
              "0           0       4          Could Use Improvements   \n",
              "1           1       4                          Verify   \n",
              "2           2       1  Works terrible on my new phone   \n",
              "3           3       1                  Bare bones app   \n",
              "4           4       1        Not working with iOS12.2   \n",
              "\n",
              "                                              review Bank  \n",
              "0  If there is only one possible account, I shoul...  BMO  \n",
              "1  Suddenly I am being asked to verify this devic...  BMO  \n",
              "2  On my new phone, practically every time I open...  BMO  \n",
              "3  No features to make this app stand out amongst...  BMO  \n",
              "4  This app won’t work with iOS12.2. Every time I...  BMO  "
            ],
            "text/html": [
              "\n",
              "  <div id=\"df-151205ee-5336-4177-a16a-ab66b856f6e0\" class=\"colab-df-container\">\n",
              "    <div>\n",
              "<style scoped>\n",
              "    .dataframe tbody tr th:only-of-type {\n",
              "        vertical-align: middle;\n",
              "    }\n",
              "\n",
              "    .dataframe tbody tr th {\n",
              "        vertical-align: top;\n",
              "    }\n",
              "\n",
              "    .dataframe thead th {\n",
              "        text-align: right;\n",
              "    }\n",
              "</style>\n",
              "<table border=\"1\" class=\"dataframe\">\n",
              "  <thead>\n",
              "    <tr style=\"text-align: right;\">\n",
              "      <th></th>\n",
              "      <th>Unnamed: 0</th>\n",
              "      <th>rating</th>\n",
              "      <th>title</th>\n",
              "      <th>review</th>\n",
              "      <th>Bank</th>\n",
              "    </tr>\n",
              "  </thead>\n",
              "  <tbody>\n",
              "    <tr>\n",
              "      <th>0</th>\n",
              "      <td>0</td>\n",
              "      <td>4</td>\n",
              "      <td>Could Use Improvements</td>\n",
              "      <td>If there is only one possible account, I shoul...</td>\n",
              "      <td>BMO</td>\n",
              "    </tr>\n",
              "    <tr>\n",
              "      <th>1</th>\n",
              "      <td>1</td>\n",
              "      <td>4</td>\n",
              "      <td>Verify</td>\n",
              "      <td>Suddenly I am being asked to verify this devic...</td>\n",
              "      <td>BMO</td>\n",
              "    </tr>\n",
              "    <tr>\n",
              "      <th>2</th>\n",
              "      <td>2</td>\n",
              "      <td>1</td>\n",
              "      <td>Works terrible on my new phone</td>\n",
              "      <td>On my new phone, practically every time I open...</td>\n",
              "      <td>BMO</td>\n",
              "    </tr>\n",
              "    <tr>\n",
              "      <th>3</th>\n",
              "      <td>3</td>\n",
              "      <td>1</td>\n",
              "      <td>Bare bones app</td>\n",
              "      <td>No features to make this app stand out amongst...</td>\n",
              "      <td>BMO</td>\n",
              "    </tr>\n",
              "    <tr>\n",
              "      <th>4</th>\n",
              "      <td>4</td>\n",
              "      <td>1</td>\n",
              "      <td>Not working with iOS12.2</td>\n",
              "      <td>This app won’t work with iOS12.2. Every time I...</td>\n",
              "      <td>BMO</td>\n",
              "    </tr>\n",
              "  </tbody>\n",
              "</table>\n",
              "</div>\n",
              "    <div class=\"colab-df-buttons\">\n",
              "\n",
              "  <div class=\"colab-df-container\">\n",
              "    <button class=\"colab-df-convert\" onclick=\"convertToInteractive('df-151205ee-5336-4177-a16a-ab66b856f6e0')\"\n",
              "            title=\"Convert this dataframe to an interactive table.\"\n",
              "            style=\"display:none;\">\n",
              "\n",
              "  <svg xmlns=\"http://www.w3.org/2000/svg\" height=\"24px\" viewBox=\"0 -960 960 960\">\n",
              "    <path d=\"M120-120v-720h720v720H120Zm60-500h600v-160H180v160Zm220 220h160v-160H400v160Zm0 220h160v-160H400v160ZM180-400h160v-160H180v160Zm440 0h160v-160H620v160ZM180-180h160v-160H180v160Zm440 0h160v-160H620v160Z\"/>\n",
              "  </svg>\n",
              "    </button>\n",
              "\n",
              "  <style>\n",
              "    .colab-df-container {\n",
              "      display:flex;\n",
              "      gap: 12px;\n",
              "    }\n",
              "\n",
              "    .colab-df-convert {\n",
              "      background-color: #E8F0FE;\n",
              "      border: none;\n",
              "      border-radius: 50%;\n",
              "      cursor: pointer;\n",
              "      display: none;\n",
              "      fill: #1967D2;\n",
              "      height: 32px;\n",
              "      padding: 0 0 0 0;\n",
              "      width: 32px;\n",
              "    }\n",
              "\n",
              "    .colab-df-convert:hover {\n",
              "      background-color: #E2EBFA;\n",
              "      box-shadow: 0px 1px 2px rgba(60, 64, 67, 0.3), 0px 1px 3px 1px rgba(60, 64, 67, 0.15);\n",
              "      fill: #174EA6;\n",
              "    }\n",
              "\n",
              "    .colab-df-buttons div {\n",
              "      margin-bottom: 4px;\n",
              "    }\n",
              "\n",
              "    [theme=dark] .colab-df-convert {\n",
              "      background-color: #3B4455;\n",
              "      fill: #D2E3FC;\n",
              "    }\n",
              "\n",
              "    [theme=dark] .colab-df-convert:hover {\n",
              "      background-color: #434B5C;\n",
              "      box-shadow: 0px 1px 3px 1px rgba(0, 0, 0, 0.15);\n",
              "      filter: drop-shadow(0px 1px 2px rgba(0, 0, 0, 0.3));\n",
              "      fill: #FFFFFF;\n",
              "    }\n",
              "  </style>\n",
              "\n",
              "    <script>\n",
              "      const buttonEl =\n",
              "        document.querySelector('#df-151205ee-5336-4177-a16a-ab66b856f6e0 button.colab-df-convert');\n",
              "      buttonEl.style.display =\n",
              "        google.colab.kernel.accessAllowed ? 'block' : 'none';\n",
              "\n",
              "      async function convertToInteractive(key) {\n",
              "        const element = document.querySelector('#df-151205ee-5336-4177-a16a-ab66b856f6e0');\n",
              "        const dataTable =\n",
              "          await google.colab.kernel.invokeFunction('convertToInteractive',\n",
              "                                                    [key], {});\n",
              "        if (!dataTable) return;\n",
              "\n",
              "        const docLinkHtml = 'Like what you see? Visit the ' +\n",
              "          '<a target=\"_blank\" href=https://colab.research.google.com/notebooks/data_table.ipynb>data table notebook</a>'\n",
              "          + ' to learn more about interactive tables.';\n",
              "        element.innerHTML = '';\n",
              "        dataTable['output_type'] = 'display_data';\n",
              "        await google.colab.output.renderOutput(dataTable, element);\n",
              "        const docLink = document.createElement('div');\n",
              "        docLink.innerHTML = docLinkHtml;\n",
              "        element.appendChild(docLink);\n",
              "      }\n",
              "    </script>\n",
              "  </div>\n",
              "\n",
              "\n",
              "<div id=\"df-980265dc-7225-4bb5-a233-1ecf85acd63b\">\n",
              "  <button class=\"colab-df-quickchart\" onclick=\"quickchart('df-980265dc-7225-4bb5-a233-1ecf85acd63b')\"\n",
              "            title=\"Suggest charts\"\n",
              "            style=\"display:none;\">\n",
              "\n",
              "<svg xmlns=\"http://www.w3.org/2000/svg\" height=\"24px\"viewBox=\"0 0 24 24\"\n",
              "     width=\"24px\">\n",
              "    <g>\n",
              "        <path d=\"M19 3H5c-1.1 0-2 .9-2 2v14c0 1.1.9 2 2 2h14c1.1 0 2-.9 2-2V5c0-1.1-.9-2-2-2zM9 17H7v-7h2v7zm4 0h-2V7h2v10zm4 0h-2v-4h2v4z\"/>\n",
              "    </g>\n",
              "</svg>\n",
              "  </button>\n",
              "\n",
              "<style>\n",
              "  .colab-df-quickchart {\n",
              "      --bg-color: #E8F0FE;\n",
              "      --fill-color: #1967D2;\n",
              "      --hover-bg-color: #E2EBFA;\n",
              "      --hover-fill-color: #174EA6;\n",
              "      --disabled-fill-color: #AAA;\n",
              "      --disabled-bg-color: #DDD;\n",
              "  }\n",
              "\n",
              "  [theme=dark] .colab-df-quickchart {\n",
              "      --bg-color: #3B4455;\n",
              "      --fill-color: #D2E3FC;\n",
              "      --hover-bg-color: #434B5C;\n",
              "      --hover-fill-color: #FFFFFF;\n",
              "      --disabled-bg-color: #3B4455;\n",
              "      --disabled-fill-color: #666;\n",
              "  }\n",
              "\n",
              "  .colab-df-quickchart {\n",
              "    background-color: var(--bg-color);\n",
              "    border: none;\n",
              "    border-radius: 50%;\n",
              "    cursor: pointer;\n",
              "    display: none;\n",
              "    fill: var(--fill-color);\n",
              "    height: 32px;\n",
              "    padding: 0;\n",
              "    width: 32px;\n",
              "  }\n",
              "\n",
              "  .colab-df-quickchart:hover {\n",
              "    background-color: var(--hover-bg-color);\n",
              "    box-shadow: 0 1px 2px rgba(60, 64, 67, 0.3), 0 1px 3px 1px rgba(60, 64, 67, 0.15);\n",
              "    fill: var(--button-hover-fill-color);\n",
              "  }\n",
              "\n",
              "  .colab-df-quickchart-complete:disabled,\n",
              "  .colab-df-quickchart-complete:disabled:hover {\n",
              "    background-color: var(--disabled-bg-color);\n",
              "    fill: var(--disabled-fill-color);\n",
              "    box-shadow: none;\n",
              "  }\n",
              "\n",
              "  .colab-df-spinner {\n",
              "    border: 2px solid var(--fill-color);\n",
              "    border-color: transparent;\n",
              "    border-bottom-color: var(--fill-color);\n",
              "    animation:\n",
              "      spin 1s steps(1) infinite;\n",
              "  }\n",
              "\n",
              "  @keyframes spin {\n",
              "    0% {\n",
              "      border-color: transparent;\n",
              "      border-bottom-color: var(--fill-color);\n",
              "      border-left-color: var(--fill-color);\n",
              "    }\n",
              "    20% {\n",
              "      border-color: transparent;\n",
              "      border-left-color: var(--fill-color);\n",
              "      border-top-color: var(--fill-color);\n",
              "    }\n",
              "    30% {\n",
              "      border-color: transparent;\n",
              "      border-left-color: var(--fill-color);\n",
              "      border-top-color: var(--fill-color);\n",
              "      border-right-color: var(--fill-color);\n",
              "    }\n",
              "    40% {\n",
              "      border-color: transparent;\n",
              "      border-right-color: var(--fill-color);\n",
              "      border-top-color: var(--fill-color);\n",
              "    }\n",
              "    60% {\n",
              "      border-color: transparent;\n",
              "      border-right-color: var(--fill-color);\n",
              "    }\n",
              "    80% {\n",
              "      border-color: transparent;\n",
              "      border-right-color: var(--fill-color);\n",
              "      border-bottom-color: var(--fill-color);\n",
              "    }\n",
              "    90% {\n",
              "      border-color: transparent;\n",
              "      border-bottom-color: var(--fill-color);\n",
              "    }\n",
              "  }\n",
              "</style>\n",
              "\n",
              "  <script>\n",
              "    async function quickchart(key) {\n",
              "      const quickchartButtonEl =\n",
              "        document.querySelector('#' + key + ' button');\n",
              "      quickchartButtonEl.disabled = true;  // To prevent multiple clicks.\n",
              "      quickchartButtonEl.classList.add('colab-df-spinner');\n",
              "      try {\n",
              "        const charts = await google.colab.kernel.invokeFunction(\n",
              "            'suggestCharts', [key], {});\n",
              "      } catch (error) {\n",
              "        console.error('Error during call to suggestCharts:', error);\n",
              "      }\n",
              "      quickchartButtonEl.classList.remove('colab-df-spinner');\n",
              "      quickchartButtonEl.classList.add('colab-df-quickchart-complete');\n",
              "    }\n",
              "    (() => {\n",
              "      let quickchartButtonEl =\n",
              "        document.querySelector('#df-980265dc-7225-4bb5-a233-1ecf85acd63b button');\n",
              "      quickchartButtonEl.style.display =\n",
              "        google.colab.kernel.accessAllowed ? 'block' : 'none';\n",
              "    })();\n",
              "  </script>\n",
              "</div>\n",
              "\n",
              "    </div>\n",
              "  </div>\n"
            ],
            "application/vnd.google.colaboratory.intrinsic+json": {
              "type": "dataframe",
              "variable_name": "df_copy",
              "summary": "{\n  \"name\": \"df_copy\",\n  \"rows\": 11980,\n  \"fields\": [\n    {\n      \"column\": \"Unnamed: 0\",\n      \"properties\": {\n        \"dtype\": \"number\",\n        \"std\": 3458,\n        \"min\": 0,\n        \"max\": 11979,\n        \"num_unique_values\": 11980,\n        \"samples\": [\n          7388,\n          8679,\n          4714\n        ],\n        \"semantic_type\": \"\",\n        \"description\": \"\"\n      }\n    },\n    {\n      \"column\": \"rating\",\n      \"properties\": {\n        \"dtype\": \"number\",\n        \"std\": 1,\n        \"min\": 1,\n        \"max\": 5,\n        \"num_unique_values\": 5,\n        \"samples\": [\n          1,\n          5,\n          3\n        ],\n        \"semantic_type\": \"\",\n        \"description\": \"\"\n      }\n    },\n    {\n      \"column\": \"title\",\n      \"properties\": {\n        \"dtype\": \"string\",\n        \"num_unique_values\": 9220,\n        \"samples\": [\n          \"Could use new improvements\",\n          \"Been with BMO for 7 years\",\n          \"Broken investment activity\"\n        ],\n        \"semantic_type\": \"\",\n        \"description\": \"\"\n      }\n    },\n    {\n      \"column\": \"review\",\n      \"properties\": {\n        \"dtype\": \"string\",\n        \"num_unique_values\": 11874,\n        \"samples\": [\n          \"I liked the app... before the white screen and loading page started happening. It's happening in both my iPad and iPhone apps. I sign in and there's a white blank page. I can't check my balance or anything at all. I have to use my safari. It's annoying. FIX IT!!\",\n          \"Forces me to update app after app is already updated and only has the \\u201copen\\u201d option which kicks off the loop. Oh. They just made my phone obsolete without warning. How amazing. Big banks really *care* about their clients. Hahaha.\",\n          \"By far the best mobile banking app in Canada along with Amex. The other ones are left in the dust with their non native UI.\\n\\nKudos\"\n        ],\n        \"semantic_type\": \"\",\n        \"description\": \"\"\n      }\n    },\n    {\n      \"column\": \"Bank\",\n      \"properties\": {\n        \"dtype\": \"category\",\n        \"num_unique_values\": 5,\n        \"samples\": [\n          \"CIBC\",\n          \"TD\",\n          \"RBC\"\n        ],\n        \"semantic_type\": \"\",\n        \"description\": \"\"\n      }\n    }\n  ]\n}"
            }
          },
          "metadata": {},
          "execution_count": 16
        }
      ]
    },
    {
      "cell_type": "code",
      "source": [
        "# CHAT GPT CODE\n",
        "\n",
        "DetectorFactory.seed = 0\n",
        "\n",
        "def is_english(text):\n",
        "    try:\n",
        "        return detect(text) == 'en'\n",
        "    except:\n",
        "        return False\n",
        "\n",
        "df_copy['is_english'] = df_copy['review'].apply(is_english)\n",
        "df = df_copy[df_copy['is_english']].drop(columns=['is_english'])\n",
        "\n"
      ],
      "metadata": {
        "colab": {
          "base_uri": "https://localhost:8080/"
        },
        "id": "U7tEf1mjL2j2",
        "outputId": "4df3b210-021f-45c1-c0da-8a82d8353d4c"
      },
      "execution_count": 14,
      "outputs": [
        {
          "output_type": "stream",
          "name": "stderr",
          "text": [
            "/usr/local/lib/python3.10/dist-packages/ipykernel/ipkernel.py:283: DeprecationWarning: `should_run_async` will not call `transform_cell` automatically in the future. Please pass the result to `transformed_cell` argument and any exception that happen during thetransform in `preprocessing_exc_tuple` in IPython 7.17 and above.\n",
            "  and should_run_async(code)\n"
          ]
        }
      ]
    },
    {
      "cell_type": "code",
      "source": [
        "df.info()"
      ],
      "metadata": {
        "colab": {
          "base_uri": "https://localhost:8080/"
        },
        "id": "4NwCvm0cL6FN",
        "outputId": "e4a5a608-272a-437c-c87d-42922a2784c8"
      },
      "execution_count": 18,
      "outputs": [
        {
          "output_type": "stream",
          "name": "stdout",
          "text": [
            "<class 'pandas.core.frame.DataFrame'>\n",
            "Index: 11118 entries, 0 to 11979\n",
            "Data columns (total 5 columns):\n",
            " #   Column      Non-Null Count  Dtype \n",
            "---  ------      --------------  ----- \n",
            " 0   Unnamed: 0  11118 non-null  int64 \n",
            " 1   rating      11118 non-null  int64 \n",
            " 2   title       11117 non-null  object\n",
            " 3   review      11118 non-null  object\n",
            " 4   Bank        11118 non-null  object\n",
            "dtypes: int64(2), object(3)\n",
            "memory usage: 521.2+ KB\n"
          ]
        },
        {
          "output_type": "stream",
          "name": "stderr",
          "text": [
            "/usr/local/lib/python3.10/dist-packages/ipykernel/ipkernel.py:283: DeprecationWarning: `should_run_async` will not call `transform_cell` automatically in the future. Please pass the result to `transformed_cell` argument and any exception that happen during thetransform in `preprocessing_exc_tuple` in IPython 7.17 and above.\n",
            "  and should_run_async(code)\n"
          ]
        }
      ]
    },
    {
      "cell_type": "code",
      "source": [
        "longest_length = df['review'].str.len().max()\n",
        "shortest_length = df['review'].str.len().min()\n",
        "average_length = df['review'].str.len().mean()\n",
        "\n",
        "print(\"The longest review is {} characters long while the shortest is {} characters long and on average, the reviews are {} characters.\".format(longest_length, shortest_length, average_length))"
      ],
      "metadata": {
        "colab": {
          "base_uri": "https://localhost:8080/"
        },
        "id": "Q0vhxdkSL6Cz",
        "outputId": "7ad2a9ec-a2d0-4db2-fc3d-f095a5f1a52d"
      },
      "execution_count": 19,
      "outputs": [
        {
          "output_type": "stream",
          "name": "stdout",
          "text": [
            "The longest review is 2926 characters long while the shortest is 4 characters long and on average, the reviews are 189.7167656053247 characters.\n"
          ]
        },
        {
          "output_type": "stream",
          "name": "stderr",
          "text": [
            "/usr/local/lib/python3.10/dist-packages/ipykernel/ipkernel.py:283: DeprecationWarning: `should_run_async` will not call `transform_cell` automatically in the future. Please pass the result to `transformed_cell` argument and any exception that happen during thetransform in `preprocessing_exc_tuple` in IPython 7.17 and above.\n",
            "  and should_run_async(code)\n"
          ]
        }
      ]
    },
    {
      "cell_type": "markdown",
      "source": [
        "Data Cleaning:\n",
        "- Remove stopwords\n",
        "- Remove punctuation\n",
        "- Lower case everything\n",
        "- Stemming and Lemming"
      ],
      "metadata": {
        "id": "DeNlMHcsMTZu"
      }
    },
    {
      "cell_type": "code",
      "source": [
        "lemmer = nltk.WordNetLemmatizer()\n"
      ],
      "metadata": {
        "colab": {
          "base_uri": "https://localhost:8080/"
        },
        "id": "_09uEGhM12Cy",
        "outputId": "fca854ad-9260-4510-e3cb-83ac37280bd2"
      },
      "execution_count": 15,
      "outputs": [
        {
          "output_type": "stream",
          "name": "stderr",
          "text": [
            "/usr/local/lib/python3.10/dist-packages/ipykernel/ipkernel.py:283: DeprecationWarning: `should_run_async` will not call `transform_cell` automatically in the future. Please pass the result to `transformed_cell` argument and any exception that happen during thetransform in `preprocessing_exc_tuple` in IPython 7.17 and above.\n",
            "  and should_run_async(code)\n"
          ]
        }
      ]
    },
    {
      "cell_type": "code",
      "source": [
        "punctuation_to_remove = r\"[\\[\\]\\(\\)!?'|\\.,;:]\"\n",
        "\n",
        "stop_words = stopwords.words('english')\n",
        "stop_words.extend(['from', 'subject', 're', 'edu', 'use', 'app', 'you', 'my',\n",
        "                   'this', 'not'])\n",
        "\n",
        "stemmer = PorterStemmer()\n",
        "\n",
        "def remove_punc(sent):\n",
        "  no_punc = re.sub(punctuation_to_remove, \"\", sent)\n",
        "  return no_punc\n",
        "\n",
        "\n",
        "def clean_text(text):\n",
        "  text = ' '.join([word for word in text.split() if word not in stop_words])\n",
        "  text = ''.join([word for word in text if word not in string.punctuation])\n",
        "  text = ''.join([word for word in text if word not in punctuation_to_remove])\n",
        "  text = text.lower()\n",
        "\n",
        "  return text\n",
        "\n",
        "def lemmize(text):\n",
        "  text = [lemmer(word) for word in text.split()]\n",
        "\n",
        "  return str(text)\n",
        "\n",
        "# def stemmize(text):\n",
        "#   text = [stemmer.stem(word) for word in text.split()]\n",
        "#         #[[stemmer.stem(word) for word in sentence] for sentence in tokenize_doc_to_words]\n",
        "#   return str(text)\n",
        "\n",
        "\n",
        "def stemmizeLEMMER(text):\n",
        "    if not isinstance(text, str):\n",
        "        raise TypeError(\"Input text must be a string.\")\n",
        "    #lemmer\n",
        "    text = [lemmer.lemmatize(word) for word in text.split()]\n",
        "    #text = [stemmer.stem(word) for word in text.split()]\n",
        "    return text"
      ],
      "metadata": {
        "colab": {
          "base_uri": "https://localhost:8080/"
        },
        "id": "ia2URoO4L6Aj",
        "outputId": "2024827f-6efe-45a6-9d7c-15d88b1dc433"
      },
      "execution_count": 16,
      "outputs": [
        {
          "output_type": "stream",
          "name": "stderr",
          "text": [
            "/usr/local/lib/python3.10/dist-packages/ipykernel/ipkernel.py:283: DeprecationWarning: `should_run_async` will not call `transform_cell` automatically in the future. Please pass the result to `transformed_cell` argument and any exception that happen during thetransform in `preprocessing_exc_tuple` in IPython 7.17 and above.\n",
            "  and should_run_async(code)\n"
          ]
        }
      ]
    },
    {
      "cell_type": "code",
      "source": [
        "df['noStopWords'] = df['review'].apply(lambda x: clean_text(str(x.strip())))"
      ],
      "metadata": {
        "colab": {
          "base_uri": "https://localhost:8080/"
        },
        "id": "4t7AZ9j0L5-M",
        "outputId": "60982251-f236-41f5-ecf2-961486741c44"
      },
      "execution_count": 17,
      "outputs": [
        {
          "output_type": "stream",
          "name": "stderr",
          "text": [
            "/usr/local/lib/python3.10/dist-packages/ipykernel/ipkernel.py:283: DeprecationWarning: `should_run_async` will not call `transform_cell` automatically in the future. Please pass the result to `transformed_cell` argument and any exception that happen during thetransform in `preprocessing_exc_tuple` in IPython 7.17 and above.\n",
            "  and should_run_async(code)\n"
          ]
        }
      ]
    },
    {
      "cell_type": "code",
      "source": [
        "df['Stemm_'] = df['noStopWords'].apply(lambda x: stemmizeLEMMER(x))"
      ],
      "metadata": {
        "colab": {
          "base_uri": "https://localhost:8080/"
        },
        "id": "XUyebJOW1p9E",
        "outputId": "7cd0a0e4-c42e-4b59-ede1-2eb6f57d84c1"
      },
      "execution_count": 18,
      "outputs": [
        {
          "output_type": "stream",
          "name": "stderr",
          "text": [
            "/usr/local/lib/python3.10/dist-packages/ipykernel/ipkernel.py:283: DeprecationWarning: `should_run_async` will not call `transform_cell` automatically in the future. Please pass the result to `transformed_cell` argument and any exception that happen during thetransform in `preprocessing_exc_tuple` in IPython 7.17 and above.\n",
            "  and should_run_async(code)\n"
          ]
        }
      ]
    },
    {
      "cell_type": "code",
      "source": [
        "df.head()"
      ],
      "metadata": {
        "colab": {
          "base_uri": "https://localhost:8080/",
          "height": 262
        },
        "id": "RMkF1QLd1tGM",
        "outputId": "858f62e3-17e8-4fbe-bfc5-e3094447a417"
      },
      "execution_count": 19,
      "outputs": [
        {
          "output_type": "stream",
          "name": "stderr",
          "text": [
            "/usr/local/lib/python3.10/dist-packages/ipykernel/ipkernel.py:283: DeprecationWarning: `should_run_async` will not call `transform_cell` automatically in the future. Please pass the result to `transformed_cell` argument and any exception that happen during thetransform in `preprocessing_exc_tuple` in IPython 7.17 and above.\n",
            "  and should_run_async(code)\n"
          ]
        },
        {
          "output_type": "execute_result",
          "data": {
            "text/plain": [
              "   Unnamed: 0  rating                           title  \\\n",
              "0           0       4          Could Use Improvements   \n",
              "1           1       4                          Verify   \n",
              "2           2       1  Works terrible on my new phone   \n",
              "3           3       1                  Bare bones app   \n",
              "4           4       1        Not working with iOS12.2   \n",
              "\n",
              "                                              review Bank  \\\n",
              "0  If there is only one possible account, I shoul...  BMO   \n",
              "1  Suddenly I am being asked to verify this devic...  BMO   \n",
              "2  On my new phone, practically every time I open...  BMO   \n",
              "3  No features to make this app stand out amongst...  BMO   \n",
              "4  This app won’t work with iOS12.2. Every time I...  BMO   \n",
              "\n",
              "                                         noStopWords  \\\n",
              "0  if one possible account i select time i need d...   \n",
              "1  suddenly i asked verify device almost every ti...   \n",
              "2  on new phone practically every time i open ask...   \n",
              "3  no features make stand amongst canadian banks ...   \n",
              "4  this won’t work ios122 every time i open turns...   \n",
              "\n",
              "                                              Stemm_  \n",
              "0  [if, one, possible, account, i, select, time, ...  \n",
              "1  [suddenly, i, asked, verify, device, almost, e...  \n",
              "2  [on, new, phone, practically, every, time, i, ...  \n",
              "3  [no, feature, make, stand, amongst, canadian, ...  \n",
              "4  [this, won’t, work, ios122, every, time, i, op...  "
            ],
            "text/html": [
              "\n",
              "  <div id=\"df-aecb5268-9d83-4324-987b-0c0512592cae\" class=\"colab-df-container\">\n",
              "    <div>\n",
              "<style scoped>\n",
              "    .dataframe tbody tr th:only-of-type {\n",
              "        vertical-align: middle;\n",
              "    }\n",
              "\n",
              "    .dataframe tbody tr th {\n",
              "        vertical-align: top;\n",
              "    }\n",
              "\n",
              "    .dataframe thead th {\n",
              "        text-align: right;\n",
              "    }\n",
              "</style>\n",
              "<table border=\"1\" class=\"dataframe\">\n",
              "  <thead>\n",
              "    <tr style=\"text-align: right;\">\n",
              "      <th></th>\n",
              "      <th>Unnamed: 0</th>\n",
              "      <th>rating</th>\n",
              "      <th>title</th>\n",
              "      <th>review</th>\n",
              "      <th>Bank</th>\n",
              "      <th>noStopWords</th>\n",
              "      <th>Stemm_</th>\n",
              "    </tr>\n",
              "  </thead>\n",
              "  <tbody>\n",
              "    <tr>\n",
              "      <th>0</th>\n",
              "      <td>0</td>\n",
              "      <td>4</td>\n",
              "      <td>Could Use Improvements</td>\n",
              "      <td>If there is only one possible account, I shoul...</td>\n",
              "      <td>BMO</td>\n",
              "      <td>if one possible account i select time i need d...</td>\n",
              "      <td>[if, one, possible, account, i, select, time, ...</td>\n",
              "    </tr>\n",
              "    <tr>\n",
              "      <th>1</th>\n",
              "      <td>1</td>\n",
              "      <td>4</td>\n",
              "      <td>Verify</td>\n",
              "      <td>Suddenly I am being asked to verify this devic...</td>\n",
              "      <td>BMO</td>\n",
              "      <td>suddenly i asked verify device almost every ti...</td>\n",
              "      <td>[suddenly, i, asked, verify, device, almost, e...</td>\n",
              "    </tr>\n",
              "    <tr>\n",
              "      <th>2</th>\n",
              "      <td>2</td>\n",
              "      <td>1</td>\n",
              "      <td>Works terrible on my new phone</td>\n",
              "      <td>On my new phone, practically every time I open...</td>\n",
              "      <td>BMO</td>\n",
              "      <td>on new phone practically every time i open ask...</td>\n",
              "      <td>[on, new, phone, practically, every, time, i, ...</td>\n",
              "    </tr>\n",
              "    <tr>\n",
              "      <th>3</th>\n",
              "      <td>3</td>\n",
              "      <td>1</td>\n",
              "      <td>Bare bones app</td>\n",
              "      <td>No features to make this app stand out amongst...</td>\n",
              "      <td>BMO</td>\n",
              "      <td>no features make stand amongst canadian banks ...</td>\n",
              "      <td>[no, feature, make, stand, amongst, canadian, ...</td>\n",
              "    </tr>\n",
              "    <tr>\n",
              "      <th>4</th>\n",
              "      <td>4</td>\n",
              "      <td>1</td>\n",
              "      <td>Not working with iOS12.2</td>\n",
              "      <td>This app won’t work with iOS12.2. Every time I...</td>\n",
              "      <td>BMO</td>\n",
              "      <td>this won’t work ios122 every time i open turns...</td>\n",
              "      <td>[this, won’t, work, ios122, every, time, i, op...</td>\n",
              "    </tr>\n",
              "  </tbody>\n",
              "</table>\n",
              "</div>\n",
              "    <div class=\"colab-df-buttons\">\n",
              "\n",
              "  <div class=\"colab-df-container\">\n",
              "    <button class=\"colab-df-convert\" onclick=\"convertToInteractive('df-aecb5268-9d83-4324-987b-0c0512592cae')\"\n",
              "            title=\"Convert this dataframe to an interactive table.\"\n",
              "            style=\"display:none;\">\n",
              "\n",
              "  <svg xmlns=\"http://www.w3.org/2000/svg\" height=\"24px\" viewBox=\"0 -960 960 960\">\n",
              "    <path d=\"M120-120v-720h720v720H120Zm60-500h600v-160H180v160Zm220 220h160v-160H400v160Zm0 220h160v-160H400v160ZM180-400h160v-160H180v160Zm440 0h160v-160H620v160ZM180-180h160v-160H180v160Zm440 0h160v-160H620v160Z\"/>\n",
              "  </svg>\n",
              "    </button>\n",
              "\n",
              "  <style>\n",
              "    .colab-df-container {\n",
              "      display:flex;\n",
              "      gap: 12px;\n",
              "    }\n",
              "\n",
              "    .colab-df-convert {\n",
              "      background-color: #E8F0FE;\n",
              "      border: none;\n",
              "      border-radius: 50%;\n",
              "      cursor: pointer;\n",
              "      display: none;\n",
              "      fill: #1967D2;\n",
              "      height: 32px;\n",
              "      padding: 0 0 0 0;\n",
              "      width: 32px;\n",
              "    }\n",
              "\n",
              "    .colab-df-convert:hover {\n",
              "      background-color: #E2EBFA;\n",
              "      box-shadow: 0px 1px 2px rgba(60, 64, 67, 0.3), 0px 1px 3px 1px rgba(60, 64, 67, 0.15);\n",
              "      fill: #174EA6;\n",
              "    }\n",
              "\n",
              "    .colab-df-buttons div {\n",
              "      margin-bottom: 4px;\n",
              "    }\n",
              "\n",
              "    [theme=dark] .colab-df-convert {\n",
              "      background-color: #3B4455;\n",
              "      fill: #D2E3FC;\n",
              "    }\n",
              "\n",
              "    [theme=dark] .colab-df-convert:hover {\n",
              "      background-color: #434B5C;\n",
              "      box-shadow: 0px 1px 3px 1px rgba(0, 0, 0, 0.15);\n",
              "      filter: drop-shadow(0px 1px 2px rgba(0, 0, 0, 0.3));\n",
              "      fill: #FFFFFF;\n",
              "    }\n",
              "  </style>\n",
              "\n",
              "    <script>\n",
              "      const buttonEl =\n",
              "        document.querySelector('#df-aecb5268-9d83-4324-987b-0c0512592cae button.colab-df-convert');\n",
              "      buttonEl.style.display =\n",
              "        google.colab.kernel.accessAllowed ? 'block' : 'none';\n",
              "\n",
              "      async function convertToInteractive(key) {\n",
              "        const element = document.querySelector('#df-aecb5268-9d83-4324-987b-0c0512592cae');\n",
              "        const dataTable =\n",
              "          await google.colab.kernel.invokeFunction('convertToInteractive',\n",
              "                                                    [key], {});\n",
              "        if (!dataTable) return;\n",
              "\n",
              "        const docLinkHtml = 'Like what you see? Visit the ' +\n",
              "          '<a target=\"_blank\" href=https://colab.research.google.com/notebooks/data_table.ipynb>data table notebook</a>'\n",
              "          + ' to learn more about interactive tables.';\n",
              "        element.innerHTML = '';\n",
              "        dataTable['output_type'] = 'display_data';\n",
              "        await google.colab.output.renderOutput(dataTable, element);\n",
              "        const docLink = document.createElement('div');\n",
              "        docLink.innerHTML = docLinkHtml;\n",
              "        element.appendChild(docLink);\n",
              "      }\n",
              "    </script>\n",
              "  </div>\n",
              "\n",
              "\n",
              "<div id=\"df-cd544c6f-e206-49f9-8ca5-9aa25b90d177\">\n",
              "  <button class=\"colab-df-quickchart\" onclick=\"quickchart('df-cd544c6f-e206-49f9-8ca5-9aa25b90d177')\"\n",
              "            title=\"Suggest charts\"\n",
              "            style=\"display:none;\">\n",
              "\n",
              "<svg xmlns=\"http://www.w3.org/2000/svg\" height=\"24px\"viewBox=\"0 0 24 24\"\n",
              "     width=\"24px\">\n",
              "    <g>\n",
              "        <path d=\"M19 3H5c-1.1 0-2 .9-2 2v14c0 1.1.9 2 2 2h14c1.1 0 2-.9 2-2V5c0-1.1-.9-2-2-2zM9 17H7v-7h2v7zm4 0h-2V7h2v10zm4 0h-2v-4h2v4z\"/>\n",
              "    </g>\n",
              "</svg>\n",
              "  </button>\n",
              "\n",
              "<style>\n",
              "  .colab-df-quickchart {\n",
              "      --bg-color: #E8F0FE;\n",
              "      --fill-color: #1967D2;\n",
              "      --hover-bg-color: #E2EBFA;\n",
              "      --hover-fill-color: #174EA6;\n",
              "      --disabled-fill-color: #AAA;\n",
              "      --disabled-bg-color: #DDD;\n",
              "  }\n",
              "\n",
              "  [theme=dark] .colab-df-quickchart {\n",
              "      --bg-color: #3B4455;\n",
              "      --fill-color: #D2E3FC;\n",
              "      --hover-bg-color: #434B5C;\n",
              "      --hover-fill-color: #FFFFFF;\n",
              "      --disabled-bg-color: #3B4455;\n",
              "      --disabled-fill-color: #666;\n",
              "  }\n",
              "\n",
              "  .colab-df-quickchart {\n",
              "    background-color: var(--bg-color);\n",
              "    border: none;\n",
              "    border-radius: 50%;\n",
              "    cursor: pointer;\n",
              "    display: none;\n",
              "    fill: var(--fill-color);\n",
              "    height: 32px;\n",
              "    padding: 0;\n",
              "    width: 32px;\n",
              "  }\n",
              "\n",
              "  .colab-df-quickchart:hover {\n",
              "    background-color: var(--hover-bg-color);\n",
              "    box-shadow: 0 1px 2px rgba(60, 64, 67, 0.3), 0 1px 3px 1px rgba(60, 64, 67, 0.15);\n",
              "    fill: var(--button-hover-fill-color);\n",
              "  }\n",
              "\n",
              "  .colab-df-quickchart-complete:disabled,\n",
              "  .colab-df-quickchart-complete:disabled:hover {\n",
              "    background-color: var(--disabled-bg-color);\n",
              "    fill: var(--disabled-fill-color);\n",
              "    box-shadow: none;\n",
              "  }\n",
              "\n",
              "  .colab-df-spinner {\n",
              "    border: 2px solid var(--fill-color);\n",
              "    border-color: transparent;\n",
              "    border-bottom-color: var(--fill-color);\n",
              "    animation:\n",
              "      spin 1s steps(1) infinite;\n",
              "  }\n",
              "\n",
              "  @keyframes spin {\n",
              "    0% {\n",
              "      border-color: transparent;\n",
              "      border-bottom-color: var(--fill-color);\n",
              "      border-left-color: var(--fill-color);\n",
              "    }\n",
              "    20% {\n",
              "      border-color: transparent;\n",
              "      border-left-color: var(--fill-color);\n",
              "      border-top-color: var(--fill-color);\n",
              "    }\n",
              "    30% {\n",
              "      border-color: transparent;\n",
              "      border-left-color: var(--fill-color);\n",
              "      border-top-color: var(--fill-color);\n",
              "      border-right-color: var(--fill-color);\n",
              "    }\n",
              "    40% {\n",
              "      border-color: transparent;\n",
              "      border-right-color: var(--fill-color);\n",
              "      border-top-color: var(--fill-color);\n",
              "    }\n",
              "    60% {\n",
              "      border-color: transparent;\n",
              "      border-right-color: var(--fill-color);\n",
              "    }\n",
              "    80% {\n",
              "      border-color: transparent;\n",
              "      border-right-color: var(--fill-color);\n",
              "      border-bottom-color: var(--fill-color);\n",
              "    }\n",
              "    90% {\n",
              "      border-color: transparent;\n",
              "      border-bottom-color: var(--fill-color);\n",
              "    }\n",
              "  }\n",
              "</style>\n",
              "\n",
              "  <script>\n",
              "    async function quickchart(key) {\n",
              "      const quickchartButtonEl =\n",
              "        document.querySelector('#' + key + ' button');\n",
              "      quickchartButtonEl.disabled = true;  // To prevent multiple clicks.\n",
              "      quickchartButtonEl.classList.add('colab-df-spinner');\n",
              "      try {\n",
              "        const charts = await google.colab.kernel.invokeFunction(\n",
              "            'suggestCharts', [key], {});\n",
              "      } catch (error) {\n",
              "        console.error('Error during call to suggestCharts:', error);\n",
              "      }\n",
              "      quickchartButtonEl.classList.remove('colab-df-spinner');\n",
              "      quickchartButtonEl.classList.add('colab-df-quickchart-complete');\n",
              "    }\n",
              "    (() => {\n",
              "      let quickchartButtonEl =\n",
              "        document.querySelector('#df-cd544c6f-e206-49f9-8ca5-9aa25b90d177 button');\n",
              "      quickchartButtonEl.style.display =\n",
              "        google.colab.kernel.accessAllowed ? 'block' : 'none';\n",
              "    })();\n",
              "  </script>\n",
              "</div>\n",
              "\n",
              "    </div>\n",
              "  </div>\n"
            ],
            "application/vnd.google.colaboratory.intrinsic+json": {
              "type": "dataframe",
              "variable_name": "df",
              "summary": "{\n  \"name\": \"df\",\n  \"rows\": 11118,\n  \"fields\": [\n    {\n      \"column\": \"Unnamed: 0\",\n      \"properties\": {\n        \"dtype\": \"number\",\n        \"std\": 3430,\n        \"min\": 0,\n        \"max\": 11979,\n        \"num_unique_values\": 11118,\n        \"samples\": [\n          2129,\n          3710,\n          5108\n        ],\n        \"semantic_type\": \"\",\n        \"description\": \"\"\n      }\n    },\n    {\n      \"column\": \"rating\",\n      \"properties\": {\n        \"dtype\": \"number\",\n        \"std\": 1,\n        \"min\": 1,\n        \"max\": 5,\n        \"num_unique_values\": 5,\n        \"samples\": [\n          1,\n          5,\n          3\n        ],\n        \"semantic_type\": \"\",\n        \"description\": \"\"\n      }\n    },\n    {\n      \"column\": \"title\",\n      \"properties\": {\n        \"dtype\": \"string\",\n        \"num_unique_values\": 8588,\n        \"samples\": [\n          \"Getting better but still major problems\",\n          \"Easy Access\",\n          \"This app makes me eternally frustrated\"\n        ],\n        \"semantic_type\": \"\",\n        \"description\": \"\"\n      }\n    },\n    {\n      \"column\": \"review\",\n      \"properties\": {\n        \"dtype\": \"string\",\n        \"num_unique_values\": 11062,\n        \"samples\": [\n          \"This function is too finicky. I have TD app and works so much better\",\n          \"Great service by Pranav for helping all of us.\",\n          \"Tried installing the update but it never finished installing. Now it no longer even shows up in my list of updates (completed or not) and my app is inaccessible. Had to uninstall it. Up until now I didn't have any problems.\"\n        ],\n        \"semantic_type\": \"\",\n        \"description\": \"\"\n      }\n    },\n    {\n      \"column\": \"Bank\",\n      \"properties\": {\n        \"dtype\": \"category\",\n        \"num_unique_values\": 5,\n        \"samples\": [\n          \"CIBC\",\n          \"TD\",\n          \"RBC\"\n        ],\n        \"semantic_type\": \"\",\n        \"description\": \"\"\n      }\n    },\n    {\n      \"column\": \"noStopWords\",\n      \"properties\": {\n        \"dtype\": \"string\",\n        \"num_unique_values\": 11010,\n        \"samples\": [\n          \"i cannot pay bills it always crashes confirmation page\",\n          \"what wrong last update cant even pay bill without stupid apps shuting every single time\",\n          \"one useful life using years love every time i it\"\n        ],\n        \"semantic_type\": \"\",\n        \"description\": \"\"\n      }\n    },\n    {\n      \"column\": \"Stemm_\",\n      \"properties\": {\n        \"dtype\": \"object\",\n        \"semantic_type\": \"\",\n        \"description\": \"\"\n      }\n    }\n  ]\n}"
            }
          },
          "metadata": {},
          "execution_count": 19
        }
      ]
    },
    {
      "cell_type": "code",
      "source": [
        "#df['CLEAN_review'] = df['Stemm'].apply(lambda x: lemmize(x))"
      ],
      "metadata": {
        "colab": {
          "base_uri": "https://localhost:8080/"
        },
        "id": "wXqyiC3a1p4q",
        "outputId": "ee1c6807-6d77-4360-cdfb-2d26e1e08344"
      },
      "execution_count": 47,
      "outputs": [
        {
          "output_type": "stream",
          "name": "stderr",
          "text": [
            "/usr/local/lib/python3.10/dist-packages/ipykernel/ipkernel.py:283: DeprecationWarning: `should_run_async` will not call `transform_cell` automatically in the future. Please pass the result to `transformed_cell` argument and any exception that happen during thetransform in `preprocessing_exc_tuple` in IPython 7.17 and above.\n",
            "  and should_run_async(code)\n"
          ]
        }
      ]
    },
    {
      "cell_type": "markdown",
      "source": [
        "To have eaasy access - we save the data in several formats:\n",
        "- reviews will include the RAW original data\n",
        "- reviews without the stop words\n",
        "- reviews without the stop words + stemming\n",
        "\n",
        "Then each of these is:\n",
        "1. Tokenized to sentence, named \"TOK_SENT\"\n",
        "2. Tokenized to words, named \"TOK_WORD\"\n",
        "3. Cleaned\n"
      ],
      "metadata": {
        "id": "I6LDkVvK4SYK"
      }
    },
    {
      "cell_type": "code",
      "source": [
        "#' '.join(reviews_stemmed[0])"
      ],
      "metadata": {
        "colab": {
          "base_uri": "https://localhost:8080/",
          "height": 91
        },
        "id": "J8PWnGarGgEh",
        "outputId": "548fb3af-da50-4720-fc68-1cdc9d48bcbd"
      },
      "execution_count": 179,
      "outputs": [
        {
          "output_type": "stream",
          "name": "stderr",
          "text": [
            "/usr/local/lib/python3.10/dist-packages/ipykernel/ipkernel.py:283: DeprecationWarning: `should_run_async` will not call `transform_cell` automatically in the future. Please pass the result to `transformed_cell` argument and any exception that happen during thetransform in `preprocessing_exc_tuple` in IPython 7.17 and above.\n",
            "  and should_run_async(code)\n"
          ]
        },
        {
          "output_type": "execute_result",
          "data": {
            "text/plain": [
              "'if one possible account i select time i need deposit cheque if multiple account would good allowed choose default account deposit to other bank apps set way'"
            ],
            "application/vnd.google.colaboratory.intrinsic+json": {
              "type": "string"
            }
          },
          "metadata": {},
          "execution_count": 179
        }
      ]
    },
    {
      "cell_type": "code",
      "source": [
        "#reviews_stemmed[0]"
      ],
      "metadata": {
        "colab": {
          "base_uri": "https://localhost:8080/"
        },
        "id": "3owtanjfHOrG",
        "outputId": "96dd9ecd-7118-46ac-9a41-65e72592654d"
      },
      "execution_count": 186,
      "outputs": [
        {
          "output_type": "stream",
          "name": "stderr",
          "text": [
            "/usr/local/lib/python3.10/dist-packages/ipykernel/ipkernel.py:283: DeprecationWarning: `should_run_async` will not call `transform_cell` automatically in the future. Please pass the result to `transformed_cell` argument and any exception that happen during thetransform in `preprocessing_exc_tuple` in IPython 7.17 and above.\n",
            "  and should_run_async(code)\n"
          ]
        },
        {
          "output_type": "execute_result",
          "data": {
            "text/plain": [
              "['if',\n",
              " 'one',\n",
              " 'possible',\n",
              " 'account',\n",
              " 'i',\n",
              " 'select',\n",
              " 'time',\n",
              " 'i',\n",
              " 'need',\n",
              " 'deposit',\n",
              " 'cheque',\n",
              " 'if',\n",
              " 'multiple',\n",
              " 'account',\n",
              " 'would',\n",
              " 'good',\n",
              " 'allowed',\n",
              " 'choose',\n",
              " 'default',\n",
              " 'account',\n",
              " 'deposit',\n",
              " 'to',\n",
              " 'other',\n",
              " 'bank',\n",
              " 'apps',\n",
              " 'set',\n",
              " 'way']"
            ]
          },
          "metadata": {},
          "execution_count": 186
        }
      ]
    },
    {
      "cell_type": "code",
      "source": [
        "#reviews_nostopwords[0]"
      ],
      "metadata": {
        "colab": {
          "base_uri": "https://localhost:8080/",
          "height": 91
        },
        "id": "YF-tZAVaGrPJ",
        "outputId": "f2fa2c7a-51da-4fb5-91ad-f14b2e17ebcc"
      },
      "execution_count": 184,
      "outputs": [
        {
          "output_type": "stream",
          "name": "stderr",
          "text": [
            "/usr/local/lib/python3.10/dist-packages/ipykernel/ipkernel.py:283: DeprecationWarning: `should_run_async` will not call `transform_cell` automatically in the future. Please pass the result to `transformed_cell` argument and any exception that happen during thetransform in `preprocessing_exc_tuple` in IPython 7.17 and above.\n",
            "  and should_run_async(code)\n"
          ]
        },
        {
          "output_type": "execute_result",
          "data": {
            "text/plain": [
              "'if one possible account i select time i need deposit cheque if multiple accounts would good allowed choose default account deposit to other bank apps set way'"
            ],
            "application/vnd.google.colaboratory.intrinsic+json": {
              "type": "string"
            }
          },
          "metadata": {},
          "execution_count": 184
        }
      ]
    },
    {
      "cell_type": "code",
      "source": [
        "reviews = list(df['review'])\n",
        "reviews_nostopwords = list(df['noStopWords'])\n",
        "reviews_stemmed = list(df['Stemm_'])\n",
        "\n",
        "\n",
        "#tokenize to sentence\n",
        "TOK_SENT_reviews = sent_tokenize(\" \".join(reviews))\n",
        "\n",
        "#tokenize to words\n",
        "TOK_WORD_reviews = [word_tokenize(sentence) for sentence in TOK_SENT_reviews]\n",
        "TOK_WORD_reviews_nostopwords = [word_tokenize(sentence) for sentence in reviews_nostopwords]\n",
        "TOK_WORD_reviews_stemmed = reviews_stemmed\n",
        "\n",
        "#cleaned sentences\n",
        "TOK_SENT_reviews = [remove_punc(sentence) for sentence in TOK_SENT_reviews]\n",
        "\n",
        "#cleaned words\n",
        "for i in range(len(TOK_WORD_reviews)):\n",
        "  TOK_WORD_reviews[i] = [w for w in TOK_WORD_reviews[i] if w.isalpha() and w not in punctuation and w not in stop_words]\n",
        "\n",
        "for i in range(len(TOK_WORD_reviews_nostopwords)):\n",
        "  TOK_WORD_reviews_nostopwords[i] = [w for w in TOK_WORD_reviews_nostopwords[i] if w.isalpha() and w not in punctuation and w not in stop_words]\n",
        "\n",
        "for i in range(len(TOK_WORD_reviews_stemmed)):\n",
        "  TOK_WORD_reviews_stemmed[i] = [w for w in TOK_WORD_reviews_stemmed[i] if w.isalpha() and w not in punctuation and w not in stop_words]\n",
        "\n",
        "#gensim ready data\n",
        "# gensim_ok_reviews_data = \" \".join(reviews)\n"
      ],
      "metadata": {
        "colab": {
          "base_uri": "https://localhost:8080/"
        },
        "id": "hQnCwhn-31YG",
        "outputId": "ad412386-0835-41e1-d18b-210f6edfaf6c"
      },
      "execution_count": 20,
      "outputs": [
        {
          "output_type": "stream",
          "name": "stderr",
          "text": [
            "/usr/local/lib/python3.10/dist-packages/ipykernel/ipkernel.py:283: DeprecationWarning: `should_run_async` will not call `transform_cell` automatically in the future. Please pass the result to `transformed_cell` argument and any exception that happen during thetransform in `preprocessing_exc_tuple` in IPython 7.17 and above.\n",
            "  and should_run_async(code)\n"
          ]
        }
      ]
    },
    {
      "cell_type": "code",
      "source": [
        "nlp = spacy.load('en_core_web_sm', disable=['tagger', 'parser', 'matcher'])\n",
        "\n",
        "gensim_ok_reviews_data = \" \".join(reviews)\n",
        "\n",
        "# FIND THE NER's : Name Entity  - CHAT GPT CODE - Because of run time\n",
        "nlp.max_length = 10**7\n",
        "\n",
        "# Split the large text into smaller chunks (e.g., 1 million characters each) - 1 million characters per chunk\n",
        "chunk_size = 10**6\n",
        "chunks = [gensim_ok_reviews_data[i:i+chunk_size] for i in range(0, len(gensim_ok_reviews_data), chunk_size)]\n",
        "\n",
        "for chunk in chunks:\n",
        "    doc_nlp = nlp(chunk)\n",
        "    for ent in doc_nlp.ents[:10]:\n",
        "        print(ent.label_, ent.text)\n"
      ],
      "metadata": {
        "id": "y8mJ1NIiObPl"
      },
      "execution_count": null,
      "outputs": []
    },
    {
      "cell_type": "code",
      "source": [
        "def dict_gesim_stuff(text):\n",
        "  dictionary = dictionary = Dictionary(text)\n",
        "\n",
        "  corpus = [dictionary.doc2bow(review) for review in text]\n",
        "\n",
        "  # Save the corpus in Matrix Market format\n",
        "  MmCorpus.serialize('mmcorpus_ios.mm', corpus)\n",
        "\n",
        "  return dictionary, corpus\n",
        "\n",
        "\n",
        "def print_top_50_words(corpus):\n",
        "  total_word_count = defaultdict(int)\n",
        "  word_weights = defaultdict(float)\n",
        "\n",
        "  for word_id, word_count in itertools.chain.from_iterable(corpus):\n",
        "      total_word_count[word_id] += word_count\n",
        "\n",
        "  # sort this dictionary\n",
        "  sorted_tota_words_count = sorted(total_word_count.items(), key = lambda w: w[1], reverse = True)\n",
        "\n",
        "  tfidf = TfidfModel(corpus)\n",
        "\n",
        "\n",
        "  # CHATGPT CODE:\n",
        "  for doc in corpus:\n",
        "      tfidf_weights = tfidf[doc]  # Calculate TF-IDF for the review\n",
        "      for term_id, weight in tfidf_weights:\n",
        "          word_weights[term_id] += weight  # Aggregate the weight for the term\n",
        "\n",
        "  # Sort the terms by weight in descending order\n",
        "  sorted_word_weights = sorted(word_weights.items(), key=lambda x: x[1], reverse=True)\n",
        "\n",
        "  # Print the top 50 terms with their weights\n",
        "  top_50_words = [(dictionary.get(term_id), weight) for term_id, weight in sorted_word_weights[:50]]\n",
        "\n",
        "  for word, weight in top_50_words:\n",
        "      print(word, weight)\n",
        "\n",
        "\n"
      ],
      "metadata": {
        "colab": {
          "base_uri": "https://localhost:8080/"
        },
        "id": "O-wSy30VObNs",
        "outputId": "e4822ecf-0310-4d4b-acd1-4bd87ffd5e08"
      },
      "execution_count": 21,
      "outputs": [
        {
          "output_type": "stream",
          "name": "stderr",
          "text": [
            "/usr/local/lib/python3.10/dist-packages/ipykernel/ipkernel.py:283: DeprecationWarning: `should_run_async` will not call `transform_cell` automatically in the future. Please pass the result to `transformed_cell` argument and any exception that happen during thetransform in `preprocessing_exc_tuple` in IPython 7.17 and above.\n",
            "  and should_run_async(code)\n"
          ]
        }
      ]
    },
    {
      "cell_type": "code",
      "source": [
        "df['Stemm_'][0]"
      ],
      "metadata": {
        "colab": {
          "base_uri": "https://localhost:8080/"
        },
        "id": "S5VZUrQ2F-kT",
        "outputId": "6af02377-e9a1-4228-bbd0-1457f97bdfd9"
      },
      "execution_count": 189,
      "outputs": [
        {
          "output_type": "stream",
          "name": "stderr",
          "text": [
            "/usr/local/lib/python3.10/dist-packages/ipykernel/ipkernel.py:283: DeprecationWarning: `should_run_async` will not call `transform_cell` automatically in the future. Please pass the result to `transformed_cell` argument and any exception that happen during thetransform in `preprocessing_exc_tuple` in IPython 7.17 and above.\n",
            "  and should_run_async(code)\n"
          ]
        },
        {
          "output_type": "execute_result",
          "data": {
            "text/plain": [
              "['if',\n",
              " 'one',\n",
              " 'possible',\n",
              " 'account',\n",
              " 'i',\n",
              " 'select',\n",
              " 'time',\n",
              " 'i',\n",
              " 'need',\n",
              " 'deposit',\n",
              " 'cheque',\n",
              " 'if',\n",
              " 'multiple',\n",
              " 'account',\n",
              " 'would',\n",
              " 'good',\n",
              " 'allowed',\n",
              " 'choose',\n",
              " 'default',\n",
              " 'account',\n",
              " 'deposit',\n",
              " 'to',\n",
              " 'other',\n",
              " 'bank',\n",
              " 'apps',\n",
              " 'set',\n",
              " 'way']"
            ]
          },
          "metadata": {},
          "execution_count": 189
        }
      ]
    },
    {
      "cell_type": "code",
      "source": [
        "df['noStopWords'][0]"
      ],
      "metadata": {
        "colab": {
          "base_uri": "https://localhost:8080/",
          "height": 91
        },
        "id": "SLeUDWm8CX3P",
        "outputId": "2d3894b5-3c4b-48a3-e746-b8a0fa777e30"
      },
      "execution_count": 22,
      "outputs": [
        {
          "output_type": "stream",
          "name": "stderr",
          "text": [
            "/usr/local/lib/python3.10/dist-packages/ipykernel/ipkernel.py:283: DeprecationWarning: `should_run_async` will not call `transform_cell` automatically in the future. Please pass the result to `transformed_cell` argument and any exception that happen during thetransform in `preprocessing_exc_tuple` in IPython 7.17 and above.\n",
            "  and should_run_async(code)\n"
          ]
        },
        {
          "output_type": "execute_result",
          "data": {
            "text/plain": [
              "'if one possible account i select time i need deposit cheque if multiple accounts would good allowed choose default account deposit to other bank apps set way'"
            ],
            "application/vnd.google.colaboratory.intrinsic+json": {
              "type": "string"
            }
          },
          "metadata": {},
          "execution_count": 22
        }
      ]
    },
    {
      "cell_type": "code",
      "source": [
        "# DICTIONARY GENSIM\n",
        "# tokenized_doc_to_words_noStop is the cleaned version of the data\n",
        "stemm_data = list(df['Stemm_'])\n",
        "\n",
        "dictionary = Dictionary(stemm_data)\n",
        "\n",
        "mmcorpus = [dictionary.doc2bow(review) for review in stemm_data] # each review is turned into bag of words\n",
        "\n",
        "# Save the corpus in Matrix Market format\n",
        "MmCorpus.serialize('mmcorpus_ios.mm', mmcorpus)\n",
        "\n",
        "# Later, you can load it back without reading the whole file into memory\n",
        "loaded_corpus = MmCorpus('mmcorpus_ios.mm')"
      ],
      "metadata": {
        "colab": {
          "base_uri": "https://localhost:8080/"
        },
        "id": "HUkqcEpUObJQ",
        "outputId": "fcb38fdc-2e6a-4364-ead7-e8a926e4912c"
      },
      "execution_count": 23,
      "outputs": [
        {
          "output_type": "stream",
          "name": "stderr",
          "text": [
            "/usr/local/lib/python3.10/dist-packages/ipykernel/ipkernel.py:283: DeprecationWarning: `should_run_async` will not call `transform_cell` automatically in the future. Please pass the result to `transformed_cell` argument and any exception that happen during thetransform in `preprocessing_exc_tuple` in IPython 7.17 and above.\n",
            "  and should_run_async(code)\n"
          ]
        }
      ]
    },
    {
      "cell_type": "code",
      "source": [
        "print_top_50_words(mmcorpus)"
      ],
      "metadata": {
        "colab": {
          "base_uri": "https://localhost:8080/"
        },
        "id": "CFxbgVZbObHU",
        "outputId": "2cc13492-f9f1-4bd8-e8fa-2de4f9f0f196"
      },
      "execution_count": 192,
      "outputs": [
        {
          "output_type": "stream",
          "name": "stderr",
          "text": [
            "/usr/local/lib/python3.10/dist-packages/ipykernel/ipkernel.py:283: DeprecationWarning: `should_run_async` will not call `transform_cell` automatically in the future. Please pass the result to `transformed_cell` argument and any exception that happen during thetransform in `preprocessing_exc_tuple` in IPython 7.17 and above.\n",
            "  and should_run_async(code)\n"
          ]
        },
        {
          "output_type": "stream",
          "name": "stdout",
          "text": [
            "i 369.65890700872734\n",
            "app 243.2507929536397\n",
            "easy 225.93491642069182\n",
            "update 221.3450872462168\n",
            "it 207.49544262990386\n",
            "account 195.5598749534573\n",
            "time 193.8293833370206\n",
            "work 189.17911712010195\n",
            "great 187.86003439448984\n",
            "the 186.34754816081522\n",
            "bank 185.59511063740877\n",
            "banking 171.36416847536762\n",
            "please 167.6916537516206\n",
            "this 167.0959175823785\n",
            "it’s 155.61690776984778\n",
            "new 149.05561957608532\n",
            "fix 143.08068037373678\n",
            "need 142.04576981756222\n",
            "can’t 137.03154920708053\n",
            "love 136.5752892661613\n",
            "like 130.03293897713664\n",
            "get 128.55200974704377\n",
            "good 122.73607003732471\n",
            "card 121.81982232976121\n",
            "issue 117.36591318725142\n",
            "deposit 115.90752596591378\n",
            "phone 115.08491190739932\n",
            "password 114.76435160818144\n",
            "log 114.73371393856017\n",
            "version 113.3596129529998\n",
            "make 112.81263027735113\n",
            "one 112.1147663842888\n",
            "cibc 111.84380879229475\n",
            "open 111.37236332449744\n",
            "service 110.88170858848373\n",
            "every 110.6855646189885\n",
            "even 110.28050701174534\n",
            "would 110.0466247530332\n",
            "credit 104.28455920605137\n",
            "cheque 104.10974362904206\n",
            "very 102.26978939236318\n",
            "see 101.79086284218262\n",
            "use 101.68553075521514\n",
            "go 101.13926419489793\n",
            "always 100.26961769931762\n",
            "transaction 99.94604769200787\n",
            "back 99.85842962633404\n",
            "never 99.15980943673222\n",
            "keep 98.78347331327926\n",
            "sign 98.66715317717815\n"
          ]
        }
      ]
    },
    {
      "cell_type": "code",
      "source": [
        "df.head()"
      ],
      "metadata": {
        "colab": {
          "base_uri": "https://localhost:8080/",
          "height": 262
        },
        "id": "2FMhRiRH9CDg",
        "outputId": "891f6573-2e21-4b74-cfea-8b05a8662649"
      },
      "execution_count": 193,
      "outputs": [
        {
          "output_type": "stream",
          "name": "stderr",
          "text": [
            "/usr/local/lib/python3.10/dist-packages/ipykernel/ipkernel.py:283: DeprecationWarning: `should_run_async` will not call `transform_cell` automatically in the future. Please pass the result to `transformed_cell` argument and any exception that happen during thetransform in `preprocessing_exc_tuple` in IPython 7.17 and above.\n",
            "  and should_run_async(code)\n"
          ]
        },
        {
          "output_type": "execute_result",
          "data": {
            "text/plain": [
              "   Unnamed: 0  rating                           title  \\\n",
              "0           0       4          Could Use Improvements   \n",
              "1           1       4                          Verify   \n",
              "2           2       1  Works terrible on my new phone   \n",
              "3           3       1                  Bare bones app   \n",
              "4           4       1        Not working with iOS12.2   \n",
              "\n",
              "                                              review Bank  \\\n",
              "0  If there is only one possible account, I shoul...  BMO   \n",
              "1  Suddenly I am being asked to verify this devic...  BMO   \n",
              "2  On my new phone, practically every time I open...  BMO   \n",
              "3  No features to make this app stand out amongst...  BMO   \n",
              "4  This app won’t work with iOS12.2. Every time I...  BMO   \n",
              "\n",
              "                                         noStopWords  \\\n",
              "0  if one possible account i select time i need d...   \n",
              "1  suddenly i asked verify device almost every ti...   \n",
              "2  on new phone practically every time i open ask...   \n",
              "3  no features make stand amongst canadian banks ...   \n",
              "4  this won’t work ios122 every time i open turns...   \n",
              "\n",
              "                                              Stemm_  \n",
              "0  [if, one, possible, account, i, select, time, ...  \n",
              "1  [suddenly, i, asked, verify, device, almost, e...  \n",
              "2  [on, new, phone, practically, every, time, i, ...  \n",
              "3  [no, feature, make, stand, amongst, canadian, ...  \n",
              "4  [this, won’t, work, ios122, every, time, i, op...  "
            ],
            "text/html": [
              "\n",
              "  <div id=\"df-3257657d-ac25-4436-a89a-d8cea2261230\" class=\"colab-df-container\">\n",
              "    <div>\n",
              "<style scoped>\n",
              "    .dataframe tbody tr th:only-of-type {\n",
              "        vertical-align: middle;\n",
              "    }\n",
              "\n",
              "    .dataframe tbody tr th {\n",
              "        vertical-align: top;\n",
              "    }\n",
              "\n",
              "    .dataframe thead th {\n",
              "        text-align: right;\n",
              "    }\n",
              "</style>\n",
              "<table border=\"1\" class=\"dataframe\">\n",
              "  <thead>\n",
              "    <tr style=\"text-align: right;\">\n",
              "      <th></th>\n",
              "      <th>Unnamed: 0</th>\n",
              "      <th>rating</th>\n",
              "      <th>title</th>\n",
              "      <th>review</th>\n",
              "      <th>Bank</th>\n",
              "      <th>noStopWords</th>\n",
              "      <th>Stemm_</th>\n",
              "    </tr>\n",
              "  </thead>\n",
              "  <tbody>\n",
              "    <tr>\n",
              "      <th>0</th>\n",
              "      <td>0</td>\n",
              "      <td>4</td>\n",
              "      <td>Could Use Improvements</td>\n",
              "      <td>If there is only one possible account, I shoul...</td>\n",
              "      <td>BMO</td>\n",
              "      <td>if one possible account i select time i need d...</td>\n",
              "      <td>[if, one, possible, account, i, select, time, ...</td>\n",
              "    </tr>\n",
              "    <tr>\n",
              "      <th>1</th>\n",
              "      <td>1</td>\n",
              "      <td>4</td>\n",
              "      <td>Verify</td>\n",
              "      <td>Suddenly I am being asked to verify this devic...</td>\n",
              "      <td>BMO</td>\n",
              "      <td>suddenly i asked verify device almost every ti...</td>\n",
              "      <td>[suddenly, i, asked, verify, device, almost, e...</td>\n",
              "    </tr>\n",
              "    <tr>\n",
              "      <th>2</th>\n",
              "      <td>2</td>\n",
              "      <td>1</td>\n",
              "      <td>Works terrible on my new phone</td>\n",
              "      <td>On my new phone, practically every time I open...</td>\n",
              "      <td>BMO</td>\n",
              "      <td>on new phone practically every time i open ask...</td>\n",
              "      <td>[on, new, phone, practically, every, time, i, ...</td>\n",
              "    </tr>\n",
              "    <tr>\n",
              "      <th>3</th>\n",
              "      <td>3</td>\n",
              "      <td>1</td>\n",
              "      <td>Bare bones app</td>\n",
              "      <td>No features to make this app stand out amongst...</td>\n",
              "      <td>BMO</td>\n",
              "      <td>no features make stand amongst canadian banks ...</td>\n",
              "      <td>[no, feature, make, stand, amongst, canadian, ...</td>\n",
              "    </tr>\n",
              "    <tr>\n",
              "      <th>4</th>\n",
              "      <td>4</td>\n",
              "      <td>1</td>\n",
              "      <td>Not working with iOS12.2</td>\n",
              "      <td>This app won’t work with iOS12.2. Every time I...</td>\n",
              "      <td>BMO</td>\n",
              "      <td>this won’t work ios122 every time i open turns...</td>\n",
              "      <td>[this, won’t, work, ios122, every, time, i, op...</td>\n",
              "    </tr>\n",
              "  </tbody>\n",
              "</table>\n",
              "</div>\n",
              "    <div class=\"colab-df-buttons\">\n",
              "\n",
              "  <div class=\"colab-df-container\">\n",
              "    <button class=\"colab-df-convert\" onclick=\"convertToInteractive('df-3257657d-ac25-4436-a89a-d8cea2261230')\"\n",
              "            title=\"Convert this dataframe to an interactive table.\"\n",
              "            style=\"display:none;\">\n",
              "\n",
              "  <svg xmlns=\"http://www.w3.org/2000/svg\" height=\"24px\" viewBox=\"0 -960 960 960\">\n",
              "    <path d=\"M120-120v-720h720v720H120Zm60-500h600v-160H180v160Zm220 220h160v-160H400v160Zm0 220h160v-160H400v160ZM180-400h160v-160H180v160Zm440 0h160v-160H620v160ZM180-180h160v-160H180v160Zm440 0h160v-160H620v160Z\"/>\n",
              "  </svg>\n",
              "    </button>\n",
              "\n",
              "  <style>\n",
              "    .colab-df-container {\n",
              "      display:flex;\n",
              "      gap: 12px;\n",
              "    }\n",
              "\n",
              "    .colab-df-convert {\n",
              "      background-color: #E8F0FE;\n",
              "      border: none;\n",
              "      border-radius: 50%;\n",
              "      cursor: pointer;\n",
              "      display: none;\n",
              "      fill: #1967D2;\n",
              "      height: 32px;\n",
              "      padding: 0 0 0 0;\n",
              "      width: 32px;\n",
              "    }\n",
              "\n",
              "    .colab-df-convert:hover {\n",
              "      background-color: #E2EBFA;\n",
              "      box-shadow: 0px 1px 2px rgba(60, 64, 67, 0.3), 0px 1px 3px 1px rgba(60, 64, 67, 0.15);\n",
              "      fill: #174EA6;\n",
              "    }\n",
              "\n",
              "    .colab-df-buttons div {\n",
              "      margin-bottom: 4px;\n",
              "    }\n",
              "\n",
              "    [theme=dark] .colab-df-convert {\n",
              "      background-color: #3B4455;\n",
              "      fill: #D2E3FC;\n",
              "    }\n",
              "\n",
              "    [theme=dark] .colab-df-convert:hover {\n",
              "      background-color: #434B5C;\n",
              "      box-shadow: 0px 1px 3px 1px rgba(0, 0, 0, 0.15);\n",
              "      filter: drop-shadow(0px 1px 2px rgba(0, 0, 0, 0.3));\n",
              "      fill: #FFFFFF;\n",
              "    }\n",
              "  </style>\n",
              "\n",
              "    <script>\n",
              "      const buttonEl =\n",
              "        document.querySelector('#df-3257657d-ac25-4436-a89a-d8cea2261230 button.colab-df-convert');\n",
              "      buttonEl.style.display =\n",
              "        google.colab.kernel.accessAllowed ? 'block' : 'none';\n",
              "\n",
              "      async function convertToInteractive(key) {\n",
              "        const element = document.querySelector('#df-3257657d-ac25-4436-a89a-d8cea2261230');\n",
              "        const dataTable =\n",
              "          await google.colab.kernel.invokeFunction('convertToInteractive',\n",
              "                                                    [key], {});\n",
              "        if (!dataTable) return;\n",
              "\n",
              "        const docLinkHtml = 'Like what you see? Visit the ' +\n",
              "          '<a target=\"_blank\" href=https://colab.research.google.com/notebooks/data_table.ipynb>data table notebook</a>'\n",
              "          + ' to learn more about interactive tables.';\n",
              "        element.innerHTML = '';\n",
              "        dataTable['output_type'] = 'display_data';\n",
              "        await google.colab.output.renderOutput(dataTable, element);\n",
              "        const docLink = document.createElement('div');\n",
              "        docLink.innerHTML = docLinkHtml;\n",
              "        element.appendChild(docLink);\n",
              "      }\n",
              "    </script>\n",
              "  </div>\n",
              "\n",
              "\n",
              "<div id=\"df-f89222dc-39b3-45c9-b500-71a07bbaa41d\">\n",
              "  <button class=\"colab-df-quickchart\" onclick=\"quickchart('df-f89222dc-39b3-45c9-b500-71a07bbaa41d')\"\n",
              "            title=\"Suggest charts\"\n",
              "            style=\"display:none;\">\n",
              "\n",
              "<svg xmlns=\"http://www.w3.org/2000/svg\" height=\"24px\"viewBox=\"0 0 24 24\"\n",
              "     width=\"24px\">\n",
              "    <g>\n",
              "        <path d=\"M19 3H5c-1.1 0-2 .9-2 2v14c0 1.1.9 2 2 2h14c1.1 0 2-.9 2-2V5c0-1.1-.9-2-2-2zM9 17H7v-7h2v7zm4 0h-2V7h2v10zm4 0h-2v-4h2v4z\"/>\n",
              "    </g>\n",
              "</svg>\n",
              "  </button>\n",
              "\n",
              "<style>\n",
              "  .colab-df-quickchart {\n",
              "      --bg-color: #E8F0FE;\n",
              "      --fill-color: #1967D2;\n",
              "      --hover-bg-color: #E2EBFA;\n",
              "      --hover-fill-color: #174EA6;\n",
              "      --disabled-fill-color: #AAA;\n",
              "      --disabled-bg-color: #DDD;\n",
              "  }\n",
              "\n",
              "  [theme=dark] .colab-df-quickchart {\n",
              "      --bg-color: #3B4455;\n",
              "      --fill-color: #D2E3FC;\n",
              "      --hover-bg-color: #434B5C;\n",
              "      --hover-fill-color: #FFFFFF;\n",
              "      --disabled-bg-color: #3B4455;\n",
              "      --disabled-fill-color: #666;\n",
              "  }\n",
              "\n",
              "  .colab-df-quickchart {\n",
              "    background-color: var(--bg-color);\n",
              "    border: none;\n",
              "    border-radius: 50%;\n",
              "    cursor: pointer;\n",
              "    display: none;\n",
              "    fill: var(--fill-color);\n",
              "    height: 32px;\n",
              "    padding: 0;\n",
              "    width: 32px;\n",
              "  }\n",
              "\n",
              "  .colab-df-quickchart:hover {\n",
              "    background-color: var(--hover-bg-color);\n",
              "    box-shadow: 0 1px 2px rgba(60, 64, 67, 0.3), 0 1px 3px 1px rgba(60, 64, 67, 0.15);\n",
              "    fill: var(--button-hover-fill-color);\n",
              "  }\n",
              "\n",
              "  .colab-df-quickchart-complete:disabled,\n",
              "  .colab-df-quickchart-complete:disabled:hover {\n",
              "    background-color: var(--disabled-bg-color);\n",
              "    fill: var(--disabled-fill-color);\n",
              "    box-shadow: none;\n",
              "  }\n",
              "\n",
              "  .colab-df-spinner {\n",
              "    border: 2px solid var(--fill-color);\n",
              "    border-color: transparent;\n",
              "    border-bottom-color: var(--fill-color);\n",
              "    animation:\n",
              "      spin 1s steps(1) infinite;\n",
              "  }\n",
              "\n",
              "  @keyframes spin {\n",
              "    0% {\n",
              "      border-color: transparent;\n",
              "      border-bottom-color: var(--fill-color);\n",
              "      border-left-color: var(--fill-color);\n",
              "    }\n",
              "    20% {\n",
              "      border-color: transparent;\n",
              "      border-left-color: var(--fill-color);\n",
              "      border-top-color: var(--fill-color);\n",
              "    }\n",
              "    30% {\n",
              "      border-color: transparent;\n",
              "      border-left-color: var(--fill-color);\n",
              "      border-top-color: var(--fill-color);\n",
              "      border-right-color: var(--fill-color);\n",
              "    }\n",
              "    40% {\n",
              "      border-color: transparent;\n",
              "      border-right-color: var(--fill-color);\n",
              "      border-top-color: var(--fill-color);\n",
              "    }\n",
              "    60% {\n",
              "      border-color: transparent;\n",
              "      border-right-color: var(--fill-color);\n",
              "    }\n",
              "    80% {\n",
              "      border-color: transparent;\n",
              "      border-right-color: var(--fill-color);\n",
              "      border-bottom-color: var(--fill-color);\n",
              "    }\n",
              "    90% {\n",
              "      border-color: transparent;\n",
              "      border-bottom-color: var(--fill-color);\n",
              "    }\n",
              "  }\n",
              "</style>\n",
              "\n",
              "  <script>\n",
              "    async function quickchart(key) {\n",
              "      const quickchartButtonEl =\n",
              "        document.querySelector('#' + key + ' button');\n",
              "      quickchartButtonEl.disabled = true;  // To prevent multiple clicks.\n",
              "      quickchartButtonEl.classList.add('colab-df-spinner');\n",
              "      try {\n",
              "        const charts = await google.colab.kernel.invokeFunction(\n",
              "            'suggestCharts', [key], {});\n",
              "      } catch (error) {\n",
              "        console.error('Error during call to suggestCharts:', error);\n",
              "      }\n",
              "      quickchartButtonEl.classList.remove('colab-df-spinner');\n",
              "      quickchartButtonEl.classList.add('colab-df-quickchart-complete');\n",
              "    }\n",
              "    (() => {\n",
              "      let quickchartButtonEl =\n",
              "        document.querySelector('#df-f89222dc-39b3-45c9-b500-71a07bbaa41d button');\n",
              "      quickchartButtonEl.style.display =\n",
              "        google.colab.kernel.accessAllowed ? 'block' : 'none';\n",
              "    })();\n",
              "  </script>\n",
              "</div>\n",
              "\n",
              "    </div>\n",
              "  </div>\n"
            ],
            "application/vnd.google.colaboratory.intrinsic+json": {
              "type": "dataframe",
              "variable_name": "df",
              "summary": "{\n  \"name\": \"df\",\n  \"rows\": 11118,\n  \"fields\": [\n    {\n      \"column\": \"Unnamed: 0\",\n      \"properties\": {\n        \"dtype\": \"number\",\n        \"std\": 3430,\n        \"min\": 0,\n        \"max\": 11979,\n        \"num_unique_values\": 11118,\n        \"samples\": [\n          2129,\n          3710,\n          5108\n        ],\n        \"semantic_type\": \"\",\n        \"description\": \"\"\n      }\n    },\n    {\n      \"column\": \"rating\",\n      \"properties\": {\n        \"dtype\": \"number\",\n        \"std\": 1,\n        \"min\": 1,\n        \"max\": 5,\n        \"num_unique_values\": 5,\n        \"samples\": [\n          1,\n          5,\n          3\n        ],\n        \"semantic_type\": \"\",\n        \"description\": \"\"\n      }\n    },\n    {\n      \"column\": \"title\",\n      \"properties\": {\n        \"dtype\": \"string\",\n        \"num_unique_values\": 8588,\n        \"samples\": [\n          \"Getting better but still major problems\",\n          \"Easy Access\",\n          \"This app makes me eternally frustrated\"\n        ],\n        \"semantic_type\": \"\",\n        \"description\": \"\"\n      }\n    },\n    {\n      \"column\": \"review\",\n      \"properties\": {\n        \"dtype\": \"string\",\n        \"num_unique_values\": 11062,\n        \"samples\": [\n          \"This function is too finicky. I have TD app and works so much better\",\n          \"Great service by Pranav for helping all of us.\",\n          \"Tried installing the update but it never finished installing. Now it no longer even shows up in my list of updates (completed or not) and my app is inaccessible. Had to uninstall it. Up until now I didn't have any problems.\"\n        ],\n        \"semantic_type\": \"\",\n        \"description\": \"\"\n      }\n    },\n    {\n      \"column\": \"Bank\",\n      \"properties\": {\n        \"dtype\": \"category\",\n        \"num_unique_values\": 5,\n        \"samples\": [\n          \"CIBC\",\n          \"TD\",\n          \"RBC\"\n        ],\n        \"semantic_type\": \"\",\n        \"description\": \"\"\n      }\n    },\n    {\n      \"column\": \"noStopWords\",\n      \"properties\": {\n        \"dtype\": \"string\",\n        \"num_unique_values\": 11010,\n        \"samples\": [\n          \"i cannot pay bills it always crashes confirmation page\",\n          \"what wrong last update cant even pay bill without stupid apps shuting every single time\",\n          \"one useful life using years love every time i it\"\n        ],\n        \"semantic_type\": \"\",\n        \"description\": \"\"\n      }\n    },\n    {\n      \"column\": \"Stemm_\",\n      \"properties\": {\n        \"dtype\": \"object\",\n        \"semantic_type\": \"\",\n        \"description\": \"\"\n      }\n    }\n  ]\n}"
            }
          },
          "metadata": {},
          "execution_count": 193
        }
      ]
    },
    {
      "cell_type": "code",
      "source": [
        "tokens = stemm_data #[[word.lower() for word in word_tokenize(sentence) if word.isalpha() and word not in punctuation and word not in stop_words]\n",
        "    #for sentence in TOK_SENT_reviews_nostopwords]\n",
        "\n",
        "# tokens = df['noStopWords']\n",
        "\n",
        "unigrams = [list(ngrams(sentence, 1)) for sentence in tokens]  # Unigrams\n",
        "bigrams = [list(ngrams(sentence, 2)) for sentence in tokens]  # Bigrams\n",
        "trigrams = [list(ngrams(sentence, 3)) for sentence in tokens]  # Trigrams"
      ],
      "metadata": {
        "colab": {
          "base_uri": "https://localhost:8080/"
        },
        "id": "YGNxdZJHObFP",
        "outputId": "6e0c4b7f-a877-4513-979c-756f51e4d121"
      },
      "execution_count": 24,
      "outputs": [
        {
          "output_type": "stream",
          "name": "stderr",
          "text": [
            "/usr/local/lib/python3.10/dist-packages/ipykernel/ipkernel.py:283: DeprecationWarning: `should_run_async` will not call `transform_cell` automatically in the future. Please pass the result to `transformed_cell` argument and any exception that happen during thetransform in `preprocessing_exc_tuple` in IPython 7.17 and above.\n",
            "  and should_run_async(code)\n"
          ]
        }
      ]
    },
    {
      "cell_type": "code",
      "source": [
        "bigrams[:1][0][0:3]"
      ],
      "metadata": {
        "colab": {
          "base_uri": "https://localhost:8080/"
        },
        "id": "mpFozfrS-L3a",
        "outputId": "b174fdf9-fce1-43cb-ee34-c82cec0e6804"
      },
      "execution_count": 196,
      "outputs": [
        {
          "output_type": "stream",
          "name": "stderr",
          "text": [
            "/usr/local/lib/python3.10/dist-packages/ipykernel/ipkernel.py:283: DeprecationWarning: `should_run_async` will not call `transform_cell` automatically in the future. Please pass the result to `transformed_cell` argument and any exception that happen during thetransform in `preprocessing_exc_tuple` in IPython 7.17 and above.\n",
            "  and should_run_async(code)\n"
          ]
        },
        {
          "output_type": "execute_result",
          "data": {
            "text/plain": [
              "[('if', 'one'), ('one', 'possible'), ('possible', 'account')]"
            ]
          },
          "metadata": {},
          "execution_count": 196
        }
      ]
    },
    {
      "cell_type": "code",
      "source": [
        "def build_lda_model(n_topic, corpus, dictionary):\n",
        "  lda_model = gensim.models.ldamodel.LdaModel(corpus = corpus,\n",
        "                                              num_topics = n_topic,\n",
        "                                              id2word = dictionary,\n",
        "                                              random_state = 100,\n",
        "                                              update_every = 1,\n",
        "                                              chunksize = 1000,\n",
        "                                              passes = 10,\n",
        "                                              alpha = 'auto',\n",
        "                                              per_word_topics = True)\n",
        "  return lda_model"
      ],
      "metadata": {
        "colab": {
          "base_uri": "https://localhost:8080/"
        },
        "id": "8QFH1pz9ObC-",
        "outputId": "1ef21b0e-ff0a-4136-ca8a-53bb4870be3e"
      },
      "execution_count": 25,
      "outputs": [
        {
          "output_type": "stream",
          "name": "stderr",
          "text": [
            "/usr/local/lib/python3.10/dist-packages/ipykernel/ipkernel.py:283: DeprecationWarning: `should_run_async` will not call `transform_cell` automatically in the future. Please pass the result to `transformed_cell` argument and any exception that happen during thetransform in `preprocessing_exc_tuple` in IPython 7.17 and above.\n",
            "  and should_run_async(code)\n"
          ]
        }
      ]
    },
    {
      "cell_type": "code",
      "source": [
        "single_word_lda_model = []\n",
        "topic_numbers_to_try = [5, 6, 7, 8, 9, 10, 11, 12, 13, 14, 15]\n",
        "\n",
        "for i in range(len(topic_numbers_to_try)):\n",
        "  single_word_lda_model.append(build_lda_model(topic_numbers_to_try[i], mmcorpus, dictionary))\n"
      ],
      "metadata": {
        "colab": {
          "base_uri": "https://localhost:8080/"
        },
        "id": "v0im0sDdObAu",
        "outputId": "daba1f67-01bf-4317-dc75-8ec3c175ff7e"
      },
      "execution_count": 26,
      "outputs": [
        {
          "output_type": "stream",
          "name": "stderr",
          "text": [
            "/usr/local/lib/python3.10/dist-packages/ipykernel/ipkernel.py:283: DeprecationWarning: `should_run_async` will not call `transform_cell` automatically in the future. Please pass the result to `transformed_cell` argument and any exception that happen during thetransform in `preprocessing_exc_tuple` in IPython 7.17 and above.\n",
            "  and should_run_async(code)\n"
          ]
        }
      ]
    },
    {
      "cell_type": "code",
      "source": [
        "def calculate_preplexity(model, corpus):\n",
        "  preplexity = model.log_perplexity(corpus)\n",
        "  return preplexity\n",
        "\n",
        "\n",
        "def calculate_coherence(model, text, dictionary):\n",
        "  coherence_model_lda = CoherenceModel(model = model, texts = text, dictionary = dictionary, coherence='c_v')\n",
        "  coherence_lda = coherence_model_lda.get_coherence()\n",
        "\n",
        "  return coherence_lda"
      ],
      "metadata": {
        "colab": {
          "base_uri": "https://localhost:8080/"
        },
        "id": "MG5EOvZyOa-_",
        "outputId": "8ca192b1-b39e-47f3-e416-5a7cd0c78ea1"
      },
      "execution_count": 27,
      "outputs": [
        {
          "output_type": "stream",
          "name": "stderr",
          "text": [
            "/usr/local/lib/python3.10/dist-packages/ipykernel/ipkernel.py:283: DeprecationWarning: `should_run_async` will not call `transform_cell` automatically in the future. Please pass the result to `transformed_cell` argument and any exception that happen during thetransform in `preprocessing_exc_tuple` in IPython 7.17 and above.\n",
            "  and should_run_async(code)\n"
          ]
        }
      ]
    },
    {
      "cell_type": "code",
      "source": [
        "models_preplexity = []\n",
        "models_coherence = []\n",
        "models_topics = [5, 6, 7, 8, 9, 10, 11, 12, 13, 14, 15]"
      ],
      "metadata": {
        "colab": {
          "base_uri": "https://localhost:8080/"
        },
        "id": "8xVSEuA2Oa8f",
        "outputId": "ab8ebc0b-73a3-4e66-e248-f888a8f08936"
      },
      "execution_count": 28,
      "outputs": [
        {
          "output_type": "stream",
          "name": "stderr",
          "text": [
            "/usr/local/lib/python3.10/dist-packages/ipykernel/ipkernel.py:283: DeprecationWarning: `should_run_async` will not call `transform_cell` automatically in the future. Please pass the result to `transformed_cell` argument and any exception that happen during thetransform in `preprocessing_exc_tuple` in IPython 7.17 and above.\n",
            "  and should_run_async(code)\n"
          ]
        }
      ]
    },
    {
      "cell_type": "code",
      "source": [
        "tracker = 5\n",
        "\n",
        "for model in single_word_lda_model:\n",
        "  models_preplexity.append(calculate_preplexity(model, mmcorpus))\n",
        "  models_coherence.append(calculate_coherence(model, stemm_data, dictionary))\n",
        "  tracker += 1\n"
      ],
      "metadata": {
        "colab": {
          "base_uri": "https://localhost:8080/"
        },
        "id": "vrBkPxpYPLFC",
        "outputId": "1f38674d-f86a-4511-ac97-9582e8158fef"
      },
      "execution_count": 29,
      "outputs": [
        {
          "output_type": "stream",
          "name": "stderr",
          "text": [
            "/usr/local/lib/python3.10/dist-packages/ipykernel/ipkernel.py:283: DeprecationWarning: `should_run_async` will not call `transform_cell` automatically in the future. Please pass the result to `transformed_cell` argument and any exception that happen during thetransform in `preprocessing_exc_tuple` in IPython 7.17 and above.\n",
            "  and should_run_async(code)\n"
          ]
        }
      ]
    },
    {
      "cell_type": "code",
      "source": [
        "models_df = pd.DataFrame({\n",
        "    'Num_Topics': models_topics,\n",
        "    'Preplexity': models_preplexity,\n",
        "    'Coherence': models_coherence\n",
        "})\n",
        "\n",
        "print(models_df)"
      ],
      "metadata": {
        "colab": {
          "base_uri": "https://localhost:8080/"
        },
        "id": "QB16SjlrPLDD",
        "outputId": "7fd9d3bb-31ea-4c5a-9b94-8b96f8cc9238"
      },
      "execution_count": 31,
      "outputs": [
        {
          "output_type": "stream",
          "name": "stdout",
          "text": [
            "    Num_Topics  Preplexity  Coherence\n",
            "0            5   -7.138061   0.558985\n",
            "1            6   -7.168225   0.490389\n",
            "2            7   -7.209733   0.529730\n",
            "3            8   -7.261791   0.537482\n",
            "4            9   -7.346846   0.537647\n",
            "5           10   -7.460067   0.498814\n",
            "6           11   -7.637953   0.454285\n",
            "7           12   -7.837432   0.502164\n",
            "8           13   -8.047944   0.500220\n",
            "9           14   -8.194538   0.453476\n",
            "10          15   -8.305494   0.411846\n"
          ]
        },
        {
          "output_type": "stream",
          "name": "stderr",
          "text": [
            "/usr/local/lib/python3.10/dist-packages/ipykernel/ipkernel.py:283: DeprecationWarning: `should_run_async` will not call `transform_cell` automatically in the future. Please pass the result to `transformed_cell` argument and any exception that happen during thetransform in `preprocessing_exc_tuple` in IPython 7.17 and above.\n",
            "  and should_run_async(code)\n"
          ]
        }
      ]
    },
    {
      "cell_type": "code",
      "source": [
        "print(\"Number of topics with the maximum Coherence is \", models_df.loc[models_df['Coherence'].idxmax(), 'Num_Topics'])"
      ],
      "metadata": {
        "colab": {
          "base_uri": "https://localhost:8080/"
        },
        "id": "7JodiBiQPLAy",
        "outputId": "40cb1c84-e662-452f-c029-96f55d2efd12"
      },
      "execution_count": 32,
      "outputs": [
        {
          "output_type": "stream",
          "name": "stdout",
          "text": [
            "Number of topics with the maximum Coherence is  5\n"
          ]
        },
        {
          "output_type": "stream",
          "name": "stderr",
          "text": [
            "/usr/local/lib/python3.10/dist-packages/ipykernel/ipkernel.py:283: DeprecationWarning: `should_run_async` will not call `transform_cell` automatically in the future. Please pass the result to `transformed_cell` argument and any exception that happen during thetransform in `preprocessing_exc_tuple` in IPython 7.17 and above.\n",
            "  and should_run_async(code)\n"
          ]
        }
      ]
    },
    {
      "cell_type": "code",
      "source": [
        "print(\"Number of topics with the minimum Preplexity is \", models_df.loc[models_df['Preplexity'].idxmin(), 'Num_Topics'])"
      ],
      "metadata": {
        "colab": {
          "base_uri": "https://localhost:8080/"
        },
        "id": "mwFuY895PK-q",
        "outputId": "ee995d85-0357-4418-fb6e-d6531b543e11"
      },
      "execution_count": 33,
      "outputs": [
        {
          "output_type": "stream",
          "name": "stdout",
          "text": [
            "Number of topics with the minimum Preplexity is  15\n"
          ]
        },
        {
          "output_type": "stream",
          "name": "stderr",
          "text": [
            "/usr/local/lib/python3.10/dist-packages/ipykernel/ipkernel.py:283: DeprecationWarning: `should_run_async` will not call `transform_cell` automatically in the future. Please pass the result to `transformed_cell` argument and any exception that happen during thetransform in `preprocessing_exc_tuple` in IPython 7.17 and above.\n",
            "  and should_run_async(code)\n"
          ]
        }
      ]
    },
    {
      "cell_type": "markdown",
      "source": [
        "Because we get different numbers of topics for this, I'll use a combination of both scores to pick the best number of topics!\n",
        "\n",
        "- Normalize Preplexity and Coherence (MinMaxScaler)\n",
        "- Combine the scores (weight of Preplexity and Coherence are assumed to be equal = 0.5)\n",
        "\n",
        "score = w_1 * Coherence + w_2 (1 - Preplexity)\n",
        "- The row with the highest score is the best.  \n"
      ],
      "metadata": {
        "id": "FWbCoLjGPWrk"
      }
    },
    {
      "cell_type": "code",
      "source": [
        "models_df['Normalized_Perplexity'] = (models_df['Preplexity'] - models_df['Preplexity'].min()) / (models_df['Preplexity'].max() - models_df['Preplexity'].min())\n",
        "models_df['Normalized_Coherence'] = (models_df['Coherence'] - models_df['Coherence'].min()) / (models_df['Coherence'].max() - models_df['Coherence'].min())\n",
        "\n",
        "models_df['Inverted_Perplexity'] = 1 - models_df['Normalized_Perplexity'] # because smaller is better\n",
        "\n",
        "weight_preplexity = 0.5\n",
        "weight_coherence = 0.5\n",
        "\n",
        "models_df['Score'] = weight_coherence * models_df['Normalized_Coherence'] + weight_preplexity * models_df['Inverted_Perplexity']\n",
        "\n",
        "best_row = models_df.loc[models_df['Score'].idxmax()]\n",
        "print(\"Best Row:\")\n",
        "print(best_row)"
      ],
      "metadata": {
        "colab": {
          "base_uri": "https://localhost:8080/"
        },
        "id": "K2T1-6fVPTvF",
        "outputId": "9404846f-00c3-4e21-9742-acefd18905b3"
      },
      "execution_count": 34,
      "outputs": [
        {
          "output_type": "stream",
          "name": "stdout",
          "text": [
            "Best Row:\n",
            "Num_Topics               13.000000\n",
            "Preplexity               -8.047944\n",
            "Coherence                 0.500220\n",
            "Normalized_Perplexity     0.220612\n",
            "Normalized_Coherence      0.600612\n",
            "Inverted_Perplexity       0.779388\n",
            "Score                     0.690000\n",
            "Name: 8, dtype: float64\n"
          ]
        },
        {
          "output_type": "stream",
          "name": "stderr",
          "text": [
            "/usr/local/lib/python3.10/dist-packages/ipykernel/ipkernel.py:283: DeprecationWarning: `should_run_async` will not call `transform_cell` automatically in the future. Please pass the result to `transformed_cell` argument and any exception that happen during thetransform in `preprocessing_exc_tuple` in IPython 7.17 and above.\n",
            "  and should_run_async(code)\n"
          ]
        }
      ]
    },
    {
      "cell_type": "code",
      "source": [
        "best_model_single_word = single_word_lda_model[8]"
      ],
      "metadata": {
        "colab": {
          "base_uri": "https://localhost:8080/"
        },
        "id": "3IJLiK6OPTs2",
        "outputId": "d413e917-bbf6-40a8-ec33-22b896f0271b"
      },
      "execution_count": 35,
      "outputs": [
        {
          "output_type": "stream",
          "name": "stderr",
          "text": [
            "/usr/local/lib/python3.10/dist-packages/ipykernel/ipkernel.py:283: DeprecationWarning: `should_run_async` will not call `transform_cell` automatically in the future. Please pass the result to `transformed_cell` argument and any exception that happen during thetransform in `preprocessing_exc_tuple` in IPython 7.17 and above.\n",
            "  and should_run_async(code)\n"
          ]
        }
      ]
    },
    {
      "cell_type": "code",
      "source": [
        "def print_topics(model, corpus):\n",
        "  pprint(model.print_topics())\n",
        "  doc_lda = model[corpus]\n",
        "  return doc_lda"
      ],
      "metadata": {
        "colab": {
          "base_uri": "https://localhost:8080/"
        },
        "id": "I0lSaxg6PTqh",
        "outputId": "f62ae212-d5c0-4b45-9c3c-97d6c003275d"
      },
      "execution_count": 36,
      "outputs": [
        {
          "output_type": "stream",
          "name": "stderr",
          "text": [
            "/usr/local/lib/python3.10/dist-packages/ipykernel/ipkernel.py:283: DeprecationWarning: `should_run_async` will not call `transform_cell` automatically in the future. Please pass the result to `transformed_cell` argument and any exception that happen during thetransform in `preprocessing_exc_tuple` in IPython 7.17 and above.\n",
            "  and should_run_async(code)\n"
          ]
        }
      ]
    },
    {
      "cell_type": "code",
      "source": [
        "print_topics(best_model_single_word, mmcorpus)\n"
      ],
      "metadata": {
        "colab": {
          "base_uri": "https://localhost:8080/"
        },
        "id": "uPpSEbISPToE",
        "outputId": "2e9b1cb4-8679-449f-bf90-3ab02ff88d98"
      },
      "execution_count": 37,
      "outputs": [
        {
          "output_type": "stream",
          "name": "stdout",
          "text": [
            "[(0,\n",
            "  '0.044*\"canada\" + 0.043*\"stock\" + 0.043*\"investing\" + 0.037*\"canadian\" + '\n",
            "  '0.036*\"direct\" + 0.034*\"functionality\" + 0.031*\"far\" + 0.025*\"world\" + '\n",
            "  '0.018*\"note\" + 0.015*\"space\"'),\n",
            " (1,\n",
            "  '0.052*\"account\" + 0.034*\"card\" + 0.032*\"would\" + 0.029*\"credit\" + '\n",
            "  '0.026*\"transaction\" + 0.023*\"see\" + 0.022*\"balance\" + 0.021*\"transfer\" + '\n",
            "  '0.020*\"pay\" + 0.019*\"money\"'),\n",
            " (2,\n",
            "  '0.221*\"deposit\" + 0.166*\"cheque\" + 0.046*\"photo\" + 0.022*\"recognition\" + '\n",
            "  '0.022*\"picture\" + 0.021*\"taking\" + 0.020*\"trip\" + 0.019*\"camera\" + '\n",
            "  '0.019*\"excellent\" + 0.018*\"hasn’t\"'),\n",
            " (3,\n",
            "  '0.096*\"i\" + 0.023*\"app\" + 0.021*\"time\" + 0.017*\"it\" + 0.015*\"work\" + '\n",
            "  '0.012*\"the\" + 0.011*\"get\" + 0.011*\"it’s\" + 0.011*\"this\" + 0.010*\"update\"'),\n",
            " (4,\n",
            "  '0.178*\"very\" + 0.064*\"technical\" + 0.035*\"reinstall\" + 0.034*\"issue\" + '\n",
            "  '0.025*\"live\" + 0.019*\"uninstall\" + 0.018*\"category\" + 0.015*\"complain\" + '\n",
            "  '0.014*\"signed\" + 0.014*\"usd\"'),\n",
            " (5,\n",
            "  '0.035*\"finally\" + 0.033*\"soon\" + 0.031*\"faceid\" + 0.026*\"report\" + '\n",
            "  '0.020*\"ease\" + 0.017*\"push\" + 0.015*\"haven’t\" + 0.015*\"write\" + '\n",
            "  '0.015*\"improved\" + 0.013*\"100\"'),\n",
            " (6,\n",
            "  '0.096*\"easy\" + 0.080*\"great\" + 0.047*\"banking\" + 0.045*\"love\" + '\n",
            "  '0.031*\"good\" + 0.029*\"thank\" + 0.028*\"use\" + 0.025*\"td\" + 0.020*\"much\" + '\n",
            "  '0.020*\"quick\"'),\n",
            " (7,\n",
            "  '0.069*\"version\" + 0.053*\"new\" + 0.052*\"look\" + 0.045*\"old\" + 0.038*\"the\" + '\n",
            "  '0.037*\"back\" + 0.028*\"update\" + 0.020*\"previous\" + 0.018*\"design\" + '\n",
            "  '0.017*\"older\"'),\n",
            " (8,\n",
            "  '0.127*\"user\" + 0.060*\"friendly\" + 0.048*\"apple\" + 0.044*\"td\" + '\n",
            "  '0.036*\"watch\" + 0.031*\"green\" + 0.026*\"recommend\" + 0.025*\"mortgage\" + '\n",
            "  '0.022*\"reliable\" + 0.022*\"application\"'),\n",
            " (9,\n",
            "  '0.121*\"bank\" + 0.043*\"service\" + 0.033*\"customer\" + 0.028*\"u\" + '\n",
            "  '0.019*\"scotiabank\" + 0.015*\"branch\" + 0.012*\"they\" + 0.011*\"you\" + '\n",
            "  '0.010*\"fee\" + 0.010*\"worst\"'),\n",
            " (10,\n",
            "  '0.044*\"dark\" + 0.040*\"mode\" + 0.028*\"trading\" + 0.027*\"doe\" + '\n",
            "  '0.025*\"preview\" + 0.022*\"question\" + 0.020*\"add\" + 0.019*\"please\" + '\n",
            "  '0.013*\"convenience\" + 0.013*\"signing\"'),\n",
            " (11,\n",
            "  '0.074*\"fix\" + 0.065*\"please\" + 0.052*\"update\" + 0.051*\"error\" + 0.051*\"io\" '\n",
            "  '+ 0.037*\"latest\" + 0.035*\"iphone\" + 0.025*\"bug\" + 0.021*\"since\" + '\n",
            "  '0.015*\"internet\"'),\n",
            " (12,\n",
            "  '0.064*\"scotia\" + 0.043*\"depositing\" + 0.041*\"deposited\" + '\n",
            "  '0.019*\"authentication\" + 0.018*\"ridiculous\" + 0.016*\"2fa\" + '\n",
            "  '0.014*\"institution\" + 0.014*\"ok\" + 0.014*\"based\" + 0.014*\"purpose\"')]\n"
          ]
        },
        {
          "output_type": "stream",
          "name": "stderr",
          "text": [
            "/usr/local/lib/python3.10/dist-packages/ipykernel/ipkernel.py:283: DeprecationWarning: `should_run_async` will not call `transform_cell` automatically in the future. Please pass the result to `transformed_cell` argument and any exception that happen during thetransform in `preprocessing_exc_tuple` in IPython 7.17 and above.\n",
            "  and should_run_async(code)\n"
          ]
        },
        {
          "output_type": "execute_result",
          "data": {
            "text/plain": [
              "<gensim.interfaces.TransformedCorpus at 0x7bd26425bb50>"
            ]
          },
          "metadata": {},
          "execution_count": 37
        }
      ]
    },
    {
      "cell_type": "markdown",
      "source": [
        "For Bigrams, we will:\n",
        "\n",
        "1.   Build several LDA models for Topic Modeling\n",
        "2.   Start with number of topics of 10 (num_topics = 10), and try any value from 5 to 15\n",
        "3.   The LDA model with the lowest Preplexity and best (higher) Coherence score is chosen.\n",
        "4.   The words in topics are extracted and we decide names for each topic.\n",
        "5.   Topic modeling is done for bigrams.\n",
        "\n"
      ],
      "metadata": {
        "id": "z0Tj_37CPdAO"
      }
    },
    {
      "cell_type": "code",
      "source": [
        "# cleaned_sentences = []\n",
        "\n",
        "# for sentence in tokenized_doc_to_sentences:\n",
        "#   words = re.sub(r'[^\\w\\s]', '', sentence).lower().split() #remove punctuation, lower case and split into words\n",
        "#   stemmed_words = [stemmer.stem(word) for word in words if word not in stop_words]\n",
        "#   cleaned_sentences.append(' '.join(stemmed_words))\n"
      ],
      "metadata": {
        "id": "RCOi153CPTmE"
      },
      "execution_count": null,
      "outputs": []
    },
    {
      "cell_type": "code",
      "source": [
        "#CHATGPT\n",
        "bigrams_combined = [[f\"{a} {b}\" for a, b in sublist] for sublist in bigrams]\n",
        "bigrams_combined[0]"
      ],
      "metadata": {
        "colab": {
          "base_uri": "https://localhost:8080/"
        },
        "id": "cZL2PZbRPTjx",
        "outputId": "e2c78e68-ba28-4c6a-80a2-26b66d6781e1"
      },
      "execution_count": 38,
      "outputs": [
        {
          "output_type": "stream",
          "name": "stderr",
          "text": [
            "/usr/local/lib/python3.10/dist-packages/ipykernel/ipkernel.py:283: DeprecationWarning: `should_run_async` will not call `transform_cell` automatically in the future. Please pass the result to `transformed_cell` argument and any exception that happen during thetransform in `preprocessing_exc_tuple` in IPython 7.17 and above.\n",
            "  and should_run_async(code)\n"
          ]
        },
        {
          "output_type": "execute_result",
          "data": {
            "text/plain": [
              "['if one',\n",
              " 'one possible',\n",
              " 'possible account',\n",
              " 'account i',\n",
              " 'i select',\n",
              " 'select time',\n",
              " 'time i',\n",
              " 'i need',\n",
              " 'need deposit',\n",
              " 'deposit cheque',\n",
              " 'cheque if',\n",
              " 'if multiple',\n",
              " 'multiple account',\n",
              " 'account would',\n",
              " 'would good',\n",
              " 'good allowed',\n",
              " 'allowed choose',\n",
              " 'choose default',\n",
              " 'default account',\n",
              " 'account deposit',\n",
              " 'deposit to',\n",
              " 'to other',\n",
              " 'other bank',\n",
              " 'bank apps',\n",
              " 'apps set',\n",
              " 'set way']"
            ]
          },
          "metadata": {},
          "execution_count": 38
        }
      ]
    },
    {
      "cell_type": "code",
      "source": [
        "dictionary_bigrams = Dictionary(bigrams_combined)\n",
        "corpus_bigrams = [dictionary_bigrams.doc2bow(text) for text in bigrams_combined]\n",
        "MmCorpus.serialize('mmcorpus_ios_bigrams.mm', corpus_bigrams)"
      ],
      "metadata": {
        "colab": {
          "base_uri": "https://localhost:8080/"
        },
        "id": "qluAbSksPThp",
        "outputId": "e79c56f6-b37c-4a57-be69-0c97ef470fb7"
      },
      "execution_count": 39,
      "outputs": [
        {
          "output_type": "stream",
          "name": "stderr",
          "text": [
            "/usr/local/lib/python3.10/dist-packages/ipykernel/ipkernel.py:283: DeprecationWarning: `should_run_async` will not call `transform_cell` automatically in the future. Please pass the result to `transformed_cell` argument and any exception that happen during thetransform in `preprocessing_exc_tuple` in IPython 7.17 and above.\n",
            "  and should_run_async(code)\n"
          ]
        }
      ]
    },
    {
      "cell_type": "code",
      "source": [
        "bigram_lda_model = []\n",
        "\n",
        "for i in range(len(topic_numbers_to_try)):\n",
        "  bigram_lda_model.append(build_lda_model(topic_numbers_to_try[i], corpus_bigrams, dictionary_bigrams))\n",
        "\n",
        "models_preplexity_bigrams = []\n",
        "models_coherence_bigrams = []\n",
        "\n",
        "tracker = 5\n",
        "for model in bigram_lda_model:\n",
        "  models_preplexity_bigrams.append(calculate_preplexity(model, corpus_bigrams))\n",
        "  models_coherence_bigrams.append(calculate_coherence(model, bigrams_combined, dictionary_bigrams))\n",
        "  tracker += 1\n",
        "\n",
        "models_df_bigrams = pd.DataFrame({\n",
        "    'Num_Topics': models_topics,\n",
        "    'Preplexity': models_preplexity_bigrams,\n",
        "    'Coherence': models_coherence_bigrams\n",
        "})\n",
        "\n",
        "print(\"Bigrams --- models and scores: \")\n",
        "print(models_df_bigrams)"
      ],
      "metadata": {
        "colab": {
          "base_uri": "https://localhost:8080/"
        },
        "id": "EdfE2zspPTfh",
        "outputId": "145190ed-bbab-4fac-9a66-4e37e6183a78"
      },
      "execution_count": 40,
      "outputs": [
        {
          "output_type": "stream",
          "name": "stderr",
          "text": [
            "/usr/local/lib/python3.10/dist-packages/ipykernel/ipkernel.py:283: DeprecationWarning: `should_run_async` will not call `transform_cell` automatically in the future. Please pass the result to `transformed_cell` argument and any exception that happen during thetransform in `preprocessing_exc_tuple` in IPython 7.17 and above.\n",
            "  and should_run_async(code)\n"
          ]
        },
        {
          "output_type": "stream",
          "name": "stdout",
          "text": [
            "Bigrams --- models and scores: \n",
            "    Num_Topics  Preplexity  Coherence\n",
            "0            5  -12.235227   0.414372\n",
            "1            6  -12.513615   0.374718\n",
            "2            7  -13.403579   0.532268\n",
            "3            8  -14.364463   0.532172\n",
            "4            9  -15.297954   0.567798\n",
            "5           10  -16.354079   0.565841\n",
            "6           11  -17.405994   0.579607\n",
            "7           12  -18.446354   0.571804\n",
            "8           13  -19.404905   0.559364\n",
            "9           14  -20.182787   0.552921\n",
            "10          15  -20.944962   0.577760\n"
          ]
        }
      ]
    },
    {
      "cell_type": "code",
      "source": [
        "print(\"Number of topics with the maximum Coherence is \", models_df_bigrams.loc[models_df_bigrams['Coherence'].idxmax(), 'Num_Topics'])\n",
        "\n",
        "print(\"Number of topics with the minimum Preplexity is \", models_df_bigrams.loc[models_df_bigrams['Preplexity'].idxmin(), 'Num_Topics'])"
      ],
      "metadata": {
        "colab": {
          "base_uri": "https://localhost:8080/"
        },
        "id": "enoEF20FPK6S",
        "outputId": "33ecacaf-9446-4319-bc56-c686f56bd301"
      },
      "execution_count": 41,
      "outputs": [
        {
          "output_type": "stream",
          "name": "stdout",
          "text": [
            "Number of topics with the maximum Coherence is  11\n",
            "Number of topics with the minimum Preplexity is  15\n"
          ]
        },
        {
          "output_type": "stream",
          "name": "stderr",
          "text": [
            "/usr/local/lib/python3.10/dist-packages/ipykernel/ipkernel.py:283: DeprecationWarning: `should_run_async` will not call `transform_cell` automatically in the future. Please pass the result to `transformed_cell` argument and any exception that happen during thetransform in `preprocessing_exc_tuple` in IPython 7.17 and above.\n",
            "  and should_run_async(code)\n"
          ]
        }
      ]
    },
    {
      "cell_type": "code",
      "source": [
        "models_df_bigrams['Normalized_Perplexity'] = (models_df_bigrams['Preplexity'] - models_df_bigrams['Preplexity'].min()) / (models_df_bigrams['Preplexity'].max() - models_df_bigrams['Preplexity'].min())\n",
        "models_df_bigrams['Normalized_Coherence'] = (models_df_bigrams['Coherence'] - models_df_bigrams['Coherence'].min()) / (models_df_bigrams['Coherence'].max() - models_df_bigrams['Coherence'].min())\n",
        "\n",
        "models_df_bigrams['Inverted_Perplexity'] = 1 - models_df_bigrams['Normalized_Perplexity'] # because smaller is better\n",
        "\n",
        "weight_preplexity = 0.5\n",
        "weight_coherence = 0.5\n",
        "\n",
        "models_df_bigrams['Score'] = weight_coherence * models_df_bigrams['Normalized_Coherence'] + weight_preplexity * models_df_bigrams['Inverted_Perplexity']\n",
        "\n",
        "best_row_bigrams = models_df_bigrams.loc[models_df_bigrams['Score'].idxmax()]\n",
        "print(\"Best Row:\")\n",
        "print(best_row_bigrams)"
      ],
      "metadata": {
        "id": "9ZVfKpryVmlH",
        "outputId": "c5c7b92e-9ce4-4eab-863e-f3d808af1423",
        "colab": {
          "base_uri": "https://localhost:8080/"
        }
      },
      "execution_count": 42,
      "outputs": [
        {
          "output_type": "stream",
          "name": "stdout",
          "text": [
            "Best Row:\n",
            "Num_Topics               15.000000\n",
            "Preplexity              -20.944962\n",
            "Coherence                 0.577760\n",
            "Normalized_Perplexity     0.000000\n",
            "Normalized_Coherence      0.990985\n",
            "Inverted_Perplexity       1.000000\n",
            "Score                     0.995493\n",
            "Name: 10, dtype: float64\n"
          ]
        },
        {
          "output_type": "stream",
          "name": "stderr",
          "text": [
            "/usr/local/lib/python3.10/dist-packages/ipykernel/ipkernel.py:283: DeprecationWarning: `should_run_async` will not call `transform_cell` automatically in the future. Please pass the result to `transformed_cell` argument and any exception that happen during thetransform in `preprocessing_exc_tuple` in IPython 7.17 and above.\n",
            "  and should_run_async(code)\n"
          ]
        }
      ]
    },
    {
      "cell_type": "code",
      "source": [
        "best_model_bigrams = bigram_lda_model[-1]\n",
        "print_topics(best_model_bigrams, corpus_bigrams)\n"
      ],
      "metadata": {
        "colab": {
          "base_uri": "https://localhost:8080/"
        },
        "id": "2iY8et_IPi-T",
        "outputId": "23a15d82-c22c-4c87-dcc4-e6a460f36979"
      },
      "execution_count": 43,
      "outputs": [
        {
          "output_type": "stream",
          "name": "stdout",
          "text": [
            "[(0,\n",
            "  '0.008*\"mobile app\" + 0.007*\"new phone\" + 0.007*\"so i\" + 0.007*\"phone '\n",
            "  'number\" + 0.007*\"love it\" + 0.006*\"number i\" + 0.006*\"everything i\" + '\n",
            "  '0.005*\"don’t know\" + 0.005*\"make sure\" + 0.004*\"i iphone\"'),\n",
            " (1,\n",
            "  '0.005*\"i issue\" + 0.005*\"go branch\" + 0.005*\"business account\" + 0.004*\"i '\n",
            "  'found\" + 0.004*\"notification i\" + 0.004*\"i trying\" + 0.004*\"iphone 6\" + '\n",
            "  '0.004*\"it’s time\" + 0.004*\"keep asking\" + 0.004*\"one account\"'),\n",
            " (2,\n",
            "  '0.017*\"user friendly\" + 0.012*\"would like\" + 0.009*\"banking app\" + '\n",
            "  '0.008*\"banking apps\" + 0.006*\"like see\" + 0.006*\"i know\" + 0.006*\"really '\n",
            "  'good\" + 0.006*\"it’s easy\" + 0.005*\"home screen\" + 0.005*\"i changed\"'),\n",
            " (3,\n",
            "  '0.015*\"last update\" + 0.011*\"since last\" + 0.010*\"work well\" + 0.007*\"thing '\n",
            "  'i\" + 0.006*\"ever since\" + 0.005*\"would great\" + 0.005*\"right away\" + '\n",
            "  '0.004*\"money account\" + 0.004*\"bank it’s\" + 0.004*\"the td\"'),\n",
            " (4,\n",
            "  '0.023*\"credit card\" + 0.020*\"time i\" + 0.020*\"i can’t\" + 0.018*\"i don’t\" + '\n",
            "  '0.017*\"please fix\" + 0.016*\"every time\" + 0.014*\"i need\" + 0.012*\"i would\" '\n",
            "  '+ 0.011*\"i try\" + 0.010*\"online banking\"'),\n",
            " (5,\n",
            "  '0.010*\"easy navigate\" + 0.005*\"went wrong\" + 0.004*\"now it’s\" + 0.004*\"get '\n",
            "  'back\" + 0.004*\"it make\" + 0.004*\"something went\" + 0.004*\"account page\" + '\n",
            "  '0.003*\"login account\" + 0.003*\"banking phone\" + 0.003*\"try pay\"'),\n",
            " (6,\n",
            "  '0.007*\"transfer money\" + 0.007*\"super easy\" + 0.007*\"mobile deposit\" + '\n",
            "  '0.006*\"take photo\" + 0.005*\"i first\" + 0.005*\"look like\" + 0.004*\"get work\" '\n",
            "  '+ 0.004*\"never work\" + 0.004*\"make sense\" + 0.004*\"long time\"'),\n",
            " (7,\n",
            "  '0.012*\"step verification\" + 0.008*\"account balance\" + 0.008*\"2 step\" + '\n",
            "  '0.007*\"reset password\" + 0.006*\"i still\" + 0.005*\"switching bank\" + '\n",
            "  '0.005*\"can’t access\" + 0.005*\"the latest\" + 0.004*\"waste time\" + 0.004*\"in '\n",
            "  'i\"'),\n",
            " (8,\n",
            "  '0.016*\"great app\" + 0.015*\"easy use\" + 0.009*\"love app\" + 0.005*\"receive '\n",
            "  'notification\" + 0.004*\"doesn’t allow\" + 0.004*\"depositing check\" + '\n",
            "  '0.004*\"feature i\" + 0.004*\"facial recognition\" + 0.004*\"i almost\" + '\n",
            "  '0.004*\"update it’s\"'),\n",
            " (9,\n",
            "  '0.017*\"pay bill\" + 0.013*\"i never\" + 0.010*\"can’t even\" + 0.007*\"i really\" '\n",
            "  '+ 0.007*\"5 star\" + 0.006*\"not sure\" + 0.006*\"issue i\" + 0.006*\"good app\" + '\n",
            "  '0.006*\"money transfer\" + 0.006*\"easy use\"'),\n",
            " (10,\n",
            "  '0.018*\"i love\" + 0.015*\"customer service\" + 0.010*\"e transfer\" + '\n",
            "  '0.010*\"won’t let\" + 0.009*\"thank you\" + 0.007*\"fix this\" + 0.007*\"now i\" + '\n",
            "  '0.007*\"mobile banking\" + 0.005*\"credit score\" + 0.005*\"feel like\"'),\n",
            " (11,\n",
            "  '0.016*\"dark mode\" + 0.011*\"would nice\" + 0.010*\"please add\" + 0.010*\"i got\" '\n",
            "  '+ 0.009*\"technical issue\" + 0.007*\"touch id\" + 0.007*\"debit card\" + '\n",
            "  '0.006*\"please try\" + 0.006*\"i guess\" + 0.005*\"apple pay\"'),\n",
            " (12,\n",
            "  '0.011*\"cheque deposit\" + 0.006*\"bring back\" + 0.005*\"face recognition\" + '\n",
            "  '0.005*\"i’m happy\" + 0.004*\"problem i\" + 0.004*\"latest io\" + 0.004*\"i’ve '\n",
            "  'used\" + 0.003*\"please bring\" + 0.003*\"out i\" + 0.003*\"screen i\"'),\n",
            " (13,\n",
            "  '0.023*\"td app\" + 0.013*\"depositing cheque\" + 0.007*\"line credit\" + '\n",
            "  '0.005*\"month ago\" + 0.005*\"pay credit\" + 0.005*\"one i\" + 0.004*\"using year\" '\n",
            "  '+ 0.004*\"year old\" + 0.004*\"2 day\" + 0.004*\"interest rate\"'),\n",
            " (14,\n",
            "  '0.009*\"never problem\" + 0.008*\"i deleted\" + 0.006*\"it easy\" + 0.006*\"easy '\n",
            "  'i\" + 0.006*\"very frustrating\" + 0.006*\"three time\" + 0.005*\"app it\" + '\n",
            "  '0.004*\"i call\" + 0.004*\"this great\" + 0.004*\"worst banking\"')]\n"
          ]
        },
        {
          "output_type": "stream",
          "name": "stderr",
          "text": [
            "/usr/local/lib/python3.10/dist-packages/ipykernel/ipkernel.py:283: DeprecationWarning: `should_run_async` will not call `transform_cell` automatically in the future. Please pass the result to `transformed_cell` argument and any exception that happen during thetransform in `preprocessing_exc_tuple` in IPython 7.17 and above.\n",
            "  and should_run_async(code)\n"
          ]
        },
        {
          "output_type": "execute_result",
          "data": {
            "text/plain": [
              "<gensim.interfaces.TransformedCorpus at 0x7bd261bd76a0>"
            ]
          },
          "metadata": {},
          "execution_count": 43
        }
      ]
    },
    {
      "cell_type": "code",
      "source": [
        "trigrams_combined = [[f\"{a} {b} {c}\" for a, b, c in sublist] for sublist in trigrams]\n",
        "trigrams_combined[:3]"
      ],
      "metadata": {
        "colab": {
          "base_uri": "https://localhost:8080/"
        },
        "id": "6-GlysbFPi8P",
        "outputId": "f41f6be2-73e0-4e70-89c9-aebb5187d4d7"
      },
      "execution_count": 44,
      "outputs": [
        {
          "output_type": "stream",
          "name": "stderr",
          "text": [
            "/usr/local/lib/python3.10/dist-packages/ipykernel/ipkernel.py:283: DeprecationWarning: `should_run_async` will not call `transform_cell` automatically in the future. Please pass the result to `transformed_cell` argument and any exception that happen during thetransform in `preprocessing_exc_tuple` in IPython 7.17 and above.\n",
            "  and should_run_async(code)\n"
          ]
        },
        {
          "output_type": "execute_result",
          "data": {
            "text/plain": [
              "[['if one possible',\n",
              "  'one possible account',\n",
              "  'possible account i',\n",
              "  'account i select',\n",
              "  'i select time',\n",
              "  'select time i',\n",
              "  'time i need',\n",
              "  'i need deposit',\n",
              "  'need deposit cheque',\n",
              "  'deposit cheque if',\n",
              "  'cheque if multiple',\n",
              "  'if multiple account',\n",
              "  'multiple account would',\n",
              "  'account would good',\n",
              "  'would good allowed',\n",
              "  'good allowed choose',\n",
              "  'allowed choose default',\n",
              "  'choose default account',\n",
              "  'default account deposit',\n",
              "  'account deposit to',\n",
              "  'deposit to other',\n",
              "  'to other bank',\n",
              "  'other bank apps',\n",
              "  'bank apps set',\n",
              "  'apps set way'],\n",
              " ['suddenly i asked',\n",
              "  'i asked verify',\n",
              "  'asked verify device',\n",
              "  'verify device almost',\n",
              "  'device almost every',\n",
              "  'almost every time',\n",
              "  'every time i',\n",
              "  'time i try',\n",
              "  'i try log',\n",
              "  'try log in',\n",
              "  'log in yes',\n",
              "  'in yes i',\n",
              "  'yes i enable',\n",
              "  'i enable ‘trust',\n",
              "  'enable ‘trust device’',\n",
              "  '‘trust device’ every',\n",
              "  'device’ every time',\n",
              "  'every time what’s',\n",
              "  'time what’s this'],\n",
              " ['on new phone',\n",
              "  'new phone practically',\n",
              "  'phone practically every',\n",
              "  'practically every time',\n",
              "  'every time i',\n",
              "  'time i open',\n",
              "  'i open asks',\n",
              "  'open asks verify',\n",
              "  'asks verify it’s',\n",
              "  'verify it’s sends',\n",
              "  'it’s sends text',\n",
              "  'sends text it',\n",
              "  'text it asks',\n",
              "  'it asks i’d',\n",
              "  'asks i’d like',\n",
              "  'i’d like stay',\n",
              "  'like stay logged',\n",
              "  'stay logged phone',\n",
              "  'logged phone future',\n",
              "  'phone future face',\n",
              "  'future face id',\n",
              "  'face id avoid',\n",
              "  'id avoid text',\n",
              "  'avoid text i',\n",
              "  'text i check',\n",
              "  'i check box',\n",
              "  'check box confirm',\n",
              "  'box confirm this',\n",
              "  'confirm this doesn’t',\n",
              "  'this doesn’t matter',\n",
              "  'doesn’t matter almost',\n",
              "  'matter almost always',\n",
              "  'almost always sends',\n",
              "  'always sends text',\n",
              "  'sends text anyways',\n",
              "  'text anyways other',\n",
              "  'anyways other time',\n",
              "  'other time let',\n",
              "  'time let face',\n",
              "  'let face id',\n",
              "  'face id get',\n",
              "  'id get i',\n",
              "  'get i tap',\n",
              "  'i tap account',\n",
              "  'tap account get',\n",
              "  'account get stuck',\n",
              "  'get stuck it’s',\n",
              "  'stuck it’s loading',\n",
              "  'it’s loading transaction',\n",
              "  'loading transaction never',\n",
              "  'transaction never come',\n",
              "  'never come up',\n",
              "  'come up i',\n",
              "  'up i manually',\n",
              "  'i manually force',\n",
              "  'manually force close',\n",
              "  'force close go',\n",
              "  'close go back',\n",
              "  'go back in',\n",
              "  'back in usually',\n",
              "  'in usually 2',\n",
              "  'usually 2 step',\n",
              "  '2 step verification',\n",
              "  'step verification process',\n",
              "  'verification process again',\n",
              "  'process again on',\n",
              "  'again on old',\n",
              "  'on old iphone',\n",
              "  'old iphone perfect',\n",
              "  'iphone perfect i',\n",
              "  'perfect i never',\n",
              "  'i never either',\n",
              "  'never either issue',\n",
              "  'either issue anyone',\n",
              "  'issue anyone issue']]"
            ]
          },
          "metadata": {},
          "execution_count": 44
        }
      ]
    },
    {
      "cell_type": "code",
      "source": [
        "dictionary_trigrams = Dictionary(trigrams_combined)\n",
        "corpus_trigrams = [dictionary_trigrams.doc2bow(text) for text in trigrams_combined]\n",
        "MmCorpus.serialize('mmcorpus_ios_trigrams.mm', corpus_trigrams)"
      ],
      "metadata": {
        "colab": {
          "base_uri": "https://localhost:8080/"
        },
        "id": "YSH33E9APi6D",
        "outputId": "657e5f56-ece3-40e2-96e9-2a0f3c3b74fd"
      },
      "execution_count": 45,
      "outputs": [
        {
          "output_type": "stream",
          "name": "stderr",
          "text": [
            "/usr/local/lib/python3.10/dist-packages/ipykernel/ipkernel.py:283: DeprecationWarning: `should_run_async` will not call `transform_cell` automatically in the future. Please pass the result to `transformed_cell` argument and any exception that happen during thetransform in `preprocessing_exc_tuple` in IPython 7.17 and above.\n",
            "  and should_run_async(code)\n"
          ]
        }
      ]
    },
    {
      "cell_type": "code",
      "source": [
        "trigram_lda_model = []\n",
        "\n",
        "for i in range(len(topic_numbers_to_try)):\n",
        "  trigram_lda_model.append(build_lda_model(topic_numbers_to_try[i], corpus_trigrams, dictionary_trigrams))\n",
        "\n",
        "models_preplexity_trigrams = []\n",
        "models_coherence_trigrams = []\n",
        "\n",
        "tracker = 5\n",
        "for model in trigram_lda_model:\n",
        "  models_preplexity_trigrams.append(calculate_preplexity(model, corpus_trigrams))\n",
        "  models_coherence_trigrams.append(calculate_coherence(model, trigrams_combined, dictionary_trigrams))\n",
        "  tracker += 1\n",
        "\n",
        "models_df_trigrams = pd.DataFrame({\n",
        "    'Num_Topics': models_topics,\n",
        "    'Preplexity': models_preplexity_trigrams,\n",
        "    'Coherence': models_coherence_trigrams\n",
        "})\n",
        "\n",
        "print(\"Trigrams --- models and scores: \")\n",
        "print(models_df_trigrams)\n"
      ],
      "metadata": {
        "colab": {
          "base_uri": "https://localhost:8080/"
        },
        "id": "kfAKABtmPi33",
        "outputId": "6a6b8e8f-c402-4bfa-fafa-8fa998dd6bf7"
      },
      "execution_count": 46,
      "outputs": [
        {
          "output_type": "stream",
          "name": "stderr",
          "text": [
            "/usr/local/lib/python3.10/dist-packages/ipykernel/ipkernel.py:283: DeprecationWarning: `should_run_async` will not call `transform_cell` automatically in the future. Please pass the result to `transformed_cell` argument and any exception that happen during thetransform in `preprocessing_exc_tuple` in IPython 7.17 and above.\n",
            "  and should_run_async(code)\n"
          ]
        },
        {
          "output_type": "stream",
          "name": "stdout",
          "text": [
            "Trigrams --- models and scores: \n",
            "    Num_Topics  Preplexity  Coherence\n",
            "0            5  -13.497051   0.610250\n",
            "1            6  -14.202739   0.644110\n",
            "2            7  -15.335027   0.620675\n",
            "3            8  -16.531823   0.499044\n",
            "4            9  -19.365943   0.573855\n",
            "5           10  -21.383319   0.569700\n",
            "6           11  -24.083507   0.547007\n",
            "7           12  -24.720050   0.663393\n",
            "8           13  -25.936380   0.676689\n",
            "9           14  -27.473640   0.653684\n",
            "10          15  -27.826567   0.666610\n"
          ]
        }
      ]
    },
    {
      "cell_type": "code",
      "source": [
        "print(\"Number of topics with the maximum Coherence is \", models_df_trigrams.loc[models_df_trigrams['Coherence'].idxmax(), 'Num_Topics'])\n",
        "\n",
        "print(\"Number of topics with the minimum Preplexity is \", models_df_trigrams.loc[models_df_trigrams['Preplexity'].idxmin(), 'Num_Topics'])"
      ],
      "metadata": {
        "colab": {
          "base_uri": "https://localhost:8080/"
        },
        "id": "swPNwQ6LPwzA",
        "outputId": "aba637aa-83c9-411d-d2d5-8155d3286584"
      },
      "execution_count": 47,
      "outputs": [
        {
          "output_type": "stream",
          "name": "stdout",
          "text": [
            "Number of topics with the maximum Coherence is  13\n",
            "Number of topics with the minimum Preplexity is  15\n"
          ]
        },
        {
          "output_type": "stream",
          "name": "stderr",
          "text": [
            "/usr/local/lib/python3.10/dist-packages/ipykernel/ipkernel.py:283: DeprecationWarning: `should_run_async` will not call `transform_cell` automatically in the future. Please pass the result to `transformed_cell` argument and any exception that happen during thetransform in `preprocessing_exc_tuple` in IPython 7.17 and above.\n",
            "  and should_run_async(code)\n"
          ]
        }
      ]
    },
    {
      "cell_type": "code",
      "source": [
        "models_df_trigrams['Normalized_Perplexity'] = (models_df_trigrams['Preplexity'] - models_df_trigrams['Preplexity'].min()) / (models_df_trigrams['Preplexity'].max() - models_df_trigrams['Preplexity'].min())\n",
        "models_df_trigrams['Normalized_Coherence'] = (models_df_trigrams['Coherence'] - models_df_trigrams['Coherence'].min()) / (models_df_trigrams['Coherence'].max() - models_df_trigrams['Coherence'].min())\n",
        "\n",
        "models_df_trigrams['Inverted_Perplexity'] = 1 - models_df_trigrams['Normalized_Perplexity']\n",
        "\n",
        "models_df_trigrams['Score'] = weight_coherence * models_df_trigrams['Normalized_Coherence'] + weight_preplexity * models_df_trigrams['Inverted_Perplexity']\n",
        "\n",
        "best_row_trigrams = models_df_trigrams.loc[models_df_trigrams['Score'].idxmax()]\n",
        "print(\"Best Row:\")\n",
        "print(best_row_trigrams)\n",
        "\n",
        "\n"
      ],
      "metadata": {
        "colab": {
          "base_uri": "https://localhost:8080/"
        },
        "id": "3p1tjxfzPww5",
        "outputId": "8b68e23b-2908-41c1-ae7d-789735b6c663"
      },
      "execution_count": 48,
      "outputs": [
        {
          "output_type": "stream",
          "name": "stdout",
          "text": [
            "Best Row:\n",
            "Num_Topics               15.000000\n",
            "Preplexity              -27.826567\n",
            "Coherence                 0.666610\n",
            "Normalized_Perplexity     0.000000\n",
            "Normalized_Coherence      0.943263\n",
            "Inverted_Perplexity       1.000000\n",
            "Score                     0.971631\n",
            "Name: 10, dtype: float64\n"
          ]
        },
        {
          "output_type": "stream",
          "name": "stderr",
          "text": [
            "/usr/local/lib/python3.10/dist-packages/ipykernel/ipkernel.py:283: DeprecationWarning: `should_run_async` will not call `transform_cell` automatically in the future. Please pass the result to `transformed_cell` argument and any exception that happen during thetransform in `preprocessing_exc_tuple` in IPython 7.17 and above.\n",
            "  and should_run_async(code)\n"
          ]
        }
      ]
    },
    {
      "cell_type": "code",
      "source": [
        "best_model_trigrams = trigram_lda_model[-1]\n",
        "\n",
        "print_topics(best_model_trigrams, corpus_trigrams)"
      ],
      "metadata": {
        "colab": {
          "base_uri": "https://localhost:8080/"
        },
        "id": "3l3y8lTkPwu2",
        "outputId": "a75560b8-5deb-4f3b-c518-abc718add012"
      },
      "execution_count": 49,
      "outputs": [
        {
          "output_type": "stream",
          "name": "stdout",
          "text": [
            "[(0,\n",
            "  '0.002*\"other banking apps\" + 0.001*\"able deposit cheque\" + 0.001*\"email '\n",
            "  'money transfer\" + 0.001*\"ever since i\" + 0.001*\"after recent update\" + '\n",
            "  '0.001*\"after last update\" + 0.001*\"the recent update\" + 0.000*\"since i got\" '\n",
            "  '+ 0.000*\"star i would\" + 0.000*\"look like it’s\"'),\n",
            " (1,\n",
            "  '0.003*\"i can’t access\" + 0.002*\"please fix it\" + 0.001*\"access account i\" + '\n",
            "  '0.001*\"called customer service\" + 0.001*\"i called customer\" + 0.001*\"why '\n",
            "  'can’t i\" + 0.001*\"can’t access account\" + 0.001*\"app please fix\" + '\n",
            "  '0.001*\"mobile banking app\" + 0.001*\"please fix app\"'),\n",
            " (2,\n",
            "  '0.003*\"i love app\" + 0.002*\"please fix issue\" + 0.001*\"i can’t see\" + '\n",
            "  '0.001*\"face id i\" + 0.001*\"i must say\" + 0.001*\"account i would\" + '\n",
            "  '0.001*\"pretty much everything\" + 0.001*\"take photo cheque\" + 0.001*\"star i '\n",
            "  'could\" + 0.001*\"it seems like\"'),\n",
            " (3,\n",
            "  '0.004*\"everything i need\" + 0.002*\"the last update\" + 0.002*\"lump sum '\n",
            "  'payment\" + 0.002*\"it if i\" + 0.002*\"i keep getting\" + 0.001*\"i haven’t '\n",
            "  'able\" + 0.001*\"keep getting error\" + 0.001*\"work half time\" + 0.001*\"since '\n",
            "  'update i\" + 0.001*\"since recent update\"'),\n",
            " (4,\n",
            "  '0.006*\"2 step verification\" + 0.004*\"pay credit card\" + 0.001*\"i try sign\" '\n",
            "  '+ 0.001*\"it would nice\" + 0.001*\"i can’t login\" + 0.001*\"bank i ever\" + '\n",
            "  '0.001*\"get stuck loading\" + 0.001*\"stuck loading screen\" + 0.001*\"go app '\n",
            "  'store\" + 0.001*\"time i need\"'),\n",
            " (5,\n",
            "  '0.002*\"i’ve never issue\" + 0.002*\"thing i need\" + 0.001*\"credit card '\n",
            "  'balance\" + 0.001*\"i open app\" + 0.001*\"app user friendly\" + 0.001*\"log back '\n",
            "  'in\" + 0.000*\"i delete reinstall\" + 0.000*\"the doesn’t work\" + 0.000*\"bank i '\n",
            "  'don’t\" + 0.000*\"i older phone\"'),\n",
            " (6,\n",
            "  '0.008*\"since last update\" + 0.004*\"i can’t even\" + 0.003*\"i can’t open\" + '\n",
            "  '0.002*\"banking app i\" + 0.002*\"paying credit card\" + 0.001*\"can’t even log\" '\n",
            "  '+ 0.001*\"it won’t let\" + 0.001*\"credit card bill\" + 0.001*\"won’t let sign\" '\n",
            "  '+ 0.001*\"let sign in\"'),\n",
            " (7,\n",
            "  '0.002*\"click credit card\" + 0.001*\"something went wrong\" + 0.001*\"tried '\n",
            "  'uninstalling reinstalling\" + 0.001*\"i would give\" + 0.001*\"i get message\" + '\n",
            "  '0.001*\"get error message\" + 0.001*\"i take picture\" + 0.001*\"account credit '\n",
            "  'card\" + 0.001*\"the old version\" + 0.001*\"it’s user friendly\"'),\n",
            " (8,\n",
            "  '0.005*\"i would like\" + 0.003*\"i don’t know\" + 0.002*\"i don’t want\" + '\n",
            "  '0.002*\"i don’t even\" + 0.002*\"after latest update\" + 0.002*\"i don’t like\" + '\n",
            "  '0.001*\"2 factor authentication\" + 0.001*\"i don’t need\" + 0.001*\"go back '\n",
            "  'old\" + 0.001*\"this new update\"'),\n",
            " (9,\n",
            "  '0.003*\"credit card transaction\" + 0.002*\"please fix asap\" + 0.002*\"i guess '\n",
            "  'i\" + 0.002*\"fix issue i\" + 0.002*\"want go back\" + 0.001*\"now i can’t\" + '\n",
            "  '0.001*\"i don’t think\" + 0.001*\"buy new phone\" + 0.001*\"would nice see\" + '\n",
            "  '0.001*\"i like new\"'),\n",
            " (10,\n",
            "  '0.003*\"if i could\" + 0.002*\"call customer service\" + 0.001*\"i ever used\" + '\n",
            "  '0.001*\"new update i\" + 0.001*\"take picture cheque\" + 0.001*\"face id work\" + '\n",
            "  '0.001*\"won’t let log\" + 0.001*\"try deposit cheque\" + 0.001*\"when i open\" + '\n",
            "  '0.001*\"i could give\"'),\n",
            " (11,\n",
            "  '0.015*\"every time i\" + 0.008*\"time i try\" + 0.005*\"even though i\" + '\n",
            "  '0.003*\"when i try\" + 0.003*\"i reset password\" + 0.003*\"the new update\" + '\n",
            "  '0.002*\"online banking i\" + 0.002*\"i try pay\" + 0.002*\"dark mode would\" + '\n",
            "  '0.002*\"i try log\"'),\n",
            " (12,\n",
            "  '0.002*\"i can’t find\" + 0.002*\"i don’t understand\" + 0.001*\"i really like\" + '\n",
            "  '0.001*\"please fix bug\" + 0.001*\"quick balance widget\" + 0.001*\"able access '\n",
            "  'account\" + 0.001*\"still doesn’t work\" + 0.000*\"user friendly i\" + '\n",
            "  '0.000*\"new update suck\" + 0.000*\"i cant log\"'),\n",
            " (13,\n",
            "  '0.004*\"please fix this\" + 0.003*\"every single time\" + 0.003*\"i wish i\" + '\n",
            "  '0.002*\"balance pay bill\" + 0.002*\"easy use i\" + 0.001*\"single time i\" + '\n",
            "  '0.001*\"time i log\" + 0.001*\"time i go\" + 0.001*\"crash every time\" + '\n",
            "  '0.001*\"i log in\"'),\n",
            " (14,\n",
            "  '0.003*\"the latest update\" + 0.002*\"please bring back\" + 0.002*\"take way '\n",
            "  'long\" + 0.001*\"credit card account\" + 0.001*\"many time i\" + 0.001*\"time i '\n",
            "  'tried\" + 0.001*\"matter many time\" + 0.000*\"i go back\" + 0.000*\"won’t even '\n",
            "  'open\" + 0.000*\"this worst banking\"')]\n"
          ]
        },
        {
          "output_type": "stream",
          "name": "stderr",
          "text": [
            "/usr/local/lib/python3.10/dist-packages/ipykernel/ipkernel.py:283: DeprecationWarning: `should_run_async` will not call `transform_cell` automatically in the future. Please pass the result to `transformed_cell` argument and any exception that happen during thetransform in `preprocessing_exc_tuple` in IPython 7.17 and above.\n",
            "  and should_run_async(code)\n"
          ]
        },
        {
          "output_type": "execute_result",
          "data": {
            "text/plain": [
              "<gensim.interfaces.TransformedCorpus at 0x7bd261bf9cf0>"
            ]
          },
          "metadata": {},
          "execution_count": 49
        }
      ]
    },
    {
      "cell_type": "code",
      "source": [],
      "metadata": {
        "id": "c-dppeE3Pwsj"
      },
      "execution_count": null,
      "outputs": []
    },
    {
      "cell_type": "markdown",
      "source": [
        "Best models:\n",
        "\n",
        "- Single Words: (15 topics)\n",
        "p = -8.047944 ------ c = 0.500220\n",
        "- Bigrams:\n",
        "p = -20.944962 ------ c = 0.577760\n",
        "- Trigrams:\n",
        "p =  -27.826567 ------ c = 0.666610\n",
        "\n",
        "Final Best:\n",
        "Trigrams"
      ],
      "metadata": {
        "id": "MHEEPjQAP2Cu"
      }
    },
    {
      "cell_type": "code",
      "source": [
        "best_top_model_overall = best_model_trigrams"
      ],
      "metadata": {
        "colab": {
          "base_uri": "https://localhost:8080/"
        },
        "id": "MkrOCeZWPwqb",
        "outputId": "77a4ca76-95d3-4a4b-cdd2-a30c59e2f407"
      },
      "execution_count": 50,
      "outputs": [
        {
          "output_type": "stream",
          "name": "stderr",
          "text": [
            "/usr/local/lib/python3.10/dist-packages/ipykernel/ipkernel.py:283: DeprecationWarning: `should_run_async` will not call `transform_cell` automatically in the future. Please pass the result to `transformed_cell` argument and any exception that happen during thetransform in `preprocessing_exc_tuple` in IPython 7.17 and above.\n",
            "  and should_run_async(code)\n"
          ]
        }
      ]
    },
    {
      "cell_type": "code",
      "source": [
        "\n",
        "pyLDAvis.enable_notebook()\n",
        "\n",
        "vis = gensimvis.prepare(best_top_model_overall, corpus_trigrams, dictionary_trigrams)\n",
        "vis"
      ],
      "metadata": {
        "colab": {
          "base_uri": "https://localhost:8080/",
          "height": 917
        },
        "id": "Pk1fDdnFP3j7",
        "outputId": "ef25642a-5dd9-4635-bf6b-78859c73be92"
      },
      "execution_count": 52,
      "outputs": [
        {
          "output_type": "stream",
          "name": "stderr",
          "text": [
            "/usr/local/lib/python3.10/dist-packages/ipykernel/ipkernel.py:283: DeprecationWarning: `should_run_async` will not call `transform_cell` automatically in the future. Please pass the result to `transformed_cell` argument and any exception that happen during thetransform in `preprocessing_exc_tuple` in IPython 7.17 and above.\n",
            "  and should_run_async(code)\n"
          ]
        },
        {
          "output_type": "execute_result",
          "data": {
            "text/plain": [
              "PreparedData(topic_coordinates=              x         y  topics  cluster       Freq\n",
              "topic                                                \n",
              "11    -0.029424 -0.000185       1        1  14.092887\n",
              "8      0.005727 -0.016140       2        1   9.593238\n",
              "13     0.005633  0.010717       3        1   8.917103\n",
              "6      0.005378  0.004464       4        1   7.470830\n",
              "4      0.002870  0.000365       5        1   7.318961\n",
              "9      0.002630  0.000308       6        1   7.059306\n",
              "3      0.002164  0.000220       7        1   5.946520\n",
              "10     0.001407  0.000112       8        1   5.721367\n",
              "2      0.000859  0.000052       9        1   5.367537\n",
              "14     0.000695  0.000036      10        1   5.305768\n",
              "1      0.000867  0.000053      11        1   5.006436\n",
              "7      0.000659  0.000033      12        1   4.909324\n",
              "0      0.000158 -0.000013      13        1   4.574420\n",
              "12     0.000209 -0.000009      14        1   4.394072\n",
              "5      0.000167 -0.000012      15        1   4.322232, topic_info=                     Term        Freq       Total Category  logprob  loglift\n",
              "30           every time i  445.000000  445.000000  Default  30.0000  30.0000\n",
              "38             time i try  251.000000  251.000000  Default  29.0000  29.0000\n",
              "4394    since last update  121.000000  121.000000  Default  28.0000  28.0000\n",
              "1546        even though i  151.000000  151.000000  Default  27.0000  27.0000\n",
              "5837         i would like  103.000000  103.000000  Default  26.0000  26.0000\n",
              "...                   ...         ...         ...      ...      ...      ...\n",
              "16231      hope get fixed    1.816259    2.841376  Topic15  -8.5170   2.6939\n",
              "4025   i highly recommend    1.718845    2.743963  Topic15  -8.5722   2.6736\n",
              "20451   doesn’t work keep    1.613108    2.638225  Topic15  -8.6357   2.6495\n",
              "8120     couple month ago    1.561444    2.586561  Topic15  -8.6682   2.6367\n",
              "13366    cannot even open    1.484727    2.509844  Topic15  -8.7186   2.6164\n",
              "\n",
              "[482 rows x 6 columns], token_table=       Topic      Freq                     Term\n",
              "term                                           \n",
              "2909      14  0.761821            1 star review\n",
              "6272       2  0.927631               15 pro max\n",
              "9869      10  0.835604                2 day ago\n",
              "336        2  0.957953  2 factor authentication\n",
              "44         5  0.993321      2 step verification\n",
              "...      ...       ...                      ...\n",
              "5159       3  0.920602          would nice able\n",
              "14174      6  0.890973           would nice see\n",
              "6626       6  0.865885        would really like\n",
              "17823      9  0.586422              zero star i\n",
              "17823     13  0.195474              zero star i\n",
              "\n",
              "[454 rows x 3 columns], R=30, lambda_step=0.01, plot_opts={'xlab': 'PC1', 'ylab': 'PC2'}, topic_order=[12, 9, 14, 7, 5, 10, 4, 11, 3, 15, 2, 8, 1, 13, 6])"
            ],
            "text/html": [
              "\n",
              "<link rel=\"stylesheet\" type=\"text/css\" href=\"https://cdn.jsdelivr.net/gh/bmabey/pyLDAvis@3.4.0/pyLDAvis/js/ldavis.v1.0.0.css\">\n",
              "\n",
              "\n",
              "<div id=\"ldavis_el6451361434260437121145955666\" style=\"background-color:white;\"></div>\n",
              "<script type=\"text/javascript\">\n",
              "\n",
              "var ldavis_el6451361434260437121145955666_data = {\"mdsDat\": {\"x\": [-0.029423830716623366, 0.0057274582384849474, 0.005632609396441012, 0.005377971928909064, 0.0028699699506551076, 0.0026300236161921, 0.0021640056153347975, 0.0014070599140993468, 0.0008593732577899668, 0.000695273763894287, 0.0008670130522574682, 0.0006590688237043574, 0.0001577927024952806, 0.00020871260712689734, 0.00016749784923874322], \"y\": [-0.00018513018909834065, -0.016140023088756207, 0.010717398590944371, 0.004463529521087749, 0.0003645583317721179, 0.00030845852135255315, 0.00021993846691859714, 0.00011241890152589263, 5.1883994816371076e-05, 3.578090531142563e-05, 5.2818981698527457e-05, 3.255988629009371e-05, -1.311666840818371e-05, -8.728493246782059e-06, -1.2347662208197291e-05], \"topics\": [1, 2, 3, 4, 5, 6, 7, 8, 9, 10, 11, 12, 13, 14, 15], \"cluster\": [1, 1, 1, 1, 1, 1, 1, 1, 1, 1, 1, 1, 1, 1, 1], \"Freq\": [14.092886672191446, 9.593237660138287, 8.917102671718387, 7.470829710950542, 7.3189612758720175, 7.059305502975352, 5.946519508826406, 5.721366963139082, 5.367537479644262, 5.30576822417895, 5.006436348836392, 4.909323779495516, 4.574420468688741, 4.394072128377784, 4.322231604966834]}, \"tinfo\": {\"Term\": [\"every time i\", \"time i try\", \"since last update\", \"even though i\", \"i would like\", \"2 step verification\", \"please fix this\", \"i can\\u2019t even\", \"when i try\", \"i don\\u2019t know\", \"pay credit card\", \"i reset password\", \"the new update\", \"every single time\", \"everything i need\", \"online banking i\", \"i wish i\", \"i try pay\", \"dark mode would\", \"credit card transaction\", \"i love app\", \"i don\\u2019t want\", \"the latest update\", \"i can\\u2019t open\", \"i try log\", \"i don\\u2019t even\", \"after latest update\", \"i can\\u2019t access\", \"i still able\", \"if i could\", \"every time i\", \"time i try\", \"even though i\", \"when i try\", \"i reset password\", \"the new update\", \"online banking i\", \"i try pay\", \"dark mode would\", \"i try log\", \"i still able\", \"i can\\u2019t get\", \"password every time\", \"time i want\", \"time i open\", \"i can\\u2019t log\", \"almost every time\", \"bring back old\", \"account i can\\u2019t\", \"try log in\", \"account please fix\", \"it look like\", \"try pay bill\", \"can\\u2019t get account\", \"i don\\u2019t see\", \"i face id\", \"iphone 13 pro\", \"i never get\", \"next time i\", \"download new version\", \"i would like\", \"i don\\u2019t know\", \"i don\\u2019t want\", \"i don\\u2019t even\", \"after latest update\", \"i don\\u2019t like\", \"2 factor authentication\", \"i don\\u2019t need\", \"go back old\", \"this new update\", \"say i need\", \"whenever i try\", \"app i don\\u2019t\", \"mobile cheque deposit\", \"i feel like\", \"iphone 15 pro\", \"considering switching bank\", \"would like able\", \"don\\u2019t like new\", \"right now please\", \"please go back\", \"not user friendly\", \"back previous version\", \"i\\u2019ve ever used\", \"please put back\", \"can\\u2019t deposit cheque\", \"15 pro max\", \"deposit cheque i\", \"i really don\\u2019t\", \"update every time\", \"back old version\", \"please fix this\", \"every single time\", \"i wish i\", \"balance pay bill\", \"easy use i\", \"single time i\", \"time i log\", \"time i go\", \"crash every time\", \"i log in\", \"i get error\", \"wish i could\", \"i used able\", \"since new update\", \"update please fix\", \"would nice able\", \"switch bank i\", \"in please fix\", \"credit card statement\", \"log in please\", \"not sure what\\u2019s\", \"bank i can\\u2019t\", \"anymore please fix\", \"sure what\\u2019s going\", \"update won\\u2019t let\", \"login please fix\", \"i used banking\", \"back last version\", \"it\\u2019s frustrating i\", \"can\\u2019t pay bill\", \"since last update\", \"i can\\u2019t even\", \"i can\\u2019t open\", \"banking app i\", \"paying credit card\", \"can\\u2019t even log\", \"it won\\u2019t let\", \"credit card bill\", \"won\\u2019t let sign\", \"let sign in\", \"half time i\", \"i longer access\", \"access online banking\", \"first time i\", \"app i able\", \"the new version\", \"user friendly easy\", \"i need update\", \"i open it\", \"even log in\", \"saying i need\", \"please revert back\", \"can\\u2019t open app\", \"won\\u2019t let update\", \"compared banking apps\", \"i could see\", \"doesn\\u2019t work properly\", \"i wouldn\\u2019t recommend\", \"i banking online\", \"time i can\\u2019t\", \"2 step verification\", \"pay credit card\", \"i try sign\", \"it would nice\", \"i can\\u2019t login\", \"bank i ever\", \"get stuck loading\", \"stuck loading screen\", \"go app store\", \"time i need\", \"i credit card\", \"log in i\", \"i able see\", \"step verification process\", \"i\\u2019m using iphone\", \"so i go\", \"i ever seen\", \"when i click\", \"using face id\", \"i can\\u2019t pay\", \"i go app\", \"email phone number\", \"i thought i\", \"screen every time\", \"account every time\", \"i click it\", \"5 business day\", \"log i get\", \"don\\u2019t know what\\u2019s\", \"worst bank i\", \"credit card transaction\", \"please fix asap\", \"i guess i\", \"fix issue i\", \"want go back\", \"now i can\\u2019t\", \"i don\\u2019t think\", \"buy new phone\", \"would nice see\", \"i like new\", \"keep giving error\", \"i cannot even\", \"buy new ipad\", \"can\\u2019t even access\", \"mobile check deposit\", \"doesn\\u2019t even work\", \"switch another bank\", \"make feel like\", \"i think it\\u2019s\", \"need go back\", \"take picture front\", \"the previous version\", \"would really like\", \"i hate new\", \"balance every transaction\", \"mobile banking apps\", \"i buy new\", \"i would really\", \"i iphone 6\", \"get new one\", \"everything i need\", \"the last update\", \"lump sum payment\", \"it if i\", \"i keep getting\", \"i haven\\u2019t able\", \"keep getting error\", \"work half time\", \"since update i\", \"since recent update\", \"it keep saying\", \"i cannot see\", \"fix this i\", \"bill payment i\", \"new app i\", \"recent update i\", \"i know i\", \"i deposit cheque\", \"back old app\", \"add credit card\", \"work every time\", \"update credit card\", \"i updated i\", \"i would rather\", \"also i longer\", \"switching bank i\", \"i called support\", \"the user friendly\", \"doesn\\u2019t work half\", \"scheduled bill payment\", \"if i could\", \"call customer service\", \"i ever used\", \"new update i\", \"take picture cheque\", \"face id work\", \"won\\u2019t let log\", \"try deposit cheque\", \"when i open\", \"i could give\", \"i deleted reinstalled\", \"can\\u2019t even get\", \"right away i\", \"app i can\\u2019t\", \"great app i\", \"latest update i\", \"this user friendly\", \"time i app\", \"log in the\", \"user friendly the\", \"let log in\", \"pending transaction credit\", \"the reason i\", \"never issue td\", \"transaction credit card\", \"i cannot pay\", \"i using year\", \"see account balance\", \"deposit cheque online\", \"reason i gave\", \"i love app\", \"please fix issue\", \"i can\\u2019t see\", \"face id i\", \"i must say\", \"account i would\", \"pretty much everything\", \"take photo cheque\", \"star i could\", \"it seems like\", \"this new version\", \"latest version i\", \"since latest update\", \"used work fine\", \"it used work\", \"i need go\", \"i multiple account\", \"love app so\", \"get anything done\", \"apps i\\u2019ve used\", \"issue i can\\u2019t\", \"like every time\", \"account i used\", \"never issue bank\", \"seems like every\", \"like new version\", \"new update it\", \"option dark mode\", \"app worked great\", \"this latest version\", \"zero star i\", \"the latest update\", \"please bring back\", \"take way long\", \"credit card account\", \"many time i\", \"time i tried\", \"matter many time\", \"i go back\", \"won\\u2019t even open\", \"this worst banking\", \"sometimes i can\\u2019t\", \"face id sign\", \"no matter many\", \"i cannot find\", \"card number password\", \"2 day ago\", \"remember card number\", \"won\\u2019t let me\", \"work well easy\", \"recent update made\", \"it keep asking\", \"enter card number\", \"i literally can\\u2019t\", \"one account another\", \"now i get\", \"cannot find anything\", \"i need app\", \"app i always\", \"work face id\", \"not sure changed\", \"i can\\u2019t access\", \"please fix it\", \"access account i\", \"called customer service\", \"i called customer\", \"why can\\u2019t i\", \"can\\u2019t access account\", \"app please fix\", \"mobile banking app\", \"please fix app\", \"i need do\", \"this great app\", \"got new phone\", \"can\\u2019t even open\", \"don\\u2019t need go\", \"much easier navigate\", \"i switched td\", \"hate new update\", \"i love i\", \"face id log\", \"account i need\", \"update requires io\", \"working fine i\", \"updated latest version\", \"even open app\", \"i\\u2019d like see\", \"day i need\", \"need go bank\", \"bank like rbc\", \"turn face id\", \"click credit card\", \"something went wrong\", \"tried uninstalling reinstalling\", \"i would give\", \"i get message\", \"get error message\", \"i take picture\", \"account credit card\", \"the old version\", \"it\\u2019s user friendly\", \"please change back\", \"update i longer\", \"update i cannot\", \"i opened account\", \"new update terrible\", \"i still get\", \"i\\u2019ve tried uninstalling\", \"good customer service\", \"need fix it\", \"front back cheque\", \"get message saying\", \"i longer able\", \"getting error message\", \"time please fix\", \"still get error\", \"couple month i\", \"5 star i\", \"can\\u2019t log account\", \"get white screen\", \"app i wish\", \"other banking apps\", \"able deposit cheque\", \"email money transfer\", \"ever since i\", \"after recent update\", \"after last update\", \"the recent update\", \"since i got\", \"star i would\", \"look like it\\u2019s\", \"i want check\", \"i try access\", \"thinking switching bank\", \"the face id\", \"new online banking\", \"face id working\", \"terrible user experience\", \"after new update\", \"business personal account\", \"all apps work\", \"don\\u2019t know it\\u2019s\", \"i try get\", \"check bank balance\", \"every time open\", \"even though i\\u2019ve\", \"update new version\", \"online banking one\", \"face id iphone\", \"annoying i want\", \"move money account\", \"i can\\u2019t find\", \"i don\\u2019t understand\", \"i really like\", \"please fix bug\", \"quick balance widget\", \"able access account\", \"still doesn\\u2019t work\", \"user friendly i\", \"new update suck\", \"i cant log\", \"the latest version\", \"i absolutely hate\", \"back old one\", \"i can\\u2019t believe\", \"i new iphone\", \"don\\u2019t fix it\", \"i gotta say\", \"access account money\", \"it also doesn\\u2019t\", \"rbc app i\", \"1 star review\", \"it i don\\u2019t\", \"new iphone 15\", \"the old one\", \"never go away\", \"keep loading forever\", \"time i launch\", \"error message come\", \"i launch app\", \"the change made\", \"i\\u2019ve never issue\", \"thing i need\", \"credit card balance\", \"i open app\", \"app user friendly\", \"log back in\", \"i delete reinstall\", \"the doesn\\u2019t work\", \"bank i don\\u2019t\", \"i older phone\", \"credit card limit\", \"taking picture cheque\", \"trying pay bill\", \"working perfectly fine\", \"log every time\", \"i try view\", \"i can\\u2019t download\", \"would go back\", \"even though i\\u2019m\", \"after updating app\", \"worst i ever\", \"the way i\", \"older version i\", \"load account detail\", \"switch different bank\", \"hope get fixed\", \"i highly recommend\", \"doesn\\u2019t work keep\", \"couple month ago\", \"cannot even open\"], \"Freq\": [445.0, 251.0, 121.0, 151.0, 103.0, 89.0, 77.0, 67.0, 83.0, 65.0, 57.0, 77.0, 75.0, 57.0, 47.0, 68.0, 52.0, 62.0, 61.0, 43.0, 38.0, 48.0, 37.0, 42.0, 58.0, 46.0, 45.0, 33.0, 51.0, 32.0, 444.42991371107297, 250.22026373634904, 150.14483051351382, 82.18783653812795, 76.34821744133886, 74.73147572739938, 67.82974048978167, 61.42018624881153, 60.82274074977179, 57.39892509479228, 51.00966413488052, 42.53320750986269, 36.70174639477625, 34.863870644493915, 33.93895472995129, 32.87853084472722, 31.56397566214587, 22.006427920269022, 21.061522020988182, 20.38291201408765, 17.992201172948167, 15.662190954431, 15.391507605055567, 14.909929916691972, 13.340783322449452, 13.053736619618698, 12.973046012258168, 12.243609745886177, 11.841093308799493, 10.83266147827752, 102.08372834620918, 64.41818599507569, 47.884473651836096, 45.23141857179783, 44.3429533528696, 36.54323727956412, 29.30253056393347, 23.874373038281743, 23.11899601271743, 22.140597081161722, 20.615153989917253, 19.729919374445267, 19.426831524989023, 16.68239165880281, 15.257883223981253, 13.078086916050966, 12.956163894690132, 12.365537087866413, 11.892421428910819, 10.894898122574038, 10.840947983301735, 10.82690647154749, 8.885222295774561, 8.486117838185274, 8.089291460447845, 8.036790048578757, 7.653761186401346, 7.454757069249741, 7.335611264186165, 7.3161660578708565, 8.173131720042122, 76.52239874338137, 56.261130645685306, 51.451874337097934, 33.99749557667015, 29.46752073799655, 26.655109711272658, 25.78292702263402, 25.394293421574144, 25.11915976103816, 22.450681208942807, 22.138572728217326, 20.07806882198631, 19.27801483743305, 18.02095381994724, 14.373107035142253, 10.97119459769559, 9.649255909868431, 9.098774874117685, 8.816073969343565, 7.79819947631007, 7.7194674248030575, 7.649732652234223, 7.488944522698592, 7.209319037574854, 7.176388985757311, 7.07131496452019, 6.728036306933986, 6.642994220498143, 6.560523797684151, 5.940894069159672, 120.61933971914566, 66.95602905192945, 41.307126125974044, 31.475331388226543, 27.876590607983, 21.694124350313267, 18.587853585553606, 17.458833251883316, 15.62613450555936, 14.787924017570035, 14.236695679828538, 12.01252235205662, 11.945108322345789, 9.488163608620372, 9.334359680574098, 8.830427590006783, 8.296573700819662, 8.227705329550467, 7.584523688894096, 7.5019779295521225, 6.836738166239777, 6.417268423324393, 6.381028643412087, 6.276876502557739, 5.872637607401062, 5.47729148102574, 5.282546285108534, 5.175865490087379, 4.96249659179603, 4.882001253074504, 88.60476039975471, 56.76382009855898, 22.901643282752225, 22.37751492057206, 13.100007780092485, 11.687965641870292, 11.122560797403771, 10.48202847726395, 9.399237904505199, 9.080534345811493, 8.875039735390702, 8.85883915686145, 8.20703749163046, 8.063312173526013, 7.868383469088888, 7.727041431319398, 7.235069454447227, 7.125032694363295, 6.9943039954943895, 6.827792978055351, 6.450353596326316, 6.414904203135305, 5.94016916927901, 5.648784733328355, 5.3426822212423115, 5.133409086760615, 4.921760279109882, 4.517826480919683, 3.9027463955098733, 3.7898833495461832, 42.169841488386204, 32.760451352372684, 32.40370735341529, 27.394359560469184, 26.344267980615346, 21.152283930515647, 16.074958345687374, 12.9011706274201, 11.349624788460163, 8.615490668575026, 7.823319347667939, 7.715140137074198, 7.544768368391233, 6.975198203794063, 6.596424221006512, 5.92966005698376, 5.448480875664688, 5.36883421025029, 5.252783387159108, 5.127786686656233, 4.807596180715248, 4.80475449321206, 4.778011814083101, 4.774104925371244, 4.630748610194822, 4.39192514730914, 4.385174413068955, 4.346856518698804, 4.3264506645883465, 4.238703636011761, 46.682737282753806, 24.69504090415927, 22.787768733045052, 22.51783587838038, 21.45657087849911, 18.702177559400997, 12.60936897677237, 10.438772189056527, 9.004046483420975, 8.371941753980105, 8.317250730908583, 7.625551153847645, 7.357231820338552, 6.196344432245821, 6.101493529308317, 6.089222697284445, 5.984825915243542, 5.6972104975048, 4.890740411694502, 4.781056239350404, 4.712701186177458, 4.447701241616189, 4.220729932888906, 3.869653470151001, 3.79665163602054, 3.6761011003826294, 3.6223735363156786, 3.53352480119193, 3.301319546868497, 3.213267028808903, 31.007951718204364, 18.737093351923857, 16.826780703963436, 16.150460555582924, 11.496544226726119, 9.461029860621368, 9.267811623480002, 9.151345201785999, 8.955406191947587, 8.749411726728708, 8.019840970522113, 7.4462294667496165, 7.334036945905766, 6.949511798701545, 6.433293277437365, 6.352994453099794, 5.002770599870677, 4.999238982340544, 4.901284169174138, 4.517096932284309, 4.482744116202274, 4.301108227321628, 4.235603998053336, 4.182971843059393, 3.95867914953215, 3.8025803254464536, 3.7772262079542234, 3.7061135769564726, 3.3699568282015435, 3.3172428191562884, 37.40613411170113, 22.40644282354498, 16.636006091351458, 11.08277494415606, 6.83133466921553, 6.3331245191079635, 6.14623532943659, 6.128552843909462, 6.056166296869046, 5.990072091937257, 4.908542400663276, 4.373932557760111, 4.070124733875235, 3.954839404484652, 3.544332833626648, 2.7874091029579167, 2.7711708960174204, 2.669058660638649, 2.6312893480563413, 2.5796800989064312, 2.5410368681518443, 2.5299552050495087, 2.449774935638286, 2.3733385999365813, 2.3063373316070543, 2.2691695556412648, 2.236903170911703, 2.182695467353942, 2.0762766498592042, 1.9729580595419054, 2.7747151379478048, 36.57144601336155, 20.217783735894482, 19.908140594372668, 12.370973520019838, 7.606765803791364, 6.670233233010215, 6.5105535379329655, 5.373560082275613, 4.7054538020957395, 4.474293568074139, 4.309945843555638, 4.123918220245077, 4.110200896203885, 4.04868055016879, 3.791899030439828, 3.7723731077068323, 3.751787714219484, 3.476844348463605, 3.230787293872084, 3.152212907268158, 2.5530491074955712, 2.529659003615655, 2.50287200812392, 2.465911368480933, 2.44989555086045, 2.309077419635328, 2.193205023644224, 2.1432608391536587, 2.0545301634766666, 1.8624066906007641, 32.819992828084914, 18.570179521653422, 9.518738408861116, 7.972693306697331, 7.411232048059291, 7.250317188400933, 6.527130536178015, 6.449902080061398, 6.358286646749045, 6.117866000002277, 6.027861227385297, 5.846189597853375, 5.535001503343838, 5.124038457818303, 4.2416822874963245, 4.0929857370316665, 3.932186886572007, 3.910695187711442, 3.8075914767064285, 3.7866920675542532, 3.7282843438923043, 3.2540724098325207, 3.1293536445393033, 2.835397354383012, 2.7610571906118055, 2.7453191194766196, 2.6286689623038995, 2.5938723245520725, 2.4336024025761844, 2.3995677830305784, 19.275532206265062, 10.918435642835364, 9.73361113236336, 9.341896299665542, 9.152222085022002, 8.845576101573162, 8.335234443069876, 7.623905111734762, 6.691032863917958, 6.6538267983553006, 6.137155462300423, 5.144704764342738, 4.716483528372321, 4.596183035930489, 4.057674792571289, 3.97317683893608, 3.7342591256623034, 3.3293029364968953, 3.2128345283352786, 2.9406361821154863, 2.9191144380048852, 2.85850555429825, 2.8498955960012347, 2.7725686555671407, 2.7691663938520747, 2.6784318108462752, 2.5957831147696475, 2.554713448607402, 2.524204150678166, 2.514737698882788, 20.536208454547893, 11.941718525750076, 7.7474090336380605, 6.7738095333006605, 5.795186430190749, 5.073913194977163, 5.04135346958076, 4.735070880323867, 4.414981633987149, 3.5768815265252054, 3.555404939458001, 3.5399199258344836, 3.4557456325690152, 3.1325220183294182, 2.7918959079694585, 2.5060679569694613, 2.4959583829009855, 2.41109272196746, 2.380170240231578, 2.2348308843038307, 2.1781061528640087, 2.117193920449272, 1.93882399872497, 1.9362348659632218, 1.858050607904315, 1.849430466892571, 1.8222533128778826, 1.7254686914970394, 1.724888636260975, 1.723866547610928, 22.380205049796206, 15.978211508033962, 11.145899434378846, 9.869104544871279, 9.494302441788271, 8.257687832731435, 7.689604938480917, 4.538747414875711, 4.039973771590834, 4.0271316207363, 4.025910324184174, 3.8001284300067533, 3.422965135679436, 3.1507309880407424, 3.068707196397045, 2.3577226653867105, 1.9790109894759846, 1.901095439555804, 1.7919703359381496, 1.7140874273578461, 1.6009553641988468, 1.4857468819788313, 1.2947762379850414, 1.2607080820080048, 1.1689477682256937, 1.0162726695393347, 1.0076988104349185, 0.9668218455838805, 0.9639927279714086, 0.9208277798194074, 18.434774492202738, 16.1309614872566, 10.543295138103678, 9.417864913437649, 4.798958672040513, 4.544576053589439, 3.843675594845476, 3.7152433174536363, 3.6268145579593107, 3.5988182527049593, 3.4779639146523222, 2.954937321482956, 2.374573559450937, 2.357978252833467, 2.256757690728825, 2.228145922344295, 2.2193291289242523, 2.002213873261259, 1.9986434471763115, 1.9887183444527181, 1.9777801984017138, 1.9609755973234875, 1.8721672273583583, 1.8502645091880727, 1.8182622762435634, 1.816258783877119, 1.7188452932988483, 1.6131082518649307, 1.561443570688345, 1.484726976784866], \"Total\": [445.0, 251.0, 121.0, 151.0, 103.0, 89.0, 77.0, 67.0, 83.0, 65.0, 57.0, 77.0, 75.0, 57.0, 47.0, 68.0, 52.0, 62.0, 61.0, 43.0, 38.0, 48.0, 37.0, 42.0, 58.0, 46.0, 45.0, 33.0, 51.0, 32.0, 445.3573032919477, 251.14765328568976, 151.07222004323646, 83.11522603549729, 77.27560688670538, 75.65886532476237, 68.75713042933828, 62.34757588238265, 61.75013056084058, 58.32631463190433, 51.9370536597218, 43.460597196370486, 37.62913591961649, 35.791260260381705, 34.86634424394673, 33.805920517287696, 32.49136516404467, 22.93381746034073, 21.988911639912825, 21.310301517839516, 18.919590830411092, 16.589580587695323, 16.318897092456503, 15.837319458118714, 14.268172861589665, 13.981126516866453, 13.900435555683426, 13.170999433865608, 12.768482811513717, 11.76005099453887, 103.05408316141701, 65.38854090893894, 48.85482854491434, 46.20177384581951, 45.31330810028576, 37.513592070880044, 30.27288596510872, 24.84472780905178, 24.089350887631767, 23.110952085768098, 21.585508979544507, 20.700274184090816, 20.39718694299082, 17.65274641576479, 16.228237993723255, 14.048441841819338, 13.926518767330956, 13.335891851710564, 12.862776202677523, 11.865254914203277, 11.811302841060554, 11.797261187320425, 9.855577103405532, 9.456472818706358, 9.059646234078386, 9.007144816538753, 8.624115987299325, 8.425111864010749, 8.305966799591731, 8.286521659698177, 12.4032324566653, 77.49991154240924, 57.23864338182325, 52.429387085184665, 34.97500822918858, 30.44503352068028, 27.6326225081582, 26.760439943215122, 26.37180645597478, 26.0966728542907, 23.42819405023128, 23.11608583984449, 21.055581560782453, 20.255527676451653, 18.998467718547147, 15.350619878787914, 11.948707283045003, 10.626768795160404, 10.076287808640764, 9.793586657032447, 8.775712255116495, 8.696980375217624, 8.627245491825347, 8.466457346800654, 8.18683196934149, 8.153902353680023, 8.048827879516677, 7.705550856414483, 7.620507017460786, 7.538036482185676, 6.918407534536481, 121.61213544037099, 67.94882502937861, 42.29992195185342, 32.468128508566785, 28.869386381232662, 22.686920107017887, 19.580649387488574, 18.451629201059557, 16.618930285688617, 15.78071978680703, 15.229491555202008, 13.005318457313173, 12.93790445513071, 10.480959744804865, 10.327155513949572, 9.82322349402853, 9.289369541034908, 9.220501201077155, 8.57731947384688, 8.494773708472195, 7.829534019129752, 7.41006435243502, 7.373824386338847, 7.269672825417609, 6.865433422457568, 6.470087692908251, 6.275342133836955, 6.168661232790533, 5.955292381798738, 5.874797094584941, 89.59846900648715, 57.757529282771195, 23.895352143908624, 23.371223301882367, 14.093716344714986, 12.6816740473109, 12.116269143646653, 11.475736852453725, 10.392946581574517, 10.074243043110243, 9.868748158265149, 9.85254831605053, 9.200745955211115, 9.057020642974804, 8.862092421318497, 8.720750137859405, 8.228777867951834, 8.118741326955362, 7.98801269770296, 7.82150168802451, 7.444062277195002, 7.408612682237974, 6.933877929059379, 6.64249419181302, 6.336391898505685, 6.127118322590414, 5.915468967941486, 5.511536129248791, 4.896455956619066, 4.783591764112639, 43.16626643978727, 33.756876321241734, 33.400132841109496, 28.39078593584275, 27.340692777300443, 22.148709029414356, 17.071383141119675, 13.897595408171721, 12.346049673169809, 9.611915596881724, 8.819744136933544, 8.711565206371954, 8.541193347889969, 7.971623148521965, 7.592849067570882, 6.926085036670573, 6.4449058547027995, 6.365259194048758, 6.24920815060038, 6.1242119075029064, 5.804021329211802, 5.801179632703002, 5.774436584976828, 5.770529775544196, 5.627173453479314, 5.388349993405595, 5.3815991950126785, 5.34328141961204, 5.3228754377510885, 5.235128351918365, 47.69094965888264, 25.703254497420346, 23.795981131206023, 23.526048206621482, 22.464783424742368, 19.710390146944068, 13.61758147151002, 11.446984819851043, 10.01225918476764, 9.38015411251083, 9.325463468768076, 8.633763803258796, 8.365444635760971, 7.20455699157446, 7.109705942172272, 7.097435130649198, 6.993038348460622, 6.705422884627674, 5.898953795787016, 5.78926863554804, 5.720913755600659, 5.4559138528044535, 5.228942605701504, 4.877865954727463, 4.804864075003465, 4.68431453806143, 4.630586438881996, 4.54173736762371, 4.309531875109601, 4.221479357050006, 32.01831492524994, 19.747456621934887, 17.837144021978027, 17.1608241122437, 12.506907607591842, 10.471393218291762, 10.278175315541448, 10.161709143366776, 9.96576963098496, 9.759775011295494, 9.030204437716273, 8.456592933272956, 8.34440028003053, 7.959875517369533, 7.4436564782252725, 7.363357913814826, 6.013133832443281, 6.009603303409625, 5.911648506493349, 5.527460432313858, 5.493107455212868, 5.311471799722081, 5.245967169689764, 5.193334983125041, 4.969042353861345, 4.812943707076277, 4.787589501792154, 4.716476915561913, 4.3803200482122335, 4.327606117075837, 38.420132270952635, 23.420441034823146, 17.650004238450915, 12.096773574972174, 7.8453330151244485, 7.3471236087057346, 7.160233885624308, 7.1425509107478335, 7.070164678649413, 7.0040708286115345, 5.9225406143185255, 5.387930864357406, 5.0841228209620075, 4.968837510066, 4.558330968438382, 3.801407537346549, 3.78516893895794, 3.683056685821684, 3.6452874183923836, 3.5936783693691585, 3.555035416136539, 3.5439543618194733, 3.463775076715768, 3.3873368733750278, 3.320335439034066, 3.283168623797986, 3.2509011995712602, 3.196695249073583, 3.0902748416666044, 2.9869561078546463, 5.115772008662043, 37.58603198668861, 21.232369772937478, 20.922726436881604, 13.385559766775971, 8.621351761863439, 7.684819762939457, 7.525139415516749, 6.38814609333168, 5.720039726899749, 5.488879807216079, 5.32453216796986, 5.138504483814751, 5.124786819468331, 5.0632665957392815, 4.806484944801744, 4.786959119119367, 4.766373736102391, 4.491430823586713, 4.245373239840535, 4.1667989485181876, 3.5676350442270914, 3.5442448673699887, 3.5174589891144734, 3.480497480004105, 3.464481470314004, 3.323663388548798, 3.207791356265976, 3.1578468216210993, 3.0691162603201834, 2.876993041537076, 33.83789876703281, 19.58808541552588, 10.53664459109649, 8.990599144350385, 8.42913792214768, 8.268223165047907, 7.545036392493324, 7.467808076949979, 7.3761925941898605, 7.135771864280263, 7.0457672033094525, 6.864095491136449, 6.552907711287556, 6.141944456678081, 5.259588520162435, 5.11089148147019, 4.95009276950268, 4.928601223031303, 4.825497557166318, 4.8045981040524754, 4.74619027927236, 4.271978675846817, 4.147259457005388, 3.8533033878047376, 3.778963159703345, 3.763224892818656, 3.646575057388073, 3.6117780781551168, 3.4515081470147084, 3.417473697909058, 20.294431491001394, 11.937334136191076, 10.752509631582685, 10.360794617313106, 10.171120699271361, 9.864474493668439, 9.354133194725511, 8.642803361975302, 7.709931378949083, 7.672724951428357, 7.156053982598549, 6.163603237934144, 5.735382621852533, 5.615081220554154, 5.076573437064559, 4.992075032087574, 4.753157591599948, 4.348201332094791, 4.231733055132774, 3.9595345206053905, 3.9380129089938776, 3.877403990014116, 3.868793897664548, 3.7914671019778603, 3.7880647337449744, 3.697329878143921, 3.614681365672021, 3.573611739532028, 3.543103168283999, 3.533636119154539, 21.558569385930024, 12.964078332689208, 8.769768808593925, 7.796169421567552, 6.817546390124666, 6.09627295247198, 6.063713294779843, 5.757431509998793, 5.437341877789013, 4.599241465770993, 4.577765542751246, 4.562280217799077, 4.478105813610881, 4.154882041965539, 3.8142558904762507, 3.528427658422869, 3.518318260873879, 3.4334526501101745, 3.402530045402341, 3.2571905857572383, 3.2004661168919593, 3.139554502836845, 2.9611837343777925, 2.9585946120179862, 2.8804107029444626, 2.871790412095497, 2.844614377424155, 2.7478284910040935, 2.7472484018030547, 2.7462265081052797, 23.404538236903825, 17.002543922093032, 12.170231851261885, 10.89343716888274, 10.518635031080194, 9.282020330289214, 8.713937389599222, 5.563079867030949, 5.064306502180027, 5.051464101420554, 5.050242790344024, 4.824461176015272, 4.447298043215543, 4.175063374595913, 4.093039674477965, 3.3820550889409624, 3.003343344574318, 2.925431456231042, 2.8163027208069304, 2.7384201821287664, 2.62528766818557, 2.5100809037748286, 2.3191090102132343, 2.2850407644361415, 2.1932801801456168, 2.040604973526058, 2.0320312985163076, 1.9911543415395292, 1.9883257920647235, 1.9451601548599953, 19.459891845322858, 17.156078655101318, 11.56841251707782, 10.4429825802406, 5.824075844255225, 5.569693303945876, 4.868793867636267, 4.740360485298357, 4.651931877573928, 4.623935582427281, 4.503081173184767, 3.9800546202206326, 3.3996907344326197, 3.3830956663038734, 3.2818752755498988, 3.2532636611824444, 3.244446546461174, 3.0273314865841563, 3.023761684062383, 3.0138363314692853, 3.0028977070944816, 2.9860927908369086, 2.897284665802594, 2.875382232773151, 2.843379514359091, 2.841376325780261, 2.7439627228762165, 2.6382254579694244, 2.586560864464161, 2.50984440765152], \"Category\": [\"Default\", \"Default\", \"Default\", \"Default\", \"Default\", \"Default\", \"Default\", \"Default\", \"Default\", \"Default\", \"Default\", \"Default\", \"Default\", \"Default\", \"Default\", \"Default\", \"Default\", \"Default\", \"Default\", \"Default\", \"Default\", \"Default\", \"Default\", \"Default\", \"Default\", \"Default\", \"Default\", \"Default\", \"Default\", \"Default\", \"Topic1\", \"Topic1\", \"Topic1\", \"Topic1\", \"Topic1\", \"Topic1\", \"Topic1\", \"Topic1\", \"Topic1\", \"Topic1\", \"Topic1\", \"Topic1\", \"Topic1\", \"Topic1\", \"Topic1\", \"Topic1\", \"Topic1\", \"Topic1\", \"Topic1\", \"Topic1\", \"Topic1\", \"Topic1\", \"Topic1\", \"Topic1\", \"Topic1\", \"Topic1\", \"Topic1\", \"Topic1\", \"Topic1\", \"Topic1\", \"Topic2\", \"Topic2\", \"Topic2\", \"Topic2\", \"Topic2\", \"Topic2\", \"Topic2\", \"Topic2\", \"Topic2\", \"Topic2\", \"Topic2\", \"Topic2\", \"Topic2\", \"Topic2\", \"Topic2\", \"Topic2\", \"Topic2\", \"Topic2\", \"Topic2\", \"Topic2\", \"Topic2\", \"Topic2\", \"Topic2\", \"Topic2\", \"Topic2\", \"Topic2\", \"Topic2\", \"Topic2\", \"Topic2\", \"Topic2\", \"Topic2\", \"Topic3\", \"Topic3\", \"Topic3\", \"Topic3\", \"Topic3\", \"Topic3\", \"Topic3\", \"Topic3\", \"Topic3\", \"Topic3\", \"Topic3\", \"Topic3\", \"Topic3\", \"Topic3\", \"Topic3\", \"Topic3\", \"Topic3\", \"Topic3\", \"Topic3\", \"Topic3\", \"Topic3\", \"Topic3\", \"Topic3\", \"Topic3\", \"Topic3\", \"Topic3\", \"Topic3\", \"Topic3\", \"Topic3\", \"Topic3\", \"Topic4\", \"Topic4\", \"Topic4\", \"Topic4\", \"Topic4\", \"Topic4\", \"Topic4\", \"Topic4\", \"Topic4\", \"Topic4\", \"Topic4\", \"Topic4\", \"Topic4\", \"Topic4\", \"Topic4\", \"Topic4\", \"Topic4\", \"Topic4\", \"Topic4\", \"Topic4\", \"Topic4\", \"Topic4\", \"Topic4\", \"Topic4\", \"Topic4\", \"Topic4\", \"Topic4\", \"Topic4\", \"Topic4\", \"Topic4\", \"Topic5\", \"Topic5\", \"Topic5\", \"Topic5\", \"Topic5\", \"Topic5\", \"Topic5\", \"Topic5\", \"Topic5\", \"Topic5\", \"Topic5\", \"Topic5\", \"Topic5\", \"Topic5\", \"Topic5\", \"Topic5\", \"Topic5\", \"Topic5\", \"Topic5\", \"Topic5\", \"Topic5\", \"Topic5\", \"Topic5\", \"Topic5\", \"Topic5\", \"Topic5\", \"Topic5\", \"Topic5\", \"Topic5\", \"Topic5\", \"Topic6\", \"Topic6\", \"Topic6\", \"Topic6\", \"Topic6\", \"Topic6\", \"Topic6\", \"Topic6\", \"Topic6\", \"Topic6\", \"Topic6\", \"Topic6\", \"Topic6\", \"Topic6\", \"Topic6\", \"Topic6\", \"Topic6\", \"Topic6\", \"Topic6\", \"Topic6\", \"Topic6\", \"Topic6\", \"Topic6\", \"Topic6\", \"Topic6\", \"Topic6\", \"Topic6\", \"Topic6\", \"Topic6\", \"Topic6\", \"Topic7\", \"Topic7\", \"Topic7\", \"Topic7\", \"Topic7\", \"Topic7\", \"Topic7\", \"Topic7\", \"Topic7\", \"Topic7\", \"Topic7\", \"Topic7\", \"Topic7\", \"Topic7\", \"Topic7\", \"Topic7\", \"Topic7\", \"Topic7\", \"Topic7\", \"Topic7\", \"Topic7\", \"Topic7\", \"Topic7\", \"Topic7\", \"Topic7\", \"Topic7\", \"Topic7\", \"Topic7\", \"Topic7\", \"Topic7\", \"Topic8\", \"Topic8\", \"Topic8\", \"Topic8\", \"Topic8\", \"Topic8\", \"Topic8\", \"Topic8\", \"Topic8\", \"Topic8\", \"Topic8\", \"Topic8\", \"Topic8\", \"Topic8\", \"Topic8\", \"Topic8\", \"Topic8\", \"Topic8\", \"Topic8\", \"Topic8\", \"Topic8\", \"Topic8\", \"Topic8\", \"Topic8\", \"Topic8\", \"Topic8\", \"Topic8\", \"Topic8\", \"Topic8\", \"Topic8\", \"Topic9\", \"Topic9\", \"Topic9\", \"Topic9\", \"Topic9\", \"Topic9\", \"Topic9\", \"Topic9\", \"Topic9\", \"Topic9\", \"Topic9\", \"Topic9\", \"Topic9\", \"Topic9\", \"Topic9\", \"Topic9\", \"Topic9\", \"Topic9\", \"Topic9\", \"Topic9\", \"Topic9\", \"Topic9\", \"Topic9\", \"Topic9\", \"Topic9\", \"Topic9\", \"Topic9\", \"Topic9\", \"Topic9\", \"Topic9\", \"Topic9\", \"Topic10\", \"Topic10\", \"Topic10\", \"Topic10\", \"Topic10\", \"Topic10\", \"Topic10\", \"Topic10\", \"Topic10\", \"Topic10\", \"Topic10\", \"Topic10\", \"Topic10\", \"Topic10\", \"Topic10\", \"Topic10\", \"Topic10\", \"Topic10\", \"Topic10\", \"Topic10\", \"Topic10\", \"Topic10\", \"Topic10\", \"Topic10\", \"Topic10\", \"Topic10\", \"Topic10\", \"Topic10\", \"Topic10\", \"Topic10\", \"Topic11\", \"Topic11\", \"Topic11\", \"Topic11\", \"Topic11\", \"Topic11\", \"Topic11\", \"Topic11\", \"Topic11\", \"Topic11\", \"Topic11\", \"Topic11\", \"Topic11\", \"Topic11\", \"Topic11\", \"Topic11\", \"Topic11\", \"Topic11\", \"Topic11\", \"Topic11\", \"Topic11\", \"Topic11\", \"Topic11\", \"Topic11\", \"Topic11\", \"Topic11\", \"Topic11\", \"Topic11\", \"Topic11\", \"Topic11\", \"Topic12\", \"Topic12\", \"Topic12\", \"Topic12\", \"Topic12\", \"Topic12\", \"Topic12\", \"Topic12\", \"Topic12\", \"Topic12\", \"Topic12\", \"Topic12\", \"Topic12\", \"Topic12\", \"Topic12\", \"Topic12\", \"Topic12\", \"Topic12\", \"Topic12\", \"Topic12\", \"Topic12\", \"Topic12\", \"Topic12\", \"Topic12\", \"Topic12\", \"Topic12\", \"Topic12\", \"Topic12\", \"Topic12\", \"Topic12\", \"Topic13\", \"Topic13\", \"Topic13\", \"Topic13\", \"Topic13\", \"Topic13\", \"Topic13\", \"Topic13\", \"Topic13\", \"Topic13\", \"Topic13\", \"Topic13\", \"Topic13\", \"Topic13\", \"Topic13\", \"Topic13\", \"Topic13\", \"Topic13\", \"Topic13\", \"Topic13\", \"Topic13\", \"Topic13\", \"Topic13\", \"Topic13\", \"Topic13\", \"Topic13\", \"Topic13\", \"Topic13\", \"Topic13\", \"Topic13\", \"Topic14\", \"Topic14\", \"Topic14\", \"Topic14\", \"Topic14\", \"Topic14\", \"Topic14\", \"Topic14\", \"Topic14\", \"Topic14\", \"Topic14\", \"Topic14\", \"Topic14\", \"Topic14\", \"Topic14\", \"Topic14\", \"Topic14\", \"Topic14\", \"Topic14\", \"Topic14\", \"Topic14\", \"Topic14\", \"Topic14\", \"Topic14\", \"Topic14\", \"Topic14\", \"Topic14\", \"Topic14\", \"Topic14\", \"Topic14\", \"Topic15\", \"Topic15\", \"Topic15\", \"Topic15\", \"Topic15\", \"Topic15\", \"Topic15\", \"Topic15\", \"Topic15\", \"Topic15\", \"Topic15\", \"Topic15\", \"Topic15\", \"Topic15\", \"Topic15\", \"Topic15\", \"Topic15\", \"Topic15\", \"Topic15\", \"Topic15\", \"Topic15\", \"Topic15\", \"Topic15\", \"Topic15\", \"Topic15\", \"Topic15\", \"Topic15\", \"Topic15\", \"Topic15\", \"Topic15\"], \"logprob\": [30.0, 29.0, 28.0, 27.0, 26.0, 25.0, 24.0, 23.0, 22.0, 21.0, 20.0, 19.0, 18.0, 17.0, 16.0, 15.0, 14.0, 13.0, 12.0, 11.0, 10.0, 9.0, 8.0, 7.0, 6.0, 5.0, 4.0, 3.0, 2.0, 1.0, -4.1989, -4.7734, -5.2841, -5.8867, -5.9604, -5.9818, -6.0787, -6.178, -6.1878, -6.2457, -6.3637, -6.5454, -6.6929, -6.7443, -6.7712, -6.8029, -6.8437, -7.2044, -7.2483, -7.281, -7.4058, -7.5445, -7.5619, -7.5937, -7.7049, -7.7266, -7.7328, -7.7907, -7.8241, -7.9132, -5.2853, -5.7457, -6.0423, -6.0993, -6.1192, -6.3126, -6.5334, -6.7383, -6.7705, -6.8137, -6.8851, -6.929, -6.9445, -7.0968, -7.186, -7.3402, -7.3495, -7.3962, -7.4352, -7.5228, -7.5278, -7.5291, -7.7267, -7.7727, -7.8206, -7.8271, -7.8759, -7.9023, -7.9184, -7.921, -7.8103, -5.5004, -5.808, -5.8974, -6.3117, -6.4547, -6.555, -6.5883, -6.6035, -6.6144, -6.7267, -6.7407, -6.8384, -6.8791, -6.9465, -7.1727, -7.4427, -7.5711, -7.6299, -7.6614, -7.7841, -7.7943, -7.8034, -7.8246, -7.8626, -7.8672, -7.882, -7.9317, -7.9445, -7.957, -8.0562, -4.8684, -5.457, -5.94, -6.2119, -6.3333, -6.584, -6.7385, -6.8012, -6.9121, -6.9672, -7.0052, -7.1751, -7.1807, -7.411, -7.4274, -7.4829, -7.5452, -7.5535, -7.6349, -7.6459, -7.7387, -7.8021, -7.8077, -7.8242, -7.8908, -7.9604, -7.9966, -8.017, -8.0591, -8.0755, -5.1563, -5.6016, -6.5093, -6.5325, -7.0679, -7.182, -7.2315, -7.2909, -7.3999, -7.4344, -7.4573, -7.4591, -7.5355, -7.5532, -7.5777, -7.5958, -7.6616, -7.6769, -7.6954, -7.7195, -7.7764, -7.7819, -7.8588, -7.9091, -7.9648, -8.0047, -8.0469, -8.1325, -8.2788, -8.3082, -5.8627, -6.1152, -6.1261, -6.2941, -6.3331, -6.5526, -6.8271, -7.0471, -7.1752, -7.4508, -7.5473, -7.5612, -7.5835, -7.662, -7.7179, -7.8244, -7.9091, -7.9238, -7.9456, -7.9697, -8.0342, -8.0348, -8.0404, -8.0412, -8.0717, -8.1246, -8.1262, -8.1349, -8.1396, -8.1601, -5.5895, -6.2263, -6.3066, -6.3185, -6.3668, -6.5042, -6.8984, -7.0873, -7.2352, -7.308, -7.3145, -7.4014, -7.4372, -7.6089, -7.6243, -7.6263, -7.6436, -7.6929, -7.8455, -7.8682, -7.8826, -7.9405, -7.9928, -8.0797, -8.0987, -8.131, -8.1457, -8.1706, -8.2385, -8.2656, -5.96, -6.4638, -6.5713, -6.6123, -6.9522, -7.1471, -7.1677, -7.1804, -7.202, -7.2253, -7.3123, -7.3865, -7.4017, -7.4556, -7.5328, -7.5453, -7.7843, -7.785, -7.8048, -7.8864, -7.894, -7.9354, -7.9507, -7.9632, -8.0183, -8.0586, -8.0653, -8.0843, -8.1794, -8.1951, -5.7086, -6.2211, -6.5188, -6.925, -7.4089, -7.4846, -7.5146, -7.5175, -7.5293, -7.5403, -7.7394, -7.8548, -7.9267, -7.9555, -8.0651, -8.3053, -8.3111, -8.3487, -8.3629, -8.3828, -8.3978, -8.4022, -8.4344, -8.4661, -8.4948, -8.511, -8.5253, -8.5499, -8.5998, -8.6509, -8.3099, -5.7196, -6.3123, -6.3277, -6.8035, -7.2898, -7.4212, -7.4454, -7.6374, -7.7701, -7.8205, -7.8579, -7.902, -7.9054, -7.9205, -7.986, -7.9911, -7.9966, -8.0727, -8.1461, -8.1707, -8.3816, -8.3908, -8.4014, -8.4163, -8.4228, -8.482, -8.5335, -8.5565, -8.5988, -8.697, -5.7697, -6.3392, -7.0075, -7.1848, -7.2578, -7.2797, -7.3848, -7.3967, -7.411, -7.4496, -7.4644, -7.495, -7.5497, -7.6268, -7.8158, -7.8515, -7.8916, -7.8971, -7.9238, -7.9293, -7.9448, -8.0809, -8.1199, -8.2186, -8.2452, -8.2509, -8.2943, -8.3076, -8.3714, -8.3855, -6.2823, -6.8507, -6.9656, -7.0067, -7.0272, -7.0613, -7.1207, -7.2099, -7.3404, -7.346, -7.4268, -7.6032, -7.6901, -7.716, -7.8406, -7.8616, -7.9236, -8.0384, -8.074, -8.1626, -8.1699, -8.1909, -8.1939, -8.2214, -8.2226, -8.256, -8.2873, -8.3032, -8.3153, -8.319, -6.1483, -6.6905, -7.1232, -7.2575, -7.4135, -7.5464, -7.5529, -7.6155, -7.6855, -7.896, -7.9021, -7.9064, -7.9305, -8.0287, -8.1438, -8.2518, -8.2559, -8.2904, -8.3034, -8.3664, -8.3921, -8.4204, -8.5084, -8.5098, -8.551, -8.5557, -8.5705, -8.625, -8.6254, -8.626, -6.0221, -6.3591, -6.7192, -6.8409, -6.8796, -7.0192, -7.0904, -7.6177, -7.7341, -7.7373, -7.7376, -7.7953, -7.8998, -7.9827, -8.009, -8.2726, -8.4477, -8.4879, -8.547, -8.5914, -8.6597, -8.7344, -8.872, -8.8986, -8.9742, -9.1142, -9.1226, -9.164, -9.167, -9.2128, -6.1996, -6.3331, -6.7583, -6.8712, -7.5454, -7.5999, -7.7674, -7.8014, -7.8255, -7.8332, -7.8674, -8.0303, -8.249, -8.256, -8.2999, -8.3127, -8.3166, -8.4196, -8.4214, -8.4263, -8.4318, -8.4404, -8.4867, -8.4985, -8.5159, -8.517, -8.5722, -8.6357, -8.6682, -8.7186], \"loglift\": [30.0, 29.0, 28.0, 27.0, 26.0, 25.0, 24.0, 23.0, 22.0, 21.0, 20.0, 19.0, 18.0, 17.0, 16.0, 15.0, 14.0, 13.0, 12.0, 11.0, 10.0, 9.0, 8.0, 7.0, 6.0, 5.0, 4.0, 3.0, 2.0, 1.0, 1.9574, 1.9558, 1.9533, 1.9483, 1.9474, 1.9472, 1.9459, 1.9445, 1.9444, 1.9435, 1.9415, 1.9379, 1.9345, 1.9332, 1.9325, 1.9317, 1.9305, 1.9182, 1.9164, 1.915, 1.9092, 1.902, 1.901, 1.8992, 1.8923, 1.8909, 1.8905, 1.8865, 1.8841, 1.8774, 2.3347, 2.3292, 2.324, 2.3229, 2.3225, 2.3179, 2.3115, 2.3043, 2.303, 2.3012, 2.2981, 2.2961, 2.2954, 2.2876, 2.2825, 2.2725, 2.2719, 2.2686, 2.2657, 2.2588, 2.2584, 2.2583, 2.2405, 2.2358, 2.2308, 2.2301, 2.2247, 2.2217, 2.2199, 2.2196, 1.927, 2.4045, 2.4, 2.3984, 2.3889, 2.3846, 2.3812, 2.38, 2.3794, 2.379, 2.3746, 2.374, 2.3697, 2.3677, 2.3644, 2.3514, 2.3318, 2.3207, 2.3152, 2.312, 2.2991, 2.298, 2.2969, 2.2945, 2.29, 2.2895, 2.2877, 2.2815, 2.2799, 2.2783, 2.2649, 2.586, 2.5794, 2.5704, 2.5631, 2.5592, 2.5494, 2.5421, 2.5389, 2.5326, 2.5292, 2.5268, 2.5148, 2.5143, 2.4946, 2.4931, 2.4876, 2.4811, 2.4802, 2.4712, 2.4699, 2.4586, 2.4503, 2.4496, 2.4473, 2.438, 2.4276, 2.4219, 2.4187, 2.4118, 2.409, 2.6035, 2.5973, 2.5722, 2.5713, 2.5416, 2.5331, 2.5291, 2.5241, 2.5142, 2.5109, 2.5086, 2.5084, 2.5004, 2.4985, 2.4958, 2.4937, 2.486, 2.4841, 2.4819, 2.4788, 2.4714, 2.4707, 2.46, 2.4527, 2.4441, 2.4377, 2.4308, 2.4159, 2.3879, 2.3818, 2.6275, 2.6209, 2.6205, 2.6151, 2.6137, 2.6048, 2.5907, 2.5764, 2.5667, 2.5414, 2.5309, 2.5294, 2.5268, 2.5173, 2.5101, 2.4955, 2.4829, 2.4806, 2.4771, 2.4732, 2.4625, 2.4624, 2.4614, 2.4613, 2.4559, 2.4464, 2.4461, 2.4444, 2.4436, 2.4397, 2.801, 2.7823, 2.7791, 2.7786, 2.7764, 2.7699, 2.7454, 2.7302, 2.7162, 2.7087, 2.7079, 2.6982, 2.6939, 2.6716, 2.6694, 2.6692, 2.6667, 2.6594, 2.6349, 2.631, 2.6285, 2.6181, 2.6082, 2.5908, 2.5869, 2.58, 2.5768, 2.5714, 2.5559, 2.5495, 2.8289, 2.8084, 2.8027, 2.8003, 2.7767, 2.7595, 2.7575, 2.7562, 2.7541, 2.7517, 2.7423, 2.7337, 2.7319, 2.7252, 2.7151, 2.7134, 2.677, 2.6769, 2.6735, 2.6591, 2.6577, 2.65, 2.647, 2.6446, 2.6336, 2.6253, 2.6239, 2.6199, 2.5987, 2.5951, 2.8981, 2.8805, 2.8656, 2.8373, 2.7864, 2.7763, 2.7721, 2.7717, 2.77, 2.7684, 2.737, 2.7163, 2.7024, 2.6966, 2.6732, 2.6145, 2.613, 2.6028, 2.5988, 2.5933, 2.589, 2.5878, 2.5784, 2.5691, 2.5604, 2.5554, 2.551, 2.5432, 2.5271, 2.5101, 2.313, 2.909, 2.8874, 2.8867, 2.8576, 2.8112, 2.7948, 2.7916, 2.7634, 2.7411, 2.732, 2.725, 2.7164, 2.7158, 2.7128, 2.6993, 2.6982, 2.697, 2.6803, 2.6633, 2.6573, 2.6018, 2.5991, 2.5961, 2.5918, 2.5899, 2.5722, 2.5562, 2.5488, 2.535, 2.5015, 2.9639, 2.9411, 2.8928, 2.8743, 2.8657, 2.8631, 2.8495, 2.8479, 2.8459, 2.8405, 2.8384, 2.8339, 2.8256, 2.8132, 2.7794, 2.7723, 2.7642, 2.7631, 2.7575, 2.7564, 2.7531, 2.7223, 2.7128, 2.6877, 2.6806, 2.6791, 2.6671, 2.6634, 2.645, 2.6408, 2.9625, 2.9248, 2.9145, 2.9105, 2.9085, 2.905, 2.8987, 2.8886, 2.8723, 2.8716, 2.8604, 2.8333, 2.8184, 2.8138, 2.79, 2.7857, 2.7728, 2.747, 2.7386, 2.7165, 2.7146, 2.7092, 2.7084, 2.7011, 2.7007, 2.6917, 2.6829, 2.6784, 2.675, 2.6739, 3.0361, 3.0025, 2.9607, 2.9441, 2.9222, 2.9011, 2.9, 2.8892, 2.8764, 2.8333, 2.8319, 2.831, 2.8255, 2.8022, 2.7727, 2.7426, 2.7414, 2.7312, 2.7273, 2.708, 2.6998, 2.6907, 2.6612, 2.6607, 2.6463, 2.6446, 2.6393, 2.6194, 2.6193, 2.619, 3.0802, 3.0628, 3.037, 3.0262, 3.0225, 3.008, 2.9999, 2.9214, 2.8989, 2.8983, 2.8982, 2.8862, 2.8631, 2.8434, 2.8369, 2.7641, 2.7078, 2.6939, 2.6728, 2.6564, 2.6303, 2.6005, 2.5421, 2.5302, 2.4956, 2.4278, 2.4235, 2.4025, 2.4009, 2.3771, 3.0873, 3.0798, 3.0486, 3.0381, 2.9478, 2.938, 2.905, 2.8977, 2.8925, 2.8908, 2.8831, 2.8436, 2.7825, 2.7804, 2.7669, 2.7629, 2.7617, 2.728, 2.7274, 2.7257, 2.7238, 2.7209, 2.7047, 2.7005, 2.6943, 2.6939, 2.6736, 2.6495, 2.6367, 2.6164]}, \"token.table\": {\"Topic\": [14, 2, 10, 2, 5, 5, 12, 14, 13, 11, 14, 4, 12, 5, 1, 11, 9, 9, 1, 7, 13, 2, 13, 13, 15, 13, 1, 7, 13, 3, 4, 10, 8, 2, 12, 11, 15, 9, 9, 3, 7, 14, 1, 2, 2, 6, 3, 3, 15, 5, 11, 4, 7, 1, 13, 6, 6, 8, 11, 15, 10, 11, 2, 6, 8, 4, 11, 1, 12, 4, 3, 10, 13, 12, 4, 2, 15, 12, 3, 10, 15, 4, 15, 3, 6, 1, 11, 2, 8, 6, 7, 15, 4, 14, 13, 5, 2, 11, 1, 3, 13, 5, 10, 14, 4, 11, 1, 15, 13, 13, 3, 1, 13, 7, 9, 13, 11, 10, 8, 13, 4, 6, 7, 12, 9, 12, 12, 6, 5, 12, 12, 5, 2, 12, 11, 8, 4, 11, 15, 5, 14, 4, 6, 11, 7, 6, 10, 8, 7, 14, 11, 14, 15, 4, 14, 1, 1, 5, 4, 5, 9, 5, 8, 4, 5, 15, 8, 7, 2, 2, 2, 2, 1, 6, 14, 2, 5, 8, 1, 2, 3, 12, 5, 10, 14, 6, 6, 7, 15, 6, 7, 7, 14, 6, 10, 3, 12, 4, 9, 11, 9, 9, 10, 11, 9, 4, 1, 14, 15, 15, 4, 12, 2, 14, 1, 1, 12, 11, 12, 6, 5, 13, 13, 1, 1, 5, 15, 7, 3, 3, 8, 13, 3, 12, 2, 7, 6, 4, 8, 3, 1, 2, 9, 14, 14, 7, 10, 7, 1, 9, 9, 4, 5, 3, 12, 11, 5, 2, 15, 12, 7, 6, 14, 8, 9, 8, 4, 9, 9, 15, 15, 15, 5, 5, 3, 8, 3, 13, 9, 7, 6, 10, 10, 11, 6, 6, 2, 13, 11, 12, 6, 11, 14, 9, 8, 7, 14, 13, 8, 9, 14, 12, 1, 10, 10, 3, 2, 6, 10, 15, 10, 1, 13, 9, 13, 1, 5, 4, 8, 10, 12, 11, 6, 14, 9, 11, 3, 2, 2, 4, 9, 14, 14, 8, 7, 10, 10, 8, 2, 2, 4, 7, 5, 8, 9, 13, 4, 9, 3, 7, 7, 3, 5, 12, 10, 9, 13, 5, 14, 12, 5, 3, 6, 3, 15, 7, 9, 8, 6, 10, 15, 13, 14, 15, 13, 7, 10, 14, 1, 4, 14, 12, 6, 8, 13, 7, 15, 15, 13, 11, 9, 2, 9, 8, 10, 8, 4, 3, 14, 3, 5, 1, 10, 1, 1, 12, 8, 12, 8, 1, 1, 15, 11, 7, 2, 12, 12, 13, 3, 11, 3, 11, 9, 4, 14, 8, 5, 6, 5, 8, 1, 2, 11, 3, 10, 8, 10, 4, 4, 7, 10, 7, 10, 11, 15, 5, 15, 15, 2, 3, 6, 6, 9, 13], \"Freq\": [0.7618212755260726, 0.9276313087372137, 0.835603542972362, 0.9579529362818002, 0.9933205442780075, 0.8452415230469786, 0.8299486722371882, 0.8618813270527207, 0.9256346415110541, 0.9490687394400721, 0.6836598395563454, 0.9275072359373646, 0.9256255944913236, 0.7890926066582392, 0.9550268036860079, 0.842781212853784, 0.5774046973905508, 0.8166461216047183, 0.9513947823367853, 0.8636669525574151, 0.8201732499481585, 0.9710171656993307, 0.5825040283971363, 0.8800820202252094, 0.663606042278007, 0.6140260900745038, 0.984877053901434, 0.8324897307312726, 0.7280011515112264, 0.8267920941744535, 0.8714887645337678, 0.6333429431429128, 0.8794107376082761, 0.9315009983045264, 0.8489838508662807, 0.8034486074326826, 0.8585053034520351, 0.6471916261407311, 0.8347992479156185, 0.9185740507765396, 0.8476079272855058, 0.6745668877705576, 0.24187243208425457, 0.6449931522246789, 0.9131885333117741, 0.88854556223222, 0.9721227162321328, 0.9272948135740792, 0.8598578193466748, 0.9462473136616024, 0.5794568388111289, 0.9547824720424087, 0.8328062373601656, 0.9592820749552239, 0.5877978954814798, 0.9366372676689649, 0.9354136178375189, 0.9621492207201694, 0.8898183393069116, 0.3984310728391755, 0.6017456541750621, 0.9277622579745819, 0.8881837877537561, 0.8781147665388428, 0.8277565273903741, 0.9697217558056549, 0.8140744409636503, 0.9471299761090898, 0.8394868325546905, 0.8136890283305268, 0.8672515994538023, 0.8322089938773314, 0.6754055740550805, 0.9362174056673946, 0.8739433668344022, 0.9334708994537531, 0.7732275035462293, 0.8113963586895351, 0.9579765259573928, 0.8964884703428659, 0.9508651237809248, 0.9213278575435387, 0.6662105088987936, 0.9189687409910648, 0.9729819941362291, 0.9878521623512764, 0.8226897713025015, 0.83084950241452, 0.6848814623087662, 0.8662902589605297, 0.6961312938249711, 0.7580853235869195, 0.7967693064956176, 0.5913564230635489, 0.6249089748034085, 0.8169173858477722, 0.932924573273853, 0.7605157674723318, 0.9353700936422961, 0.9525363136914033, 0.9122247318721115, 0.8098682246387235, 0.8464426449818502, 0.5022212387748987, 0.9417555163383886, 0.7938685489158104, 0.9929025995452401, 0.6614277872960632, 0.6943454271835353, 0.8978768445738229, 0.978360015041576, 0.9969523273068278, 0.6759966343059917, 0.9855119333159694, 0.9093333798326719, 0.7278474644788231, 0.8325358153528323, 0.7784366078883828, 0.859484484287966, 0.8502370716992212, 0.8586999873233042, 0.9510127708691956, 0.8367756054562948, 0.7576648175152965, 0.8229803731973038, 0.9123648711116537, 0.761805527134869, 0.7640691366304775, 0.9078702255279641, 0.8467153953783865, 0.7754354662860155, 0.8659719290731227, 0.9547787363506306, 0.6899404537357793, 0.9156240655831063, 0.8060554671688085, 0.9192690346394364, 0.8115892966361411, 0.7038842345006119, 0.8694947169440064, 0.8291081333364093, 0.8395893399426677, 0.7432734871275706, 0.8304526589376834, 0.8638214733263366, 0.9183194765216829, 0.7900038294183411, 0.8310922054041399, 0.9265947253479898, 0.7918496340249424, 0.9752378605775265, 0.7185519669603476, 0.6164379567854081, 0.9860361819506316, 0.9399886371315296, 0.9894019588757756, 0.9761603735394347, 0.9223968811373787, 0.9692689278875498, 0.8949688025660968, 0.9631725732374122, 0.8160443028438379, 0.9221524051101417, 0.7727870528679869, 0.9119697712077529, 0.8215587081204457, 0.8859157126705306, 0.8947981511733032, 0.9739885778015804, 0.978764766889773, 0.9863091737546851, 0.9659997156924369, 0.9111187624447961, 0.9372409878998589, 0.941035651683256, 0.9825026804847251, 0.8506731026562903, 0.9530673732887652, 0.9298249310824239, 0.9243147657682669, 0.9517182170209487, 0.8848582438555411, 0.8060115265801968, 0.7826996951774932, 0.6659245282804894, 0.9580800217840395, 0.8664715709795414, 0.963958595357677, 0.7288728754680762, 0.7514735309474004, 0.934796459104561, 0.8579961528912223, 0.5029356878993039, 0.9363378100115402, 0.8528884087303191, 0.9390395159281524, 0.7737135484788826, 0.9226994355722323, 0.9630367677826471, 0.8289300642292573, 0.7925670025248338, 0.8922502061423279, 0.6234819468832588, 0.8515751126693134, 0.7891813678293631, 0.8676317941442734, 0.9110925909802482, 0.7329516053084988, 0.8650639544377577, 0.8618227533031704, 0.9326923200648891, 0.8904590697098677, 0.8427676354718966, 0.9038447364385628, 0.9834927613240805, 0.9819578972295746, 0.8012700078202329, 0.8080656638687334, 0.8552369132942149, 0.8001013695662602, 0.8653166469594793, 0.8767545632981022, 0.6370330561845116, 0.9772604417015773, 0.9783860741446496, 0.9625302804279088, 0.6147672639828621, 0.7649730168463703, 0.9380155532599981, 0.9084360262411159, 0.8354935189206733, 0.8737887431421383, 0.9727369102587016, 0.8686592421165082, 0.9897715536436731, 0.8200307341622077, 0.7486036549223021, 0.8105486443998056, 0.9681958614115921, 0.8931860791314625, 0.9352224934192607, 0.9253695282633878, 0.8438734495816281, 0.7101509312986629, 0.39839353325071425, 0.977639754794287, 0.8408931863292461, 0.8578662097377586, 0.9644607900375358, 0.8566446780478121, 0.8775141664121731, 0.9703457543211212, 0.9413285610183731, 0.928623789038804, 0.9123225508946307, 0.7971886043071424, 0.9027213461185913, 0.8459813879203216, 0.9249794471147721, 0.8415458404049191, 0.9546482264268372, 0.907055791618627, 0.4900507511123295, 0.814845627528583, 0.7424000234414778, 0.7281852817577902, 0.9505269849947069, 0.8465120297033943, 0.6091676149385193, 0.6955596988825753, 0.8977154983484865, 0.6094076806940469, 0.9071881019641411, 0.9134692580333084, 0.9116069177559654, 0.845787768759933, 0.8696918488981704, 0.8697086312534933, 0.8145408164769272, 0.9665497662476218, 0.7855139669213759, 0.9279287310126947, 0.9302153240597885, 0.8134277845085185, 0.742342276373158, 0.9219200773919047, 0.9630229540270372, 0.7282720467875288, 0.7826423265886615, 0.7089294057339524, 0.816431579363606, 0.8306158172188667, 0.45593810086480047, 0.59043433669686, 0.7702179838191445, 0.8439167595399569, 0.43120008399607457, 0.7865230037372815, 0.932356155820309, 0.6152140213500695, 0.7898416097600183, 0.7879330516122566, 0.9398140857564726, 0.7805202715563841, 0.6951702597554669, 0.9198594977627297, 0.9324198070500199, 0.948136524440823, 0.5772869669349767, 0.6903015170053952, 0.5746304979360712, 0.9889883358335267, 0.7030829963712104, 0.6256461264424906, 0.9740906098205863, 0.983280617419426, 0.9868843198076833, 0.9698855261503643, 0.7530869316126836, 0.9419579733154307, 0.8384509136725719, 0.8408340560934089, 0.977578603125507, 0.9179839058112113, 0.9393503720655331, 0.969977391712834, 0.9935495211225412, 0.931311316627988, 0.8830366874489575, 0.8097095672358555, 0.837961454310351, 0.8556243251531239, 0.7303481083919194, 0.6932239022776637, 0.8453758138753406, 0.7199771424217315, 0.8392124120906477, 0.8388859312936015, 0.9270765844931385, 0.9728749050995571, 0.8940506526821435, 0.7106513490323964, 0.9032751594115198, 0.848090655718485, 0.6023487797310711, 0.8684428101865598, 0.9949664937783192, 0.7867630544855971, 0.9474448290599563, 0.8528644523366581, 0.89889802430328, 0.9771059548194738, 0.9173522774456739, 0.92147877193541, 0.7512397096710793, 0.8486365272535854, 0.7356535766749543, 0.883292675964618, 0.918069483669763, 0.7919611228591983, 0.8714037389121392, 0.8550315953978285, 0.7758065226587503, 0.9410198144664779, 0.703388341197502, 0.8539136233271328, 0.8400360144400837, 0.8795139730082334, 0.861471679098569, 0.9558983653652774, 0.7537584998855358, 0.5684534063451214, 0.514096485835109, 0.8438176827280344, 0.7220421590069492, 0.9726394765499082, 0.9844082507327148, 0.7920411287251239, 0.9912916309022846, 0.916196196235486, 0.4376289541805005, 0.9079198835819144, 0.8618936693174418, 0.7624904751808715, 0.8245772444921534, 0.8807202346208863, 0.6697715510171612, 0.9326140501951149, 0.6699261082401661, 0.8741137135617871, 0.6695779675974153, 0.9519296270597077, 0.8442322857038479, 0.8315131742159112, 0.7287461450223979, 0.8320016725834776, 0.8510932240721505, 0.9479820823702434, 0.49211840424414344, 0.9715834289410505, 0.8933673687925451, 0.9751524209740705, 0.9108866851709334, 0.9954303642870027, 0.9778923610226273, 0.7912504366541957, 0.8049840824744992, 0.9300154422208203, 0.8856777804819279, 0.9385132342335644, 0.9191797653368272, 0.5882888051385602, 0.585227620397979, 0.733149405932045, 0.8447452728018288, 0.8717814188977329, 0.8112137992963757, 0.6964296529357913, 0.9120152873660657, 0.7022506963720558, 0.8584846489902785, 0.7785527631939534, 0.8050172685052985, 0.8611994565035613, 0.8987827102091438, 0.9045745439930617, 0.8763130787226874, 0.9509634672310296, 0.8622026146785853, 0.9030913148963179, 0.9865821692523462, 0.9661707773596057, 0.8466147877564504, 0.9498669007201136, 0.8741198031346524, 0.8756418064197892, 0.6679385963701198, 0.9627575135674281, 0.8253466344484806, 0.8739862570214594, 0.6516533850012418, 0.873592492466512, 0.7066516488695553, 0.7233692589289338, 0.5911745328162877, 0.8361917565810517, 0.6660233531348436, 0.6606478374975282, 0.8998273331423866, 0.9206016801172122, 0.8909732498407958, 0.8658853424779733, 0.5864217550978404, 0.19547391836594682], \"Term\": [\"1 star review\", \"15 pro max\", \"2 day ago\", \"2 factor authentication\", \"2 step verification\", \"5 business day\", \"5 star i\", \"able access account\", \"able deposit cheque\", \"access account i\", \"access account money\", \"access online banking\", \"account credit card\", \"account every time\", \"account i can\\u2019t\", \"account i need\", \"account i used\", \"account i would\", \"account please fix\", \"add credit card\", \"after last update\", \"after latest update\", \"after new update\", \"after recent update\", \"after updating app\", \"all apps work\", \"almost every time\", \"also i longer\", \"annoying i want\", \"anymore please fix\", \"app i able\", \"app i always\", \"app i can\\u2019t\", \"app i don\\u2019t\", \"app i wish\", \"app please fix\", \"app user friendly\", \"app worked great\", \"apps i\\u2019ve used\", \"back last version\", \"back old app\", \"back old one\", \"back old version\", \"back old version\", \"back previous version\", \"balance every transaction\", \"balance pay bill\", \"bank i can\\u2019t\", \"bank i don\\u2019t\", \"bank i ever\", \"bank like rbc\", \"banking app i\", \"bill payment i\", \"bring back old\", \"business personal account\", \"buy new ipad\", \"buy new phone\", \"call customer service\", \"called customer service\", \"cannot even open\", \"cannot find anything\", \"can\\u2019t access account\", \"can\\u2019t deposit cheque\", \"can\\u2019t even access\", \"can\\u2019t even get\", \"can\\u2019t even log\", \"can\\u2019t even open\", \"can\\u2019t get account\", \"can\\u2019t log account\", \"can\\u2019t open app\", \"can\\u2019t pay bill\", \"card number password\", \"check bank balance\", \"click credit card\", \"compared banking apps\", \"considering switching bank\", \"couple month ago\", \"couple month i\", \"crash every time\", \"credit card account\", \"credit card balance\", \"credit card bill\", \"credit card limit\", \"credit card statement\", \"credit card transaction\", \"dark mode would\", \"day i need\", \"deposit cheque i\", \"deposit cheque online\", \"doesn\\u2019t even work\", \"doesn\\u2019t work half\", \"doesn\\u2019t work keep\", \"doesn\\u2019t work properly\", \"don\\u2019t fix it\", \"don\\u2019t know it\\u2019s\", \"don\\u2019t know what\\u2019s\", \"don\\u2019t like new\", \"don\\u2019t need go\", \"download new version\", \"easy use i\", \"email money transfer\", \"email phone number\", \"enter card number\", \"error message come\", \"even log in\", \"even open app\", \"even though i\", \"even though i\\u2019m\", \"even though i\\u2019ve\", \"ever since i\", \"every single time\", \"every time i\", \"every time open\", \"everything i need\", \"face id i\", \"face id iphone\", \"face id log\", \"face id sign\", \"face id work\", \"face id working\", \"first time i\", \"fix issue i\", \"fix this i\", \"front back cheque\", \"get anything done\", \"get error message\", \"get message saying\", \"get new one\", \"get stuck loading\", \"get white screen\", \"getting error message\", \"go app store\", \"go back old\", \"good customer service\", \"got new phone\", \"great app i\", \"half time i\", \"hate new update\", \"hope get fixed\", \"i able see\", \"i absolutely hate\", \"i banking online\", \"i buy new\", \"i called customer\", \"i called support\", \"i cannot even\", \"i cannot find\", \"i cannot pay\", \"i cannot see\", \"i cant log\", \"i can\\u2019t access\", \"i can\\u2019t believe\", \"i can\\u2019t download\", \"i can\\u2019t even\", \"i can\\u2019t find\", \"i can\\u2019t get\", \"i can\\u2019t log\", \"i can\\u2019t login\", \"i can\\u2019t open\", \"i can\\u2019t pay\", \"i can\\u2019t see\", \"i click it\", \"i could give\", \"i could see\", \"i credit card\", \"i delete reinstall\", \"i deleted reinstalled\", \"i deposit cheque\", \"i don\\u2019t even\", \"i don\\u2019t know\", \"i don\\u2019t like\", \"i don\\u2019t need\", \"i don\\u2019t see\", \"i don\\u2019t think\", \"i don\\u2019t understand\", \"i don\\u2019t want\", \"i ever seen\", \"i ever used\", \"i face id\", \"i feel like\", \"i get error\", \"i get message\", \"i go app\", \"i go back\", \"i gotta say\", \"i guess i\", \"i hate new\", \"i haven\\u2019t able\", \"i highly recommend\", \"i iphone 6\", \"i keep getting\", \"i know i\", \"i launch app\", \"i like new\", \"i literally can\\u2019t\", \"i log in\", \"i longer able\", \"i longer access\", \"i love app\", \"i love i\", \"i multiple account\", \"i must say\", \"i need app\", \"i need do\", \"i need go\", \"i need update\", \"i never get\", \"i new iphone\", \"i older phone\", \"i open app\", \"i open it\", \"i opened account\", \"i really don\\u2019t\", \"i really like\", \"i reset password\", \"i still able\", \"i still get\", \"i switched td\", \"i take picture\", \"i think it\\u2019s\", \"i thought i\", \"i try access\", \"i try get\", \"i try log\", \"i try pay\", \"i try sign\", \"i try view\", \"i updated i\", \"i used able\", \"i used banking\", \"i using year\", \"i want check\", \"i wish i\", \"i would give\", \"i would like\", \"i would rather\", \"i would really\", \"i wouldn\\u2019t recommend\", \"if i could\", \"in please fix\", \"iphone 13 pro\", \"iphone 15 pro\", \"issue i can\\u2019t\", \"it also doesn\\u2019t\", \"it i don\\u2019t\", \"it if i\", \"it keep asking\", \"it keep saying\", \"it look like\", \"it seems like\", \"it used work\", \"it won\\u2019t let\", \"it would nice\", \"it\\u2019s frustrating i\", \"it\\u2019s user friendly\", \"i\\u2019d like see\", \"i\\u2019m using iphone\", \"i\\u2019ve ever used\", \"i\\u2019ve never issue\", \"i\\u2019ve tried uninstalling\", \"keep getting error\", \"keep giving error\", \"keep loading forever\", \"latest update i\", \"latest version i\", \"let log in\", \"let sign in\", \"like every time\", \"like new version\", \"load account detail\", \"log back in\", \"log every time\", \"log i get\", \"log in i\", \"log in please\", \"log in the\", \"login please fix\", \"look like it\\u2019s\", \"love app so\", \"lump sum payment\", \"make feel like\", \"many time i\", \"matter many time\", \"mobile banking app\", \"mobile banking apps\", \"mobile check deposit\", \"mobile cheque deposit\", \"move money account\", \"much easier navigate\", \"need fix it\", \"need go back\", \"need go bank\", \"never go away\", \"never issue bank\", \"never issue td\", \"new app i\", \"new iphone 15\", \"new online banking\", \"new update i\", \"new update it\", \"new update suck\", \"new update terrible\", \"next time i\", \"no matter many\", \"not sure changed\", \"not sure what\\u2019s\", \"not user friendly\", \"now i can\\u2019t\", \"now i get\", \"older version i\", \"one account another\", \"online banking i\", \"online banking one\", \"option dark mode\", \"other banking apps\", \"password every time\", \"pay credit card\", \"paying credit card\", \"pending transaction credit\", \"please bring back\", \"please change back\", \"please fix app\", \"please fix asap\", \"please fix bug\", \"please fix issue\", \"please fix it\", \"please fix this\", \"please go back\", \"please put back\", \"please revert back\", \"pretty much everything\", \"quick balance widget\", \"rbc app i\", \"reason i gave\", \"recent update i\", \"recent update made\", \"remember card number\", \"right away i\", \"right now please\", \"say i need\", \"saying i need\", \"scheduled bill payment\", \"screen every time\", \"see account balance\", \"seems like every\", \"since i got\", \"since last update\", \"since latest update\", \"since new update\", \"since recent update\", \"since update i\", \"single time i\", \"so i go\", \"something went wrong\", \"sometimes i can\\u2019t\", \"star i could\", \"star i would\", \"step verification process\", \"still doesn\\u2019t work\", \"still get error\", \"stuck loading screen\", \"sure what\\u2019s going\", \"switch another bank\", \"switch bank i\", \"switch different bank\", \"switching bank i\", \"take photo cheque\", \"take picture cheque\", \"take picture front\", \"take way long\", \"taking picture cheque\", \"terrible user experience\", \"the change made\", \"the doesn\\u2019t work\", \"the face id\", \"the last update\", \"the latest update\", \"the latest version\", \"the new update\", \"the new version\", \"the old one\", \"the old version\", \"the previous version\", \"the reason i\", \"the recent update\", \"the user friendly\", \"the way i\", \"thing i need\", \"thinking switching bank\", \"this great app\", \"this latest version\", \"this new update\", \"this new version\", \"this user friendly\", \"this worst banking\", \"time i app\", \"time i can\\u2019t\", \"time i go\", \"time i launch\", \"time i log\", \"time i need\", \"time i open\", \"time i tried\", \"time i try\", \"time i want\", \"time please fix\", \"transaction credit card\", \"tried uninstalling reinstalling\", \"try deposit cheque\", \"try log in\", \"try pay bill\", \"trying pay bill\", \"turn face id\", \"update credit card\", \"update every time\", \"update i cannot\", \"update i longer\", \"update new version\", \"update please fix\", \"update requires io\", \"update won\\u2019t let\", \"updated latest version\", \"used work fine\", \"user friendly easy\", \"user friendly i\", \"user friendly the\", \"using face id\", \"want go back\", \"when i click\", \"when i open\", \"when i try\", \"whenever i try\", \"why can\\u2019t i\", \"wish i could\", \"won\\u2019t even open\", \"won\\u2019t let log\", \"won\\u2019t let me\", \"won\\u2019t let sign\", \"won\\u2019t let update\", \"work every time\", \"work face id\", \"work half time\", \"work well easy\", \"working fine i\", \"working perfectly fine\", \"worst bank i\", \"worst i ever\", \"would go back\", \"would like able\", \"would nice able\", \"would nice see\", \"would really like\", \"zero star i\", \"zero star i\"]}, \"R\": 30, \"lambda.step\": 0.01, \"plot.opts\": {\"xlab\": \"PC1\", \"ylab\": \"PC2\"}, \"topic.order\": [12, 9, 14, 7, 5, 10, 4, 11, 3, 15, 2, 8, 1, 13, 6]};\n",
              "\n",
              "function LDAvis_load_lib(url, callback){\n",
              "  var s = document.createElement('script');\n",
              "  s.src = url;\n",
              "  s.async = true;\n",
              "  s.onreadystatechange = s.onload = callback;\n",
              "  s.onerror = function(){console.warn(\"failed to load library \" + url);};\n",
              "  document.getElementsByTagName(\"head\")[0].appendChild(s);\n",
              "}\n",
              "\n",
              "if(typeof(LDAvis) !== \"undefined\"){\n",
              "   // already loaded: just create the visualization\n",
              "   !function(LDAvis){\n",
              "       new LDAvis(\"#\" + \"ldavis_el6451361434260437121145955666\", ldavis_el6451361434260437121145955666_data);\n",
              "   }(LDAvis);\n",
              "}else if(typeof define === \"function\" && define.amd){\n",
              "   // require.js is available: use it to load d3/LDAvis\n",
              "   require.config({paths: {d3: \"https://d3js.org/d3.v5\"}});\n",
              "   require([\"d3\"], function(d3){\n",
              "      window.d3 = d3;\n",
              "      LDAvis_load_lib(\"https://cdn.jsdelivr.net/gh/bmabey/pyLDAvis@3.4.0/pyLDAvis/js/ldavis.v3.0.0.js\", function(){\n",
              "        new LDAvis(\"#\" + \"ldavis_el6451361434260437121145955666\", ldavis_el6451361434260437121145955666_data);\n",
              "      });\n",
              "    });\n",
              "}else{\n",
              "    // require.js not available: dynamically load d3 & LDAvis\n",
              "    LDAvis_load_lib(\"https://d3js.org/d3.v5.js\", function(){\n",
              "         LDAvis_load_lib(\"https://cdn.jsdelivr.net/gh/bmabey/pyLDAvis@3.4.0/pyLDAvis/js/ldavis.v3.0.0.js\", function(){\n",
              "                 new LDAvis(\"#\" + \"ldavis_el6451361434260437121145955666\", ldavis_el6451361434260437121145955666_data);\n",
              "            })\n",
              "         });\n",
              "}\n",
              "</script>"
            ]
          },
          "metadata": {},
          "execution_count": 52
        }
      ]
    },
    {
      "cell_type": "code",
      "source": [],
      "metadata": {
        "id": "KY2u0myqP3hn"
      },
      "execution_count": null,
      "outputs": []
    },
    {
      "cell_type": "code",
      "source": [],
      "metadata": {
        "id": "wAOMTnKYP3fw"
      },
      "execution_count": null,
      "outputs": []
    },
    {
      "cell_type": "code",
      "source": [],
      "metadata": {
        "id": "VFaR90gjP3dr"
      },
      "execution_count": null,
      "outputs": []
    },
    {
      "cell_type": "code",
      "source": [],
      "metadata": {
        "id": "8Vsv3sQMPwoJ"
      },
      "execution_count": null,
      "outputs": []
    },
    {
      "cell_type": "code",
      "source": [],
      "metadata": {
        "id": "X-vuPvwBPwlu"
      },
      "execution_count": null,
      "outputs": []
    },
    {
      "cell_type": "code",
      "source": [],
      "metadata": {
        "id": "zJrA2yWuPwi3"
      },
      "execution_count": null,
      "outputs": []
    },
    {
      "cell_type": "code",
      "source": [
        "# initialize a tf-idf vectorizer with english stop words\n",
        "vectorizer_tfidf = TfidfVectorizer(stop_words='english')\n",
        "\n",
        "# fit and transform the lemmatized words through the vectorizer\n",
        "vectors_tfidf = vectorizer_tfidf.fit_transform(mental_comments['lemm'])"
      ],
      "metadata": {
        "id": "Pb2cutTSL56v"
      },
      "execution_count": null,
      "outputs": []
    },
    {
      "cell_type": "code",
      "source": [
        "\n",
        "\n",
        "\n",
        "n_topics = 6\n",
        "\n",
        "# initialize a Non-Negative Matrix Factorization (NMF) model\n",
        "# set random_state=1 to get the same results everytime\n",
        "# we must also define the number of topics as n_components\n",
        "clf = decomposition.NMF(n_components=n_topics,random_state=1)\n",
        "\n",
        "# fit the model using the tf-idf vectors\n",
        "# get the Weights\n",
        "W1 = clf.fit_transform(vectors_tfidf)\n",
        "\n",
        "print('W1 shape (# documents/comments, # topics) is ', W1.shape)\n",
        "\n",
        "# get the arrays of words that define topics\n",
        "# get the Hidden Variables\n",
        "H1 = clf.components_\n",
        "\n",
        "print('H1 shape (# topics, # terms) is ', H1.shape)\n",
        "\n",
        "# get the list of all words (a.k.a. terms) found in the tf-idf vectors\n",
        "vocab = np.array(vectorizer_tfidf.get_feature_names())\n",
        "\n",
        "# count the number of comments that belong to each topic (primairly)\n",
        "# should have a dictionary of key:topic, value: #comments belonging to this topic\n",
        "topics_frequency = collections.Counter(np.array(W1.argsort()[:,-1]))\n",
        "\n",
        "# order this dictionary and turn it into tuples instead of key, value pairs\n",
        "# so we shoud should 6 (topic, #comments on this topic) tuples ordered by topic\n",
        "topics_frequency = collections.OrderedDict(sorted(topics_frequency.items(),key= lambda kv: kv[1],reverse=True))\n",
        "\n",
        "# total number of comments should be the same as number of rows in the dataset (i.e. mental_comments.shape[0])\n",
        "total_comments_count = sum(topics_frequency.values())\n",
        "\n",
        "n_terms_to_display = 10\n",
        "print('Top ', n_terms_to_display, ' terms for the top',n_topics, 'topics:')\n",
        "for topic_i,n_comments_per_topic in topics_frequency.items():\n",
        "  print('Topic {}:{}'.format(\n",
        "    topic_i+1,\n",
        "    \", \".join([str(x) for x in vocab[(-H1[topic_i]).argsort(axis=-1)[:n_terms_to_display]]])\n",
        "  ))"
      ],
      "metadata": {
        "id": "8NR75fDtOSqy"
      },
      "execution_count": null,
      "outputs": []
    },
    {
      "cell_type": "code",
      "source": [],
      "metadata": {
        "id": "vEjiIqEaOSoq"
      },
      "execution_count": null,
      "outputs": []
    },
    {
      "cell_type": "code",
      "source": [],
      "metadata": {
        "id": "qXyUfXVsOSlo"
      },
      "execution_count": null,
      "outputs": []
    },
    {
      "cell_type": "code",
      "source": [],
      "metadata": {
        "id": "zNcCpa0POSjr"
      },
      "execution_count": null,
      "outputs": []
    },
    {
      "cell_type": "code",
      "source": [],
      "metadata": {
        "id": "sAvehoO9OShL"
      },
      "execution_count": null,
      "outputs": []
    }
  ]
}