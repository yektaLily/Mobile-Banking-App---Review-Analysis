{
 "cells": [
  {
   "cell_type": "markdown",
   "id": "9f1c08d1-edaa-4cc1-b36f-539331faa43d",
   "metadata": {},
   "source": [
    "The following cell needs to be run only once to install the packages that may not be available"
   ]
  },
  {
   "cell_type": "code",
   "execution_count": 2,
   "id": "9251aef1-318f-40d7-8015-a36285c6d84f",
   "metadata": {},
   "outputs": [],
   "source": [
    "%%capture \n",
    "!pip install nltk\n",
    "!pip install gensim\n",
    "!pip install itertools\n",
    "!pip install spacy\n",
    "!pip install langdetect\n",
    "!pip install pprint\n",
    "!pip install pyLDAvis"
   ]
  },
  {
   "cell_type": "code",
   "execution_count": 3,
   "id": "23367a94-4616-4392-ac7a-6270b1ddcca4",
   "metadata": {},
   "outputs": [
    {
     "name": "stderr",
     "output_type": "stream",
     "text": [
      "/home/yekta/anaconda3/lib/python3.11/site-packages/pandas/core/arrays/masked.py:60: UserWarning: Pandas requires version '1.3.6' or newer of 'bottleneck' (version '1.3.5' currently installed).\n",
      "  from pandas.core import (\n"
     ]
    }
   ],
   "source": [
    "import os\n",
    "import re\n",
    "import pandas as pd\n",
    "import nltk\n",
    "from nltk.tokenize import regexp_tokenize\n",
    "from nltk.tokenize import word_tokenize\n",
    "from nltk.tokenize import sent_tokenize\n",
    "from nltk.corpus import stopwords\n",
    "from collections import Counter\n",
    "from nltk.stem import WordNetLemmatizer\n",
    "import gensim\n",
    "from gensim.corpora.dictionary import Dictionary\n",
    "from gensim.corpora import MmCorpus\n",
    "from collections import defaultdict\n",
    "import itertools\n",
    "from gensim.models.tfidfmodel import TfidfModel\n",
    "import spacy\n",
    "from langdetect import detect, DetectorFactory\n",
    "from gensim.models import CoherenceModel\n",
    "from string import punctuation\n",
    "from pprint import pprint\n",
    "import gensim.models\n",
    "from nltk import pos_tag\n",
    "from nltk.corpus import wordnet\n",
    "from nltk.stem import PorterStemmer\n",
    "from nltk.util import ngrams\n",
    "from gensim.models import Phrases\n",
    "from gensim.models.phrases import Phraser\n",
    "import pyLDAvis\n",
    "import pyLDAvis.gensim_models as gensimvis\n",
    "import pyLDAvis.gensim\n",
    "import pyLDAvis.gensim_models\n",
    "import matplotlib.pyplot as plt\n",
    "%matplotlib inline\n"
   ]
  },
  {
   "cell_type": "code",
   "execution_count": 4,
   "id": "0bc58919-dac0-4ce5-8e2e-9b7b119696f1",
   "metadata": {},
   "outputs": [
    {
     "name": "stderr",
     "output_type": "stream",
     "text": [
      "[nltk_data] Downloading package stopwords to /home/yekta/nltk_data...\n",
      "[nltk_data]   Package stopwords is already up-to-date!\n",
      "[nltk_data] Downloading package punkt to /home/yekta/nltk_data...\n",
      "[nltk_data]   Package punkt is already up-to-date!\n",
      "[nltk_data] Downloading package wordnet to /home/yekta/nltk_data...\n",
      "[nltk_data]   Package wordnet is already up-to-date!\n",
      "[nltk_data] Downloading package punkt_tab to /home/yekta/nltk_data...\n",
      "[nltk_data]   Package punkt_tab is already up-to-date!\n",
      "[nltk_data] Downloading package omw-1.4 to /home/yekta/nltk_data...\n",
      "[nltk_data]   Package omw-1.4 is already up-to-date!\n",
      "[nltk_data] Downloading package averaged_perceptron_tagger to\n",
      "[nltk_data]     /home/yekta/nltk_data...\n",
      "[nltk_data]   Package averaged_perceptron_tagger is already up-to-\n",
      "[nltk_data]       date!\n",
      "[nltk_data] Downloading package averaged_perceptron_tagger_eng to\n",
      "[nltk_data]     /home/yekta/nltk_data...\n",
      "[nltk_data]   Package averaged_perceptron_tagger_eng is already up-to-\n",
      "[nltk_data]       date!\n"
     ]
    },
    {
     "data": {
      "text/plain": [
       "True"
      ]
     },
     "execution_count": 4,
     "metadata": {},
     "output_type": "execute_result"
    }
   ],
   "source": [
    "# only run once \n",
    "nltk.download('stopwords')\n",
    "nltk.download('punkt')\n",
    "nltk.download('wordnet')\n",
    "nltk.download('punkt_tab')\n",
    "nltk.download('omw-1.4')  # Optional for better language support\n",
    "nltk.download('averaged_perceptron_tagger')  # For POS tagging\n",
    "nltk.download('averaged_perceptron_tagger_eng')"
   ]
  },
  {
   "cell_type": "markdown",
   "id": "d99af14f-5ecd-4377-afab-dbc7c01f7c2e",
   "metadata": {},
   "source": [
    "# CLEANING AND PRE-PROCESSING DATA \n",
    "\n",
    "The following procedures are implemented for Data Cleaning: \n",
    "\n",
    "1. Only keep English reviews (remove non-English) --- Task: check before and after number of rows (to see how many got deleted)\n",
    "2. Turn everything into lower case \n",
    "3. Remove stopwords + additional stopwords such as \"from\" \"subject\" \"reply\" \"app\" \"bank\" \"banking\" + names of the banks \"CIBC\", \"TD\", \"BMO\", \"RBC\", \"SCOTIA\"\n",
    "4. Remove punctuation \n",
    "5. Lemming/Stemming  \n",
    "\n",
    "Throughtout this process, several **Variations** of the data are kept: \n",
    "1. `reviews` is a list of the original data frame's reviews column where each user review is an entry in the list\n",
    "2. `reviews_corpus` is a block of text where all reviews are joined together, and everything is lower cased  \n",
    "3. `tokenized_doc_to_sentences` is the sentence tokenized version of `reviews_corpus`, a list of strings \n",
    "4. `tokenized_doc_to_words` is the word tokenized version of `tokenized_doc_to_sentences`, a list of lists where each outer list a review, then the inner lists each correspond to the sentences within the review \n",
    "\n",
    "The data cleaning is performed on all variations of the data. Therefore, each 4 types of data that are kept have clean and raw versions. Both types are saved to disk for easier upload later. "
   ]
  },
  {
   "cell_type": "markdown",
   "id": "199f5efe-ef16-426c-b52d-502f7687e9f5",
   "metadata": {},
   "source": [
    "# IMPORTANT FUNCTIONS \n",
    "\n",
    "Below are descriptions of functions. At various points, we have employed the help of ChatGPT4 (chat.openai.com). Please look out for the comment indicating start and end of code provided or fixed by AI. \n",
    "\n",
    "1. `is_english` detects non-English and English texts. We use this function for data cleaning, as several of the reviews are in languages other than English. \n",
    "2. `remove_punc` removes punctuation specifically declared as a regular expression in `punctuation_to_remove` \n",
    "3. `generate_dictionary` creates a gensim dictionary and corpus, and saves the dictionary to a matrix model format for easier retrival \n",
    "4. `print_top_10_words` prints the top 10 words in a corpus using TF-IDF (weighted)\n",
    "5. `build_lda_model` builds our topic modeling model based on LDA, allowing for several models with different parameters to be trained for comparison to pick the best model parameters (parameter tuning)\n",
    "6. `train_models` trains the LDA models and returns a list with all the models \n",
    "7. `calculate_preplexity` calculates model perplexity \n",
    "8. `calculate_coherence` calculates model coherence \n",
    "9. `print_topics` prints the topic modeling results with word weights \n",
    "10. `remove_stopwords_from_sentence` removes stopwords from sentences while keeping the sentence structure   \n",
    "11. `build_model_comparison_table` trains several models, and saves the results of perplexity and coherence in one dataframe for easy comparison \n",
    "12. `find_best_model` loops through the dataframe of all models trained and finds minimum perplexity and maximum coherence \n",
    "13. `pick_best_model` returns the model parameters that give the best combination perplexity and coherence scores \n"
   ]
  },
  {
   "cell_type": "code",
   "execution_count": 5,
   "id": "5c499233-a7cc-45f0-a276-eea9ae9a6e6c",
   "metadata": {},
   "outputs": [],
   "source": [
    "# ---------------------- START OF CHATGPT CODE\n",
    "# PROMPT was: finish this function: def save_file(name, extension, content):\n",
    "def save_file(name, extension, content):\n",
    "    \"\"\"\n",
    "    Save a file with the specified name, extension, and content.\n",
    "\n",
    "    Args:\n",
    "    name (str): The name of the file (without extension).\n",
    "    extension (str): The file extension (e.g., 'txt', 'csv').\n",
    "    content (str): The content to be saved in the file.\n",
    "\n",
    "    Returns:\n",
    "    None\n",
    "    \"\"\"\n",
    "    # Combine name and extension to form the full file name\n",
    "    filename = f\"{name}.{extension}\"\n",
    "\n",
    "    # Check if the file already exists\n",
    "    if os.path.exists(filename):\n",
    "        print(f\"The file {filename} already exists. Overwriting...\")\n",
    "    \n",
    "    # Open the file and write the content\n",
    "    try:\n",
    "        with open(filename, 'w') as file:\n",
    "            file.write(content)\n",
    "        print(f\"File {filename} saved successfully.\")\n",
    "    except Exception as e:\n",
    "        print(f\"Error while saving file: {e}\")\n",
    "# ---------------------- END OF CHATGPT CODE \n",
    "\n"
   ]
  },
  {
   "cell_type": "markdown",
   "id": "6f3316c1-d8b9-475c-b040-efa49e5a5be2",
   "metadata": {},
   "source": [
    "## DATASET "
   ]
  },
  {
   "cell_type": "code",
   "execution_count": 6,
   "id": "0d974dc1-dfdb-434d-b79f-27a445aedb54",
   "metadata": {},
   "outputs": [
    {
     "data": {
      "text/html": [
       "<div>\n",
       "<style scoped>\n",
       "    .dataframe tbody tr th:only-of-type {\n",
       "        vertical-align: middle;\n",
       "    }\n",
       "\n",
       "    .dataframe tbody tr th {\n",
       "        vertical-align: top;\n",
       "    }\n",
       "\n",
       "    .dataframe thead th {\n",
       "        text-align: right;\n",
       "    }\n",
       "</style>\n",
       "<table border=\"1\" class=\"dataframe\">\n",
       "  <thead>\n",
       "    <tr style=\"text-align: right;\">\n",
       "      <th></th>\n",
       "      <th>rating</th>\n",
       "      <th>title</th>\n",
       "      <th>review</th>\n",
       "      <th>Bank</th>\n",
       "    </tr>\n",
       "  </thead>\n",
       "  <tbody>\n",
       "    <tr>\n",
       "      <th>0</th>\n",
       "      <td>4</td>\n",
       "      <td>Could Use Improvements</td>\n",
       "      <td>If there is only one possible account, I shoul...</td>\n",
       "      <td>BMO</td>\n",
       "    </tr>\n",
       "    <tr>\n",
       "      <th>1</th>\n",
       "      <td>4</td>\n",
       "      <td>Verify</td>\n",
       "      <td>Suddenly I am being asked to verify this devic...</td>\n",
       "      <td>BMO</td>\n",
       "    </tr>\n",
       "    <tr>\n",
       "      <th>2</th>\n",
       "      <td>1</td>\n",
       "      <td>Works terrible on my new phone</td>\n",
       "      <td>On my new phone, practically every time I open...</td>\n",
       "      <td>BMO</td>\n",
       "    </tr>\n",
       "    <tr>\n",
       "      <th>3</th>\n",
       "      <td>1</td>\n",
       "      <td>Bare bones app</td>\n",
       "      <td>No features to make this app stand out amongst...</td>\n",
       "      <td>BMO</td>\n",
       "    </tr>\n",
       "    <tr>\n",
       "      <th>4</th>\n",
       "      <td>1</td>\n",
       "      <td>Not working with iOS12.2</td>\n",
       "      <td>This app won’t work with iOS12.2. Every time I...</td>\n",
       "      <td>BMO</td>\n",
       "    </tr>\n",
       "  </tbody>\n",
       "</table>\n",
       "</div>"
      ],
      "text/plain": [
       "   rating                           title  \\\n",
       "0       4          Could Use Improvements   \n",
       "1       4                          Verify   \n",
       "2       1  Works terrible on my new phone   \n",
       "3       1                  Bare bones app   \n",
       "4       1        Not working with iOS12.2   \n",
       "\n",
       "                                              review Bank  \n",
       "0  If there is only one possible account, I shoul...  BMO  \n",
       "1  Suddenly I am being asked to verify this devic...  BMO  \n",
       "2  On my new phone, practically every time I open...  BMO  \n",
       "3  No features to make this app stand out amongst...  BMO  \n",
       "4  This app won’t work with iOS12.2. Every time I...  BMO  "
      ]
     },
     "execution_count": 6,
     "metadata": {},
     "output_type": "execute_result"
    }
   ],
   "source": [
    "df = pd.read_csv(\"top5banksReviews_v1.csv\")\n",
    "df.head()"
   ]
  },
  {
   "cell_type": "code",
   "execution_count": 7,
   "id": "96cd204c-900c-495b-9402-d502926eca9a",
   "metadata": {},
   "outputs": [],
   "source": [
    "df_copy = df.copy() # keeping a copy of the original data "
   ]
  },
  {
   "cell_type": "code",
   "execution_count": 8,
   "id": "c929c565-782b-4abc-979f-fefdc628e5ff",
   "metadata": {},
   "outputs": [
    {
     "name": "stdout",
     "output_type": "stream",
     "text": [
      "<class 'pandas.core.frame.DataFrame'>\n",
      "RangeIndex: 11980 entries, 0 to 11979\n",
      "Data columns (total 4 columns):\n",
      " #   Column  Non-Null Count  Dtype \n",
      "---  ------  --------------  ----- \n",
      " 0   rating  11980 non-null  int64 \n",
      " 1   title   11979 non-null  object\n",
      " 2   review  11980 non-null  object\n",
      " 3   Bank    11980 non-null  object\n",
      "dtypes: int64(1), object(3)\n",
      "memory usage: 374.5+ KB\n"
     ]
    }
   ],
   "source": [
    "df.info()"
   ]
  },
  {
   "cell_type": "code",
   "execution_count": 9,
   "id": "6c89517c-9084-455f-862a-ae47a2f62f02",
   "metadata": {},
   "outputs": [],
   "source": [
    "# ---------------------- START OF CHATGPT CODE\n",
    "def is_english(text):\n",
    "    DetectorFactory.seed = 0\n",
    "    \"\"\"input needs to be string\"\"\"\n",
    "    try:\n",
    "        return detect(text) == 'en'\n",
    "    except:\n",
    "        return False  \n",
    "    \n",
    "df['is_english'] = df['review'].apply(is_english)\n",
    "\n",
    "# ---------------------- END OF CHATGPT CODE \n",
    "\n",
    "df = df[df['is_english']].drop(columns=['is_english']) "
   ]
  },
  {
   "cell_type": "code",
   "execution_count": 10,
   "id": "b3fe7125-f5e2-4a2a-b79f-a78cba39508f",
   "metadata": {},
   "outputs": [
    {
     "name": "stdout",
     "output_type": "stream",
     "text": [
      "<class 'pandas.core.frame.DataFrame'>\n",
      "Index: 11115 entries, 0 to 11979\n",
      "Data columns (total 4 columns):\n",
      " #   Column  Non-Null Count  Dtype \n",
      "---  ------  --------------  ----- \n",
      " 0   rating  11115 non-null  int64 \n",
      " 1   title   11114 non-null  object\n",
      " 2   review  11115 non-null  object\n",
      " 3   Bank    11115 non-null  object\n",
      "dtypes: int64(1), object(3)\n",
      "memory usage: 434.2+ KB\n"
     ]
    }
   ],
   "source": [
    "df.info()"
   ]
  },
  {
   "cell_type": "markdown",
   "id": "0f0e0a3c-2485-4f86-a27f-f9e3899c1171",
   "metadata": {},
   "source": [
    "### DATA VERSIONS - BEFORE CLEANING "
   ]
  },
  {
   "cell_type": "code",
   "execution_count": 11,
   "id": "5f1c51d4-14ee-46dd-ad68-58deace0c2f2",
   "metadata": {},
   "outputs": [],
   "source": [
    "stop_words = stopwords.words('english')\n",
    "stop_words.extend(['from', 'subject', 'reply', 'banking', 'bank', 'app', 'apps', 'banks', 'cibc', 'rbc', 'td', 'scotia', 'bmo'])"
   ]
  },
  {
   "cell_type": "code",
   "execution_count": 12,
   "id": "191a772d-9721-430f-9c9b-abd334bb2013",
   "metadata": {},
   "outputs": [],
   "source": [
    "reviews = list(df['review']) \n",
    "#reviews[:3]\n",
    "\n",
    "reviews_corpus = \" \".join([str(review) for review in reviews])\n",
    "#reviews_corpus[:3]\n",
    "\n",
    "tokenized_doc_to_sentences = sent_tokenize(reviews_corpus)\n",
    "#tokenized_doc_to_sentences[:3]\n",
    "\n",
    "tokenized_doc_to_words = [word_tokenize(sent) for sent in tokenized_doc_to_sentences]\n",
    "# tokenized_doc_to_words[:3]\n"
   ]
  },
  {
   "cell_type": "code",
   "execution_count": 14,
   "id": "49a5c6d0-1c7d-460a-9afd-9ed79de57225",
   "metadata": {},
   "outputs": [
    {
     "name": "stdout",
     "output_type": "stream",
     "text": [
      "File reviews.txt saved successfully.\n",
      "File reviews_corpus.txt saved successfully.\n",
      "File tokenized_doc_to_sentences.txt saved successfully.\n",
      "File tokenized_doc_to_words.txt saved successfully.\n"
     ]
    }
   ],
   "source": [
    "# SAVE DATA TO FILES \n",
    "save_file('reviews', 'txt', str(reviews))\n",
    "save_file('reviews_corpus', 'txt', reviews_corpus)\n",
    "save_file('tokenized_doc_to_sentences', 'txt', str(tokenized_doc_to_sentences))\n",
    "save_file('tokenized_doc_to_words', 'txt', str(tokenized_doc_to_words))"
   ]
  },
  {
   "cell_type": "markdown",
   "id": "abad4d3b-c22a-48c7-99e1-67b3fcac16e5",
   "metadata": {},
   "source": [
    "### DATA CLEANING FUNCTIONS "
   ]
  },
  {
   "cell_type": "code",
   "execution_count": 232,
   "id": "509e20d4-005d-47c4-a868-9dc90cdd9f1b",
   "metadata": {},
   "outputs": [],
   "source": [
    "def remove_punc(text):\n",
    "#     \"\"\"Takes in some text, removes specific punctuations from them\"\"\"\n",
    "#     punctuation_to_remove = r\"[\\[\\]\\(\\)!?‘’'\\'\\\"\\.,;:]\"\n",
    "#     # punctuation_to_remove = r\"[\\[\\]\\(\\)!?\\\"\\.,;:]\"\n",
    "#     no_punc = re.sub(punctuation_to_remove, \"\", text)\n",
    "#     no_punc_words = [word for word in text if word not in punctuation]\n",
    "#     no_punc = ''.join(no_punc_words)\n",
    "    \n",
    "#     return no_punc\n",
    "    punctuation_to_remove = r\"[\\[\\]\\(\\)!?‘’'\\\".,;:]\"\n",
    "    no_punc = re.sub(punctuation_to_remove, \"\", text)\n",
    "    return no_punc\n",
    "\n",
    "stemmer = PorterStemmer()\n",
    "\n",
    "\n",
    "def remove_stopwords_from_sentence(sentence):\n",
    "\n",
    "    filtered_words = [word for word in sentence.split() if word.lower() not in stop_words]\n",
    "    \n",
    "    filtered_sentence = ' '.join(filtered_words)\n",
    "\n",
    "    return filtered_sentence"
   ]
  },
  {
   "cell_type": "markdown",
   "id": "d1bd8d38-7ef8-4342-a4dd-5c1b366acc11",
   "metadata": {},
   "source": [
    "### DATA VERSIONS - AFTER CLEANING "
   ]
  },
  {
   "cell_type": "code",
   "execution_count": 233,
   "id": "ab4ed765-57f4-40c0-a640-494f5fb44d5a",
   "metadata": {},
   "outputs": [],
   "source": [
    "# LOWER CASE\n",
    "reviews_corpus_lc = list(df['review'])\n",
    "reviews_corpus_lc = [review.lower() for review in reviews_corpus_lc]\n",
    "\n",
    "# NOTE: this is each review tokenized sentence by sentence, so it's a list of lists \n",
    "tokenized_doc_to_sentences_lc_review_Sentenced = [sent_tokenize(review) for review in reviews_corpus_lc] \n",
    "\n",
    "# NOTE: this is the entire review column tokenized by sentences, then tokenized by words \n",
    "tokenized_doc_to_sentences_lc = sent_tokenize(' '.join(reviews_corpus_lc))\n",
    "tokenized_doc_to_words_lc = [word_tokenize(sent) for sent in tokenized_doc_to_sentences_lc]\n",
    "\n"
   ]
  },
  {
   "cell_type": "code",
   "execution_count": 234,
   "id": "3a6700e3-d7bb-41c9-a0ba-97abcd8ec065",
   "metadata": {
    "tags": []
   },
   "outputs": [
    {
     "data": {
      "text/plain": [
       "['if there is only one possible account, i should not have to select it each time i need to deposit a cheque. if there are multiple accounts, it would be good if it allowed you to choose a default account to deposit to. other bank apps are set up this way.',\n",
       " 'suddenly i am being asked to verify this device almost every time i try to log in. yes i enable ‘trust this device’ every time. what’s up with this??',\n",
       " 'on my new phone, practically every time i open the app it asks to verify if it’s me and sends me a text. it then asks if i’d like to stay logged in on this phone in the future so it can just use face id and avoid the text (i check off the box to confirm this) but it doesn’t matter, it almost always sends me the text anyways.\\n\\nother times it will let me just use face id to get in as it should but then when i tap on any of my accounts it just gets stuck as if it’s loading all my transactions but they never come up. i have to manually force close the app and go back in, usually having to do the 2 step verification process again.\\n\\non my old iphone, the app was perfect. i never had either of these issues, is anyone having the same issues???']"
      ]
     },
     "execution_count": 234,
     "metadata": {},
     "output_type": "execute_result"
    }
   ],
   "source": [
    "reviews_corpus_lc[:3]"
   ]
  },
  {
   "cell_type": "code",
   "execution_count": 235,
   "id": "1ff47305-38d3-4364-86e2-6e0fca83efec",
   "metadata": {
    "tags": []
   },
   "outputs": [
    {
     "data": {
      "text/plain": [
       "['if there is only one possible account, i should not have to select it each time i need to deposit a cheque.',\n",
       " 'if there are multiple accounts, it would be good if it allowed you to choose a default account to deposit to.',\n",
       " 'other bank apps are set up this way.']"
      ]
     },
     "execution_count": 235,
     "metadata": {},
     "output_type": "execute_result"
    }
   ],
   "source": [
    "tokenized_doc_to_sentences_lc[:3]"
   ]
  },
  {
   "cell_type": "code",
   "execution_count": 236,
   "id": "4a5b23b3-8805-48e7-88fd-72e787203270",
   "metadata": {
    "tags": []
   },
   "outputs": [
    {
     "data": {
      "text/plain": [
       "[['if',\n",
       "  'there',\n",
       "  'is',\n",
       "  'only',\n",
       "  'one',\n",
       "  'possible',\n",
       "  'account',\n",
       "  ',',\n",
       "  'i',\n",
       "  'should',\n",
       "  'not',\n",
       "  'have',\n",
       "  'to',\n",
       "  'select',\n",
       "  'it',\n",
       "  'each',\n",
       "  'time',\n",
       "  'i',\n",
       "  'need',\n",
       "  'to',\n",
       "  'deposit',\n",
       "  'a',\n",
       "  'cheque',\n",
       "  '.']]"
      ]
     },
     "execution_count": 236,
     "metadata": {},
     "output_type": "execute_result"
    }
   ],
   "source": [
    "tokenized_doc_to_words_lc[:1]"
   ]
  },
  {
   "cell_type": "code",
   "execution_count": 237,
   "id": "82b5566a-efef-45fa-ab58-9427a67b1f09",
   "metadata": {
    "tags": []
   },
   "outputs": [],
   "source": [
    "# REMOVE STOPWORDS \n",
    "reviews_corpus_stpw = list(df['review'].apply(remove_stopwords_from_sentence))\n",
    "tokenized_doc_to_sentences_stpw = sent_tokenize(' '.join(reviews_corpus_stpw))\n",
    "tokenized_doc_to_words_stpw = [word_tokenize(sent) for sent in tokenized_doc_to_sentences_stpw]\n",
    "\n",
    "\n",
    "\n",
    "\n",
    "\n"
   ]
  },
  {
   "cell_type": "code",
   "execution_count": 238,
   "id": "bf48210b-aa63-461b-8b35-213f63f40304",
   "metadata": {
    "tags": []
   },
   "outputs": [
    {
     "data": {
      "text/plain": [
       "['one possible account, select time need deposit cheque. multiple accounts, would good allowed choose default account deposit to. set way.',\n",
       " 'Suddenly asked verify device almost every time try log in. Yes enable ‘trust device’ every time. What’s this??',\n",
       " 'new phone, practically every time open asks verify it’s sends text. asks I’d like stay logged phone future use Face ID avoid text (I check box confirm this) doesn’t matter, almost always sends text anyways. times let use Face ID get tap accounts gets stuck it’s loading transactions never come up. manually force close go back in, usually 2 step verification process again. old iPhone, perfect. never either issues, anyone issues???']"
      ]
     },
     "execution_count": 238,
     "metadata": {},
     "output_type": "execute_result"
    }
   ],
   "source": [
    "reviews_corpus_stpw[:3]"
   ]
  },
  {
   "cell_type": "code",
   "execution_count": 239,
   "id": "5740d140-e156-4d8a-b4a4-00e853864bc4",
   "metadata": {
    "tags": []
   },
   "outputs": [
    {
     "data": {
      "text/plain": [
       "['one possible account, select time need deposit cheque.',\n",
       " 'multiple accounts, would good allowed choose default account deposit to.',\n",
       " 'set way.']"
      ]
     },
     "execution_count": 239,
     "metadata": {},
     "output_type": "execute_result"
    }
   ],
   "source": [
    "tokenized_doc_to_sentences_stpw[:3]"
   ]
  },
  {
   "cell_type": "code",
   "execution_count": 240,
   "id": "2a182df2-0dc8-409c-b8e0-353cd27529da",
   "metadata": {
    "tags": []
   },
   "outputs": [
    {
     "data": {
      "text/plain": [
       "[['one',\n",
       "  'possible',\n",
       "  'account',\n",
       "  ',',\n",
       "  'select',\n",
       "  'time',\n",
       "  'need',\n",
       "  'deposit',\n",
       "  'cheque',\n",
       "  '.']]"
      ]
     },
     "execution_count": 240,
     "metadata": {},
     "output_type": "execute_result"
    }
   ],
   "source": [
    "tokenized_doc_to_words_stpw[:1]"
   ]
  },
  {
   "cell_type": "code",
   "execution_count": 241,
   "id": "62396836-25d0-4d9b-8382-34a0a15ae174",
   "metadata": {
    "tags": []
   },
   "outputs": [],
   "source": [
    "# REMOVE PUNCTUATION \n",
    "reviews_corpus_noPnc = [remove_punc(review) for review in reviews_corpus_stpw] \n",
    "tokenized_doc_to_sentences_noPnc = [remove_punc(sentence) for sentence in tokenized_doc_to_sentences_stpw]\n",
    "tokenized_doc_to_words_noPnc = [word_tokenize(sent) for sent in tokenized_doc_to_sentences_noPnc]\n"
   ]
  },
  {
   "cell_type": "code",
   "execution_count": 242,
   "id": "38f743c6-e69d-4d5e-8b4d-cec037c0dd7f",
   "metadata": {
    "tags": []
   },
   "outputs": [
    {
     "data": {
      "text/plain": [
       "['one possible account select time need deposit cheque multiple accounts would good allowed choose default account deposit to set way',\n",
       " 'Suddenly asked verify device almost every time try log in Yes enable trust device every time Whats this',\n",
       " 'new phone practically every time open asks verify its sends text asks Id like stay logged phone future use Face ID avoid text I check box confirm this doesnt matter almost always sends text anyways times let use Face ID get tap accounts gets stuck its loading transactions never come up manually force close go back in usually 2 step verification process again old iPhone perfect never either issues anyone issues']"
      ]
     },
     "execution_count": 242,
     "metadata": {},
     "output_type": "execute_result"
    }
   ],
   "source": [
    "reviews_corpus_noPnc[:3]"
   ]
  },
  {
   "cell_type": "code",
   "execution_count": 243,
   "id": "0d09576e-d03a-4862-a564-9edcab4f71a3",
   "metadata": {
    "tags": []
   },
   "outputs": [
    {
     "data": {
      "text/plain": [
       "['one possible account select time need deposit cheque',\n",
       " 'multiple accounts would good allowed choose default account deposit to',\n",
       " 'set way']"
      ]
     },
     "execution_count": 243,
     "metadata": {},
     "output_type": "execute_result"
    }
   ],
   "source": [
    "tokenized_doc_to_sentences_noPnc[:3]"
   ]
  },
  {
   "cell_type": "code",
   "execution_count": 244,
   "id": "6374f563-b1ff-4e02-8178-9549a47b0a59",
   "metadata": {
    "tags": []
   },
   "outputs": [
    {
     "data": {
      "text/plain": [
       "[['one', 'possible', 'account', 'select', 'time', 'need', 'deposit', 'cheque']]"
      ]
     },
     "execution_count": 244,
     "metadata": {},
     "output_type": "execute_result"
    }
   ],
   "source": [
    "tokenized_doc_to_words_noPnc[:1]"
   ]
  },
  {
   "cell_type": "code",
   "execution_count": 245,
   "id": "6e7ac42e-300a-4094-aeb7-daefa6e56a44",
   "metadata": {
    "tags": []
   },
   "outputs": [
    {
     "data": {
      "text/plain": [
       "[['one', 'possibl', 'account', 'select', 'time', 'need', 'deposit', 'chequ'],\n",
       " ['multipl',\n",
       "  'account',\n",
       "  'would',\n",
       "  'good',\n",
       "  'allow',\n",
       "  'choos',\n",
       "  'default',\n",
       "  'account',\n",
       "  'deposit',\n",
       "  'to'],\n",
       " ['set', 'way']]"
      ]
     },
     "execution_count": 245,
     "metadata": {},
     "output_type": "execute_result"
    }
   ],
   "source": [
    "stemmed_data = [[stemmer.stem(word) for word in sentence] for sentence in tokenized_doc_to_words_noPnc]\n",
    "stemmed_data[:3]"
   ]
  },
  {
   "cell_type": "code",
   "execution_count": 246,
   "id": "7a873247-7e31-499a-b933-077db00af747",
   "metadata": {
    "tags": []
   },
   "outputs": [
    {
     "name": "stdout",
     "output_type": "stream",
     "text": [
      "The file reviews_corpusCLN.txt already exists. Overwriting...\n",
      "File reviews_corpusCLN.txt saved successfully.\n",
      "The file tokenized_doc_to_sentencesCLN.txt already exists. Overwriting...\n",
      "File tokenized_doc_to_sentencesCLN.txt saved successfully.\n",
      "The file tokenized_doc_to_wordsCLN.txt already exists. Overwriting...\n",
      "File tokenized_doc_to_wordsCLN.txt saved successfully.\n"
     ]
    }
   ],
   "source": [
    "# SAVE TO FILES \n",
    "save_file('reviews_corpusCLN', 'txt', str(reviews_corpus_noPnc))\n",
    "save_file('tokenized_doc_to_sentencesCLN', 'txt', str(tokenized_doc_to_sentences_noPnc))\n",
    "save_file('tokenized_doc_to_wordsCLN', 'txt', str(tokenized_doc_to_words_noPnc))"
   ]
  },
  {
   "cell_type": "markdown",
   "id": "06a2bf5f-f398-4f8b-a951-be08ffe8c153",
   "metadata": {},
   "source": [
    "### ANALYSIS FUNCTIONS "
   ]
  },
  {
   "cell_type": "code",
   "execution_count": 175,
   "id": "85c36093-3109-48a9-93e1-9c32720455e4",
   "metadata": {},
   "outputs": [],
   "source": [
    "def print_top_words(corpus_, dictionary_):\n",
    "    total_word_count = defaultdict(int)\n",
    "    word_weights = defaultdict(float)\n",
    "\n",
    "    for word_id, word_count in itertools.chain.from_iterable(corpus_):\n",
    "        total_word_count[word_id] += word_count\n",
    "        \n",
    "    sorted_tota_words_count = sorted(total_word_count.items(), key = lambda w: w[1], reverse = True)\n",
    "    \n",
    "    tfidf = TfidfModel(corpus_)\n",
    "\n",
    "\n",
    "# ---------------------- START OF CHATGPT CODE\n",
    "    for doc in corpus_:\n",
    "        tfidf_weights = tfidf[doc]  # Calculate TF-IDF for the review\n",
    "    \n",
    "    for term_id, weight in tfidf_weights:\n",
    "        word_weights[term_id] += weight  # Aggregate the weight for the term\n",
    "\n",
    "    # Sort the terms by weight in descending order\n",
    "    sorted_word_weights = sorted(word_weights.items(), key=lambda x: x[1], reverse=True)\n",
    "\n",
    "    # Print the top 10 terms with their weights\n",
    "    top_words = [(dictionary_.get(term_id), weight) for term_id, weight in sorted_word_weights[:50]]\n",
    "\n",
    "    for word, weight in top_words:\n",
    "        print(word, weight)\n",
    "\n",
    "# ---------------------- END OF CHATGPT CODE \n"
   ]
  },
  {
   "cell_type": "code",
   "execution_count": 176,
   "id": "e35011ca-cf85-4005-8381-2e111f173569",
   "metadata": {},
   "outputs": [],
   "source": [
    "def generate_dictionary(text, name):\n",
    "    \"\"\" \n",
    "    As input takes in the text to build the dictionary for and the name of a .mm file\n",
    "    \"\"\" \n",
    "    \n",
    "    dictionary = Dictionary(text)\n",
    "    \n",
    "    corpus = [dictionary.doc2bow(review) for review in text] \n",
    "    \n",
    "    filename = f\"{name}.mm\"\n",
    "    \n",
    "    MmCorpus.serialize(filename, corpus)\n",
    "    \n",
    "    return dictionary, corpus\n",
    "\n",
    "\n",
    "def build_lda_model(n_topic, corpus_, dictionary_):\n",
    "    lda_model = gensim.models.ldamodel.LdaModel(corpus = corpus_,\n",
    "                                              num_topics = n_topic,\n",
    "                                              id2word = dictionary_,\n",
    "                                              random_state = 100,\n",
    "                                              update_every = 1,\n",
    "                                              chunksize = 1000,\n",
    "                                              passes = 10,\n",
    "                                              alpha = 'auto',\n",
    "                                              per_word_topics = True)\n",
    "    return lda_model\n",
    "\n",
    "\n",
    "def train_models(corpus_, dictionary_):\n",
    "    list_to_hold_models = []\n",
    "    topic_n_to_try = [5, 6, 7, 8, 9, 10, 11, 12, 13, 14, 15]\n",
    "    \n",
    "    for i in range(len(topic_n_to_try)):\n",
    "        list_to_hold_models.insert(i, build_lda_model(topic_n_to_try[i], corpus_, dictionary_))\n",
    "        \n",
    "    return list_to_hold_models\n",
    "\n",
    "\n",
    "def calculate_perplexity(model, corpus_):\n",
    "    perplexity = model.log_perplexity(corpus_)\n",
    "    return perplexity\n",
    "\n",
    "def calculate_coherence(model, text, dictionary_):\n",
    "    coherence_model_lda = CoherenceModel(model = model, texts = text, dictionary = dictionary_, coherence='c_v')\n",
    "    coherence_lda = coherence_model_lda.get_coherence()\n",
    "\n",
    "    return coherence_lda\n",
    "\n",
    "def build_model_comparison_table(list_of_models, corpus_, dictionary_, data):\n",
    "    tracker = 5 \n",
    "    models_perplexity = []\n",
    "    models_coherence = []\n",
    "    models_topics = [5, 6, 7, 8, 9, 10, 11, 12, 13, 14, 15]\n",
    "    \n",
    "    \n",
    "    for model in list_of_models:\n",
    "        models_perplexity.append(calculate_perplexity(model, corpus_))\n",
    "        models_coherence.append(calculate_coherence(model, data, dictionary_))\n",
    "        tracker += 1\n",
    "        \n",
    "    if tracker == 15:\n",
    "        print(\"Successfully generated model comparison table.\") \n",
    "        \n",
    "    models_df = pd.DataFrame({\n",
    "        'Num_Topics': models_topics,\n",
    "        'Coherence': models_coherence,\n",
    "        'Perplexity': models_perplexity,\n",
    "    })\n",
    "\n",
    "    return models_df\n",
    "\n",
    "\n",
    "def find_best_model(models_df):\n",
    "    print(\"Number of topics with the maximum Coherence is \", models_df.loc[models_df['Coherence'].idxmax(), 'Num_Topics'])\n",
    "    print(\"Number of topics with the minimum Perplexity is \", models_df.loc[models_df['Perplexity'].idxmin(), 'Num_Topics'])\n",
    "    \n",
    "    if models_df.loc[models_df['Coherence'].idxmax(), 'Num_Topics'] == models_df.loc[models_df['Perplexity'].idxmin(), 'Num_Topics']:\n",
    "        best_model_row = models_df.loc[models_df['Perplexity'].idxmin()]\n",
    "        best_number_of_topics = best_model_row['Num_Topics']\n",
    "    else:\n",
    "        models_df['Normalized_Perplexity'] = (models_df['Perplexity'] - models_df['Perplexity'].min()) / (models_df['Perplexity'].max() - models_df['Perplexity'].min())\n",
    "        models_df['Normalized_Coherence'] = (models_df['Coherence'] - models_df['Coherence'].min()) / (models_df['Coherence'].max() - models_df['Coherence'].min())\n",
    "\n",
    "        models_df['Inverted_Perplexity'] = 1 - models_df['Normalized_Perplexity'] # because smaller is better\n",
    "\n",
    "        weight_preplexity = 0.5\n",
    "        weight_coherence = 0.5\n",
    "\n",
    "        models_df['Score'] = weight_coherence * models_df['Normalized_Coherence'] + weight_preplexity * models_df['Inverted_Perplexity']\n",
    "\n",
    "        best_model_row = models_df.loc[models_df['Score'].idxmax()]\n",
    "        best_number_of_topics = best_model_row['Num_Topics']\n",
    "\n",
    "    print(best_model_row)\n",
    "                                       \n",
    "    return best_model_row, best_number_of_topics\n",
    "                                                                                                     \n",
    "                                                                                                \n",
    "def pick_best_model(num, m):\n",
    "    \"\"\" \n",
    "    Model inputs are: \n",
    "        num = best number of topics found according to find_best_model()\n",
    "        m = list of models \n",
    "    \"\"\"\n",
    "    model_index = num - 5 \n",
    "    model_index = int(model_index)\n",
    "                                       \n",
    "    best_model = m[model_index]\n",
    "                                       \n",
    "    return best_model  \n",
    "                                                                  \n",
    "def print_topics(model, corpus):\n",
    "    pprint(model.print_topics())\n",
    "    doc_lda = model[corpus]\n",
    "    \n",
    "    return doc_lda"
   ]
  },
  {
   "cell_type": "code",
   "execution_count": 247,
   "id": "a383edd7-b442-4734-8db5-ec36a9617734",
   "metadata": {},
   "outputs": [],
   "source": [
    "#tokens = tokenized_doc_to_words_noPnc\n",
    "tokens = stemmed_data\n",
    "\n",
    "bigrams = [list(ngrams(sentence, 2)) for sentence in tokens]  # Bigrams\n",
    "trigrams = [list(ngrams(sentence, 3)) for sentence in tokens]  # Trigrams\n",
    "\n",
    "bigrams_combined = [[f\"{a} {b}\" for a, b in sublist] for sublist in bigrams]\n",
    "trigrams_combined = [[f\"{a} {b} {c}\" for a, b, c in sublist] for sublist in trigrams]\n"
   ]
  },
  {
   "cell_type": "markdown",
   "id": "ef0e3c80-2025-4fb6-9fc0-174110882c85",
   "metadata": {},
   "source": [
    "#### Generate Dictionary and Corpuses for unigrams, bigrams and trigrams "
   ]
  },
  {
   "cell_type": "code",
   "execution_count": 248,
   "id": "bfa75224-1405-472c-a1ff-a4af938f4ffc",
   "metadata": {},
   "outputs": [],
   "source": [
    "unigram_dict = generate_dictionary(tokens, 'mmcorpus_ios_unigrams')[0]\n",
    "unigram_corpus = generate_dictionary(tokens, 'mmcorpus_ios_unigrams')[1]\n",
    "\n",
    "\n"
   ]
  },
  {
   "cell_type": "code",
   "execution_count": 249,
   "id": "1e8f0308-1374-4a92-8e19-98465aaa723e",
   "metadata": {},
   "outputs": [],
   "source": [
    "bigram_dict = generate_dictionary(bigrams_combined, 'mmcorpus_ios_bigrams')[0]\n",
    "bigram_corpus = generate_dictionary(bigrams_combined, 'mmcorpus_ios_bigrams')[1]"
   ]
  },
  {
   "cell_type": "code",
   "execution_count": 250,
   "id": "80082289-8826-4ebc-889a-eb16db11f37a",
   "metadata": {},
   "outputs": [],
   "source": [
    "\n",
    "trigram_dict = generate_dictionary(trigrams_combined, 'mmcorpus_ios_trigrams')[0]\n",
    "trigram_corpus = generate_dictionary(trigrams_combined, 'mmcorpus_ios_trigrams')[1]"
   ]
  },
  {
   "cell_type": "markdown",
   "id": "3d556204-d88b-4ec9-8570-80be92df2da6",
   "metadata": {},
   "source": [
    "Top Words "
   ]
  },
  {
   "cell_type": "code",
   "execution_count": 251,
   "id": "21cc5698-bd0d-496f-9559-c18563e443c9",
   "metadata": {},
   "outputs": [
    {
     "name": "stdout",
     "output_type": "stream",
     "text": [
      "simpl 0.8269718651719848\n",
      "easi 0.5622433051748758\n"
     ]
    }
   ],
   "source": [
    "print_top_words(unigram_corpus, unigram_dict)"
   ]
  },
  {
   "cell_type": "code",
   "execution_count": 252,
   "id": "29761766-bad5-471e-ac88-5bfcff6e6eab",
   "metadata": {},
   "outputs": [
    {
     "name": "stdout",
     "output_type": "stream",
     "text": [
      "easi simpl 1.0\n"
     ]
    }
   ],
   "source": [
    "print_top_words(bigram_corpus, bigram_dict)"
   ]
  },
  {
   "cell_type": "code",
   "execution_count": 253,
   "id": "2a53bd7c-4ca3-4809-9395-1bbd272d66d9",
   "metadata": {},
   "outputs": [],
   "source": [
    "print_top_words(trigram_corpus, trigram_dict)"
   ]
  },
  {
   "cell_type": "code",
   "execution_count": 254,
   "id": "a2f903a3-c605-4629-bb03-179dad06d31c",
   "metadata": {},
   "outputs": [],
   "source": [
    "# uni_gram_models = []\n",
    "\n",
    "uni_gram_models = train_models(unigram_corpus, unigram_dict)"
   ]
  },
  {
   "cell_type": "code",
   "execution_count": 255,
   "id": "3844561a-0b7c-47de-9d72-77d67ed461f2",
   "metadata": {},
   "outputs": [
    {
     "data": {
      "text/html": [
       "<div>\n",
       "<style scoped>\n",
       "    .dataframe tbody tr th:only-of-type {\n",
       "        vertical-align: middle;\n",
       "    }\n",
       "\n",
       "    .dataframe tbody tr th {\n",
       "        vertical-align: top;\n",
       "    }\n",
       "\n",
       "    .dataframe thead th {\n",
       "        text-align: right;\n",
       "    }\n",
       "</style>\n",
       "<table border=\"1\" class=\"dataframe\">\n",
       "  <thead>\n",
       "    <tr style=\"text-align: right;\">\n",
       "      <th></th>\n",
       "      <th>Num_Topics</th>\n",
       "      <th>Coherence</th>\n",
       "      <th>Perplexity</th>\n",
       "    </tr>\n",
       "  </thead>\n",
       "  <tbody>\n",
       "    <tr>\n",
       "      <th>0</th>\n",
       "      <td>5</td>\n",
       "      <td>0.503522</td>\n",
       "      <td>-7.031902</td>\n",
       "    </tr>\n",
       "    <tr>\n",
       "      <th>1</th>\n",
       "      <td>6</td>\n",
       "      <td>0.474547</td>\n",
       "      <td>-7.058759</td>\n",
       "    </tr>\n",
       "    <tr>\n",
       "      <th>2</th>\n",
       "      <td>7</td>\n",
       "      <td>0.484822</td>\n",
       "      <td>-7.090710</td>\n",
       "    </tr>\n",
       "    <tr>\n",
       "      <th>3</th>\n",
       "      <td>8</td>\n",
       "      <td>0.439361</td>\n",
       "      <td>-7.134292</td>\n",
       "    </tr>\n",
       "    <tr>\n",
       "      <th>4</th>\n",
       "      <td>9</td>\n",
       "      <td>0.473287</td>\n",
       "      <td>-7.202629</td>\n",
       "    </tr>\n",
       "    <tr>\n",
       "      <th>5</th>\n",
       "      <td>10</td>\n",
       "      <td>0.402439</td>\n",
       "      <td>-7.304552</td>\n",
       "    </tr>\n",
       "    <tr>\n",
       "      <th>6</th>\n",
       "      <td>11</td>\n",
       "      <td>0.420414</td>\n",
       "      <td>-7.462256</td>\n",
       "    </tr>\n",
       "    <tr>\n",
       "      <th>7</th>\n",
       "      <td>12</td>\n",
       "      <td>0.422297</td>\n",
       "      <td>-7.712037</td>\n",
       "    </tr>\n",
       "    <tr>\n",
       "      <th>8</th>\n",
       "      <td>13</td>\n",
       "      <td>0.363059</td>\n",
       "      <td>-8.081400</td>\n",
       "    </tr>\n",
       "    <tr>\n",
       "      <th>9</th>\n",
       "      <td>14</td>\n",
       "      <td>0.370676</td>\n",
       "      <td>-8.439311</td>\n",
       "    </tr>\n",
       "    <tr>\n",
       "      <th>10</th>\n",
       "      <td>15</td>\n",
       "      <td>0.348387</td>\n",
       "      <td>-8.663447</td>\n",
       "    </tr>\n",
       "  </tbody>\n",
       "</table>\n",
       "</div>"
      ],
      "text/plain": [
       "    Num_Topics  Coherence  Perplexity\n",
       "0            5   0.503522   -7.031902\n",
       "1            6   0.474547   -7.058759\n",
       "2            7   0.484822   -7.090710\n",
       "3            8   0.439361   -7.134292\n",
       "4            9   0.473287   -7.202629\n",
       "5           10   0.402439   -7.304552\n",
       "6           11   0.420414   -7.462256\n",
       "7           12   0.422297   -7.712037\n",
       "8           13   0.363059   -8.081400\n",
       "9           14   0.370676   -8.439311\n",
       "10          15   0.348387   -8.663447"
      ]
     },
     "execution_count": 255,
     "metadata": {},
     "output_type": "execute_result"
    }
   ],
   "source": [
    "unigram_model_comparison = build_model_comparison_table(uni_gram_models, unigram_corpus, unigram_dict, tokens)\n",
    "unigram_model_comparison"
   ]
  },
  {
   "cell_type": "code",
   "execution_count": 256,
   "id": "fa0db3ad-dc46-4bb2-91b0-e995371808af",
   "metadata": {},
   "outputs": [
    {
     "name": "stdout",
     "output_type": "stream",
     "text": [
      "Number of topics with the maximum Coherence is  5\n",
      "Number of topics with the minimum Perplexity is  15\n",
      "Num_Topics               14.000000\n",
      "Coherence                 0.370676\n",
      "Perplexity               -8.439311\n",
      "Normalized_Perplexity     0.137377\n",
      "Normalized_Coherence      0.143672\n",
      "Inverted_Perplexity       0.862623\n",
      "Score                     0.503148\n",
      "Name: 9, dtype: float64\n",
      "Number of topics with the maximum Coherence is  5\n",
      "Number of topics with the minimum Perplexity is  15\n",
      "Num_Topics               14.000000\n",
      "Coherence                 0.370676\n",
      "Perplexity               -8.439311\n",
      "Normalized_Perplexity     0.137377\n",
      "Normalized_Coherence      0.143672\n",
      "Inverted_Perplexity       0.862623\n",
      "Score                     0.503148\n",
      "Name: 9, dtype: float64\n"
     ]
    }
   ],
   "source": [
    "unigram_best_row = find_best_model(unigram_model_comparison)[0]\n",
    "unigram_best_n_topics = find_best_model(unigram_model_comparison)[1]"
   ]
  },
  {
   "cell_type": "code",
   "execution_count": 257,
   "id": "18e7ca6c-ed7a-4342-8bed-b609aa5e8094",
   "metadata": {},
   "outputs": [],
   "source": [
    "unigram_best_model = pick_best_model(unigram_best_n_topics, uni_gram_models)"
   ]
  },
  {
   "cell_type": "code",
   "execution_count": 258,
   "id": "529c6e1d-514d-4a5f-8377-dade6f2cfdf7",
   "metadata": {
    "tags": []
   },
   "outputs": [
    {
     "name": "stdout",
     "output_type": "stream",
     "text": [
      "Best Unigram model is: LdaModel<num_terms=8252, num_topics=14, decay=0.5, chunksize=1000>\n"
     ]
    }
   ],
   "source": [
    "print(\"Best Unigram model is:\", unigram_best_model)"
   ]
  },
  {
   "cell_type": "code",
   "execution_count": 259,
   "id": "3c0bf0d1-5879-4137-bbe5-04d59593322e",
   "metadata": {},
   "outputs": [],
   "source": [
    "# bi_gram_models = []\n",
    "\n",
    "bi_gram_models = train_models(bigram_corpus, bigram_dict)"
   ]
  },
  {
   "cell_type": "code",
   "execution_count": 260,
   "id": "8931dadc-5bd0-4009-abb7-a924eac87912",
   "metadata": {},
   "outputs": [
    {
     "data": {
      "text/html": [
       "<div>\n",
       "<style scoped>\n",
       "    .dataframe tbody tr th:only-of-type {\n",
       "        vertical-align: middle;\n",
       "    }\n",
       "\n",
       "    .dataframe tbody tr th {\n",
       "        vertical-align: top;\n",
       "    }\n",
       "\n",
       "    .dataframe thead th {\n",
       "        text-align: right;\n",
       "    }\n",
       "</style>\n",
       "<table border=\"1\" class=\"dataframe\">\n",
       "  <thead>\n",
       "    <tr style=\"text-align: right;\">\n",
       "      <th></th>\n",
       "      <th>Num_Topics</th>\n",
       "      <th>Coherence</th>\n",
       "      <th>Perplexity</th>\n",
       "    </tr>\n",
       "  </thead>\n",
       "  <tbody>\n",
       "    <tr>\n",
       "      <th>0</th>\n",
       "      <td>5</td>\n",
       "      <td>0.521974</td>\n",
       "      <td>-12.583105</td>\n",
       "    </tr>\n",
       "    <tr>\n",
       "      <th>1</th>\n",
       "      <td>6</td>\n",
       "      <td>0.561168</td>\n",
       "      <td>-12.965582</td>\n",
       "    </tr>\n",
       "    <tr>\n",
       "      <th>2</th>\n",
       "      <td>7</td>\n",
       "      <td>0.564346</td>\n",
       "      <td>-13.511497</td>\n",
       "    </tr>\n",
       "    <tr>\n",
       "      <th>3</th>\n",
       "      <td>8</td>\n",
       "      <td>0.583183</td>\n",
       "      <td>-14.280479</td>\n",
       "    </tr>\n",
       "    <tr>\n",
       "      <th>4</th>\n",
       "      <td>9</td>\n",
       "      <td>0.567839</td>\n",
       "      <td>-15.391978</td>\n",
       "    </tr>\n",
       "    <tr>\n",
       "      <th>5</th>\n",
       "      <td>10</td>\n",
       "      <td>0.573179</td>\n",
       "      <td>-16.692533</td>\n",
       "    </tr>\n",
       "    <tr>\n",
       "      <th>6</th>\n",
       "      <td>11</td>\n",
       "      <td>0.585259</td>\n",
       "      <td>-18.312785</td>\n",
       "    </tr>\n",
       "    <tr>\n",
       "      <th>7</th>\n",
       "      <td>12</td>\n",
       "      <td>0.597543</td>\n",
       "      <td>-19.743084</td>\n",
       "    </tr>\n",
       "    <tr>\n",
       "      <th>8</th>\n",
       "      <td>13</td>\n",
       "      <td>0.594931</td>\n",
       "      <td>-21.153182</td>\n",
       "    </tr>\n",
       "    <tr>\n",
       "      <th>9</th>\n",
       "      <td>14</td>\n",
       "      <td>0.600651</td>\n",
       "      <td>-22.690274</td>\n",
       "    </tr>\n",
       "    <tr>\n",
       "      <th>10</th>\n",
       "      <td>15</td>\n",
       "      <td>0.601045</td>\n",
       "      <td>-23.530992</td>\n",
       "    </tr>\n",
       "  </tbody>\n",
       "</table>\n",
       "</div>"
      ],
      "text/plain": [
       "    Num_Topics  Coherence  Perplexity\n",
       "0            5   0.521974  -12.583105\n",
       "1            6   0.561168  -12.965582\n",
       "2            7   0.564346  -13.511497\n",
       "3            8   0.583183  -14.280479\n",
       "4            9   0.567839  -15.391978\n",
       "5           10   0.573179  -16.692533\n",
       "6           11   0.585259  -18.312785\n",
       "7           12   0.597543  -19.743084\n",
       "8           13   0.594931  -21.153182\n",
       "9           14   0.600651  -22.690274\n",
       "10          15   0.601045  -23.530992"
      ]
     },
     "execution_count": 260,
     "metadata": {},
     "output_type": "execute_result"
    }
   ],
   "source": [
    "bigram_model_comparison = build_model_comparison_table(bi_gram_models, bigram_corpus, bigram_dict, bigrams_combined)\n",
    "bigram_model_comparison"
   ]
  },
  {
   "cell_type": "code",
   "execution_count": 261,
   "id": "3e006415-eb53-4c09-ba9a-2b087bf827da",
   "metadata": {},
   "outputs": [
    {
     "name": "stdout",
     "output_type": "stream",
     "text": [
      "Number of topics with the maximum Coherence is  15\n",
      "Number of topics with the minimum Perplexity is  15\n",
      "Num_Topics    15.000000\n",
      "Coherence      0.601045\n",
      "Perplexity   -23.530992\n",
      "Name: 10, dtype: float64\n",
      "Number of topics with the maximum Coherence is  15\n",
      "Number of topics with the minimum Perplexity is  15\n",
      "Num_Topics    15.000000\n",
      "Coherence      0.601045\n",
      "Perplexity   -23.530992\n",
      "Name: 10, dtype: float64\n"
     ]
    }
   ],
   "source": [
    "bigram_best_row = find_best_model(bigram_model_comparison)[0]\n",
    "bigram_best_n_topics = find_best_model(bigram_model_comparison)[1]"
   ]
  },
  {
   "cell_type": "code",
   "execution_count": 262,
   "id": "f06af283-bc6d-4bb3-8dd3-8050d3519151",
   "metadata": {},
   "outputs": [],
   "source": [
    "bigram_best_model = pick_best_model(bigram_best_n_topics, bi_gram_models)\n"
   ]
  },
  {
   "cell_type": "code",
   "execution_count": 263,
   "id": "f000c20d-9aca-4cad-8c9c-d47336079161",
   "metadata": {},
   "outputs": [
    {
     "name": "stdout",
     "output_type": "stream",
     "text": [
      "Best Bigram model is: LdaModel<num_terms=98170, num_topics=15, decay=0.5, chunksize=1000>\n"
     ]
    }
   ],
   "source": [
    "print(\"Best Bigram model is:\", bigram_best_model)"
   ]
  },
  {
   "cell_type": "code",
   "execution_count": 264,
   "id": "8c82af6b-8e35-4755-9608-9cf40064d738",
   "metadata": {},
   "outputs": [],
   "source": [
    "# tri_gram_models = []\n",
    "\n",
    "tri_gram_models = train_models(trigram_corpus, trigram_dict)"
   ]
  },
  {
   "cell_type": "code",
   "execution_count": 265,
   "id": "b0c69c8c-21d2-43fa-92f2-6a962f289781",
   "metadata": {},
   "outputs": [
    {
     "data": {
      "text/html": [
       "<div>\n",
       "<style scoped>\n",
       "    .dataframe tbody tr th:only-of-type {\n",
       "        vertical-align: middle;\n",
       "    }\n",
       "\n",
       "    .dataframe tbody tr th {\n",
       "        vertical-align: top;\n",
       "    }\n",
       "\n",
       "    .dataframe thead th {\n",
       "        text-align: right;\n",
       "    }\n",
       "</style>\n",
       "<table border=\"1\" class=\"dataframe\">\n",
       "  <thead>\n",
       "    <tr style=\"text-align: right;\">\n",
       "      <th></th>\n",
       "      <th>Num_Topics</th>\n",
       "      <th>Coherence</th>\n",
       "      <th>Perplexity</th>\n",
       "    </tr>\n",
       "  </thead>\n",
       "  <tbody>\n",
       "    <tr>\n",
       "      <th>0</th>\n",
       "      <td>5</td>\n",
       "      <td>0.679163</td>\n",
       "      <td>-13.632014</td>\n",
       "    </tr>\n",
       "    <tr>\n",
       "      <th>1</th>\n",
       "      <td>6</td>\n",
       "      <td>0.690540</td>\n",
       "      <td>-18.637951</td>\n",
       "    </tr>\n",
       "    <tr>\n",
       "      <th>2</th>\n",
       "      <td>7</td>\n",
       "      <td>0.668556</td>\n",
       "      <td>-20.056700</td>\n",
       "    </tr>\n",
       "    <tr>\n",
       "      <th>3</th>\n",
       "      <td>8</td>\n",
       "      <td>0.648240</td>\n",
       "      <td>-17.091047</td>\n",
       "    </tr>\n",
       "    <tr>\n",
       "      <th>4</th>\n",
       "      <td>9</td>\n",
       "      <td>0.611342</td>\n",
       "      <td>-20.387500</td>\n",
       "    </tr>\n",
       "    <tr>\n",
       "      <th>5</th>\n",
       "      <td>10</td>\n",
       "      <td>0.546128</td>\n",
       "      <td>-25.193121</td>\n",
       "    </tr>\n",
       "    <tr>\n",
       "      <th>6</th>\n",
       "      <td>11</td>\n",
       "      <td>0.558331</td>\n",
       "      <td>-27.717307</td>\n",
       "    </tr>\n",
       "    <tr>\n",
       "      <th>7</th>\n",
       "      <td>12</td>\n",
       "      <td>0.539569</td>\n",
       "      <td>-29.870828</td>\n",
       "    </tr>\n",
       "    <tr>\n",
       "      <th>8</th>\n",
       "      <td>13</td>\n",
       "      <td>0.491785</td>\n",
       "      <td>-31.834333</td>\n",
       "    </tr>\n",
       "    <tr>\n",
       "      <th>9</th>\n",
       "      <td>14</td>\n",
       "      <td>0.493631</td>\n",
       "      <td>-33.318609</td>\n",
       "    </tr>\n",
       "    <tr>\n",
       "      <th>10</th>\n",
       "      <td>15</td>\n",
       "      <td>0.442439</td>\n",
       "      <td>-34.940001</td>\n",
       "    </tr>\n",
       "  </tbody>\n",
       "</table>\n",
       "</div>"
      ],
      "text/plain": [
       "    Num_Topics  Coherence  Perplexity\n",
       "0            5   0.679163  -13.632014\n",
       "1            6   0.690540  -18.637951\n",
       "2            7   0.668556  -20.056700\n",
       "3            8   0.648240  -17.091047\n",
       "4            9   0.611342  -20.387500\n",
       "5           10   0.546128  -25.193121\n",
       "6           11   0.558331  -27.717307\n",
       "7           12   0.539569  -29.870828\n",
       "8           13   0.491785  -31.834333\n",
       "9           14   0.493631  -33.318609\n",
       "10          15   0.442439  -34.940001"
      ]
     },
     "execution_count": 265,
     "metadata": {},
     "output_type": "execute_result"
    }
   ],
   "source": [
    "trigram_model_comparison = build_model_comparison_table(tri_gram_models, trigram_corpus, trigram_dict, trigrams_combined)\n",
    "trigram_model_comparison"
   ]
  },
  {
   "cell_type": "code",
   "execution_count": 266,
   "id": "b643824a-8de8-4fec-bcf8-1ed04c8557c3",
   "metadata": {},
   "outputs": [
    {
     "name": "stdout",
     "output_type": "stream",
     "text": [
      "Number of topics with the maximum Coherence is  6\n",
      "Number of topics with the minimum Perplexity is  15\n",
      "Num_Topics                6.000000\n",
      "Coherence                 0.690540\n",
      "Perplexity              -18.637951\n",
      "Normalized_Perplexity     0.765068\n",
      "Normalized_Coherence      1.000000\n",
      "Inverted_Perplexity       0.234932\n",
      "Score                     0.617466\n",
      "Name: 1, dtype: float64\n",
      "Number of topics with the maximum Coherence is  6\n",
      "Number of topics with the minimum Perplexity is  15\n",
      "Num_Topics                6.000000\n",
      "Coherence                 0.690540\n",
      "Perplexity              -18.637951\n",
      "Normalized_Perplexity     0.765068\n",
      "Normalized_Coherence      1.000000\n",
      "Inverted_Perplexity       0.234932\n",
      "Score                     0.617466\n",
      "Name: 1, dtype: float64\n"
     ]
    }
   ],
   "source": [
    "trigram_best_row = find_best_model(trigram_model_comparison)[0]\n",
    "trigram_best_n_topics = find_best_model(trigram_model_comparison)[1]"
   ]
  },
  {
   "cell_type": "code",
   "execution_count": 267,
   "id": "623affdc-8075-45d2-9e79-d48ae34e8fd8",
   "metadata": {},
   "outputs": [],
   "source": [
    "trigram_best_model = pick_best_model(trigram_best_n_topics, tri_gram_models)"
   ]
  },
  {
   "cell_type": "code",
   "execution_count": 268,
   "id": "4b0eefce-e88d-4593-b7fb-10cd46bd5702",
   "metadata": {},
   "outputs": [
    {
     "name": "stdout",
     "output_type": "stream",
     "text": [
      "Best Trigram model is: LdaModel<num_terms=139128, num_topics=6, decay=0.5, chunksize=1000>\n"
     ]
    }
   ],
   "source": [
    "print(\"Best Trigram model is:\", trigram_best_model)"
   ]
  },
  {
   "cell_type": "markdown",
   "id": "e6f61c98-da69-43cb-a571-63993f5f1687",
   "metadata": {},
   "source": [
    "|N-gram|Perplexity|Coherence|# of topics|\n",
    "|------|----------|---------|-----------|\n",
    "|Uni| - 8.391336 |0.388072 |15|\n",
    "|Bi| -21.654707| 0.598744 |15|\n",
    "|Tri|-26.147505|0.610071|15|\n",
    "|------|----------|---------|-----------|\n",
    "|Uni|-8.360322|0.421913|15|\n",
    "|Bi|-21.532140|0.586661|15|\n",
    "|Tri|-24.969967|0.592315|15|\n",
    "|------|----------|---------|-----------|\n",
    "|Uni|  -8.439311 |0.370676 |14|\n",
    "|Bi|-23.530992|0.601045|15|\n",
    "|Tri|-18.637951|0.690540|6|\n",
    "\n",
    "\n",
    "Scoring the Bigram and Trigram best models: \n",
    "- $$score = (1 + 23.53) \\times 0.5 + 0.5 \\times 0.601 = 12.5655$$\n",
    "- $$score = (1 + 18.638) \\times 0.5 + 0.5 \\times 0.691 = 10.1645$$\n",
    "\n",
    "Therefore decided to use `bigram_best_model` as the best model.\n",
    " "
   ]
  },
  {
   "cell_type": "code",
   "execution_count": 271,
   "id": "a1a109fc-64b5-40df-b7e6-27e89eab8c37",
   "metadata": {},
   "outputs": [],
   "source": [
    "best_topic_model = bigram_best_model"
   ]
  },
  {
   "cell_type": "code",
   "execution_count": 272,
   "id": "f3a576ca-7e83-4637-90da-857533e49cac",
   "metadata": {},
   "outputs": [
    {
     "name": "stdout",
     "output_type": "stream",
     "text": [
      "[(0,\n",
      "  '0.011*\"dont know\" + 0.009*\"account balanc\" + 0.008*\"user experi\" + '\n",
      "  '0.007*\"home screen\" + 0.006*\"thank much\" + 0.006*\"enter password\" + '\n",
      "  '0.006*\"updat phone\" + 0.006*\"time use\" + 0.005*\"see balanc\" + 0.004*\"doesnt '\n",
      "  'allow\"'),\n",
      " (1,\n",
      "  '0.010*\"uninstal reinstal\" + 0.009*\"get error\" + 0.008*\"never problem\" + '\n",
      "  '0.007*\"dont want\" + 0.006*\"open account\" + 0.006*\"last month\" + 0.004*\"log '\n",
      "  'back\" + 0.004*\"longer use\" + 0.004*\"need use\" + 0.003*\"click “\"'),\n",
      " (2,\n",
      "  '0.026*\"face id\" + 0.015*\"sign in\" + 0.014*\"love app\" + 0.012*\"cant use\" + '\n",
      "  '0.011*\"first time\" + 0.009*\"cant log\" + 0.007*\"log account\" + 0.007*\"cant '\n",
      "  'see\" + 0.007*\"use work\" + 0.006*\"would great\"'),\n",
      " (3,\n",
      "  '0.029*\"user friendli\" + 0.009*\"pleas tri\" + 0.008*\"tri get\" + 0.008*\"older '\n",
      "  'version\" + 0.006*\"work anymor\" + 0.006*\"much better\" + 0.005*\"doesnt even\" '\n",
      "  '+ 0.004*\"wait line\" + 0.004*\"dont use\" + 0.003*\"peopl use\"'),\n",
      " (4,\n",
      "  '0.052*\"credit card\" + 0.024*\"doesnt work\" + 0.014*\"say “\" + 0.013*\"fix thi\" '\n",
      "  '+ 0.011*\"use it\" + 0.011*\"ive use\" + 0.009*\"pleas add\" + 0.007*\"use year\" + '\n",
      "  '0.006*\"ever sinc\" + 0.006*\"right now\"'),\n",
      " (5,\n",
      "  '0.022*\"dark mode\" + 0.018*\"latest updat\" + 0.008*\"much easier\" + 0.007*\"use '\n",
      "  'time\" + 0.005*\"2 factor\" + 0.005*\"factor authent\" + 0.005*\"noth work\" + '\n",
      "  '0.004*\"seem like\" + 0.004*\"give option\" + 0.003*\"use websit\"'),\n",
      " (6,\n",
      "  '0.044*\"pleas fix\" + 0.027*\"pay bill\" + 0.017*\"easi navig\" + 0.016*\"deposit '\n",
      "  'check\" + 0.011*\"last updat\" + 0.009*\"fix issu\" + 0.008*\"debit card\" + '\n",
      "  '0.008*\"sinc last\" + 0.008*\"delet reinstal\" + 0.007*\"multipl time\"'),\n",
      " (7,\n",
      "  '0.025*\"new updat\" + 0.019*\"work fine\" + 0.018*\"cant even\" + 0.013*\"tri '\n",
      "  'later\" + 0.012*\"mobil app\" + 0.009*\"wast time\" + 0.008*\"ive tri\" + '\n",
      "  '0.006*\"time log\" + 0.006*\"keep say\" + 0.006*\"keep get\"'),\n",
      " (8,\n",
      "  '0.022*\"use app\" + 0.020*\"access account\" + 0.018*\"chequ deposit\" + '\n",
      "  '0.017*\"work well\" + 0.013*\"mobil deposit\" + 0.011*\"new phone\" + 0.009*\"it '\n",
      "  'easi\" + 0.008*\"check account\" + 0.008*\"cant access\" + 0.005*\"good job\"'),\n",
      " (9,\n",
      "  '0.069*\"easi use\" + 0.028*\"custom servic\" + 0.007*\"never work\" + '\n",
      "  '0.007*\"everi singl\" + 0.007*\"credit score\" + 0.007*\"look like\" + '\n",
      "  '0.006*\"right away\" + 0.006*\"call custom\" + 0.006*\"tri login\" + 0.006*\"feel '\n",
      "  'like\"'),\n",
      " (10,\n",
      "  '0.021*\"time tri\" + 0.016*\"technic issu\" + 0.014*\"tri log\" + 0.013*\"everi '\n",
      "  'time\" + 0.007*\"half time\" + 0.005*\"appl pay\" + 0.005*\"use iphon\" + '\n",
      "  '0.005*\"cant login\" + 0.005*\"trust devic\" + 0.005*\"face recognit\"'),\n",
      " (11,\n",
      "  '0.024*\"log in\" + 0.017*\"great app\" + 0.015*\"would nice\" + 0.012*\"bill '\n",
      "  'payment\" + 0.009*\"error messag\" + 0.008*\"tri sign\" + 0.007*\"someth went\" + '\n",
      "  '0.007*\"went wrong\" + 0.007*\"latest version\" + 0.007*\"money account\"'),\n",
      " (12,\n",
      "  '0.041*\"can not\" + 0.040*\"deposit chequ\" + 0.015*\"wont let\" + 0.014*\"work '\n",
      "  'great\" + 0.013*\"would like\" + 0.012*\"fix it\" + 0.011*\"even though\" + '\n",
      "  '0.009*\"mani time\" + 0.008*\"stop work\" + 0.007*\"take pictur\"'),\n",
      " (13,\n",
      "  '0.036*\"everi time\" + 0.013*\"recent updat\" + 0.013*\"go back\" + 0.010*\"reset '\n",
      "  'password\" + 0.010*\"onlin bank\" + 0.010*\"e transfer\" + 0.008*\"bring back\" + '\n",
      "  '0.008*\"chequ account\" + 0.007*\"go branch\" + 0.006*\"easi conveni\"'),\n",
      " (14,\n",
      "  '0.019*\"step verif\" + 0.015*\"2 step\" + 0.010*\"phone number\" + 0.009*\"chang '\n",
      "  'password\" + 0.008*\"never issu\" + 0.007*\"two step\" + 0.006*\"make sure\" + '\n",
      "  '0.006*\"ive never\" + 0.006*\"previou version\" + 0.006*\"excel servic\"')]\n"
     ]
    },
    {
     "data": {
      "text/plain": [
       "<gensim.interfaces.TransformedCorpus at 0x7f01af6f2710>"
      ]
     },
     "execution_count": 272,
     "metadata": {},
     "output_type": "execute_result"
    }
   ],
   "source": [
    "print_topics(best_topic_model, trigram_corpus)"
   ]
  },
  {
   "cell_type": "code",
   "execution_count": 276,
   "id": "4f00f2bc-b7f0-49ee-949e-eb8dbfd2bdda",
   "metadata": {},
   "outputs": [
    {
     "data": {
      "image/png": "[encoded data removed]",
      "text/plain": [
       "<Figure size 1500x2250 with 15 Axes>"
      ]
     },
     "metadata": {},
     "output_type": "display_data"
    }
   ],
   "source": [
    "# Extract topics and their top terms\n",
    "import numpy as np \n",
    "\n",
    "topics = best_topic_model.show_topics(num_topics = 15, num_words=10, formatted=False)\n",
    "\n",
    "# Prepare data for plotting\n",
    "data = []\n",
    "for topic_id, terms in topics:\n",
    "    words, weights = zip(*terms)  # Unzip words and weights\n",
    "    data.append((topic_id, words, weights))\n",
    "\n",
    "# Plotting\n",
    "num_topics = len(data)\n",
    "fig, axes = plt.subplots(nrows=(num_topics // 2) + (num_topics % 2), ncols=2, figsize=(15, num_topics * 1.5), sharex=True)\n",
    "axes = axes.flatten()\n",
    "\n",
    "for i, (topic_id, words, weights) in enumerate(data):\n",
    "    ax = axes[i]\n",
    "    y_pos = np.arange(len(words))\n",
    "    ax.barh(y_pos, weights, align='center', color=f'C{i % 10}')  # Assign colors dynamically\n",
    "    ax.set_yticks(y_pos)\n",
    "    ax.set_yticklabels(words, fontsize=10)\n",
    "    ax.invert_yaxis()  # Top-down\n",
    "    ax.set_title(f'Topic #{topic_id + 1}', fontsize=12)\n",
    "    ax.tick_params(axis='both', which='major', labelsize=8)\n",
    "\n",
    "# Hide unused subplots\n",
    "for j in range(i + 1, len(axes)):\n",
    "    fig.delaxes(axes[j])\n",
    "\n",
    "plt.tight_layout()\n",
    "plt.suptitle(\"Topic Model Visualization\", fontsize=16, y=1.02)\n",
    "plt.subplots_adjust(top=0.9)\n",
    "plt.savefig(\"ios_topicmodeling_whole.png\")\n",
    "\n",
    "plt.show()"
   ]
  },
  {
   "cell_type": "code",
   "execution_count": 280,
   "id": "6710de3b-42ac-4263-9e2e-dce7844a554e",
   "metadata": {},
   "outputs": [
    {
     "name": "stderr",
     "output_type": "stream",
     "text": [
      "/home/yekta/anaconda3/lib/python3.11/site-packages/pandas/core/arrays/masked.py:60: UserWarning: Pandas requires version '1.3.6' or newer of 'bottleneck' (version '1.3.5' currently installed).\n",
      "  from pandas.core import (\n",
      "/home/yekta/anaconda3/lib/python3.11/site-packages/pandas/core/arrays/masked.py:60: UserWarning: Pandas requires version '1.3.6' or newer of 'bottleneck' (version '1.3.5' currently installed).\n",
      "  from pandas.core import (\n",
      "/home/yekta/anaconda3/lib/python3.11/site-packages/pandas/core/arrays/masked.py:60: UserWarning: Pandas requires version '1.3.6' or newer of 'bottleneck' (version '1.3.5' currently installed).\n",
      "  from pandas.core import (\n",
      "/home/yekta/anaconda3/lib/python3.11/site-packages/pandas/core/arrays/masked.py:60: UserWarning: Pandas requires version '1.3.6' or newer of 'bottleneck' (version '1.3.5' currently installed).\n",
      "  from pandas.core import (\n",
      "/home/yekta/anaconda3/lib/python3.11/site-packages/pandas/core/arrays/masked.py:60: UserWarning: Pandas requires version '1.3.6' or newer of 'bottleneck' (version '1.3.5' currently installed).\n",
      "  from pandas.core import (\n",
      "/home/yekta/anaconda3/lib/python3.11/site-packages/pandas/core/arrays/masked.py:60: UserWarning: Pandas requires version '1.3.6' or newer of 'bottleneck' (version '1.3.5' currently installed).\n",
      "  from pandas.core import (\n",
      "/home/yekta/anaconda3/lib/python3.11/site-packages/pandas/core/arrays/masked.py:60: UserWarning: Pandas requires version '1.3.6' or newer of 'bottleneck' (version '1.3.5' currently installed).\n",
      "  from pandas.core import (\n",
      "/home/yekta/anaconda3/lib/python3.11/site-packages/pandas/core/arrays/masked.py:60: UserWarning: Pandas requires version '1.3.6' or newer of 'bottleneck' (version '1.3.5' currently installed).\n",
      "  from pandas.core import (\n"
     ]
    },
    {
     "data": {
      "text/html": [
       "\n",
       "<link rel=\"stylesheet\" type=\"text/css\" href=\"https://cdn.jsdelivr.net/gh/bmabey/pyLDAvis@3.4.0/pyLDAvis/js/ldavis.v1.0.0.css\">\n",
       "\n",
       "\n",
       "<div id=\"ldavis_el33361396447238303848340675139\" style=\"background-color:white;\"></div>\n",
       "<script type=\"text/javascript\">\n",
       "\n",
       "var ldavis_el33361396447238303848340675139_data = {\"mdsDat\": {\"x\": [0.14199142525167424, -0.03349975788700489, -0.01768904730974188, -0.015595884448953072, -0.014706172579131946, -0.011296494863073736, -0.014292084557963526, -0.007707542917786539, -0.00514641898575584, -0.006103333865783288, -0.006645120658143115, -0.002953014797458064, -0.002490788000380561, -0.0021996604387809877, -0.0016661039417169704], \"y\": [-0.016297367409345516, -0.1249556247016893, 0.032719117688345, 0.024042000278040813, 0.021233677534125573, 0.013079930418997467, 0.020022046138601708, 0.007288352421956947, 0.004272080246396742, 0.005318779438903225, 0.00688192599944837, 0.0021428380577628147, 0.0017356264875135166, 0.0014836736916106728, 0.0010329437093317825], \"topics\": [1, 2, 3, 4, 5, 6, 7, 8, 9, 10, 11, 12, 13, 14, 15], \"cluster\": [1, 1, 1, 1, 1, 1, 1, 1, 1, 1, 1, 1, 1, 1, 1], \"Freq\": [10.659053992243459, 8.815642366150133, 8.756932215241608, 7.867942910031668, 7.838057164331104, 7.454621821223016, 7.2892885354439425, 5.911776668782025, 5.740913707068461, 5.676291746134857, 5.422079208480476, 5.211289907837377, 4.919190501040404, 4.444252751470548, 3.9926665045209204]}, \"tinfo\": {\"Term\": [\"easi use\", \"credit card\", \"can not\", \"deposit chequ\", \"pleas fix\", \"everi time\", \"pay bill\", \"custom servic\", \"new updat\", \"log in\", \"doesnt work\", \"face id\", \"work fine\", \"cant even\", \"use app\", \"user friendli\", \"wont let\", \"easi navig\", \"great app\", \"access account\", \"deposit check\", \"work great\", \"time tri\", \"chequ deposit\", \"step verif\", \"would like\", \"dark mode\", \"would nice\", \"fix it\", \"work well\", \"can not\", \"deposit chequ\", \"wont let\", \"work great\", \"would like\", \"fix it\", \"even though\", \"mani time\", \"stop work\", \"take pictur\", \"tri deposit\", \"cant open\", \"transfer account\", \"sinc updat\", \"new version\", \"let sign\", \"open app\", \"dont like\", \"say it\", \"pictur chequ\", \"dont need\", \"latest io\", \"access onlin\", \"alway say\", \"pro max\", \"two factor\", \"hasnt work\", \"like new\", \"use daili\", \"load account\", \"pleas fix\", \"pay bill\", \"easi navig\", \"deposit check\", \"last updat\", \"fix issu\", \"debit card\", \"sinc last\", \"delet reinstal\", \"multipl time\", \"fix asap\", \"quick balanc\", \"fix problem\", \"text messag\", \"% time\", \"use web\", \"mani year\", \"tri pay\", \"updat it\", \"im tri\", \"web browser\", \"abl see\", \"wont allow\", \"realli like\", \"30 year\", \"pretti much\", \"sinc new\", \"balanc widget\", \"balanc account\", \"wont open\", \"new updat\", \"work fine\", \"cant even\", \"tri later\", \"mobil app\", \"wast time\", \"ive tri\", \"time log\", \"keep say\", \"keep get\", \"doesnt show\", \"one account\", \"need fix\", \"updat app\", \"wont work\", \"need updat\", \"work properli\", \"transfer fund\", \"say need\", \"want use\", \"work it\", \"work iphon\", \"it realli\", \"get rid\", \"id work\", \"even get\", \"interest rate\", \"account deposit\", \"tri updat\", \"tri delet\", \"log in\", \"great app\", \"would nice\", \"bill payment\", \"error messag\", \"tri sign\", \"someth went\", \"went wrong\", \"latest version\", \"money account\", \"touch id\", \"close account\", \"later \\u201d\", \"\\u201c someth\", \"like see\", \"get messag\", \"log out\", \"longer work\", \"let log\", \"work perfectli\", \"messag say\", \"secur question\", \"last year\", \"2 week\", \"one star\", \"login account\", \"use bank\", \"much money\", \"want check\", \"give us\", \"credit card\", \"doesnt work\", \"say \\u201c\", \"fix thi\", \"use it\", \"ive use\", \"pleas add\", \"use year\", \"ever sinc\", \"right now\", \"pay credit\", \"time get\", \"real time\", \"deposit featur\", \"year ago\", \"show account\", \"use love\", \"custom support\", \"pend transact\", \"password everi\", \"card account\", \"\\u201c we\", \"five star\", \"card transact\", \"photo deposit\", \"see transact\", \"say password\", \"older phone\", \"take time\", \"get use\", \"recent updat\", \"go back\", \"reset password\", \"onlin bank\", \"e transfer\", \"bring back\", \"chequ account\", \"go branch\", \"easi conveni\", \"keep crash\", \"dont understand\", \"pleas bring\", \"back old\", \"old version\", \"use easi\", \"call support\", \"time go\", \"password say\", \"old one\", \"account without\", \"there alway\", \"time want\", \"1 star\", \"tri access\", \"old app\", \"there way\", \"one worst\", \"need work\", \"made life\", \"receiv money\", \"everi time\", \"easi use\", \"custom servic\", \"never work\", \"everi singl\", \"credit score\", \"look like\", \"right away\", \"call custom\", \"tri login\", \"feel like\", \"singl time\", \"month ago\", \"havent abl\", \"get account\", \"im happi\", \"facial recognit\", \"account app\", \"crash everi\", \"* *\", \"issu app\", \"20 year\", \"it work\", \"want see\", \"app it\", \"\\u201d messag\", \"could give\", \"3 month\", \"get \\u201c\", \"thing need\", \"mani problem\", \"use app\", \"access account\", \"chequ deposit\", \"work well\", \"mobil deposit\", \"new phone\", \"it easi\", \"check account\", \"cant access\", \"good job\", \"get work\", \"three time\", \"restart phone\", \"im use\", \"almost everi\", \"6 month\", \"fix app\", \"got new\", \"get fix\", \"dont think\", \"great featur\", \"internet connect\", \"it like\", \"take forev\", \"updat version\", \"let updat\", \"anoth bank\", \"next time\", \"phone cant\", \"abl sign\", \"face id\", \"sign in\", \"love app\", \"cant use\", \"first time\", \"cant log\", \"log account\", \"cant see\", \"use work\", \"would great\", \"take photo\", \"use face\", \"ever use\", \"new iphon\", \"id like\", \"it time\", \"load screen\", \"work good\", \"month now\", \"could see\", \"still cant\", \"\\u201d \\u201c\", \"im still\", \"not access\", \"ive ever\", \"allow log\", \"stuck load\", \"still get\", \"photo chequ\", \"alway ask\", \"step verif\", \"2 step\", \"phone number\", \"chang password\", \"never issu\", \"two step\", \"make sure\", \"ive never\", \"previou version\", \"excel servic\", \"card number\", \"long time\", \"abl deposit\", \"still work\", \"realli good\", \"keep track\", \"highli recommend\", \"wish could\", \"coupl month\", \"use ipad\", \"show balanc\", \"make chang\", \"basic function\", \"onlin servic\", \"new password\", \"verif process\", \"time ive\", \"allow user\", \"monthli fee\", \"time day\", \"time tri\", \"technic issu\", \"tri log\", \"half time\", \"appl pay\", \"use iphon\", \"cant login\", \"trust devic\", \"face recognit\", \"line credit\", \"even log\", \"tri open\", \"log app\", \"iphon 13\", \"view account\", \"make sens\", \"wrong \\u201d\", \"open it\", \"would help\", \"new one\", \"sure it\", \"get stuck\", \"keep tell\", \"someth wrong\", \"time updat\", \"account detail\", \"$ $\", \"two account\", \"go account\", \"updat made\", \"everi time\", \"uninstal reinstal\", \"get error\", \"never problem\", \"dont want\", \"open account\", \"last month\", \"log back\", \"longer use\", \"need use\", \"click \\u201c\", \"login screen\", \"cant sign\", \"reinstal app\", \"not use\", \"check deposit\", \"one best\", \"verif code\", \"current balanc\", \"avail credit\", \"difficult use\", \"make payment\", \"10 year\", \"back in\", \"white screen\", \"say account\", \"come back\", \"hope fix\", \"time now\", \"good easi\", \"version app\", \"dont know\", \"account balanc\", \"user experi\", \"home screen\", \"thank much\", \"enter password\", \"updat phone\", \"time use\", \"see balanc\", \"doesnt allow\", \"financi institut\", \"use abl\", \"fix bug\", \"dont work\", \"new featur\", \"see account\", \"even open\", \"gon na\", \"day ago\", \"pleas updat\", \"make easier\", \"fix pleas\", \"much time\", \"save password\", \"new design\", \"last version\", \"balanc transact\", \"never get\", \"want pay\", \"chang it\", \"dark mode\", \"latest updat\", \"much easier\", \"use time\", \"2 factor\", \"factor authent\", \"noth work\", \"seem like\", \"give option\", \"use websit\", \"realli annoy\", \"pleas make\", \"updat io\", \"write review\", \"tri again\", \"add credit\", \"3 time\", \"updat wont\", \"3 day\", \"realli bad\", \"two day\", \"account anymor\", \"hard use\", \"back chequ\", \"new look\", \"work app\", \"open close\", \"old iphon\", \"find anyth\", \"would expect\", \"user friendli\", \"pleas tri\", \"tri get\", \"older version\", \"work anymor\", \"much better\", \"doesnt even\", \"wait line\", \"dont use\", \"peopl use\", \"ask password\", \"one use\", \"5 day\", \"year now\", \"what point\", \"noth happen\", \"use account\", \"way better\", \"two year\", \"everi month\", \"could use\", \"it month\", \"tri call\", \"peopl get\", \"get in\", \"develop team\", \"soon possibl\", \"balanc show\", \"updat look\", \"amount owe\"], \"Freq\": [897.0, 730.0, 789.0, 769.0, 699.0, 607.0, 421.0, 373.0, 386.0, 345.0, 336.0, 273.0, 298.0, 286.0, 239.0, 206.0, 292.0, 268.0, 245.0, 217.0, 249.0, 270.0, 204.0, 196.0, 193.0, 247.0, 175.0, 207.0, 230.0, 179.0, 788.5129274552265, 768.0280520010915, 291.6239582577237, 269.6811340765734, 246.70511732291797, 229.175769212801, 207.3714001778748, 177.66206197652943, 148.8620105742955, 139.59348986710583, 135.3521115827176, 116.82168108973455, 115.84175900109514, 113.19701623948309, 110.42738764874471, 97.543022592897, 89.02991993480012, 69.43856574687803, 63.35059317991202, 61.91072202636447, 57.61315091010781, 51.27544677807822, 51.17598003081659, 50.30006858419905, 49.59846895922252, 48.50422782417375, 47.92680126051802, 47.85720839390564, 46.37732869247396, 44.467119883252685, 698.3781852037281, 420.3881831650229, 267.354459967542, 248.3478788674632, 177.04907447872097, 148.7749878560206, 129.83967723488377, 126.70211082559688, 125.44335273060253, 118.33706258445832, 84.99224202362569, 78.35134692597383, 77.72520275650142, 69.39172957763193, 66.8666899013943, 62.460358644589974, 52.27694788514329, 50.318490831512044, 48.57632111223824, 48.259969937021346, 47.906443455118946, 46.381106357158906, 43.99242526371918, 43.631644254674676, 43.243027820257616, 42.84275035059183, 42.27437343914937, 41.04160121512162, 40.46998574128307, 38.236995126991985, 385.2948489870723, 296.843476833707, 285.15200453343016, 204.4466715931261, 188.68941621580038, 134.92832475924806, 129.09093303122435, 100.04942352430002, 96.20107120068744, 93.48627202301533, 93.1628963873963, 91.94704820826664, 91.30658453228871, 84.2377317721786, 83.21360035096862, 72.20093947005478, 67.69539802789222, 66.59377327604328, 65.83227888105948, 62.064230640798165, 59.55748206135185, 58.638208551549106, 58.042325316702424, 52.40410176915346, 48.90942484900536, 48.81888786906078, 45.89642969542879, 42.18921522025111, 41.345389193735514, 39.2615161639576, 343.7857635949994, 244.34670298185688, 206.53350624601242, 165.27396702363168, 121.11513904562241, 107.41912519865555, 103.78871059466145, 103.78871059466145, 102.95374700066213, 102.20516031154301, 98.85659195663864, 94.8825506372502, 89.05608181690253, 82.93521204125099, 80.6343993569641, 80.103760789341, 64.98255431820267, 57.75049768207762, 54.99481201054467, 54.35124685287304, 49.6420087772371, 44.54976337813447, 44.31391378449865, 43.058462892850216, 40.12329556218183, 38.7055838066948, 35.11840697954968, 30.786711082873403, 30.6002023396155, 30.201457241413134, 728.9533081928737, 335.1159146258694, 190.94914745522064, 176.14052345706432, 158.40000281661258, 157.9950610777677, 123.98043983373151, 94.33279893154098, 91.33829513068352, 85.12674253503444, 78.75748620207409, 77.04513848511648, 75.7962776690915, 68.94306066264659, 67.2080116266834, 62.1875281198015, 47.141165950575676, 45.62699780031363, 45.20061920265597, 44.6577169948471, 42.54083701449566, 39.63724986698324, 37.03053242147394, 34.72971279271227, 33.46960286709634, 32.1573781818758, 32.134952030373306, 28.854054547452105, 28.373048648822255, 26.96209288074905, 176.50866226364448, 176.048619810373, 136.52469835201214, 131.23917632976344, 130.89100712863927, 112.26811724637525, 105.58210461445039, 99.51238561496854, 80.79122498191833, 69.12472782276645, 67.15200995244106, 58.70752975106156, 55.688958358768176, 53.59814859389584, 50.50785407200228, 50.36031397707391, 43.30778154095181, 41.03482724170585, 38.17109256783781, 37.70637678610969, 36.10178634497063, 35.451654698949234, 34.25908670341353, 33.81975644186188, 32.243620339919126, 28.400870087669922, 27.206386027466994, 26.66434223754304, 26.193438968938338, 25.12616446710126, 481.42411487047144, 896.3847135914386, 372.0028668588549, 97.496118524671, 96.66581368120865, 89.81951844252424, 87.228186707644, 82.15082695399633, 81.94464297243883, 75.14384956514543, 73.93332903016025, 72.48959028412081, 70.2208475239321, 68.72335715007645, 66.3014874447192, 63.508145369752114, 58.82326632993446, 51.7073538522459, 47.004881542725315, 41.77804449535572, 41.732332458664374, 39.94402762145946, 38.17967095622593, 37.87743229177086, 37.12982038559273, 28.48301926292242, 27.19386062043216, 24.60127831633753, 23.876664088598787, 23.602570085987967, 23.564914395916432, 238.08448303244342, 216.2735409276312, 195.2627635393672, 177.95622182880484, 143.1963466664755, 114.82051380640829, 94.78854568555863, 86.01908076164871, 80.6199554017531, 57.55738466536082, 49.38527604749215, 42.649222149038955, 41.41889378678032, 36.30358259426124, 34.54136024305583, 34.50397297065449, 32.31597995353839, 30.943186119832916, 30.9177424156835, 30.84642443935092, 29.79319888476661, 28.308332180579733, 27.855030033280727, 27.310068288337995, 26.845390843514814, 25.833021483513413, 25.20461535905638, 24.671663892407523, 24.315768289329394, 24.128888754395483, 272.04258419837, 149.98849799449266, 144.00324773171096, 128.6378835667968, 110.78470904446638, 95.39389275965414, 73.58986206028924, 68.14216786372661, 67.7646904678848, 60.808713435437106, 60.13974592438211, 54.56642267447624, 40.27296513368729, 38.22936001020543, 34.54677080844318, 32.8663694513467, 31.7510660990355, 28.36012536843603, 27.082547956446405, 25.3502010492185, 25.21716285690041, 23.920964224838265, 23.499178354434015, 22.763250270027168, 21.405168052330406, 21.124858826891465, 19.4452288552161, 18.455378205304275, 17.877080272387435, 17.760485905834962, 192.2984235420543, 154.4954002216306, 105.550497513172, 88.80700901678308, 78.08873193567429, 73.4704372012395, 64.90778723595861, 62.173023458104446, 61.881626064710936, 60.86304945574381, 58.93390343891692, 58.35635623447153, 58.34571398565393, 57.51368750553671, 50.26732192644498, 48.4253398654933, 45.87787112645979, 41.52373475266692, 33.93393009219424, 33.52711435518196, 31.72150714958477, 31.364344169539127, 31.31681938787106, 30.189820420965745, 27.27625215456249, 22.929785506678517, 22.92636224206777, 22.308523474109652, 22.097849174901704, 20.60228346288918, 203.2225674057217, 156.40400766494102, 139.20608098676303, 69.90408019192083, 51.64166231047859, 50.82741888275213, 48.41732921967242, 48.375846354388855, 47.531400608925075, 40.62891106532164, 40.55991798565248, 35.03476108985921, 34.23681077921943, 33.74767962065981, 33.254038962378, 32.960465998303306, 28.59866938762296, 28.198998545662516, 27.96112583443771, 27.009909185250248, 26.53276105911821, 26.275465773964346, 26.070109048424776, 25.45325027587475, 22.889894274247354, 22.823618224812826, 22.09840229235543, 22.016123184107805, 21.959743107179197, 21.14285969594704, 125.20304648462205, 92.24720114745975, 80.93910004470737, 73.07797644387267, 70.11495131973315, 58.96713676386247, 51.58596240640411, 37.26286948374085, 33.89903433908954, 33.87354103758058, 31.972276529050855, 31.914085155303194, 31.498891729138677, 29.391698843191435, 28.637946532245923, 28.167534680352514, 27.377383902528088, 27.326602029996447, 26.76633309648364, 26.74091602441106, 25.66471755355113, 24.080920333748338, 23.598446807035913, 22.626412594011732, 22.205961514720975, 20.830536370267605, 20.684280395647395, 19.866898285164574, 19.837099109492165, 19.760993818195494, 19.00945433888886, 96.06836816618063, 80.77599476982843, 71.554429641832, 61.425626471076704, 56.23125467470766, 55.30346991600321, 53.64175580583277, 51.28288837529848, 45.252548543672034, 39.3351930347898, 39.330809845036356, 35.028853015383774, 34.99775539427181, 34.166918898237974, 32.40098684483023, 30.346882680089596, 27.521370013223773, 27.13694247925166, 26.857285926998873, 26.286243883683067, 26.250676724801874, 25.075478174118267, 24.301705381084794, 23.73113002823523, 23.35809632053592, 21.91289985993617, 20.430995213103838, 19.636799058433038, 19.184810369827755, 18.097294117359407, 173.9779750745127, 146.7901631043971, 64.3172195440589, 54.19111237529108, 43.862153558309664, 40.69678223227198, 38.11088621306573, 33.002253602608555, 29.155078443539164, 26.297673409487764, 25.61681499901897, 24.486708131877606, 24.385044559071297, 23.16076506057004, 22.27788526492424, 22.14489830095694, 22.14271584219187, 21.935898619966853, 20.063036954367558, 15.960549410607408, 15.485848841204822, 14.97923422371589, 14.693034939617156, 13.669328973861093, 12.67181901422689, 12.66411818525669, 12.006049287824526, 11.70087468564582, 11.520602662945072, 11.488530734862957, 205.09432153935774, 66.47066889330371, 55.68961915800502, 53.80331582941356, 43.92790421463294, 42.73540037026333, 32.70975102582305, 31.77660308444655, 26.024904605486768, 22.717753904921064, 21.972285483840007, 20.03621384231011, 19.332422315913057, 18.26449694393389, 17.10586892591678, 15.692403784166828, 15.69193488572808, 15.187939148536648, 13.586545019172414, 13.168885832769856, 12.250943717098348, 11.747718909012617, 11.597287612737682, 11.183145998964603, 11.101706182939111, 11.091138446951211, 10.536984760574198, 10.28097872809992, 9.84647424013446, 9.835007086856576], \"Total\": [897.0, 730.0, 789.0, 769.0, 699.0, 607.0, 421.0, 373.0, 386.0, 345.0, 336.0, 273.0, 298.0, 286.0, 239.0, 206.0, 292.0, 268.0, 245.0, 217.0, 249.0, 270.0, 204.0, 196.0, 193.0, 247.0, 175.0, 207.0, 230.0, 179.0, 789.76832071462, 769.2834453251837, 292.87935173124157, 270.9365273776662, 247.96051072634532, 230.43116245555566, 208.62679343899862, 178.91745522577057, 150.11740399796136, 140.84888315934236, 136.6075048793088, 118.07707501324145, 117.09715243257206, 114.45240962702293, 111.68278067665327, 98.79841579803757, 90.28531299315745, 70.69395875570008, 64.60598656068805, 63.16611511676921, 58.86854413047549, 52.53084026363803, 52.431373572436314, 51.555462166906075, 50.8538623432427, 49.75962106653983, 49.18219470624064, 49.112601490719136, 47.632721829772144, 45.72251860880415, 699.6517152870797, 421.6617134218748, 268.6279901254453, 249.62140953552557, 178.32260462366438, 150.04851803256346, 131.11320776369976, 127.97564090121574, 126.71688308888815, 119.61059289406228, 86.26577195673931, 79.6248773097408, 78.99873314803195, 70.66525994702423, 68.14022020467826, 63.73388889548483, 53.55047811370474, 51.592022578967125, 49.84985124015517, 49.533500876701254, 49.179973516977896, 47.654636391182905, 45.26595548509981, 44.90517424555076, 44.516558107665404, 44.116280914621676, 43.54790408455983, 42.31513155492518, 41.7435159910108, 39.51052523376246, 386.56618552748375, 298.11481329041646, 286.4233410392495, 205.71800852782664, 189.9607525622341, 136.19966117215503, 130.36226964845133, 101.3207607993884, 97.47240770876131, 94.75760879483428, 94.4342328903283, 93.21838482117477, 92.57792085487286, 85.50906816173621, 84.48493709388588, 73.472275809282, 68.96673449902346, 67.86510970230142, 67.10361522760385, 63.33556775541745, 60.82881885313817, 59.909545259603945, 59.31366302951144, 53.67543810673534, 50.180762308710506, 50.09022456299676, 47.16776593252768, 43.460554517603526, 42.61672596706425, 40.53285288101288, 345.0683474946319, 245.62928640569302, 207.81608965575649, 166.55655038382312, 122.39772253411223, 108.70170881849684, 105.07129398561263, 105.07129398561263, 104.23633033695468, 103.48774374697244, 100.13917522728283, 96.16513406820236, 90.3386658975255, 84.21779561249859, 81.91698323946153, 81.3863441272408, 66.26513828909556, 59.03308098347842, 56.27739563841171, 55.63383003277336, 50.92459231744785, 45.832346473654916, 45.59649710613521, 44.341046299619464, 41.40587962144609, 39.988168165890876, 36.40099051601459, 32.06929453305158, 31.882786232693046, 31.484040484535967, 730.2357925296993, 336.3983993632298, 192.23163242867028, 177.4230078939851, 159.6824871756576, 159.27754555954823, 125.26292449746659, 95.61528352402237, 92.62078043336466, 86.40922790997257, 80.03997045091062, 78.32762350217808, 77.07876232640885, 70.22554554465256, 68.49049598815981, 63.47001269409234, 48.423650312701554, 46.90948203358836, 46.48310390458844, 45.940201955737756, 43.82332212058456, 40.91973447333524, 38.31301658128538, 36.01219689628933, 34.75208824806206, 33.43986273435541, 33.417438193950815, 30.136539670576287, 29.655532930282046, 28.244577246268136, 177.79379186777516, 177.33374926042697, 137.80982808534813, 132.5243057479955, 132.17613691556235, 113.55324660265129, 106.86723449535567, 100.79751546720024, 82.07635516369707, 70.40985762629467, 68.43713939664296, 59.992659060523835, 56.97408764786189, 54.8832779989287, 51.79298460704748, 51.64544374284623, 44.5929111204949, 42.31995805471506, 39.4562220054526, 38.99150690025444, 37.38691610814946, 36.736784200875206, 35.54421622581196, 35.104886005812595, 33.52874975336031, 29.68599958916577, 28.491515674745692, 27.94947164376324, 27.47856830769641, 26.41129602906078, 607.8333251555393, 897.6744395235006, 373.2925924958663, 98.78584418660962, 97.95553943269252, 91.10924403375422, 88.51791235886142, 83.44055296561704, 83.23436855842198, 76.43357577858383, 75.22305479292486, 73.77931601048246, 71.51057362748557, 70.01308302330372, 67.59121339348971, 64.79787104935902, 60.112992275219064, 52.99708012996959, 48.29460762995712, 43.067770117361235, 43.022058197479325, 41.233753447097136, 39.46939688071318, 39.167158126301814, 38.41954653742019, 29.772745690988923, 28.483586173444163, 25.89100420006015, 25.166390514733227, 24.892295672475704, 24.854640104072146, 239.38945130991564, 217.5785091783864, 196.5677318738883, 179.26119004980936, 144.50131515823506, 116.1254821316027, 96.09351423125126, 87.32404911885375, 81.92492363985735, 58.86235312266147, 50.69024447141042, 43.95419123816222, 42.72386192242094, 37.60855087934263, 35.846328632563136, 35.808941279655784, 33.62094787889786, 32.24815436619065, 32.22271055075003, 32.151392588064866, 31.09816739876645, 29.613300248790424, 29.15999804660854, 28.61503648640666, 28.15036038658386, 27.137990238926463, 26.509583350089414, 25.976632529462545, 25.62073691711418, 25.433857145284648, 273.34747844225586, 151.29339195568338, 145.30814160362792, 129.9427777069747, 112.08960351001757, 96.69878721450456, 74.89475636937942, 69.44706192526127, 69.0695846582493, 62.11360761131895, 61.44464015664376, 55.87131667085458, 41.57785892024076, 39.5342540709488, 35.85166492767684, 34.171263267300986, 33.05596011458763, 29.665019477551535, 28.387441905884568, 26.655095261614886, 26.522057132060187, 25.225858441668816, 24.804072603574905, 24.068144736361567, 22.710061749803995, 22.429753024630216, 20.750122849251056, 19.760273022899632, 19.181973959709513, 19.065380266624157, 193.60534542663845, 155.8023222235165, 106.85741948559898, 90.11393107924, 79.39565380837618, 74.77735918213769, 66.21470929326769, 63.47994595313912, 63.18854789864427, 62.169971839697475, 60.24082521506902, 59.66327817019638, 59.65263667700984, 58.82060945330235, 51.574244318018714, 49.732261954110285, 47.18479317188687, 42.83065676984595, 35.24085255653866, 34.8340372648378, 33.02842926688134, 32.67126660231803, 32.6237414357661, 31.49674271310882, 28.58317455044622, 24.2367075808516, 24.23328495972722, 23.615445378281784, 23.40477097308141, 21.909205331226428, 204.5318331881179, 157.71327311170637, 140.51534656889535, 71.21334592297843, 52.950927624041, 52.1366845423667, 49.72659489764476, 49.68511171412591, 48.84066660501951, 41.93817654230912, 41.86918370470001, 36.34402640806967, 35.54607652457982, 35.05694536607117, 34.56330482337959, 34.269731142034004, 29.907936614224713, 29.50826458953584, 29.27039117711405, 28.319174716495386, 27.84202672455224, 27.5847316775063, 27.3793745265981, 26.76251577440823, 24.199160405033613, 24.132884607828714, 23.407667389403134, 23.325388737477063, 23.269008422882543, 22.452125321606573, 607.8333251555393, 93.55689715713667, 82.24879670140442, 74.3876727503001, 71.42464740769762, 60.27683275510943, 52.895659318303196, 38.572566080702885, 35.20873036909559, 35.1832370918495, 33.281972700740575, 33.2237814048534, 32.80858830072337, 30.70139488319265, 29.947643245721093, 29.4772320914978, 28.68708005838205, 28.636298145470363, 28.076029221721022, 28.050612168184045, 26.974413781425643, 25.390616292455324, 24.908142898887984, 23.93610888009232, 23.515657636908646, 22.14023298940915, 21.993976799207122, 21.176594266303205, 21.14679549635421, 21.070690881138773, 20.319150653435745, 97.3815828216027, 82.08920942447875, 72.86764405138733, 62.73884104707727, 57.54446928024728, 56.616684539615754, 54.9549707656427, 52.596103195645746, 46.5657631443746, 40.64840813508884, 40.64402421461037, 36.34206744291141, 36.31096969273816, 35.48013372261477, 33.71420125047822, 31.66009704731434, 28.834584897685424, 28.450157592358902, 28.170500387726413, 27.599458346029436, 27.563891314384204, 26.38869260959874, 25.61492013182625, 25.044344864991462, 24.67131057280808, 23.226114167257318, 21.74420943049743, 20.950013628021313, 20.498024896312888, 19.41050886156301, 175.2979887370869, 148.1101767403669, 65.6372332605691, 55.511126018721676, 45.182167069692134, 42.01679613348143, 39.43090041116156, 34.32226718193305, 30.475092096488787, 27.617687205080795, 26.93682875674751, 25.806721561269377, 25.705058841358916, 24.4807786825366, 23.597899473641146, 23.46491225097711, 23.462729814450288, 23.25591358178275, 21.383050821972805, 17.28056413580189, 16.80586252534975, 16.2992490058512, 16.013049178821255, 14.989342750830133, 13.991832764666963, 13.984132062896363, 13.326063971503773, 13.020891980997252, 12.840616092014763, 12.808544520977721, 206.42040585325287, 67.7967540672547, 57.0157041505324, 55.1294001639944, 45.25398882229355, 44.06148447874212, 34.035835439426016, 33.10268740630422, 27.350989110973117, 24.04383863027904, 23.298371942718735, 21.36229885598123, 20.65850696889592, 19.59058141478375, 18.431953513650804, 17.01848829411763, 17.01801956030974, 16.51402330360081, 14.91262951703092, 14.494970859130657, 13.577027746918393, 13.073803536227512, 12.923371847292632, 12.509230187544091, 12.427791015117199, 12.417222552568917, 11.863069422799603, 11.607063031710764, 11.172558903587877, 11.161092023265798], \"Category\": [\"Default\", \"Default\", \"Default\", \"Default\", \"Default\", \"Default\", \"Default\", \"Default\", \"Default\", \"Default\", \"Default\", \"Default\", \"Default\", \"Default\", \"Default\", \"Default\", \"Default\", \"Default\", \"Default\", \"Default\", \"Default\", \"Default\", \"Default\", \"Default\", \"Default\", \"Default\", \"Default\", \"Default\", \"Default\", \"Default\", \"Topic1\", \"Topic1\", \"Topic1\", \"Topic1\", \"Topic1\", \"Topic1\", \"Topic1\", \"Topic1\", \"Topic1\", \"Topic1\", \"Topic1\", \"Topic1\", \"Topic1\", \"Topic1\", \"Topic1\", \"Topic1\", \"Topic1\", \"Topic1\", \"Topic1\", \"Topic1\", \"Topic1\", \"Topic1\", \"Topic1\", \"Topic1\", \"Topic1\", \"Topic1\", \"Topic1\", \"Topic1\", \"Topic1\", \"Topic1\", \"Topic2\", \"Topic2\", \"Topic2\", \"Topic2\", \"Topic2\", \"Topic2\", \"Topic2\", \"Topic2\", \"Topic2\", \"Topic2\", \"Topic2\", \"Topic2\", \"Topic2\", \"Topic2\", \"Topic2\", \"Topic2\", \"Topic2\", \"Topic2\", \"Topic2\", \"Topic2\", \"Topic2\", \"Topic2\", \"Topic2\", \"Topic2\", \"Topic2\", \"Topic2\", \"Topic2\", \"Topic2\", \"Topic2\", \"Topic2\", \"Topic3\", \"Topic3\", \"Topic3\", \"Topic3\", \"Topic3\", \"Topic3\", \"Topic3\", \"Topic3\", \"Topic3\", \"Topic3\", \"Topic3\", \"Topic3\", \"Topic3\", \"Topic3\", \"Topic3\", \"Topic3\", \"Topic3\", \"Topic3\", \"Topic3\", \"Topic3\", \"Topic3\", \"Topic3\", \"Topic3\", \"Topic3\", \"Topic3\", \"Topic3\", \"Topic3\", \"Topic3\", \"Topic3\", \"Topic3\", \"Topic4\", \"Topic4\", \"Topic4\", \"Topic4\", \"Topic4\", \"Topic4\", \"Topic4\", \"Topic4\", \"Topic4\", \"Topic4\", \"Topic4\", \"Topic4\", \"Topic4\", \"Topic4\", \"Topic4\", \"Topic4\", \"Topic4\", \"Topic4\", \"Topic4\", \"Topic4\", \"Topic4\", \"Topic4\", \"Topic4\", \"Topic4\", \"Topic4\", \"Topic4\", \"Topic4\", \"Topic4\", \"Topic4\", \"Topic4\", \"Topic5\", \"Topic5\", \"Topic5\", \"Topic5\", \"Topic5\", \"Topic5\", \"Topic5\", \"Topic5\", \"Topic5\", \"Topic5\", \"Topic5\", \"Topic5\", \"Topic5\", \"Topic5\", \"Topic5\", \"Topic5\", \"Topic5\", \"Topic5\", \"Topic5\", \"Topic5\", \"Topic5\", \"Topic5\", \"Topic5\", \"Topic5\", \"Topic5\", \"Topic5\", \"Topic5\", \"Topic5\", \"Topic5\", \"Topic5\", \"Topic6\", \"Topic6\", \"Topic6\", \"Topic6\", \"Topic6\", \"Topic6\", \"Topic6\", \"Topic6\", \"Topic6\", \"Topic6\", \"Topic6\", \"Topic6\", \"Topic6\", \"Topic6\", \"Topic6\", \"Topic6\", \"Topic6\", \"Topic6\", \"Topic6\", \"Topic6\", \"Topic6\", \"Topic6\", \"Topic6\", \"Topic6\", \"Topic6\", \"Topic6\", \"Topic6\", \"Topic6\", \"Topic6\", \"Topic6\", \"Topic6\", \"Topic7\", \"Topic7\", \"Topic7\", \"Topic7\", \"Topic7\", \"Topic7\", \"Topic7\", \"Topic7\", \"Topic7\", \"Topic7\", \"Topic7\", \"Topic7\", \"Topic7\", \"Topic7\", \"Topic7\", \"Topic7\", \"Topic7\", \"Topic7\", \"Topic7\", \"Topic7\", \"Topic7\", \"Topic7\", \"Topic7\", \"Topic7\", \"Topic7\", \"Topic7\", \"Topic7\", \"Topic7\", \"Topic7\", \"Topic7\", \"Topic8\", \"Topic8\", \"Topic8\", \"Topic8\", \"Topic8\", \"Topic8\", \"Topic8\", \"Topic8\", \"Topic8\", \"Topic8\", \"Topic8\", \"Topic8\", \"Topic8\", \"Topic8\", \"Topic8\", \"Topic8\", \"Topic8\", \"Topic8\", \"Topic8\", \"Topic8\", \"Topic8\", \"Topic8\", \"Topic8\", \"Topic8\", \"Topic8\", \"Topic8\", \"Topic8\", \"Topic8\", \"Topic8\", \"Topic8\", \"Topic9\", \"Topic9\", \"Topic9\", \"Topic9\", \"Topic9\", \"Topic9\", \"Topic9\", \"Topic9\", \"Topic9\", \"Topic9\", \"Topic9\", \"Topic9\", \"Topic9\", \"Topic9\", \"Topic9\", \"Topic9\", \"Topic9\", \"Topic9\", \"Topic9\", \"Topic9\", \"Topic9\", \"Topic9\", \"Topic9\", \"Topic9\", \"Topic9\", \"Topic9\", \"Topic9\", \"Topic9\", \"Topic9\", \"Topic9\", \"Topic10\", \"Topic10\", \"Topic10\", \"Topic10\", \"Topic10\", \"Topic10\", \"Topic10\", \"Topic10\", \"Topic10\", \"Topic10\", \"Topic10\", \"Topic10\", \"Topic10\", \"Topic10\", \"Topic10\", \"Topic10\", \"Topic10\", \"Topic10\", \"Topic10\", \"Topic10\", \"Topic10\", \"Topic10\", \"Topic10\", \"Topic10\", \"Topic10\", \"Topic10\", \"Topic10\", \"Topic10\", \"Topic10\", \"Topic10\", \"Topic11\", \"Topic11\", \"Topic11\", \"Topic11\", \"Topic11\", \"Topic11\", \"Topic11\", \"Topic11\", \"Topic11\", \"Topic11\", \"Topic11\", \"Topic11\", \"Topic11\", \"Topic11\", \"Topic11\", \"Topic11\", \"Topic11\", \"Topic11\", \"Topic11\", \"Topic11\", \"Topic11\", \"Topic11\", \"Topic11\", \"Topic11\", \"Topic11\", \"Topic11\", \"Topic11\", \"Topic11\", \"Topic11\", \"Topic11\", \"Topic11\", \"Topic12\", \"Topic12\", \"Topic12\", \"Topic12\", \"Topic12\", \"Topic12\", \"Topic12\", \"Topic12\", \"Topic12\", \"Topic12\", \"Topic12\", \"Topic12\", \"Topic12\", \"Topic12\", \"Topic12\", \"Topic12\", \"Topic12\", \"Topic12\", \"Topic12\", \"Topic12\", \"Topic12\", \"Topic12\", \"Topic12\", \"Topic12\", \"Topic12\", \"Topic12\", \"Topic12\", \"Topic12\", \"Topic12\", \"Topic12\", \"Topic13\", \"Topic13\", \"Topic13\", \"Topic13\", \"Topic13\", \"Topic13\", \"Topic13\", \"Topic13\", \"Topic13\", \"Topic13\", \"Topic13\", \"Topic13\", \"Topic13\", \"Topic13\", \"Topic13\", \"Topic13\", \"Topic13\", \"Topic13\", \"Topic13\", \"Topic13\", \"Topic13\", \"Topic13\", \"Topic13\", \"Topic13\", \"Topic13\", \"Topic13\", \"Topic13\", \"Topic13\", \"Topic13\", \"Topic13\", \"Topic14\", \"Topic14\", \"Topic14\", \"Topic14\", \"Topic14\", \"Topic14\", \"Topic14\", \"Topic14\", \"Topic14\", \"Topic14\", \"Topic14\", \"Topic14\", \"Topic14\", \"Topic14\", \"Topic14\", \"Topic14\", \"Topic14\", \"Topic14\", \"Topic14\", \"Topic14\", \"Topic14\", \"Topic14\", \"Topic14\", \"Topic14\", \"Topic14\", \"Topic14\", \"Topic14\", \"Topic14\", \"Topic14\", \"Topic14\", \"Topic15\", \"Topic15\", \"Topic15\", \"Topic15\", \"Topic15\", \"Topic15\", \"Topic15\", \"Topic15\", \"Topic15\", \"Topic15\", \"Topic15\", \"Topic15\", \"Topic15\", \"Topic15\", \"Topic15\", \"Topic15\", \"Topic15\", \"Topic15\", \"Topic15\", \"Topic15\", \"Topic15\", \"Topic15\", \"Topic15\", \"Topic15\", \"Topic15\", \"Topic15\", \"Topic15\", \"Topic15\", \"Topic15\", \"Topic15\"], \"logprob\": [30.0, 29.0, 28.0, 27.0, 26.0, 25.0, 24.0, 23.0, 22.0, 21.0, 20.0, 19.0, 18.0, 17.0, 16.0, 15.0, 14.0, 13.0, 12.0, 11.0, 10.0, 9.0, 8.0, 7.0, 6.0, 5.0, 4.0, 3.0, 2.0, 1.0, -3.189, -3.2154, -4.1837, -4.2619, -4.351, -4.4247, -4.5247, -4.6793, -4.8562, -4.9204, -4.9513, -5.0985, -5.107, -5.1301, -5.1548, -5.2789, -5.3702, -5.6187, -5.7105, -5.7335, -5.8054, -5.922, -5.9239, -5.9412, -5.9552, -5.9775, -5.9895, -5.991, -6.0224, -6.0644, -3.1205, -3.6281, -4.0807, -4.1545, -4.4929, -4.6669, -4.803, -4.8275, -4.8374, -4.8958, -5.2267, -5.3081, -5.3161, -5.4295, -5.4666, -5.5348, -5.7127, -5.7509, -5.7862, -5.7927, -5.8, -5.8324, -5.8853, -5.8935, -5.9025, -5.9118, -5.9251, -5.9547, -5.9687, -6.0255, -3.7086, -3.9694, -4.0096, -4.3423, -4.4225, -4.7579, -4.8021, -5.057, -5.0962, -5.1248, -5.1283, -5.1414, -5.1484, -5.229, -5.2412, -5.3832, -5.4476, -5.464, -5.4755, -5.5344, -5.5757, -5.5912, -5.6014, -5.7036, -5.7726, -5.7745, -5.8362, -5.9205, -5.9407, -5.9924, -3.7155, -4.057, -4.2251, -4.448, -4.7588, -4.8788, -4.9132, -4.9132, -4.9213, -4.9286, -4.9619, -5.0029, -5.0663, -5.1375, -5.1656, -5.1722, -5.3814, -5.4994, -5.5483, -5.5601, -5.6507, -5.759, -5.7643, -5.793, -5.8636, -5.8996, -5.9968, -6.1285, -6.1346, -6.1477, -2.9602, -3.7373, -4.2998, -4.3805, -4.4866, -4.4892, -4.7316, -5.0049, -5.0372, -5.1076, -5.1854, -5.2074, -5.2237, -5.3185, -5.344, -5.4216, -5.6986, -5.7313, -5.7407, -5.7527, -5.8013, -5.872, -5.94, -6.0042, -6.0411, -6.0811, -6.0818, -6.1895, -6.2063, -6.2573, -4.3282, -4.3308, -4.5851, -4.6246, -4.6272, -4.7807, -4.8421, -4.9013, -5.1097, -5.2657, -5.2946, -5.429, -5.4818, -5.5201, -5.5795, -5.5824, -5.7333, -5.7872, -5.8595, -5.8718, -5.9153, -5.9334, -5.9677, -5.9806, -6.0283, -6.1552, -6.1982, -6.2183, -6.2361, -6.2777, -3.3249, -2.6808, -3.5603, -4.8994, -4.9079, -4.9814, -5.0106, -5.0706, -5.0731, -5.1598, -5.176, -5.1957, -5.2275, -5.2491, -5.285, -5.328, -5.4046, -5.5336, -5.6289, -5.7468, -5.7479, -5.7917, -5.8369, -5.8448, -5.8648, -6.1299, -6.1762, -6.2764, -6.3063, -6.3178, -6.3194, -3.7971, -3.8932, -3.9954, -4.0882, -4.3055, -4.5263, -4.7181, -4.8151, -4.88, -5.2169, -5.3701, -5.5167, -5.546, -5.6778, -5.7276, -5.7286, -5.7942, -5.8376, -5.8384, -5.8407, -5.8754, -5.9266, -5.9427, -5.9625, -5.9796, -6.0181, -6.0427, -6.0641, -6.0786, -6.0863, -3.6344, -4.2298, -4.2706, -4.3834, -4.5328, -4.6824, -4.9419, -5.0188, -5.0243, -5.1327, -5.1437, -5.241, -5.5447, -5.5968, -5.6981, -5.7479, -5.7825, -5.8954, -5.9415, -6.0076, -6.0129, -6.0656, -6.0834, -6.1152, -6.1768, -6.1899, -6.2728, -6.325, -6.3569, -6.3634, -3.97, -4.1889, -4.5699, -4.7426, -4.8712, -4.9322, -5.0561, -5.0991, -5.1038, -5.1204, -5.1527, -5.1625, -5.1627, -5.177, -5.3117, -5.349, -5.4031, -5.5028, -5.7047, -5.7167, -5.7721, -5.7834, -5.7849, -5.8216, -5.9231, -6.0966, -6.0968, -6.1241, -6.1336, -6.2037, -3.8689, -4.1308, -4.2473, -4.9361, -5.2389, -5.2548, -5.3034, -5.3043, -5.3219, -5.4788, -5.4805, -5.6269, -5.6499, -5.6643, -5.6791, -5.6879, -5.8299, -5.844, -5.8524, -5.887, -5.9049, -5.9146, -5.9225, -5.9464, -6.0526, -6.0555, -6.0877, -6.0915, -6.094, -6.1319, -4.3533, -4.6191, -4.7499, -4.8521, -4.8935, -5.0666, -5.2003, -5.5256, -5.6202, -5.621, -5.6787, -5.6806, -5.6936, -5.7629, -5.7889, -5.8054, -5.8339, -5.8357, -5.8565, -5.8574, -5.8985, -5.9622, -5.9824, -6.0245, -6.0432, -6.1072, -6.1142, -6.1545, -6.156, -6.1599, -6.1987, -4.5209, -4.6942, -4.8155, -4.9681, -5.0564, -5.0731, -5.1036, -5.1486, -5.2737, -5.4138, -5.4139, -5.5297, -5.5306, -5.5547, -5.6077, -5.6732, -5.771, -5.785, -5.7954, -5.8169, -5.8182, -5.864, -5.8954, -5.9191, -5.935, -5.9988, -6.0689, -6.1085, -6.1318, -6.1902, -3.8255, -3.9954, -4.8206, -4.9919, -5.2033, -5.2782, -5.3439, -5.4878, -5.6118, -5.7149, -5.7411, -5.7863, -5.7904, -5.8419, -5.8808, -5.8868, -5.8869, -5.8963, -5.9855, -6.2143, -6.2445, -6.2777, -6.297, -6.3692, -6.445, -6.4456, -6.499, -6.5247, -6.5402, -6.543, -3.5538, -4.6805, -4.8574, -4.8919, -5.0947, -5.1222, -5.3896, -5.4185, -5.6182, -5.7541, -5.7874, -5.8797, -5.9154, -5.9723, -6.0378, -6.1241, -6.1241, -6.1567, -6.2682, -6.2994, -6.3716, -6.4136, -6.4265, -6.4628, -6.4701, -6.4711, -6.5223, -6.5469, -6.5901, -6.5913], \"loglift\": [30.0, 29.0, 28.0, 27.0, 26.0, 25.0, 24.0, 23.0, 22.0, 21.0, 20.0, 19.0, 18.0, 17.0, 16.0, 15.0, 14.0, 13.0, 12.0, 11.0, 10.0, 9.0, 8.0, 7.0, 6.0, 5.0, 4.0, 3.0, 2.0, 1.0, 2.2372, 2.2371, 2.2345, 2.2341, 2.2337, 2.2333, 2.2327, 2.2317, 2.2304, 2.2298, 2.2295, 2.2281, 2.228, 2.2277, 2.2275, 2.226, 2.2248, 2.2208, 2.2191, 2.2187, 2.2172, 2.2146, 2.2145, 2.2141, 2.2138, 2.2132, 2.2129, 2.2129, 2.2121, 2.2109, 2.4268, 2.4256, 2.4239, 2.4235, 2.4215, 2.4201, 2.4189, 2.4186, 2.4185, 2.4179, 2.4138, 2.4125, 2.4124, 2.4105, 2.4098, 2.4085, 2.4046, 2.4036, 2.4028, 2.4026, 2.4024, 2.4016, 2.4001, 2.3999, 2.3996, 2.3994, 2.399, 2.3981, 2.3977, 2.3959, 2.432, 2.4311, 2.4309, 2.4291, 2.4286, 2.4259, 2.4255, 2.4227, 2.4222, 2.4218, 2.4218, 2.4216, 2.4215, 2.4203, 2.4202, 2.4179, 2.4167, 2.4164, 2.4162, 2.415, 2.4142, 2.4139, 2.4137, 2.4114, 2.4097, 2.4096, 2.408, 2.4056, 2.405, 2.4035, 2.5386, 2.5371, 2.5362, 2.5346, 2.5318, 2.5305, 2.5301, 2.5301, 2.53, 2.5299, 2.5295, 2.5289, 2.5281, 2.527, 2.5266, 2.5265, 2.5228, 2.5204, 2.5193, 2.519, 2.5169, 2.514, 2.5138, 2.513, 2.5109, 2.5098, 2.5065, 2.5016, 2.5013, 2.5008, 2.5444, 2.5424, 2.5395, 2.5389, 2.5381, 2.5381, 2.5359, 2.5327, 2.5322, 2.5312, 2.53, 2.5297, 2.5294, 2.5277, 2.5273, 2.5258, 2.5193, 2.5185, 2.5182, 2.5179, 2.5165, 2.5143, 2.5121, 2.5099, 2.5086, 2.5071, 2.507, 2.5027, 2.502, 2.4997, 2.5891, 2.5891, 2.587, 2.5866, 2.5866, 2.585, 2.5842, 2.5835, 2.5806, 2.5779, 2.5774, 2.5747, 2.5735, 2.5726, 2.5712, 2.5711, 2.5671, 2.5655, 2.5632, 2.5628, 2.5614, 2.5607, 2.5595, 2.559, 2.5573, 2.5521, 2.5502, 2.5493, 2.5484, 2.5465, 2.3632, 2.6173, 2.6153, 2.6056, 2.6055, 2.6045, 2.6041, 2.6032, 2.6031, 2.6017, 2.6015, 2.6011, 2.6006, 2.6002, 2.5995, 2.5987, 2.5971, 2.5941, 2.5917, 2.5884, 2.5883, 2.587, 2.5855, 2.5853, 2.5846, 2.5745, 2.5724, 2.5677, 2.5662, 2.5656, 2.5655, 2.8228, 2.8222, 2.8216, 2.8209, 2.8192, 2.8169, 2.8146, 2.8132, 2.8122, 2.8058, 2.8021, 2.7981, 2.7972, 2.7929, 2.7911, 2.7911, 2.7886, 2.7869, 2.7869, 2.7868, 2.7854, 2.7832, 2.7824, 2.7815, 2.7808, 2.7789, 2.7777, 2.7767, 2.7759, 2.7756, 2.8528, 2.8489, 2.8485, 2.8475, 2.8458, 2.844, 2.84, 2.8386, 2.8385, 2.8363, 2.8361, 2.8339, 2.8257, 2.824, 2.8205, 2.8186, 2.8173, 2.8126, 2.8105, 2.8074, 2.8071, 2.8044, 2.8035, 2.8018, 2.7984, 2.7976, 2.7926, 2.7892, 2.7871, 2.7867, 2.8621, 2.8604, 2.8566, 2.8543, 2.8523, 2.8512, 2.8489, 2.8481, 2.848, 2.8476, 2.8469, 2.8467, 2.8467, 2.8464, 2.8432, 2.8422, 2.8408, 2.8379, 2.8311, 2.8306, 2.8285, 2.828, 2.828, 2.8265, 2.8221, 2.8134, 2.8134, 2.8119, 2.8114, 2.8074, 2.9083, 2.9064, 2.9053, 2.8961, 2.8897, 2.8893, 2.888, 2.888, 2.8875, 2.883, 2.8829, 2.878, 2.8772, 2.8766, 2.8761, 2.8757, 2.8699, 2.8693, 2.8689, 2.8674, 2.8665, 2.8661, 2.8657, 2.8645, 2.8591, 2.8589, 2.8571, 2.8569, 2.8568, 2.8546, 1.3347, 2.9402, 2.9383, 2.9366, 2.9358, 2.9324, 2.9293, 2.9198, 2.9164, 2.9164, 2.9142, 2.9141, 2.9136, 2.9107, 2.9096, 2.9089, 2.9076, 2.9075, 2.9066, 2.9065, 2.9046, 2.9014, 2.9003, 2.8981, 2.897, 2.8934, 2.8929, 2.8905, 2.8904, 2.8902, 2.8877, 2.9984, 2.9959, 2.9938, 2.9909, 2.9889, 2.9886, 2.9878, 2.9867, 2.9834, 2.9792, 2.9792, 2.9752, 2.9752, 2.9743, 2.9723, 2.9697, 2.9654, 2.9648, 2.9643, 2.9633, 2.9632, 2.961, 2.9594, 2.9582, 2.9573, 2.9538, 2.9497, 2.9473, 2.9458, 2.942, 3.106, 3.1046, 3.0932, 3.0895, 3.0839, 3.0816, 3.0795, 3.0743, 3.0693, 3.0646, 3.0633, 3.0611, 3.0608, 3.0581, 3.056, 3.0557, 3.0557, 3.0551, 3.0498, 3.0341, 3.0318, 3.0291, 3.0275, 3.0214, 3.0145, 3.0144, 3.0092, 3.0067, 3.0051, 3.0048, 3.2143, 3.201, 3.1972, 3.1964, 3.191, 3.1902, 3.181, 3.1798, 3.171, 3.164, 3.1621, 3.1566, 3.1544, 3.1506, 3.146, 3.1396, 3.1396, 3.137, 3.1276, 3.1248, 3.1179, 3.1138, 3.1124, 3.1087, 3.1079, 3.1078, 3.1022, 3.0994, 3.0944, 3.0942]}, \"token.table\": {\"Topic\": [11, 2, 7, 6, 12, 14, 10, 4, 7, 14, 7, 14, 2, 15, 8, 10, 2, 8, 8, 1, 14, 7, 13, 3, 11, 6, 14, 9, 10, 8, 9, 1, 15, 8, 7, 11, 15, 12, 14, 12, 6, 2, 15, 13, 2, 10, 4, 6, 7, 6, 1, 8, 3, 9, 11, 1, 9, 12, 9, 5, 10, 5, 13, 10, 8, 12, 6, 8, 12, 4, 12, 7, 9, 15, 10, 7, 5, 7, 12, 7, 5, 14, 13, 2, 2, 2, 1, 5, 15, 12, 13, 15, 3, 5, 13, 1, 1, 8, 6, 15, 12, 13, 6, 6, 2, 7, 13, 4, 3, 11, 13, 1, 5, 9, 15, 7, 6, 11, 10, 9, 11, 7, 14, 7, 13, 14, 9, 5, 8, 2, 13, 2, 1, 13, 2, 5, 7, 12, 8, 15, 4, 3, 11, 5, 8, 7, 14, 4, 11, 6, 6, 13, 12, 8, 8, 4, 8, 11, 14, 1, 7, 10, 13, 12, 9, 3, 7, 9, 2, 8, 3, 8, 11, 7, 8, 8, 15, 3, 9, 7, 9, 10, 3, 5, 6, 3, 3, 11, 10, 12, 2, 13, 4, 4, 1, 14, 4, 4, 1, 8, 1, 4, 11, 1, 9, 9, 11, 12, 4, 4, 4, 12, 10, 12, 4, 7, 9, 6, 10, 13, 12, 11, 10, 7, 1, 2, 4, 3, 8, 4, 7, 9, 10, 15, 14, 4, 13, 2, 3, 3, 12, 6, 13, 10, 12, 7, 13, 13, 9, 14, 11, 10, 8, 3, 1, 8, 9, 12, 15, 14, 6, 14, 6, 6, 5, 15, 3, 12, 4, 15, 6, 6, 10, 12, 1, 14, 11, 5, 6, 2, 5, 5, 15, 15, 8, 10, 9, 5, 1, 5, 6, 2, 14, 15, 13, 2, 10, 1, 2, 5, 14, 14, 10, 2, 6, 6, 12, 6, 8, 7, 5, 13, 12, 1, 3, 5, 5, 4, 13, 13, 5, 14, 5, 10, 9, 2, 2, 1, 7, 4, 11, 15, 10, 9, 9, 10, 1, 9, 11, 8, 9, 1, 5, 11, 2, 13, 6, 6, 7, 8, 10, 5, 6, 10, 3, 12, 11, 11, 13, 6, 4, 1, 3, 6, 14, 15, 3, 1, 15, 3, 11, 7, 11, 2, 4, 3, 11, 11, 14, 1, 10, 15, 12, 3, 14, 2, 15, 11, 13, 8, 14, 13, 15, 8, 4, 1, 6, 9, 10, 11, 5, 5, 14, 2, 14, 9, 5, 13, 15, 12, 10, 12, 11, 15, 4, 13, 7, 3, 3, 15, 2, 4, 15, 12, 10, 2, 1, 2, 3, 15, 14, 3, 9, 1, 3, 3, 4, 3, 8, 14, 9, 11, 1, 4, 14, 11, 5, 15, 4, 5, 7, 9], \"Freq\": [0.9398629788271685, 0.9832665611990498, 0.9752072114611107, 0.9565550632485024, 0.9635403208270285, 0.9738355385241111, 0.9884319938381222, 0.9697560970808446, 0.9700790409808304, 0.9353202293962839, 0.9655863406001812, 0.9376573047544784, 0.965932718697669, 0.9197179655144962, 0.9774095169879996, 0.9722956642141727, 0.9652785853279735, 0.9436240780509975, 0.9927451052755756, 0.972700055808021, 0.9202877994326741, 0.9811861308675052, 0.9867313934180251, 0.9663935600036595, 0.9530563947808707, 0.9745712084739159, 0.9375700946456295, 0.9362564080371194, 0.9315936941944171, 0.9763900888919954, 0.9441196424238539, 0.9698293429730024, 0.8959696756513207, 0.9430551838497936, 0.963051449968636, 0.982041341545653, 0.9442719883642126, 0.962545838148385, 0.933996922528485, 0.9608913510219331, 0.9829029706647975, 0.9582326512365116, 0.8615443866100985, 0.9197851071075924, 0.9689205372499401, 0.9502282275329108, 0.9906545231620365, 0.9863214249779537, 0.9851699654866057, 0.9681396145797633, 0.9990271568326204, 0.9887101067811387, 0.9950306387947117, 0.9824321766235167, 0.9652782399197308, 0.9908782038078038, 0.9791630936551557, 0.944874546745326, 0.9927446702032128, 0.9812126949591111, 0.9794022540255867, 0.9718929422938475, 0.9273327210727524, 0.9876386362696741, 0.9848375203370193, 0.949885657957557, 0.9918849355515664, 0.992024469840787, 0.9614814688940584, 0.9878840280368556, 0.9548068633389231, 0.9479143474276656, 0.9379069838103962, 0.883845877292522, 0.9647893718079634, 0.9731935366391904, 0.9983076801461371, 0.9878251208698069, 0.9616744514253265, 0.9965373207991514, 0.9806119787692998, 0.9925955297808143, 0.9584494286002677, 0.9915095680848107, 0.9864510312514252, 0.9935045253588523, 0.9983316353250768, 0.9825484368238435, 0.8858663806202203, 0.9638763685720348, 0.9594471663045055, 0.9695663283697118, 0.9848123625677782, 0.9958430261086947, 0.9858126887901002, 0.9760381398139838, 0.9852460402528308, 0.9641884069279076, 0.9790005922323303, 0.9506054751624647, 0.9800538405241874, 0.9582827467848201, 0.9911017454208568, 0.9868859288213964, 0.9939396109665077, 0.9981346917659932, 0.9714450863246058, 0.9885804857706998, 0.9782347838823198, 0.9792404907907855, 0.9710561154028468, 0.9922023752933044, 0.9825008985480238, 0.9620505008863592, 0.8968627896075454, 0.9902451720624836, 0.791335354765085, 0.20564848096805743, 0.9811810781784782, 0.9950704559268854, 0.9827875689777521, 0.9814849962862706, 0.975800245924244, 0.9837409581903885, 0.959550653598435, 0.9345345981850887, 0.9902791741972734, 0.9657292299472251, 0.9517875615899799, 0.985327066250864, 0.9638960428809384, 0.9930121400310271, 0.9937891974318721, 0.9473754675859307, 0.9873576055180472, 0.991979575192213, 0.9764582803947269, 0.9848168392549493, 0.9620543855606347, 0.8851130491830422, 0.9829658876792233, 0.9687857581450257, 0.9425504044761633, 0.9559357098739165, 0.9666554286917332, 0.9536528484666729, 0.9515967961042276, 0.9528637220097311, 0.9454635797185663, 0.992478875194432, 0.9920879451888895, 0.9490281349883143, 0.9491857724467311, 0.985349666180276, 0.9612953240046745, 0.9933668886575601, 0.9646870703123809, 0.9829618183606941, 0.9367360227581698, 0.9759629533960055, 0.9855300898124066, 0.9748903599604464, 0.9722844569957468, 0.9444389285875191, 0.9762447593606909, 0.9764698212146222, 0.9876867706232008, 0.9272670809988319, 0.9690411368152951, 0.9572291183326034, 0.9752422886808305, 0.9455210923727989, 0.9698506143352096, 0.9762433914066155, 0.9886203117869152, 0.9602195430618881, 0.9178660186186826, 0.9778522694027879, 0.9657237352292508, 0.9627712355181388, 0.9247002597948131, 0.9766864018089805, 0.9895501232670697, 0.9919791232652402, 0.9799764170270364, 0.9814515286193028, 0.9848941075390204, 0.9496199401758398, 0.965168245198485, 0.9830674325673208, 0.9925830792654939, 0.9472096727662772, 0.964986408880949, 0.9851816950778972, 0.9708582566744572, 0.9925043858241218, 0.9881391609532097, 0.9773017989919236, 0.9919187388624765, 0.9580665248639473, 0.9773459060007361, 0.9888059447113551, 0.977629534241608, 0.962326690190849, 0.968055379092691, 0.9880531506776455, 0.9565050020777759, 0.9592309705967524, 0.9969039539488666, 0.9809079355787936, 0.9752884862894579, 0.9631654991362716, 0.9721222463597846, 0.9656695837531094, 0.9824999649981415, 0.9828519186861565, 0.9909974651854245, 0.9461919452593066, 0.9488459807003794, 0.9432630430679398, 0.9452310933914378, 0.9629489027278478, 0.9816549931845553, 0.9656144647239482, 0.99487218715126, 0.9710464188496584, 0.981843893581234, 0.9949423628340316, 0.9896103702821594, 0.985623961900165, 0.9788762199649735, 0.9511247998151972, 0.9399792899192613, 0.9759090168817566, 0.9750563334370058, 0.9666567491233854, 0.9369539267147771, 0.9865346968433744, 0.9829557540253422, 0.9799614780804707, 0.9663692943102269, 0.9660289948996189, 0.9546533169434009, 0.9824215339073266, 0.9813453936788942, 0.9819220638208436, 0.9322569197175061, 0.9491549202740224, 0.9611917789521107, 0.9291134491564536, 0.953417614400783, 0.9446116613935905, 0.9903080520231795, 0.995948467335945, 0.9849324966081808, 0.9624034205220844, 0.9556199803490528, 0.9683566670690692, 0.9401540091860175, 0.9637111910648503, 0.9544048088698239, 0.9215958490027298, 0.9630927156368048, 0.9839062455608804, 0.9622869883868603, 0.9795136504182025, 0.9869297797477177, 0.9411902481901742, 0.9660463771256795, 0.936228827001931, 0.9476505324682414, 0.9884979156133511, 0.9524794444066154, 0.9788171890136148, 0.985763875091679, 0.9004909495902612, 0.9488867064696614, 0.979534222408434, 0.968810033955882, 0.9960591313629362, 0.9870068611338576, 0.9680936990001212, 0.8793506742687581, 0.9565860241232651, 0.936741206064547, 0.9919760416288685, 0.9383810048855153, 0.9495832240193577, 0.9815389134726186, 0.9899178108563789, 0.9834536578963372, 0.9976392321336596, 0.9299902718375163, 0.973497933758417, 0.9420474733244343, 0.9746968490661755, 0.981190453995703, 0.9832094888392255, 0.9795933461420603, 0.9860044155633874, 0.9652212676849409, 0.9258956984425749, 0.9694761534786325, 0.9798425401803124, 0.9465646809793845, 0.9955353229185556, 0.944582489177908, 0.994123582500614, 0.9596510744849993, 0.982735577433066, 0.9836912336325837, 0.9583001723294702, 0.9484995035980613, 0.9751418305611748, 0.983553565275722, 0.9575838762467616, 0.9935929773205912, 0.9818393222757347, 0.9475650044649764, 0.9663752285231526, 0.9569417271298747, 0.9614749464269342, 0.9768392563401966, 0.9688623016683213, 0.9914511008117114, 0.9923763546379202, 0.96445514159409, 0.9873099253064568, 0.9758832677409254, 0.9898041230389785, 0.9341423732632176, 0.927247376539762, 0.9917081554587203, 0.9426116486937092, 0.9109185879739768, 0.9860489467734292, 0.992556466017914, 0.9156572295033798, 0.9697569888542019, 0.9435598662551463, 0.9764887522660908, 0.9939730927196488, 0.9441745682273159, 0.9891367855228463, 0.9764345316457814, 0.9731604218517411, 0.962903703955215, 0.9432055644917177, 0.9641537412130956, 0.9782912343218418, 0.9585012182102941, 0.9830503793831921, 0.9642788263768948, 0.9491078092888855, 0.9869645590008601, 0.9457697741224234, 0.9925105389990369, 0.9504461979274216, 0.9696535846066656, 0.9527235647143598, 0.9886240801894235, 0.9906304089400992, 0.9872525115468562, 0.9685261474533873, 0.9322863683089252, 0.928550237646681, 0.962182457634732, 0.988232675205297, 0.9821855370258912, 0.9916487207895839, 0.9892157931080334, 0.9812441618231146, 0.9630193310730356, 0.9691420785736716, 0.9843451511756982, 0.9620635811321191, 0.9660841717772204, 0.9431782787247807, 0.892545680257362, 0.9847341870726056, 0.9762313191910333, 0.9388015697708674, 0.9833588200929565, 0.9823519517382427, 0.9336683548603472, 0.9829517798145284, 0.8950501032300372, 0.935323480480971, 0.9826226681164985, 0.9591351453130202, 0.945995947337603, 0.9630712411994827, 0.9401799042067143, 0.9941958540682863, 0.9615122968865855, 0.9657226845946973, 0.9846893432949686, 0.9844049375820579, 0.9760568303209662, 0.9781979895280256, 0.9894635460317774, 0.9706001033893942, 0.9727779613367592, 0.9727948674475493, 0.941425681554421, 0.9845143898933009, 0.9831064295948403, 0.9880928763008249, 0.9931188690024054, 0.9428592991608732, 0.9489737796800143, 0.9350784550035958, 0.9547698106020774, 0.966688885625213, 0.9723115092184815, 0.9269185736728055, 0.9702005919720268, 0.9789128320349949, 0.9911918931234441, 0.9083189313853831, 0.9760070322817367, 0.9898041230389785, 0.9223113538893047, 0.9355468743289675, 0.9806060230570464, 0.9720329445930612, 0.9969975632421896, 0.9617690419242595, 0.9824236468065816, 0.9722899824981661, 0.9296250880304879, 0.9962604565733859, 0.9438726315749932, 0.9965433698190101, 0.9848180243121084, 0.9863745693445203, 0.9706324365622341, 0.9859825971746256, 0.9929645114513692, 0.8588017149008849, 0.9820714388659013, 0.956598079970064, 0.9961263560736678, 0.9960730198652649, 0.9395125987723212, 0.9696422850584455, 0.9782379151055137, 0.9188088714108587, 0.9855399253371355, 0.9775234496222215, 0.9404574334732767, 0.9514046887837955], \"Term\": [\"$ $\", \"% time\", \"* *\", \"1 star\", \"10 year\", \"2 factor\", \"2 step\", \"2 week\", \"20 year\", \"3 day\", \"3 month\", \"3 time\", \"30 year\", \"5 day\", \"6 month\", \"abl deposit\", \"abl see\", \"abl sign\", \"access account\", \"access onlin\", \"account anymor\", \"account app\", \"account balanc\", \"account deposit\", \"account detail\", \"account without\", \"add credit\", \"allow log\", \"allow user\", \"almost everi\", \"alway ask\", \"alway say\", \"amount owe\", \"anoth bank\", \"app it\", \"appl pay\", \"ask password\", \"avail credit\", \"back chequ\", \"back in\", \"back old\", \"balanc account\", \"balanc show\", \"balanc transact\", \"balanc widget\", \"basic function\", \"bill payment\", \"bring back\", \"call custom\", \"call support\", \"can not\", \"cant access\", \"cant even\", \"cant log\", \"cant login\", \"cant open\", \"cant see\", \"cant sign\", \"cant use\", \"card account\", \"card number\", \"card transact\", \"chang it\", \"chang password\", \"check account\", \"check deposit\", \"chequ account\", \"chequ deposit\", \"click \\u201c\", \"close account\", \"come back\", \"could give\", \"could see\", \"could use\", \"coupl month\", \"crash everi\", \"credit card\", \"credit score\", \"current balanc\", \"custom servic\", \"custom support\", \"dark mode\", \"day ago\", \"debit card\", \"delet reinstal\", \"deposit check\", \"deposit chequ\", \"deposit featur\", \"develop team\", \"difficult use\", \"doesnt allow\", \"doesnt even\", \"doesnt show\", \"doesnt work\", \"dont know\", \"dont like\", \"dont need\", \"dont think\", \"dont understand\", \"dont use\", \"dont want\", \"dont work\", \"e transfer\", \"easi conveni\", \"easi navig\", \"easi use\", \"enter password\", \"error messag\", \"even get\", \"even log\", \"even open\", \"even though\", \"ever sinc\", \"ever use\", \"everi month\", \"everi singl\", \"everi time\", \"everi time\", \"excel servic\", \"face id\", \"face recognit\", \"facial recognit\", \"factor authent\", \"feel like\", \"financi institut\", \"find anyth\", \"first time\", \"five star\", \"fix app\", \"fix asap\", \"fix bug\", \"fix issu\", \"fix it\", \"fix pleas\", \"fix problem\", \"fix thi\", \"get account\", \"get error\", \"get fix\", \"get in\", \"get messag\", \"get rid\", \"get stuck\", \"get use\", \"get work\", \"get \\u201c\", \"give option\", \"give us\", \"go account\", \"go back\", \"go branch\", \"gon na\", \"good easi\", \"good job\", \"got new\", \"great app\", \"great featur\", \"half time\", \"hard use\", \"hasnt work\", \"havent abl\", \"highli recommend\", \"home screen\", \"hope fix\", \"id like\", \"id work\", \"im happi\", \"im still\", \"im tri\", \"im use\", \"interest rate\", \"internet connect\", \"iphon 13\", \"issu app\", \"it easi\", \"it like\", \"it month\", \"it realli\", \"it time\", \"it work\", \"ive ever\", \"ive never\", \"ive tri\", \"ive use\", \"keep crash\", \"keep get\", \"keep say\", \"keep tell\", \"keep track\", \"last month\", \"last updat\", \"last version\", \"last year\", \"later \\u201d\", \"latest io\", \"latest updat\", \"latest version\", \"let log\", \"let sign\", \"let updat\", \"like new\", \"like see\", \"line credit\", \"load account\", \"load screen\", \"log account\", \"log app\", \"log back\", \"log in\", \"log out\", \"login account\", \"login screen\", \"long time\", \"longer use\", \"longer work\", \"look like\", \"love app\", \"made life\", \"make chang\", \"make easier\", \"make payment\", \"make sens\", \"make sure\", \"mani problem\", \"mani time\", \"mani year\", \"messag say\", \"mobil app\", \"mobil deposit\", \"money account\", \"month ago\", \"month now\", \"monthli fee\", \"much better\", \"much easier\", \"much money\", \"much time\", \"multipl time\", \"need fix\", \"need updat\", \"need use\", \"need work\", \"never get\", \"never issu\", \"never problem\", \"never work\", \"new design\", \"new featur\", \"new iphon\", \"new look\", \"new one\", \"new password\", \"new phone\", \"new updat\", \"new version\", \"next time\", \"not access\", \"not use\", \"noth happen\", \"noth work\", \"old app\", \"old iphon\", \"old one\", \"old version\", \"older phone\", \"older version\", \"one account\", \"one best\", \"one star\", \"one use\", \"one worst\", \"onlin bank\", \"onlin servic\", \"open account\", \"open app\", \"open close\", \"open it\", \"password everi\", \"password say\", \"pay bill\", \"pay credit\", \"pend transact\", \"peopl get\", \"peopl use\", \"phone cant\", \"phone number\", \"photo chequ\", \"photo deposit\", \"pictur chequ\", \"pleas add\", \"pleas bring\", \"pleas fix\", \"pleas make\", \"pleas tri\", \"pleas updat\", \"pretti much\", \"previou version\", \"pro max\", \"quick balanc\", \"real time\", \"realli annoy\", \"realli bad\", \"realli good\", \"realli like\", \"receiv money\", \"recent updat\", \"reinstal app\", \"reset password\", \"restart phone\", \"right away\", \"right now\", \"save password\", \"say account\", \"say it\", \"say need\", \"say password\", \"say \\u201c\", \"secur question\", \"see account\", \"see balanc\", \"see transact\", \"seem like\", \"show account\", \"show balanc\", \"sign in\", \"sinc last\", \"sinc new\", \"sinc updat\", \"singl time\", \"someth went\", \"someth wrong\", \"soon possibl\", \"step verif\", \"still cant\", \"still get\", \"still work\", \"stop work\", \"stuck load\", \"sure it\", \"take forev\", \"take photo\", \"take pictur\", \"take time\", \"technic issu\", \"text messag\", \"thank much\", \"there alway\", \"there way\", \"thing need\", \"three time\", \"time day\", \"time get\", \"time go\", \"time ive\", \"time log\", \"time now\", \"time tri\", \"time updat\", \"time use\", \"time want\", \"touch id\", \"transfer account\", \"transfer fund\", \"tri access\", \"tri again\", \"tri call\", \"tri delet\", \"tri deposit\", \"tri get\", \"tri later\", \"tri log\", \"tri login\", \"tri open\", \"tri pay\", \"tri sign\", \"tri updat\", \"trust devic\", \"two account\", \"two day\", \"two factor\", \"two step\", \"two year\", \"uninstal reinstal\", \"updat app\", \"updat io\", \"updat it\", \"updat look\", \"updat made\", \"updat phone\", \"updat version\", \"updat wont\", \"use abl\", \"use account\", \"use app\", \"use bank\", \"use daili\", \"use easi\", \"use face\", \"use ipad\", \"use iphon\", \"use it\", \"use love\", \"use time\", \"use web\", \"use websit\", \"use work\", \"use year\", \"user experi\", \"user friendli\", \"verif code\", \"verif process\", \"version app\", \"view account\", \"wait line\", \"want check\", \"want pay\", \"want see\", \"want use\", \"wast time\", \"way better\", \"web browser\", \"went wrong\", \"what point\", \"white screen\", \"wish could\", \"wont allow\", \"wont let\", \"wont open\", \"wont work\", \"work anymor\", \"work app\", \"work fine\", \"work good\", \"work great\", \"work iphon\", \"work it\", \"work perfectli\", \"work properli\", \"work well\", \"would expect\", \"would great\", \"would help\", \"would like\", \"would nice\", \"write review\", \"wrong \\u201d\", \"year ago\", \"year now\", \"\\u201c someth\", \"\\u201c we\", \"\\u201d messag\", \"\\u201d \\u201c\"]}, \"R\": 30, \"lambda.step\": 0.01, \"plot.opts\": {\"xlab\": \"PC1\", \"ylab\": \"PC2\"}, \"topic.order\": [13, 7, 8, 12, 5, 14, 10, 9, 3, 15, 11, 2, 1, 6, 4]};\n",
       "\n",
       "function LDAvis_load_lib(url, callback){\n",
       "  var s = document.createElement('script');\n",
       "  s.src = url;\n",
       "  s.async = true;\n",
       "  s.onreadystatechange = s.onload = callback;\n",
       "  s.onerror = function(){console.warn(\"failed to load library \" + url);};\n",
       "  document.getElementsByTagName(\"head\")[0].appendChild(s);\n",
       "}\n",
       "\n",
       "if(typeof(LDAvis) !== \"undefined\"){\n",
       "   // already loaded: just create the visualization\n",
       "   !function(LDAvis){\n",
       "       new LDAvis(\"#\" + \"ldavis_el33361396447238303848340675139\", ldavis_el33361396447238303848340675139_data);\n",
       "   }(LDAvis);\n",
       "}else if(typeof define === \"function\" && define.amd){\n",
       "   // require.js is available: use it to load d3/LDAvis\n",
       "   require.config({paths: {d3: \"https://d3js.org/d3.v5\"}});\n",
       "   require([\"d3\"], function(d3){\n",
       "      window.d3 = d3;\n",
       "      LDAvis_load_lib(\"https://cdn.jsdelivr.net/gh/bmabey/pyLDAvis@3.4.0/pyLDAvis/js/ldavis.v3.0.0.js\", function(){\n",
       "        new LDAvis(\"#\" + \"ldavis_el33361396447238303848340675139\", ldavis_el33361396447238303848340675139_data);\n",
       "      });\n",
       "    });\n",
       "}else{\n",
       "    // require.js not available: dynamically load d3 & LDAvis\n",
       "    LDAvis_load_lib(\"https://d3js.org/d3.v5.js\", function(){\n",
       "         LDAvis_load_lib(\"https://cdn.jsdelivr.net/gh/bmabey/pyLDAvis@3.4.0/pyLDAvis/js/ldavis.v3.0.0.js\", function(){\n",
       "                 new LDAvis(\"#\" + \"ldavis_el33361396447238303848340675139\", ldavis_el33361396447238303848340675139_data);\n",
       "            })\n",
       "         });\n",
       "}\n",
       "</script>"
      ],
      "text/plain": [
       "PreparedData(topic_coordinates=              x         y  topics  cluster       Freq\n",
       "topic                                                \n",
       "12     0.141991 -0.016297       1        1  10.659054\n",
       "6     -0.033500 -0.124956       2        1   8.815642\n",
       "7     -0.017689  0.032719       3        1   8.756932\n",
       "11    -0.015596  0.024042       4        1   7.867943\n",
       "4     -0.014706  0.021234       5        1   7.838057\n",
       "13    -0.011296  0.013080       6        1   7.454622\n",
       "9     -0.014292  0.020022       7        1   7.289289\n",
       "8     -0.007708  0.007288       8        1   5.911777\n",
       "2     -0.005146  0.004272       9        1   5.740914\n",
       "14    -0.006103  0.005319      10        1   5.676292\n",
       "10    -0.006645  0.006882      11        1   5.422079\n",
       "1     -0.002953  0.002143      12        1   5.211290\n",
       "0     -0.002491  0.001736      13        1   4.919191\n",
       "5     -0.002200  0.001484      14        1   4.444253\n",
       "3     -0.001666  0.001033      15        1   3.992667, topic_info=               Term        Freq       Total Category  logprob  loglift\n",
       "915        easi use  897.000000  897.000000  Default  30.0000  30.0000\n",
       "256     credit card  730.000000  730.000000  Default  29.0000  29.0000\n",
       "588         can not  789.000000  789.000000  Default  28.0000  28.0000\n",
       "1     deposit chequ  769.000000  769.000000  Default  27.0000  27.0000\n",
       "165       pleas fix  699.000000  699.000000  Default  26.0000  26.0000\n",
       "...             ...         ...         ...      ...      ...      ...\n",
       "356    develop team   11.091138   12.417223  Topic15  -6.4711   3.1078\n",
       "2486   soon possibl   10.536985   11.863069  Topic15  -6.5223   3.1022\n",
       "2870    balanc show   10.280979   11.607063  Topic15  -6.5469   3.0994\n",
       "1158     updat look    9.846474   11.172559  Topic15  -6.5901   3.0944\n",
       "3395     amount owe    9.835007   11.161092  Topic15  -6.5913   3.0942\n",
       "\n",
       "[482 rows x 6 columns], token_table=      Topic      Freq      Term\n",
       "term                           \n",
       "3109     11  0.939863       $ $\n",
       "1915      2  0.983267    % time\n",
       "3355      7  0.975207       * *\n",
       "2153      6  0.956555    1 star\n",
       "3072     12  0.963540   10 year\n",
       "...     ...       ...       ...\n",
       "2142     15  0.918809  year now\n",
       "2053      4  0.985540  “ someth\n",
       "2311      5  0.977523      “ we\n",
       "1986      7  0.940457  ” messag\n",
       "1676      9  0.951405       ” “\n",
       "\n",
       "[452 rows x 3 columns], R=30, lambda_step=0.01, plot_opts={'xlab': 'PC1', 'ylab': 'PC2'}, topic_order=[13, 7, 8, 12, 5, 14, 10, 9, 3, 15, 11, 2, 1, 6, 4])"
      ]
     },
     "execution_count": 280,
     "metadata": {},
     "output_type": "execute_result"
    }
   ],
   "source": [
    "pyLDAvis.enable_notebook()\n",
    "\n",
    "vis = gensimvis.prepare(best_topic_model, bigram_corpus, bigram_dict)\n",
    "vis"
   ]
  },
  {
   "cell_type": "code",
   "execution_count": null,
   "id": "4e476315-c71e-42a2-b6b2-e08be5149f5f",
   "metadata": {},
   "outputs": [],
   "source": []
  },
  {
   "cell_type": "code",
   "execution_count": null,
   "id": "6df411ca-36d0-4b37-abe2-d9f8c20eae57",
   "metadata": {},
   "outputs": [],
   "source": []
  },
  {
   "cell_type": "code",
   "execution_count": null,
   "id": "1f9c6475-fa70-45aa-93e5-4ab39c7e32a8",
   "metadata": {},
   "outputs": [],
   "source": []
  },
  {
   "cell_type": "code",
   "execution_count": null,
   "id": "a54e576f-1d88-4216-88ee-7181540641cf",
   "metadata": {},
   "outputs": [],
   "source": []
  },
  {
   "cell_type": "code",
   "execution_count": null,
   "id": "58b631ab-29b7-4c24-9dc5-8d3208db7453",
   "metadata": {},
   "outputs": [],
   "source": []
  },
  {
   "cell_type": "code",
   "execution_count": null,
   "id": "91d3cf97-5f5b-4d32-b6c0-e03a248a0694",
   "metadata": {},
   "outputs": [],
   "source": []
  },
  {
   "cell_type": "code",
   "execution_count": null,
   "id": "83adf250-9584-4dbd-b55f-65b7095f72c1",
   "metadata": {},
   "outputs": [],
   "source": []
  },
  {
   "cell_type": "markdown",
   "id": "f5e7cea6-60e9-4913-9d21-c7a3c8c51551",
   "metadata": {},
   "source": [
    "# SENTIMENT ANALYSIS\n",
    "\n",
    "We use a train and test split, compare our sentiments using scipy classifiers, and use the ratings (above average + sigma as positive, below average - sigma as negative) to test how well our algorithm worked. "
   ]
  },
  {
   "cell_type": "code",
   "execution_count": null,
   "id": "c22f32d3-8ba1-4636-8c41-3457095819c7",
   "metadata": {},
   "outputs": [],
   "source": []
  }
 ],
 "metadata": {
  "kernelspec": {
   "display_name": "Python 3 (ipykernel)",
   "language": "python",
   "name": "python3"
  },
  "language_info": {
   "codemirror_mode": {
    "name": "ipython",
    "version": 3
   },
   "file_extension": ".py",
   "mimetype": "text/x-python",
   "name": "python",
   "nbconvert_exporter": "python",
   "pygments_lexer": "ipython3",
   "version": "3.11.5"
  }
 },
 "nbformat": 4,
 "nbformat_minor": 5
}
