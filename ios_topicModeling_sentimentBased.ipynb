{
 "cells": [
  {
   "cell_type": "markdown",
   "id": "played-league",
   "metadata": {},
   "source": [
    "The following cell needs to be run only once to install the packages that may not be available"
   ]
  },
  {
   "cell_type": "code",
   "execution_count": 1,
   "id": "alternative-vietnam",
   "metadata": {},
   "outputs": [],
   "source": [
    "%%capture \n",
    "!pip install nltk\n",
    "!pip install gensim\n",
    "!pip install itertools\n",
    "!pip install spacy\n",
    "!pip install langdetect\n",
    "!pip install pprint\n",
    "!pip install pyLDAvis"
   ]
  },
  {
   "cell_type": "code",
   "execution_count": 2,
   "id": "acquired-socket",
   "metadata": {},
   "outputs": [
    {
     "name": "stdout",
     "output_type": "stream",
     "text": [
      "Requirement already satisfied: scipy==1.12 in /Users/yektaamirkhalili/opt/anaconda3/lib/python3.9/site-packages (1.12.0)\n",
      "Requirement already satisfied: numpy<1.29.0,>=1.22.4 in /Users/yektaamirkhalili/opt/anaconda3/lib/python3.9/site-packages (from scipy==1.12) (1.26.4)\n",
      "\u001b[33mWARNING: Error parsing dependencies of textract: .* suffix can only be used with `==` or `!=` operators\n",
      "    extract-msg (<=0.29.*)\n",
      "                 ~~~~~~~^\u001b[0m\u001b[33m\n",
      "\u001b[0m"
     ]
    }
   ],
   "source": [
    "!pip install scipy==1.12\n"
   ]
  },
  {
   "cell_type": "code",
   "execution_count": 3,
   "id": "indie-letters",
   "metadata": {},
   "outputs": [
    {
     "name": "stderr",
     "output_type": "stream",
     "text": [
      "/Users/yektaamirkhalili/opt/anaconda3/lib/python3.9/site-packages/pandas/core/computation/expressions.py:21: UserWarning: Pandas requires version '2.8.4' or newer of 'numexpr' (version '2.8.1' currently installed).\n",
      "  from pandas.core.computation.check import NUMEXPR_INSTALLED\n",
      "/Users/yektaamirkhalili/opt/anaconda3/lib/python3.9/site-packages/pandas/core/arrays/masked.py:60: UserWarning: Pandas requires version '1.3.6' or newer of 'bottleneck' (version '1.3.4' currently installed).\n",
      "  from pandas.core import (\n"
     ]
    }
   ],
   "source": [
    "import os\n",
    "import re\n",
    "import pandas as pd\n",
    "import nltk\n",
    "from nltk.tokenize import regexp_tokenize\n",
    "from nltk.tokenize import word_tokenize\n",
    "from nltk.tokenize import sent_tokenize\n",
    "from nltk.corpus import stopwords\n",
    "from collections import Counter\n",
    "from nltk.stem import WordNetLemmatizer\n",
    "from string import punctuation\n",
    "from pprint import pprint\n",
    "from nltk import pos_tag\n",
    "from nltk.corpus import wordnet\n",
    "from nltk.stem import PorterStemmer\n",
    "from nltk.util import ngrams\n",
    "\n",
    "import pyLDAvis\n",
    "\n",
    "from collections import defaultdict\n",
    "import itertools\n",
    "from sklearn.feature_extraction.text import CountVectorizer\n",
    "from nltk.tokenize import RegexpTokenizer\n",
    "from sklearn.model_selection import train_test_split\n",
    "import matplotlib.pyplot as plt\n",
    "%matplotlib inline\n",
    "\n",
    "\n"
   ]
  },
  {
   "cell_type": "code",
   "execution_count": 4,
   "id": "difficult-sherman",
   "metadata": {},
   "outputs": [
    {
     "name": "stderr",
     "output_type": "stream",
     "text": [
      "/Users/yektaamirkhalili/opt/anaconda3/lib/python3.9/site-packages/ipykernel/ipkernel.py:283: DeprecationWarning: `should_run_async` will not call `transform_cell` automatically in the future. Please pass the result to `transformed_cell` argument and any exception that happen during thetransform in `preprocessing_exc_tuple` in IPython 7.17 and above.\n",
      "  and should_run_async(code)\n"
     ]
    }
   ],
   "source": [
    "import warnings\n",
    "warnings.filterwarnings(\"ignore\", category=DeprecationWarning)"
   ]
  },
  {
   "cell_type": "code",
   "execution_count": 5,
   "id": "average-ability",
   "metadata": {},
   "outputs": [
    {
     "name": "stdout",
     "output_type": "stream",
     "text": [
      "\u001b[33mWARNING: Error parsing dependencies of textract: .* suffix can only be used with `==` or `!=` operators\n",
      "    extract-msg (<=0.29.*)\n",
      "                 ~~~~~~~^\u001b[0m\u001b[33m\n",
      "\u001b[0m"
     ]
    }
   ],
   "source": [
    "!pip install scipy==1.12.0 --quiet\n"
   ]
  },
  {
   "cell_type": "code",
   "execution_count": 6,
   "id": "productive-administrator",
   "metadata": {},
   "outputs": [
    {
     "name": "stdout",
     "output_type": "stream",
     "text": [
      "1.12.0\n"
     ]
    }
   ],
   "source": [
    "__requires__= 'scipy==1.12.0'\n",
    "\n",
    "import scipy\n",
    "print(scipy.__version__)"
   ]
  },
  {
   "cell_type": "code",
   "execution_count": 7,
   "id": "passing-detection",
   "metadata": {},
   "outputs": [],
   "source": [
    "import numpy as np\n",
    "from numpy import triu\n",
    "import scipy\n",
    "from scipy.linalg.special_matrices import triu\n",
    "\n",
    "import gensim\n",
    "from gensim.models import Phrases\n",
    "from gensim.models.phrases import Phraser\n",
    "\n",
    "\n",
    "from gensim.corpora.dictionary import Dictionary\n",
    "from gensim.corpora import MmCorpus\n",
    "\n",
    "from gensim.models.tfidfmodel import TfidfModel\n",
    "from langdetect import detect, DetectorFactory\n",
    "from gensim.models import CoherenceModel\n",
    "\n",
    "\n",
    "import pyLDAvis.gensim_models as gensimvis\n",
    "import pyLDAvis.gensim\n",
    "import pyLDAvis.gensim_models"
   ]
  },
  {
   "cell_type": "code",
   "execution_count": 8,
   "id": "continuing-reservation",
   "metadata": {},
   "outputs": [
    {
     "name": "stderr",
     "output_type": "stream",
     "text": [
      "[nltk_data] Downloading package stopwords to\n",
      "[nltk_data]     /Users/yektaamirkhalili/nltk_data...\n",
      "[nltk_data]   Package stopwords is already up-to-date!\n",
      "[nltk_data] Downloading package punkt to\n",
      "[nltk_data]     /Users/yektaamirkhalili/nltk_data...\n",
      "[nltk_data]   Package punkt is already up-to-date!\n",
      "[nltk_data] Downloading package wordnet to\n",
      "[nltk_data]     /Users/yektaamirkhalili/nltk_data...\n",
      "[nltk_data]   Package wordnet is already up-to-date!\n",
      "[nltk_data] Downloading package punkt_tab to\n",
      "[nltk_data]     /Users/yektaamirkhalili/nltk_data...\n",
      "[nltk_data]   Package punkt_tab is already up-to-date!\n",
      "[nltk_data] Downloading package omw-1.4 to\n",
      "[nltk_data]     /Users/yektaamirkhalili/nltk_data...\n",
      "[nltk_data]   Package omw-1.4 is already up-to-date!\n",
      "[nltk_data] Downloading package averaged_perceptron_tagger to\n",
      "[nltk_data]     /Users/yektaamirkhalili/nltk_data...\n",
      "[nltk_data]   Package averaged_perceptron_tagger is already up-to-\n",
      "[nltk_data]       date!\n",
      "[nltk_data] Downloading package averaged_perceptron_tagger_eng to\n",
      "[nltk_data]     /Users/yektaamirkhalili/nltk_data...\n",
      "[nltk_data]   Package averaged_perceptron_tagger_eng is already up-to-\n",
      "[nltk_data]       date!\n"
     ]
    },
    {
     "data": {
      "text/plain": [
       "True"
      ]
     },
     "execution_count": 8,
     "metadata": {},
     "output_type": "execute_result"
    }
   ],
   "source": [
    "# only run once \n",
    "nltk.download('stopwords')\n",
    "nltk.download('punkt')\n",
    "nltk.download('wordnet')\n",
    "nltk.download('punkt_tab')\n",
    "nltk.download('omw-1.4')  # Optional for better language support\n",
    "nltk.download('averaged_perceptron_tagger')  # For POS tagging\n",
    "nltk.download('averaged_perceptron_tagger_eng')"
   ]
  },
  {
   "cell_type": "markdown",
   "id": "magnetic-practice",
   "metadata": {},
   "source": [
    "# CLEANING AND PRE-PROCESSING DATA \n",
    "\n",
    "The following procedures are implemented for Data Cleaning: \n",
    "\n",
    "1. Only keep English reviews (remove non-English) --- Task: check before and after number of rows (to see how many got deleted)\n",
    "2. Turn everything into lower case \n",
    "3. Remove stopwords + additional stopwords such as \"from\" \"subject\" \"reply\" \"app\" \"bank\" \"banking\" + names of the banks \"CIBC\", \"TD\", \"BMO\", \"RBC\", \"SCOTIA\"\n",
    "4. Remove punctuation \n",
    "5. Lemming/Stemming  \n",
    "\n",
    "Throughtout this process, several **Variations** of the data are kept: \n",
    "1. `reviews` is a list of the original data frame's reviews column where each user review is an entry in the list\n",
    "2. `reviews_corpus` is a block of text where all reviews are joined together, and everything is lower cased  \n",
    "3. `tokenized_doc_to_sentences` is the sentence tokenized version of `reviews_corpus`, a list of strings \n",
    "4. `tokenized_doc_to_words` is the word tokenized version of `tokenized_doc_to_sentences`, a list of lists where each outer list a review, then the inner lists each correspond to the sentences within the review \n",
    "\n",
    "The data cleaning is performed on all variations of the data. Therefore, each 4 types of data that are kept have clean and raw versions. Both types are saved to disk for easier upload later. "
   ]
  },
  {
   "cell_type": "markdown",
   "id": "split-frequency",
   "metadata": {},
   "source": [
    "# IMPORTANT FUNCTIONS \n",
    "\n",
    "Below are descriptions of functions. At various points, we have employed the help of ChatGPT4 (chat.openai.com). Please look out for the comment indicating start and end of code provided or fixed by AI. \n",
    "\n",
    "1. `is_english` detects non-English and English texts. We use this function for data cleaning, as several of the reviews are in languages other than English. \n",
    "2. `remove_punc` removes punctuation specifically declared as a regular expression in `punctuation_to_remove` \n",
    "3. `generate_dictionary` creates a gensim dictionary and corpus, and saves the dictionary to a matrix model format for easier retrival \n",
    "4. `print_top_10_words` prints the top 10 words in a corpus using TF-IDF (weighted)\n",
    "5. `build_lda_model` builds our topic modeling model based on LDA, allowing for several models with different parameters to be trained for comparison to pick the best model parameters (parameter tuning)\n",
    "6. `train_models` trains the LDA models and returns a list with all the models \n",
    "7. `calculate_preplexity` calculates model perplexity \n",
    "8. `calculate_coherence` calculates model coherence \n",
    "9. `print_topics` prints the topic modeling results with word weights \n",
    "10. `remove_stopwords_from_sentence` removes stopwords from sentences while keeping the sentence structure   \n",
    "11. `build_model_comparison_table` trains several models, and saves the results of perplexity and coherence in one dataframe for easy comparison \n",
    "12. `find_best_model` loops through the dataframe of all models trained and finds minimum perplexity and maximum coherence \n",
    "13. `pick_best_model` returns the model parameters that give the best combination perplexity and coherence scores \n"
   ]
  },
  {
   "cell_type": "code",
   "execution_count": 9,
   "id": "floating-sympathy",
   "metadata": {},
   "outputs": [],
   "source": [
    "# ---------------------- START OF CHATGPT CODE\n",
    "# PROMPT was: finish this function: def save_file(name, extension, content):\n",
    "def save_file(name, extension, content):\n",
    "    \"\"\"\n",
    "    Save a file with the specified name, extension, and content.\n",
    "\n",
    "    Args:\n",
    "    name (str): The name of the file (without extension).\n",
    "    extension (str): The file extension (e.g., 'txt', 'csv').\n",
    "    content (str): The content to be saved in the file.\n",
    "\n",
    "    Returns:\n",
    "    None\n",
    "    \"\"\"\n",
    "    # Combine name and extension to form the full file name\n",
    "    filename = f\"{name}.{extension}\"\n",
    "\n",
    "    # Check if the file already exists\n",
    "    if os.path.exists(filename):\n",
    "        print(f\"The file {filename} already exists. Overwriting...\")\n",
    "    \n",
    "    # Open the file and write the content\n",
    "    try:\n",
    "        with open(filename, 'w') as file:\n",
    "            file.write(content)\n",
    "        print(f\"File {filename} saved successfully.\")\n",
    "    except Exception as e:\n",
    "        print(f\"Error while saving file: {e}\")\n",
    "# ---------------------- END OF CHATGPT CODE \n",
    "\n"
   ]
  },
  {
   "cell_type": "markdown",
   "id": "comparable-azerbaijan",
   "metadata": {},
   "source": [
    "## DATASET "
   ]
  },
  {
   "cell_type": "code",
   "execution_count": 10,
   "id": "amazing-steering",
   "metadata": {},
   "outputs": [],
   "source": [
    "df_neg = pd.read_csv(\"negative_data_ios.csv\")\n",
    "df_pos = pd.read_csv(\"positive_data_ios.csv\")\n",
    "df_net = pd.read_csv(\"neutral_data_ios.csv\")"
   ]
  },
  {
   "cell_type": "code",
   "execution_count": 11,
   "id": "experienced-rings",
   "metadata": {},
   "outputs": [],
   "source": [
    "df_neg = df_neg.copy()\n",
    "df_pos = df_pos.copy()\n",
    "df_net = df_net.copy()"
   ]
  },
  {
   "cell_type": "code",
   "execution_count": 12,
   "id": "narrative-sugar",
   "metadata": {},
   "outputs": [
    {
     "name": "stdout",
     "output_type": "stream",
     "text": [
      "<class 'pandas.core.frame.DataFrame'>\n",
      "RangeIndex: 5475 entries, 0 to 5474\n",
      "Data columns (total 8 columns):\n",
      " #   Column        Non-Null Count  Dtype \n",
      "---  ------        --------------  ----- \n",
      " 0   rating        5475 non-null   int64 \n",
      " 1   title         5475 non-null   object\n",
      " 2   review        5475 non-null   object\n",
      " 3   Bank          5475 non-null   object\n",
      " 4   man_label     5475 non-null   object\n",
      " 5   blob_labels   5475 non-null   object\n",
      " 6   vader_labels  5475 non-null   object\n",
      " 7   LSTM_label    5475 non-null   object\n",
      "dtypes: int64(1), object(7)\n",
      "memory usage: 342.3+ KB\n"
     ]
    }
   ],
   "source": [
    "df_neg.info()"
   ]
  },
  {
   "cell_type": "code",
   "execution_count": 13,
   "id": "written-constitutional",
   "metadata": {},
   "outputs": [
    {
     "name": "stdout",
     "output_type": "stream",
     "text": [
      "<class 'pandas.core.frame.DataFrame'>\n",
      "RangeIndex: 3413 entries, 0 to 3412\n",
      "Data columns (total 8 columns):\n",
      " #   Column        Non-Null Count  Dtype \n",
      "---  ------        --------------  ----- \n",
      " 0   rating        3413 non-null   int64 \n",
      " 1   title         3412 non-null   object\n",
      " 2   review        3413 non-null   object\n",
      " 3   Bank          3413 non-null   object\n",
      " 4   man_label     3413 non-null   object\n",
      " 5   blob_labels   3413 non-null   object\n",
      " 6   vader_labels  3413 non-null   object\n",
      " 7   LSTM_label    3413 non-null   object\n",
      "dtypes: int64(1), object(7)\n",
      "memory usage: 213.4+ KB\n"
     ]
    }
   ],
   "source": [
    "df_pos.info()"
   ]
  },
  {
   "cell_type": "code",
   "execution_count": 14,
   "id": "usual-terror",
   "metadata": {},
   "outputs": [
    {
     "name": "stdout",
     "output_type": "stream",
     "text": [
      "<class 'pandas.core.frame.DataFrame'>\n",
      "RangeIndex: 1440 entries, 0 to 1439\n",
      "Data columns (total 8 columns):\n",
      " #   Column        Non-Null Count  Dtype \n",
      "---  ------        --------------  ----- \n",
      " 0   rating        1440 non-null   int64 \n",
      " 1   title         1440 non-null   object\n",
      " 2   review        1439 non-null   object\n",
      " 3   Bank          1440 non-null   object\n",
      " 4   man_label     1440 non-null   object\n",
      " 5   blob_labels   1440 non-null   object\n",
      " 6   vader_labels  1440 non-null   object\n",
      " 7   LSTM_label    1440 non-null   object\n",
      "dtypes: int64(1), object(7)\n",
      "memory usage: 90.1+ KB\n"
     ]
    }
   ],
   "source": [
    "df_net.info()"
   ]
  },
  {
   "cell_type": "code",
   "execution_count": 15,
   "id": "speaking-copying",
   "metadata": {},
   "outputs": [
    {
     "data": {
      "text/html": [
       "<div>\n",
       "<style scoped>\n",
       "    .dataframe tbody tr th:only-of-type {\n",
       "        vertical-align: middle;\n",
       "    }\n",
       "\n",
       "    .dataframe tbody tr th {\n",
       "        vertical-align: top;\n",
       "    }\n",
       "\n",
       "    .dataframe thead th {\n",
       "        text-align: right;\n",
       "    }\n",
       "</style>\n",
       "<table border=\"1\" class=\"dataframe\">\n",
       "  <thead>\n",
       "    <tr style=\"text-align: right;\">\n",
       "      <th></th>\n",
       "      <th>rating</th>\n",
       "      <th>title</th>\n",
       "      <th>review</th>\n",
       "      <th>Bank</th>\n",
       "      <th>man_label</th>\n",
       "      <th>blob_labels</th>\n",
       "      <th>vader_labels</th>\n",
       "      <th>LSTM_label</th>\n",
       "    </tr>\n",
       "  </thead>\n",
       "  <tbody>\n",
       "    <tr>\n",
       "      <th>0</th>\n",
       "      <td>1</td>\n",
       "      <td>Works terrible on my new phone</td>\n",
       "      <td>new phone, practically every time open asks ve...</td>\n",
       "      <td>BMO</td>\n",
       "      <td>negative</td>\n",
       "      <td>neutral</td>\n",
       "      <td>positive</td>\n",
       "      <td>negative</td>\n",
       "    </tr>\n",
       "    <tr>\n",
       "      <th>1</th>\n",
       "      <td>1</td>\n",
       "      <td>Not working with iOS12.2</td>\n",
       "      <td>won’t work ios.. every time open turn white st...</td>\n",
       "      <td>BMO</td>\n",
       "      <td>negative</td>\n",
       "      <td>neutral</td>\n",
       "      <td>negative</td>\n",
       "      <td>negative</td>\n",
       "    </tr>\n",
       "    <tr>\n",
       "      <th>2</th>\n",
       "      <td>1</td>\n",
       "      <td>Always signs me out</td>\n",
       "      <td>sign out, forgets card number enter card, pass...</td>\n",
       "      <td>BMO</td>\n",
       "      <td>negative</td>\n",
       "      <td>neutral</td>\n",
       "      <td>negative</td>\n",
       "      <td>negative</td>\n",
       "    </tr>\n",
       "    <tr>\n",
       "      <th>3</th>\n",
       "      <td>1</td>\n",
       "      <td>Insights</td>\n",
       "      <td>insight terrible integration. take logins feat...</td>\n",
       "      <td>BMO</td>\n",
       "      <td>negative</td>\n",
       "      <td>negative</td>\n",
       "      <td>negative</td>\n",
       "      <td>negative</td>\n",
       "    </tr>\n",
       "    <tr>\n",
       "      <th>4</th>\n",
       "      <td>3</td>\n",
       "      <td>Please fix it!</td>\n",
       "      <td>working fine, updated it, won’t open. please f...</td>\n",
       "      <td>BMO</td>\n",
       "      <td>neutral</td>\n",
       "      <td>neutral</td>\n",
       "      <td>positive</td>\n",
       "      <td>negative</td>\n",
       "    </tr>\n",
       "  </tbody>\n",
       "</table>\n",
       "</div>"
      ],
      "text/plain": [
       "   rating                           title  \\\n",
       "0       1  Works terrible on my new phone   \n",
       "1       1        Not working with iOS12.2   \n",
       "2       1             Always signs me out   \n",
       "3       1                        Insights   \n",
       "4       3                  Please fix it!   \n",
       "\n",
       "                                              review Bank man_label  \\\n",
       "0  new phone, practically every time open asks ve...  BMO  negative   \n",
       "1  won’t work ios.. every time open turn white st...  BMO  negative   \n",
       "2  sign out, forgets card number enter card, pass...  BMO  negative   \n",
       "3  insight terrible integration. take logins feat...  BMO  negative   \n",
       "4  working fine, updated it, won’t open. please f...  BMO   neutral   \n",
       "\n",
       "  blob_labels vader_labels LSTM_label  \n",
       "0     neutral     positive   negative  \n",
       "1     neutral     negative   negative  \n",
       "2     neutral     negative   negative  \n",
       "3    negative     negative   negative  \n",
       "4     neutral     positive   negative  "
      ]
     },
     "execution_count": 15,
     "metadata": {},
     "output_type": "execute_result"
    }
   ],
   "source": [
    "df_neg.head()"
   ]
  },
  {
   "cell_type": "markdown",
   "id": "internal-thomson",
   "metadata": {},
   "source": [
    "### DATA VERSIONS - BEFORE CLEANING "
   ]
  },
  {
   "cell_type": "code",
   "execution_count": 16,
   "id": "brilliant-stadium",
   "metadata": {},
   "outputs": [],
   "source": [
    "stop_words = stopwords.words('english')\n",
    "stop_words.extend(['from', 'subject', 'reply', 'banking', 'bank', 'app', 'apps', 'banks', 'cibc', 'rbc', 'td', 'scotia', 'bmo'])"
   ]
  },
  {
   "cell_type": "code",
   "execution_count": 25,
   "id": "opening-carter",
   "metadata": {},
   "outputs": [],
   "source": [
    "from nltk.tokenize import RegexpTokenizer\n",
    "from sklearn.feature_extraction.text import CountVectorizer\n",
    "\n",
    "\n",
    "def remove_punc(text):\n",
    "\n",
    "#     \"\"\"Takes in some text, removes specific punctuations from them\"\"\"\n",
    "#     punctuation_to_remove = r\"[\\[\\]\\(\\)!?‘’'\\'\\\"\\.,;:]\"\n",
    "#     # punctuation_to_remove = r\"[\\[\\]\\(\\)!?\\\"\\.,;:]\"\n",
    "#     no_punc = re.sub(punctuation_to_remove, \"\", text)\n",
    "#     no_punc_words = [word for word in text if word not in punctuation]\n",
    "#     no_punc = ''.join(no_punc_words)\n",
    "    \n",
    "#     return no_punc\n",
    "    punctuation_to_remove = r\"[\\[\\]\\(\\)!?‘’'\\\".,;:]\"\n",
    "    no_punc = re.sub(punctuation_to_remove, \"\", text)\n",
    "    return no_punc\n",
    "\n",
    "\n",
    "\n",
    "def remove_stopwords_from_sentence(sentence):\n",
    "\n",
    "    filtered_words = [word for word in sentence.split() if word.lower() not in stop_words]\n",
    "    \n",
    "    filtered_sentence = ' '.join(filtered_words)\n",
    "\n",
    "    return filtered_sentence\n",
    "\n",
    "\n",
    "def generate_data(df):\n",
    "    \"\"\"\n",
    "    Automate all the tasks for cleaning data - make sure column name is correct! \n",
    "    \"\"\"\n",
    "    \n",
    "#     reviews = list(df['review']) \n",
    "#     reviews_corpus = \" \".join([str(review) for review in reviews])\n",
    "\n",
    "#     tokenized_doc_to_sentences = sent_tokenize(reviews_corpus)\n",
    "\n",
    "#     tokenized_doc_to_words = [word_tokenize(sent) for sent in tokenized_doc_to_sentences]\n",
    "    \n",
    "#     reviews_corpus_lc = list(df['review'])\n",
    "#     reviews_corpus_lc = [review.lower() for review in reviews_corpus_lc]\n",
    "\n",
    "#     tokenized_doc_to_sentences_lc_review_Sentenced = [sent_tokenize(review) for review in reviews_corpus_lc] \n",
    "\n",
    "#     tokenized_doc_to_sentences_lc = sent_tokenize(' '.join(reviews_corpus_lc))\n",
    "#     tokenized_doc_to_words_lc = [word_tokenize(sent) for sent in tokenized_doc_to_sentences_lc]\n",
    "\n",
    "\n",
    "#     reviews_corpus_stpw = list(df['review'].apply(remove_stopwords_from_sentence))\n",
    "#     tokenized_doc_to_sentences_stpw = sent_tokenize(' '.join(reviews_corpus_stpw))\n",
    "#     tokenized_doc_to_words_stpw = [word_tokenize(sent) for sent in tokenized_doc_to_sentences_stpw]\n",
    "\n",
    "#     reviews_corpus_noPnc = [remove_punc(review) for review in reviews_corpus_stpw] \n",
    "#     tokenized_doc_to_sentences_noPnc = [remove_punc(sentence) for sentence in tokenized_doc_to_sentences_stpw]\n",
    "#     tokenized_doc_to_words_noPnc = [word_tokenize(sent) for sent in tokenized_doc_to_sentences_noPnc]\n",
    "    \n",
    "    # SOURCE for code: https://www.analyticsvidhya.com/blog/2022/07/sentiment-analysis-using-python/\n",
    "\n",
    "    token = RegexpTokenizer(r'[a-zA-Z0-9]+') # get rid of punctuation and non alphanumeric characters + tokenize to word \n",
    "\n",
    "    cv = CountVectorizer(stop_words = stop_words, ngram_range = (1,1), tokenizer = token.tokenize) #count word matrix \n",
    "\n",
    "    reviews_word_counts = cv.fit_transform(df['review'])\n",
    "\n",
    "    df['review'] = df['review'].apply(lambda x: ' '.join(x.lower() for x in x.split()))\n",
    "    \n",
    "    df['review'] = df['review'].apply(lambda x: re.sub(r'\\d+', '', x))  \n",
    "    \n",
    "    df['review'] = df['review'].apply(lambda x: ' '.join(x for x in x.split() if x not in stop_words))\n",
    "    \n",
    "    # Lemmatization\n",
    "    lemmatizer = WordNetLemmatizer()\n",
    "    df['review'] = df['review'].apply(lambda x: ' '.join([lemmatizer.lemmatize(word) for word in x.split()]))\n",
    "    \n",
    "    return df\n",
    "\n"
   ]
  },
  {
   "cell_type": "code",
   "execution_count": 26,
   "id": "simplified-verse",
   "metadata": {},
   "outputs": [],
   "source": [
    "neg_df_clean = generate_data(df_neg)"
   ]
  },
  {
   "cell_type": "code",
   "execution_count": 27,
   "id": "advisory-glenn",
   "metadata": {},
   "outputs": [
    {
     "data": {
      "text/html": [
       "<div>\n",
       "<style scoped>\n",
       "    .dataframe tbody tr th:only-of-type {\n",
       "        vertical-align: middle;\n",
       "    }\n",
       "\n",
       "    .dataframe tbody tr th {\n",
       "        vertical-align: top;\n",
       "    }\n",
       "\n",
       "    .dataframe thead th {\n",
       "        text-align: right;\n",
       "    }\n",
       "</style>\n",
       "<table border=\"1\" class=\"dataframe\">\n",
       "  <thead>\n",
       "    <tr style=\"text-align: right;\">\n",
       "      <th></th>\n",
       "      <th>rating</th>\n",
       "      <th>title</th>\n",
       "      <th>review</th>\n",
       "      <th>Bank</th>\n",
       "      <th>man_label</th>\n",
       "      <th>blob_labels</th>\n",
       "      <th>vader_labels</th>\n",
       "      <th>LSTM_label</th>\n",
       "    </tr>\n",
       "  </thead>\n",
       "  <tbody>\n",
       "    <tr>\n",
       "      <th>0</th>\n",
       "      <td>1</td>\n",
       "      <td>Works terrible on my new phone</td>\n",
       "      <td>new phone, practically every time open asks ve...</td>\n",
       "      <td>BMO</td>\n",
       "      <td>negative</td>\n",
       "      <td>neutral</td>\n",
       "      <td>positive</td>\n",
       "      <td>negative</td>\n",
       "    </tr>\n",
       "    <tr>\n",
       "      <th>1</th>\n",
       "      <td>1</td>\n",
       "      <td>Not working with iOS12.2</td>\n",
       "      <td>won’t work ios.. every time open turn white st...</td>\n",
       "      <td>BMO</td>\n",
       "      <td>negative</td>\n",
       "      <td>neutral</td>\n",
       "      <td>negative</td>\n",
       "      <td>negative</td>\n",
       "    </tr>\n",
       "    <tr>\n",
       "      <th>2</th>\n",
       "      <td>1</td>\n",
       "      <td>Always signs me out</td>\n",
       "      <td>sign out, forgets card number enter card, pass...</td>\n",
       "      <td>BMO</td>\n",
       "      <td>negative</td>\n",
       "      <td>neutral</td>\n",
       "      <td>negative</td>\n",
       "      <td>negative</td>\n",
       "    </tr>\n",
       "    <tr>\n",
       "      <th>3</th>\n",
       "      <td>1</td>\n",
       "      <td>Insights</td>\n",
       "      <td>insight terrible integration. take logins feat...</td>\n",
       "      <td>BMO</td>\n",
       "      <td>negative</td>\n",
       "      <td>negative</td>\n",
       "      <td>negative</td>\n",
       "      <td>negative</td>\n",
       "    </tr>\n",
       "    <tr>\n",
       "      <th>4</th>\n",
       "      <td>3</td>\n",
       "      <td>Please fix it!</td>\n",
       "      <td>working fine, updated it, won’t open. please f...</td>\n",
       "      <td>BMO</td>\n",
       "      <td>neutral</td>\n",
       "      <td>neutral</td>\n",
       "      <td>positive</td>\n",
       "      <td>negative</td>\n",
       "    </tr>\n",
       "  </tbody>\n",
       "</table>\n",
       "</div>"
      ],
      "text/plain": [
       "   rating                           title  \\\n",
       "0       1  Works terrible on my new phone   \n",
       "1       1        Not working with iOS12.2   \n",
       "2       1             Always signs me out   \n",
       "3       1                        Insights   \n",
       "4       3                  Please fix it!   \n",
       "\n",
       "                                              review Bank man_label  \\\n",
       "0  new phone, practically every time open asks ve...  BMO  negative   \n",
       "1  won’t work ios.. every time open turn white st...  BMO  negative   \n",
       "2  sign out, forgets card number enter card, pass...  BMO  negative   \n",
       "3  insight terrible integration. take logins feat...  BMO  negative   \n",
       "4  working fine, updated it, won’t open. please f...  BMO   neutral   \n",
       "\n",
       "  blob_labels vader_labels LSTM_label  \n",
       "0     neutral     positive   negative  \n",
       "1     neutral     negative   negative  \n",
       "2     neutral     negative   negative  \n",
       "3    negative     negative   negative  \n",
       "4     neutral     positive   negative  "
      ]
     },
     "execution_count": 27,
     "metadata": {},
     "output_type": "execute_result"
    }
   ],
   "source": [
    "neg_df_clean.head()"
   ]
  },
  {
   "cell_type": "code",
   "execution_count": 28,
   "id": "referenced-square",
   "metadata": {},
   "outputs": [
    {
     "name": "stderr",
     "output_type": "stream",
     "text": [
      "/Users/yektaamirkhalili/opt/anaconda3/lib/python3.9/site-packages/sklearn/feature_extraction/text.py:521: UserWarning: The parameter 'token_pattern' will not be used since 'tokenizer' is not None'\n",
      "  warnings.warn(\n"
     ]
    }
   ],
   "source": [
    "pos_df_clean = generate_data(df_pos)\n"
   ]
  },
  {
   "cell_type": "code",
   "execution_count": 29,
   "id": "falling-homework",
   "metadata": {},
   "outputs": [],
   "source": [
    "df_net = df_net.dropna(axis = 0)\n",
    "net_df_clean = generate_data(df_net)"
   ]
  },
  {
   "cell_type": "code",
   "execution_count": null,
   "id": "statutory-flour",
   "metadata": {},
   "outputs": [],
   "source": []
  },
  {
   "cell_type": "code",
   "execution_count": null,
   "id": "brilliant-sellers",
   "metadata": {},
   "outputs": [],
   "source": []
  },
  {
   "cell_type": "markdown",
   "id": "special-genre",
   "metadata": {},
   "source": [
    "### ANALYSIS FUNCTIONS "
   ]
  },
  {
   "cell_type": "code",
   "execution_count": 30,
   "id": "included-contemporary",
   "metadata": {},
   "outputs": [],
   "source": [
    "def print_top_words(corpus_, dictionary_):\n",
    "    total_word_count = defaultdict(int)\n",
    "    word_weights = defaultdict(float)\n",
    "\n",
    "    for word_id, word_count in itertools.chain.from_iterable(corpus_):\n",
    "        total_word_count[word_id] += word_count\n",
    "        \n",
    "    sorted_tota_words_count = sorted(total_word_count.items(), key = lambda w: w[1], reverse = True)\n",
    "    \n",
    "    tfidf = TfidfModel(corpus_)\n",
    "\n",
    "\n",
    "# ---------------------- START OF CHATGPT CODE\n",
    "    for doc in corpus_:\n",
    "        tfidf_weights = tfidf[doc]  # Calculate TF-IDF for the review\n",
    "    \n",
    "    for term_id, weight in tfidf_weights:\n",
    "        word_weights[term_id] += weight  # Aggregate the weight for the term\n",
    "\n",
    "    # Sort the terms by weight in descending order\n",
    "    sorted_word_weights = sorted(word_weights.items(), key=lambda x: x[1], reverse=True)\n",
    "\n",
    "    # Print the top 10 terms with their weights\n",
    "    top_words = [(dictionary_.get(term_id), weight) for term_id, weight in sorted_word_weights[:50]]\n",
    "\n",
    "    for word, weight in top_words:\n",
    "        print(word, weight)\n",
    "\n",
    "# ---------------------- END OF CHATGPT CODE \n"
   ]
  },
  {
   "cell_type": "code",
   "execution_count": 31,
   "id": "sensitive-district",
   "metadata": {},
   "outputs": [],
   "source": [
    "def generate_dictionary(text, name):\n",
    "    \"\"\" \n",
    "    As input takes in the text to build the dictionary for and the name of a .mm file\n",
    "    \"\"\" \n",
    "    \n",
    "    dictionary = Dictionary(text)\n",
    "    \n",
    "    corpus = [dictionary.doc2bow(review) for review in text] \n",
    "    \n",
    "    filename = f\"{name}.mm\"\n",
    "    \n",
    "    MmCorpus.serialize(filename, corpus)\n",
    "    \n",
    "    return dictionary, corpus\n",
    "\n",
    "\n",
    "def build_lda_model(n_topic, corpus_, dictionary_):\n",
    "    lda_model = gensim.models.ldamodel.LdaModel(corpus = corpus_,\n",
    "                                              num_topics = n_topic,\n",
    "                                              id2word = dictionary_,\n",
    "                                              random_state = 100,\n",
    "                                              update_every = 1,\n",
    "                                              chunksize = 1000,\n",
    "                                              passes = 10,\n",
    "                                              alpha = 'auto',\n",
    "                                              per_word_topics = True)\n",
    "    return lda_model\n",
    "\n",
    "\n",
    "def train_models(corpus_, dictionary_):\n",
    "    list_to_hold_models = []\n",
    "    topic_n_to_try = [5, 6, 7, 8, 9, 10, 11, 12, 13, 14, 15]\n",
    "    \n",
    "    for i in range(len(topic_n_to_try)):\n",
    "        list_to_hold_models.insert(i, build_lda_model(topic_n_to_try[i], corpus_, dictionary_))\n",
    "        \n",
    "    return list_to_hold_models\n",
    "\n",
    "\n",
    "def calculate_perplexity(model, corpus_):\n",
    "    perplexity = model.log_perplexity(corpus_)\n",
    "    return perplexity\n",
    "\n",
    "def calculate_coherence(model, text, dictionary_):\n",
    "    coherence_model_lda = CoherenceModel(model = model, texts = text, dictionary = dictionary_, coherence='c_v')\n",
    "    coherence_lda = coherence_model_lda.get_coherence()\n",
    "\n",
    "    return coherence_lda\n",
    "\n",
    "def build_model_comparison_table(list_of_models, corpus_, dictionary_, data):\n",
    "    tracker = 5 \n",
    "    models_perplexity = []\n",
    "    models_coherence = []\n",
    "    models_topics = [5, 6, 7, 8, 9, 10, 11, 12, 13, 14, 15]\n",
    "    \n",
    "    \n",
    "    for model in list_of_models:\n",
    "        models_perplexity.append(calculate_perplexity(model, corpus_))\n",
    "        models_coherence.append(calculate_coherence(model, data, dictionary_))\n",
    "        tracker += 1\n",
    "        \n",
    "    if tracker == 15:\n",
    "        print(\"Successfully generated model comparison table.\") \n",
    "        \n",
    "    models_df = pd.DataFrame({\n",
    "        'Num_Topics': models_topics,\n",
    "        'Coherence': models_coherence,\n",
    "        'Perplexity': models_perplexity,\n",
    "    })\n",
    "\n",
    "    return models_df\n",
    "\n",
    "\n",
    "def find_best_model(models_df):\n",
    "    print(\"Number of topics with the maximum Coherence is \", models_df.loc[models_df['Coherence'].idxmax(), 'Num_Topics'])\n",
    "    print(\"Number of topics with the minimum Perplexity is \", models_df.loc[models_df['Perplexity'].idxmin(), 'Num_Topics'])\n",
    "    \n",
    "    if models_df.loc[models_df['Coherence'].idxmax(), 'Num_Topics'] == models_df.loc[models_df['Perplexity'].idxmin(), 'Num_Topics']:\n",
    "        best_model_row = models_df.loc[models_df['Perplexity'].idxmin()]\n",
    "        best_number_of_topics = best_model_row['Num_Topics']\n",
    "    else:\n",
    "        models_df['Normalized_Perplexity'] = (models_df['Perplexity'] - models_df['Perplexity'].min()) / (models_df['Perplexity'].max() - models_df['Perplexity'].min())\n",
    "        models_df['Normalized_Coherence'] = (models_df['Coherence'] - models_df['Coherence'].min()) / (models_df['Coherence'].max() - models_df['Coherence'].min())\n",
    "\n",
    "        models_df['Inverted_Perplexity'] = 1 - models_df['Normalized_Perplexity'] # because smaller is better\n",
    "\n",
    "        weight_preplexity = 0.5\n",
    "        weight_coherence = 0.5\n",
    "\n",
    "        models_df['Score'] = weight_coherence * models_df['Normalized_Coherence'] + weight_preplexity * models_df['Inverted_Perplexity']\n",
    "\n",
    "        best_model_row = models_df.loc[models_df['Score'].idxmax()]\n",
    "        best_number_of_topics = best_model_row['Num_Topics']\n",
    "\n",
    "    print(best_model_row)\n",
    "                                       \n",
    "    return best_model_row, best_number_of_topics\n",
    "                                                                                                     \n",
    "                                                                                                \n",
    "def pick_best_model(num, m):\n",
    "    \"\"\" \n",
    "    Model inputs are: \n",
    "        num = best number of topics found according to find_best_model()\n",
    "        m = list of models \n",
    "    \"\"\"\n",
    "    model_index = num - 5 \n",
    "    model_index = int(model_index)\n",
    "                                       \n",
    "    best_model = m[model_index]\n",
    "                                       \n",
    "    return best_model  \n",
    "                                                                  \n",
    "def print_topics(model, corpus):\n",
    "    pprint(model.print_topics())\n",
    "    doc_lda = model[corpus]\n",
    "    \n",
    "    return doc_lda"
   ]
  },
  {
   "cell_type": "code",
   "execution_count": 32,
   "id": "biological-consent",
   "metadata": {},
   "outputs": [],
   "source": [
    "#tokens = tokenized_doc_to_words_noPnc\n",
    "\n",
    "def word_tokenize_(df):\n",
    "    reviews = list(df['review']) \n",
    "    reviews_corpus = \" \".join([str(review) for review in reviews])\n",
    "    tokenized_doc_to_sentences = sent_tokenize(reviews_corpus)\n",
    "    \n",
    "    tokenized_doc_to_sentences_noPnc = [remove_punc(sentence) for sentence in tokenized_doc_to_sentences]\n",
    "    tokenized_doc_to_words = [word_tokenize(sent) for sent in tokenized_doc_to_sentences_noPnc]\n",
    "    \n",
    "    return tokenized_doc_to_words\n",
    "\n",
    "\n",
    "token_neg = word_tokenize_(neg_df_clean)\n",
    "token_net = word_tokenize_(net_df_clean)\n",
    "token_pos = word_tokenize_(pos_df_clean)\n",
    "\n",
    "\n"
   ]
  },
  {
   "cell_type": "code",
   "execution_count": 33,
   "id": "operating-tunnel",
   "metadata": {},
   "outputs": [
    {
     "data": {
      "text/plain": [
       "[['new',\n",
       "  'phone',\n",
       "  'practically',\n",
       "  'every',\n",
       "  'time',\n",
       "  'open',\n",
       "  'asks',\n",
       "  'verify',\n",
       "  'its',\n",
       "  'sends',\n",
       "  'text']]"
      ]
     },
     "execution_count": 33,
     "metadata": {},
     "output_type": "execute_result"
    }
   ],
   "source": [
    "token_neg[:1]"
   ]
  },
  {
   "cell_type": "code",
   "execution_count": 34,
   "id": "seven-holly",
   "metadata": {},
   "outputs": [],
   "source": [
    "\n",
    "bigrams_neg = [list(ngrams(sentence, 2)) for sentence in token_neg]  # Bigrams\n",
    "bigrams_net = [list(ngrams(sentence, 2)) for sentence in token_net]  # Bigrams\n",
    "bigrams_pos = [list(ngrams(sentence, 2)) for sentence in token_pos]  # Bigrams\n",
    "\n",
    "\n",
    "trigrams_neg = [list(ngrams(sentence, 3)) for sentence in token_neg]  # Trigrams\n",
    "trigrams_net = [list(ngrams(sentence, 3)) for sentence in token_net]  # Trigrams\n",
    "trigrams_pos = [list(ngrams(sentence, 3)) for sentence in token_pos]  # Trigrams\n",
    "\n",
    "bigrams_neg_combined = [[f\"{a} {b}\" for a, b in sublist] for sublist in bigrams_neg]\n",
    "bigrams_net_combined = [[f\"{a} {b}\" for a, b in sublist] for sublist in bigrams_net]\n",
    "bigrams_pos_combined = [[f\"{a} {b}\" for a, b in sublist] for sublist in bigrams_pos]\n",
    "\n",
    "trigrams_neg_combined = [[f\"{a} {b} {c}\" for a, b, c in sublist] for sublist in trigrams_neg]\n",
    "trigrams_net_combined = [[f\"{a} {b} {c}\" for a, b, c in sublist] for sublist in trigrams_net]\n",
    "trigrams_pos_combined = [[f\"{a} {b} {c}\" for a, b, c in sublist] for sublist in trigrams_pos]\n"
   ]
  },
  {
   "cell_type": "markdown",
   "id": "light-lounge",
   "metadata": {},
   "source": [
    "#### Generate Dictionary and Corpuses for unigrams, bigrams and trigrams "
   ]
  },
  {
   "cell_type": "code",
   "execution_count": 35,
   "id": "correct-gossip",
   "metadata": {},
   "outputs": [],
   "source": [
    "neg_unigram_dict = generate_dictionary(token_neg, 'mmcorpus_ios_unigrams_neg')[0]\n",
    "neg_unigram_corpus = generate_dictionary(token_neg, 'mmcorpus_ios_unigrams_neg')[1]\n",
    "\n",
    "\n",
    "net_unigram_dict = generate_dictionary(token_net, 'mmcorpus_ios_unigrams_net')[0]\n",
    "net_unigram_corpus = generate_dictionary(token_net, 'mmcorpus_ios_unigrams_net')[1]\n",
    "\n",
    "\n",
    "pos_unigram_dict = generate_dictionary(token_pos, 'mmcorpus_ios_unigrams_pos')[0]\n",
    "pos_unigram_corpus = generate_dictionary(token_pos, 'mmcorpus_ios_unigrams_pos')[1]\n"
   ]
  },
  {
   "cell_type": "code",
   "execution_count": 36,
   "id": "interstate-office",
   "metadata": {},
   "outputs": [],
   "source": [
    "bigram_dict_neg = generate_dictionary(bigrams_neg_combined, 'mmcorpus_ios_bigrams_neg')[0]\n",
    "bigram_corpus_neg = generate_dictionary(bigrams_neg_combined, 'mmcorpus_ios_bigrams_neg')[1]\n",
    "\n",
    "bigram_dict_net = generate_dictionary(bigrams_net_combined, 'mmcorpus_ios_bigrams_net')[0]\n",
    "bigram_corpus_net = generate_dictionary(bigrams_net_combined, 'mmcorpus_ios_bigrams_net')[1]\n",
    "\n",
    "\n",
    "bigram_dict_pos = generate_dictionary(bigrams_pos_combined, 'mmcorpus_ios_bigrams_pos')[0]\n",
    "bigram_corpus_pos = generate_dictionary(bigrams_pos_combined, 'mmcorpus_ios_bigrams_pos')[1]"
   ]
  },
  {
   "cell_type": "code",
   "execution_count": 37,
   "id": "elementary-vault",
   "metadata": {},
   "outputs": [],
   "source": [
    "trigram_dict_neg = generate_dictionary(trigrams_neg_combined, 'mmcorpus_ios_trigrams_neg')[0]\n",
    "trigram_corpus_neg = generate_dictionary(trigrams_neg_combined, 'mmcorpus_ios_trigrams_neg')[1]\n",
    "\n",
    "trigram_dict_net = generate_dictionary(trigrams_net_combined, 'mmcorpus_ios_trigrams_net')[0]\n",
    "trigram_corpus_net = generate_dictionary(trigrams_net_combined, 'mmcorpus_ios_trigrams_net')[1]\n",
    "\n",
    "trigram_dict_pos = generate_dictionary(trigrams_pos_combined, 'mmcorpus_ios_trigrams_pos')[0]\n",
    "trigram_corpus_pos = generate_dictionary(trigrams_pos_combined, 'mmcorpus_ios_trigrams_pos')[1]"
   ]
  },
  {
   "cell_type": "markdown",
   "id": "promising-roberts",
   "metadata": {},
   "source": [
    "Top Words "
   ]
  },
  {
   "cell_type": "code",
   "execution_count": 39,
   "id": "wicked-personality",
   "metadata": {},
   "outputs": [
    {
     "name": "stdout",
     "output_type": "stream",
     "text": [
      "Negative Unigram Top Words: \n",
      "\n",
      "cleaning 0.5396178594998912\n",
      "always 0.4407012018062124\n",
      "fan 0.3791894525576326\n",
      "adding 0.32933985414724454\n",
      "ui 0.28116534634088397\n",
      "big 0.2755544043738646\n",
      "ive 0.21056671551318243\n",
      "feature 0.20743386540502867\n",
      "app 0.1414012164831854\n"
     ]
    }
   ],
   "source": [
    "print(\"Negative Unigram Top Words: \\n\")\n",
    "print_top_words(neg_unigram_corpus, neg_unigram_dict)"
   ]
  },
  {
   "cell_type": "code",
   "execution_count": 40,
   "id": "ambient-confidence",
   "metadata": {},
   "outputs": [
    {
     "name": "stdout",
     "output_type": "stream",
     "text": [
      "Neutral Unigram Top Words: \n",
      "\n",
      "a+ 0.4018173879519233\n",
      "silk 0.4018173879519233\n",
      "timer 0.4018173879519233\n",
      "😊 0.4018173879519233\n",
      "smooth 0.3339247054984793\n",
      "think 0.24225465736426885\n",
      "best 0.2404063543088064\n",
      "first 0.21761555300227098\n",
      "deposit 0.183669211775549\n",
      "easy 0.16901402496494833\n",
      "use 0.12855448226884153\n"
     ]
    }
   ],
   "source": [
    "print(\"Neutral Unigram Top Words: \\n\")\n",
    "print_top_words(net_unigram_corpus, net_unigram_dict)"
   ]
  },
  {
   "cell_type": "code",
   "execution_count": 41,
   "id": "accompanied-occurrence",
   "metadata": {},
   "outputs": [
    {
     "name": "stdout",
     "output_type": "stream",
     "text": [
      "Positive Unigram Top Words: \n",
      "\n",
      "interface 0.7700705846371346\n",
      "easy 0.4958851567867794\n",
      "use 0.4013591981693866\n"
     ]
    }
   ],
   "source": [
    "print(\"Positive Unigram Top Words: \\n\")\n",
    "print_top_words(pos_unigram_corpus, pos_unigram_dict)"
   ]
  },
  {
   "cell_type": "code",
   "execution_count": 43,
   "id": "figured-marathon",
   "metadata": {},
   "outputs": [
    {
     "name": "stdout",
     "output_type": "stream",
     "text": [
      "Negative Bigram Top Phrases: \n",
      "\n",
      "always adding 0.3493617043802151\n",
      "always big 0.3493617043802151\n",
      "cleaning ui 0.3493617043802151\n",
      "fan app 0.3493617043802151\n",
      "feature cleaning 0.3493617043802151\n",
      "big fan 0.3239510156583858\n",
      "app always 0.3239510156583858\n",
      "ive always 0.30908671563861767\n",
      "adding feature 0.2903599123265622\n"
     ]
    }
   ],
   "source": [
    "print(\"Negative Bigram Top Phrases: \\n\")\n",
    "print_top_words(bigram_corpus_neg, bigram_dict_neg)"
   ]
  },
  {
   "cell_type": "code",
   "execution_count": 44,
   "id": "three-effects",
   "metadata": {},
   "outputs": [
    {
     "name": "stdout",
     "output_type": "stream",
     "text": [
      "Neutral Bigram Top Phrases: \n",
      "\n",
      "a+ smooth 0.3288859483408343\n",
      "best think 0.3288859483408343\n",
      "deposit best 0.3288859483408343\n",
      "first timer 0.3288859483408343\n",
      "silk first 0.3288859483408343\n",
      "smooth silk 0.3288859483408343\n",
      "think easy 0.3288859483408343\n",
      "timer 😊 0.3288859483408343\n",
      "use a+ 0.3288859483408343\n",
      "easy use 0.16280754545029844\n"
     ]
    }
   ],
   "source": [
    "print(\"Neutral Bigram Top Phrases: \\n\")\n",
    "print_top_words(bigram_corpus_net, bigram_dict_net)"
   ]
  },
  {
   "cell_type": "code",
   "execution_count": 45,
   "id": "increased-currency",
   "metadata": {},
   "outputs": [
    {
     "name": "stdout",
     "output_type": "stream",
     "text": [
      "Positive Bigram Top Phrases: \n",
      "\n",
      "use interface 0.8979446737754335\n",
      "easy use 0.4401083535202781\n"
     ]
    }
   ],
   "source": [
    "print(\"Positive Bigram Top Phrases: \\n\")\n",
    "print_top_words(bigram_corpus_pos, bigram_dict_pos)"
   ]
  },
  {
   "cell_type": "code",
   "execution_count": 46,
   "id": "blind-angola",
   "metadata": {},
   "outputs": [
    {
     "name": "stdout",
     "output_type": "stream",
     "text": [
      "Negative Trigram Top Phrases: \n",
      "\n",
      "adding feature cleaning 0.35355339059327373\n",
      "always adding feature 0.35355339059327373\n",
      "always big fan 0.35355339059327373\n",
      "app always adding 0.35355339059327373\n",
      "big fan app 0.35355339059327373\n",
      "fan app always 0.35355339059327373\n",
      "feature cleaning ui 0.35355339059327373\n",
      "ive always big 0.35355339059327373\n"
     ]
    }
   ],
   "source": [
    "print(\"Negative Trigram Top Phrases: \\n\")\n",
    "print_top_words(trigram_corpus_neg, trigram_dict_neg)"
   ]
  },
  {
   "cell_type": "code",
   "execution_count": 47,
   "id": "convinced-stick",
   "metadata": {},
   "outputs": [
    {
     "name": "stdout",
     "output_type": "stream",
     "text": [
      "Neutral Trigram Top Phrases: \n",
      "\n",
      "a+ smooth silk 0.3333333333333333\n",
      "best think easy 0.3333333333333333\n",
      "deposit best think 0.3333333333333333\n",
      "easy use a+ 0.3333333333333333\n",
      "first timer 😊 0.3333333333333333\n",
      "silk first timer 0.3333333333333333\n",
      "smooth silk first 0.3333333333333333\n",
      "think easy use 0.3333333333333333\n",
      "use a+ smooth 0.3333333333333333\n"
     ]
    }
   ],
   "source": [
    "print(\"Neutral Trigram Top Phrases: \\n\")\n",
    "print_top_words(trigram_corpus_net, trigram_dict_net)"
   ]
  },
  {
   "cell_type": "code",
   "execution_count": 48,
   "id": "virgin-artist",
   "metadata": {},
   "outputs": [
    {
     "name": "stdout",
     "output_type": "stream",
     "text": [
      "Positive Trigram Top Phrases: \n",
      "\n",
      "easy use interface 1.0\n"
     ]
    }
   ],
   "source": [
    "print(\"Positive Trigram Top Phrases: \\n\")\n",
    "print_top_words(trigram_corpus_pos, trigram_dict_pos)"
   ]
  },
  {
   "cell_type": "code",
   "execution_count": 49,
   "id": "gothic-france",
   "metadata": {},
   "outputs": [],
   "source": [
    "neg_uni_gram_models = train_models(neg_unigram_corpus, neg_unigram_dict)\n"
   ]
  },
  {
   "cell_type": "code",
   "execution_count": 50,
   "id": "effective-geology",
   "metadata": {},
   "outputs": [],
   "source": [
    "net_uni_gram_models = train_models(net_unigram_corpus, net_unigram_dict)\n"
   ]
  },
  {
   "cell_type": "code",
   "execution_count": 52,
   "id": "imperial-windows",
   "metadata": {},
   "outputs": [],
   "source": [
    "pos_uni_gram_models = train_models(pos_unigram_corpus, pos_unigram_dict)"
   ]
  },
  {
   "cell_type": "code",
   "execution_count": 51,
   "id": "abstract-veteran",
   "metadata": {},
   "outputs": [
    {
     "data": {
      "text/html": [
       "<div>\n",
       "<style scoped>\n",
       "    .dataframe tbody tr th:only-of-type {\n",
       "        vertical-align: middle;\n",
       "    }\n",
       "\n",
       "    .dataframe tbody tr th {\n",
       "        vertical-align: top;\n",
       "    }\n",
       "\n",
       "    .dataframe thead th {\n",
       "        text-align: right;\n",
       "    }\n",
       "</style>\n",
       "<table border=\"1\" class=\"dataframe\">\n",
       "  <thead>\n",
       "    <tr style=\"text-align: right;\">\n",
       "      <th></th>\n",
       "      <th>Num_Topics</th>\n",
       "      <th>Coherence</th>\n",
       "      <th>Perplexity</th>\n",
       "    </tr>\n",
       "  </thead>\n",
       "  <tbody>\n",
       "    <tr>\n",
       "      <th>0</th>\n",
       "      <td>5</td>\n",
       "      <td>0.402871</td>\n",
       "      <td>-7.426162</td>\n",
       "    </tr>\n",
       "    <tr>\n",
       "      <th>1</th>\n",
       "      <td>6</td>\n",
       "      <td>0.412015</td>\n",
       "      <td>-7.442458</td>\n",
       "    </tr>\n",
       "    <tr>\n",
       "      <th>2</th>\n",
       "      <td>7</td>\n",
       "      <td>0.390707</td>\n",
       "      <td>-7.485524</td>\n",
       "    </tr>\n",
       "    <tr>\n",
       "      <th>3</th>\n",
       "      <td>8</td>\n",
       "      <td>0.413430</td>\n",
       "      <td>-7.557605</td>\n",
       "    </tr>\n",
       "    <tr>\n",
       "      <th>4</th>\n",
       "      <td>9</td>\n",
       "      <td>0.418850</td>\n",
       "      <td>-7.641888</td>\n",
       "    </tr>\n",
       "    <tr>\n",
       "      <th>5</th>\n",
       "      <td>10</td>\n",
       "      <td>0.365480</td>\n",
       "      <td>-7.775054</td>\n",
       "    </tr>\n",
       "    <tr>\n",
       "      <th>6</th>\n",
       "      <td>11</td>\n",
       "      <td>0.380456</td>\n",
       "      <td>-7.994511</td>\n",
       "    </tr>\n",
       "    <tr>\n",
       "      <th>7</th>\n",
       "      <td>12</td>\n",
       "      <td>0.369426</td>\n",
       "      <td>-8.323229</td>\n",
       "    </tr>\n",
       "    <tr>\n",
       "      <th>8</th>\n",
       "      <td>13</td>\n",
       "      <td>0.395909</td>\n",
       "      <td>-8.765243</td>\n",
       "    </tr>\n",
       "    <tr>\n",
       "      <th>9</th>\n",
       "      <td>14</td>\n",
       "      <td>0.366523</td>\n",
       "      <td>-9.236419</td>\n",
       "    </tr>\n",
       "    <tr>\n",
       "      <th>10</th>\n",
       "      <td>15</td>\n",
       "      <td>0.389507</td>\n",
       "      <td>-9.536713</td>\n",
       "    </tr>\n",
       "  </tbody>\n",
       "</table>\n",
       "</div>"
      ],
      "text/plain": [
       "    Num_Topics  Coherence  Perplexity\n",
       "0            5   0.402871   -7.426162\n",
       "1            6   0.412015   -7.442458\n",
       "2            7   0.390707   -7.485524\n",
       "3            8   0.413430   -7.557605\n",
       "4            9   0.418850   -7.641888\n",
       "5           10   0.365480   -7.775054\n",
       "6           11   0.380456   -7.994511\n",
       "7           12   0.369426   -8.323229\n",
       "8           13   0.395909   -8.765243\n",
       "9           14   0.366523   -9.236419\n",
       "10          15   0.389507   -9.536713"
      ]
     },
     "execution_count": 51,
     "metadata": {},
     "output_type": "execute_result"
    }
   ],
   "source": [
    "neg_unigram_model_comparison = build_model_comparison_table(neg_uni_gram_models, neg_unigram_corpus, neg_unigram_dict, token_neg)\n",
    "neg_unigram_model_comparison"
   ]
  },
  {
   "cell_type": "code",
   "execution_count": 53,
   "id": "electrical-reset",
   "metadata": {},
   "outputs": [
    {
     "data": {
      "text/html": [
       "<div>\n",
       "<style scoped>\n",
       "    .dataframe tbody tr th:only-of-type {\n",
       "        vertical-align: middle;\n",
       "    }\n",
       "\n",
       "    .dataframe tbody tr th {\n",
       "        vertical-align: top;\n",
       "    }\n",
       "\n",
       "    .dataframe thead th {\n",
       "        text-align: right;\n",
       "    }\n",
       "</style>\n",
       "<table border=\"1\" class=\"dataframe\">\n",
       "  <thead>\n",
       "    <tr style=\"text-align: right;\">\n",
       "      <th></th>\n",
       "      <th>Num_Topics</th>\n",
       "      <th>Coherence</th>\n",
       "      <th>Perplexity</th>\n",
       "    </tr>\n",
       "  </thead>\n",
       "  <tbody>\n",
       "    <tr>\n",
       "      <th>0</th>\n",
       "      <td>5</td>\n",
       "      <td>0.298200</td>\n",
       "      <td>-7.506069</td>\n",
       "    </tr>\n",
       "    <tr>\n",
       "      <th>1</th>\n",
       "      <td>6</td>\n",
       "      <td>0.301963</td>\n",
       "      <td>-7.543945</td>\n",
       "    </tr>\n",
       "    <tr>\n",
       "      <th>2</th>\n",
       "      <td>7</td>\n",
       "      <td>0.289911</td>\n",
       "      <td>-7.590456</td>\n",
       "    </tr>\n",
       "    <tr>\n",
       "      <th>3</th>\n",
       "      <td>8</td>\n",
       "      <td>0.326073</td>\n",
       "      <td>-7.634744</td>\n",
       "    </tr>\n",
       "    <tr>\n",
       "      <th>4</th>\n",
       "      <td>9</td>\n",
       "      <td>0.305366</td>\n",
       "      <td>-7.650561</td>\n",
       "    </tr>\n",
       "    <tr>\n",
       "      <th>5</th>\n",
       "      <td>10</td>\n",
       "      <td>0.340175</td>\n",
       "      <td>-7.657874</td>\n",
       "    </tr>\n",
       "    <tr>\n",
       "      <th>6</th>\n",
       "      <td>11</td>\n",
       "      <td>0.360078</td>\n",
       "      <td>-7.691994</td>\n",
       "    </tr>\n",
       "    <tr>\n",
       "      <th>7</th>\n",
       "      <td>12</td>\n",
       "      <td>0.347274</td>\n",
       "      <td>-8.008526</td>\n",
       "    </tr>\n",
       "    <tr>\n",
       "      <th>8</th>\n",
       "      <td>13</td>\n",
       "      <td>0.329739</td>\n",
       "      <td>-8.443723</td>\n",
       "    </tr>\n",
       "    <tr>\n",
       "      <th>9</th>\n",
       "      <td>14</td>\n",
       "      <td>0.346735</td>\n",
       "      <td>-8.825905</td>\n",
       "    </tr>\n",
       "    <tr>\n",
       "      <th>10</th>\n",
       "      <td>15</td>\n",
       "      <td>0.355122</td>\n",
       "      <td>-9.076156</td>\n",
       "    </tr>\n",
       "  </tbody>\n",
       "</table>\n",
       "</div>"
      ],
      "text/plain": [
       "    Num_Topics  Coherence  Perplexity\n",
       "0            5   0.298200   -7.506069\n",
       "1            6   0.301963   -7.543945\n",
       "2            7   0.289911   -7.590456\n",
       "3            8   0.326073   -7.634744\n",
       "4            9   0.305366   -7.650561\n",
       "5           10   0.340175   -7.657874\n",
       "6           11   0.360078   -7.691994\n",
       "7           12   0.347274   -8.008526\n",
       "8           13   0.329739   -8.443723\n",
       "9           14   0.346735   -8.825905\n",
       "10          15   0.355122   -9.076156"
      ]
     },
     "execution_count": 53,
     "metadata": {},
     "output_type": "execute_result"
    }
   ],
   "source": [
    "net_unigram_model_comparison = build_model_comparison_table(net_uni_gram_models, net_unigram_corpus, net_unigram_dict, token_net)\n",
    "net_unigram_model_comparison"
   ]
  },
  {
   "cell_type": "code",
   "execution_count": 54,
   "id": "effective-project",
   "metadata": {},
   "outputs": [
    {
     "data": {
      "text/html": [
       "<div>\n",
       "<style scoped>\n",
       "    .dataframe tbody tr th:only-of-type {\n",
       "        vertical-align: middle;\n",
       "    }\n",
       "\n",
       "    .dataframe tbody tr th {\n",
       "        vertical-align: top;\n",
       "    }\n",
       "\n",
       "    .dataframe thead th {\n",
       "        text-align: right;\n",
       "    }\n",
       "</style>\n",
       "<table border=\"1\" class=\"dataframe\">\n",
       "  <thead>\n",
       "    <tr style=\"text-align: right;\">\n",
       "      <th></th>\n",
       "      <th>Num_Topics</th>\n",
       "      <th>Coherence</th>\n",
       "      <th>Perplexity</th>\n",
       "    </tr>\n",
       "  </thead>\n",
       "  <tbody>\n",
       "    <tr>\n",
       "      <th>0</th>\n",
       "      <td>5</td>\n",
       "      <td>0.441690</td>\n",
       "      <td>-7.400717</td>\n",
       "    </tr>\n",
       "    <tr>\n",
       "      <th>1</th>\n",
       "      <td>6</td>\n",
       "      <td>0.428003</td>\n",
       "      <td>-7.422104</td>\n",
       "    </tr>\n",
       "    <tr>\n",
       "      <th>2</th>\n",
       "      <td>7</td>\n",
       "      <td>0.416100</td>\n",
       "      <td>-7.449242</td>\n",
       "    </tr>\n",
       "    <tr>\n",
       "      <th>3</th>\n",
       "      <td>8</td>\n",
       "      <td>0.465248</td>\n",
       "      <td>-7.463074</td>\n",
       "    </tr>\n",
       "    <tr>\n",
       "      <th>4</th>\n",
       "      <td>9</td>\n",
       "      <td>0.431131</td>\n",
       "      <td>-7.516566</td>\n",
       "    </tr>\n",
       "    <tr>\n",
       "      <th>5</th>\n",
       "      <td>10</td>\n",
       "      <td>0.383800</td>\n",
       "      <td>-7.728564</td>\n",
       "    </tr>\n",
       "    <tr>\n",
       "      <th>6</th>\n",
       "      <td>11</td>\n",
       "      <td>0.416259</td>\n",
       "      <td>-7.932350</td>\n",
       "    </tr>\n",
       "    <tr>\n",
       "      <th>7</th>\n",
       "      <td>12</td>\n",
       "      <td>0.393087</td>\n",
       "      <td>-8.224473</td>\n",
       "    </tr>\n",
       "    <tr>\n",
       "      <th>8</th>\n",
       "      <td>13</td>\n",
       "      <td>0.392114</td>\n",
       "      <td>-8.641309</td>\n",
       "    </tr>\n",
       "    <tr>\n",
       "      <th>9</th>\n",
       "      <td>14</td>\n",
       "      <td>0.351312</td>\n",
       "      <td>-9.097720</td>\n",
       "    </tr>\n",
       "    <tr>\n",
       "      <th>10</th>\n",
       "      <td>15</td>\n",
       "      <td>0.371542</td>\n",
       "      <td>-9.379102</td>\n",
       "    </tr>\n",
       "  </tbody>\n",
       "</table>\n",
       "</div>"
      ],
      "text/plain": [
       "    Num_Topics  Coherence  Perplexity\n",
       "0            5   0.441690   -7.400717\n",
       "1            6   0.428003   -7.422104\n",
       "2            7   0.416100   -7.449242\n",
       "3            8   0.465248   -7.463074\n",
       "4            9   0.431131   -7.516566\n",
       "5           10   0.383800   -7.728564\n",
       "6           11   0.416259   -7.932350\n",
       "7           12   0.393087   -8.224473\n",
       "8           13   0.392114   -8.641309\n",
       "9           14   0.351312   -9.097720\n",
       "10          15   0.371542   -9.379102"
      ]
     },
     "execution_count": 54,
     "metadata": {},
     "output_type": "execute_result"
    }
   ],
   "source": [
    "pos_unigram_model_comparison = build_model_comparison_table(pos_uni_gram_models, pos_unigram_corpus, pos_unigram_dict, token_pos)\n",
    "pos_unigram_model_comparison"
   ]
  },
  {
   "cell_type": "code",
   "execution_count": 55,
   "id": "beneficial-imagination",
   "metadata": {},
   "outputs": [
    {
     "name": "stdout",
     "output_type": "stream",
     "text": [
      "Number of topics with the maximum Coherence is  9\n",
      "Number of topics with the minimum Perplexity is  15\n",
      "Num_Topics               15.000000\n",
      "Coherence                 0.389507\n",
      "Perplexity               -9.536713\n",
      "Normalized_Perplexity     0.000000\n",
      "Normalized_Coherence      0.450192\n",
      "Inverted_Perplexity       1.000000\n",
      "Score                     0.725096\n",
      "Name: 10, dtype: float64\n",
      "Number of topics with the maximum Coherence is  9\n",
      "Number of topics with the minimum Perplexity is  15\n",
      "Num_Topics               15.000000\n",
      "Coherence                 0.389507\n",
      "Perplexity               -9.536713\n",
      "Normalized_Perplexity     0.000000\n",
      "Normalized_Coherence      0.450192\n",
      "Inverted_Perplexity       1.000000\n",
      "Score                     0.725096\n",
      "Name: 10, dtype: float64\n"
     ]
    }
   ],
   "source": [
    "neg_unigram_best_row = find_best_model(neg_unigram_model_comparison)[0]\n",
    "neg_unigram_best_n_topics = find_best_model(neg_unigram_model_comparison)[1]"
   ]
  },
  {
   "cell_type": "code",
   "execution_count": 56,
   "id": "smaller-hygiene",
   "metadata": {},
   "outputs": [
    {
     "name": "stdout",
     "output_type": "stream",
     "text": [
      "Number of topics with the maximum Coherence is  11\n",
      "Number of topics with the minimum Perplexity is  15\n",
      "Num_Topics               15.000000\n",
      "Coherence                 0.355122\n",
      "Perplexity               -9.076156\n",
      "Normalized_Perplexity     0.000000\n",
      "Normalized_Coherence      0.929369\n",
      "Inverted_Perplexity       1.000000\n",
      "Score                     0.964685\n",
      "Name: 10, dtype: float64\n",
      "Number of topics with the maximum Coherence is  11\n",
      "Number of topics with the minimum Perplexity is  15\n",
      "Num_Topics               15.000000\n",
      "Coherence                 0.355122\n",
      "Perplexity               -9.076156\n",
      "Normalized_Perplexity     0.000000\n",
      "Normalized_Coherence      0.929369\n",
      "Inverted_Perplexity       1.000000\n",
      "Score                     0.964685\n",
      "Name: 10, dtype: float64\n"
     ]
    }
   ],
   "source": [
    "net_unigram_best_row = find_best_model(net_unigram_model_comparison)[0]\n",
    "net_unigram_best_n_topics = find_best_model(net_unigram_model_comparison)[1]"
   ]
  },
  {
   "cell_type": "code",
   "execution_count": 57,
   "id": "tutorial-testimony",
   "metadata": {},
   "outputs": [
    {
     "name": "stdout",
     "output_type": "stream",
     "text": [
      "Number of topics with the maximum Coherence is  8\n",
      "Number of topics with the minimum Perplexity is  15\n",
      "Num_Topics               15.000000\n",
      "Coherence                 0.371542\n",
      "Perplexity               -9.379102\n",
      "Normalized_Perplexity     0.000000\n",
      "Normalized_Coherence      0.177561\n",
      "Inverted_Perplexity       1.000000\n",
      "Score                     0.588780\n",
      "Name: 10, dtype: float64\n",
      "Number of topics with the maximum Coherence is  8\n",
      "Number of topics with the minimum Perplexity is  15\n",
      "Num_Topics               15.000000\n",
      "Coherence                 0.371542\n",
      "Perplexity               -9.379102\n",
      "Normalized_Perplexity     0.000000\n",
      "Normalized_Coherence      0.177561\n",
      "Inverted_Perplexity       1.000000\n",
      "Score                     0.588780\n",
      "Name: 10, dtype: float64\n"
     ]
    }
   ],
   "source": [
    "pos_unigram_best_row = find_best_model(pos_unigram_model_comparison)[0]\n",
    "pos_unigram_best_n_topics = find_best_model(pos_unigram_model_comparison)[1]"
   ]
  },
  {
   "cell_type": "code",
   "execution_count": 58,
   "id": "statistical-pierce",
   "metadata": {},
   "outputs": [],
   "source": [
    "neg_unigram_best_model = pick_best_model(neg_unigram_best_n_topics, neg_uni_gram_models)\n",
    "net_unigram_best_model = pick_best_model(net_unigram_best_n_topics, net_uni_gram_models)\n",
    "pos_unigram_best_model = pick_best_model(pos_unigram_best_n_topics, pos_uni_gram_models)\n"
   ]
  },
  {
   "cell_type": "code",
   "execution_count": 59,
   "id": "interpreted-monkey",
   "metadata": {
    "tags": []
   },
   "outputs": [
    {
     "name": "stdout",
     "output_type": "stream",
     "text": [
      "Best Negative Unigram model is: LdaModel(num_terms=7408, num_topics=15, decay=0.5, chunksize=1000)\n",
      "Best Neutral Unigram model is: LdaModel(num_terms=3840, num_topics=15, decay=0.5, chunksize=1000)\n",
      "Best Positive Unigram model is: LdaModel(num_terms=5586, num_topics=15, decay=0.5, chunksize=1000)\n"
     ]
    }
   ],
   "source": [
    "print(\"Best Negative Unigram model is:\", neg_unigram_best_model)\n",
    "print(\"Best Neutral Unigram model is:\", net_unigram_best_model)\n",
    "print(\"Best Positive Unigram model is:\", pos_unigram_best_model)"
   ]
  },
  {
   "cell_type": "code",
   "execution_count": 60,
   "id": "otherwise-crack",
   "metadata": {},
   "outputs": [],
   "source": [
    "neg_bi_gram_models = train_models(bigram_corpus_neg, bigram_dict_neg)\n",
    "net_bi_gram_models = train_models(bigram_corpus_net, bigram_dict_net)\n",
    "pos_bi_gram_models = train_models(bigram_corpus_pos, bigram_dict_pos)"
   ]
  },
  {
   "cell_type": "code",
   "execution_count": 61,
   "id": "complex-copying",
   "metadata": {
    "tags": []
   },
   "outputs": [
    {
     "data": {
      "text/html": [
       "<div>\n",
       "<style scoped>\n",
       "    .dataframe tbody tr th:only-of-type {\n",
       "        vertical-align: middle;\n",
       "    }\n",
       "\n",
       "    .dataframe tbody tr th {\n",
       "        vertical-align: top;\n",
       "    }\n",
       "\n",
       "    .dataframe thead th {\n",
       "        text-align: right;\n",
       "    }\n",
       "</style>\n",
       "<table border=\"1\" class=\"dataframe\">\n",
       "  <thead>\n",
       "    <tr style=\"text-align: right;\">\n",
       "      <th></th>\n",
       "      <th>Num_Topics</th>\n",
       "      <th>Coherence</th>\n",
       "      <th>Perplexity</th>\n",
       "    </tr>\n",
       "  </thead>\n",
       "  <tbody>\n",
       "    <tr>\n",
       "      <th>0</th>\n",
       "      <td>5</td>\n",
       "      <td>0.675642</td>\n",
       "      <td>-11.882331</td>\n",
       "    </tr>\n",
       "    <tr>\n",
       "      <th>1</th>\n",
       "      <td>6</td>\n",
       "      <td>0.673841</td>\n",
       "      <td>-12.241214</td>\n",
       "    </tr>\n",
       "    <tr>\n",
       "      <th>2</th>\n",
       "      <td>7</td>\n",
       "      <td>0.676336</td>\n",
       "      <td>-12.676661</td>\n",
       "    </tr>\n",
       "    <tr>\n",
       "      <th>3</th>\n",
       "      <td>8</td>\n",
       "      <td>0.698039</td>\n",
       "      <td>-13.306205</td>\n",
       "    </tr>\n",
       "    <tr>\n",
       "      <th>4</th>\n",
       "      <td>9</td>\n",
       "      <td>0.693405</td>\n",
       "      <td>-15.070279</td>\n",
       "    </tr>\n",
       "    <tr>\n",
       "      <th>5</th>\n",
       "      <td>10</td>\n",
       "      <td>0.696265</td>\n",
       "      <td>-16.744095</td>\n",
       "    </tr>\n",
       "    <tr>\n",
       "      <th>6</th>\n",
       "      <td>11</td>\n",
       "      <td>0.692749</td>\n",
       "      <td>-18.537908</td>\n",
       "    </tr>\n",
       "    <tr>\n",
       "      <th>7</th>\n",
       "      <td>12</td>\n",
       "      <td>0.685593</td>\n",
       "      <td>-20.100129</td>\n",
       "    </tr>\n",
       "    <tr>\n",
       "      <th>8</th>\n",
       "      <td>13</td>\n",
       "      <td>0.684199</td>\n",
       "      <td>-21.888806</td>\n",
       "    </tr>\n",
       "    <tr>\n",
       "      <th>9</th>\n",
       "      <td>14</td>\n",
       "      <td>0.696180</td>\n",
       "      <td>-22.913793</td>\n",
       "    </tr>\n",
       "    <tr>\n",
       "      <th>10</th>\n",
       "      <td>15</td>\n",
       "      <td>0.703511</td>\n",
       "      <td>-23.903863</td>\n",
       "    </tr>\n",
       "  </tbody>\n",
       "</table>\n",
       "</div>"
      ],
      "text/plain": [
       "    Num_Topics  Coherence  Perplexity\n",
       "0            5   0.675642  -11.882331\n",
       "1            6   0.673841  -12.241214\n",
       "2            7   0.676336  -12.676661\n",
       "3            8   0.698039  -13.306205\n",
       "4            9   0.693405  -15.070279\n",
       "5           10   0.696265  -16.744095\n",
       "6           11   0.692749  -18.537908\n",
       "7           12   0.685593  -20.100129\n",
       "8           13   0.684199  -21.888806\n",
       "9           14   0.696180  -22.913793\n",
       "10          15   0.703511  -23.903863"
      ]
     },
     "execution_count": 61,
     "metadata": {},
     "output_type": "execute_result"
    }
   ],
   "source": [
    "neg_bigram_model_comparison = build_model_comparison_table(neg_bi_gram_models, bigram_corpus_neg, bigram_dict_neg, bigrams_neg_combined)\n",
    "neg_bigram_model_comparison"
   ]
  },
  {
   "cell_type": "code",
   "execution_count": 62,
   "id": "civic-feelings",
   "metadata": {},
   "outputs": [
    {
     "data": {
      "text/html": [
       "<div>\n",
       "<style scoped>\n",
       "    .dataframe tbody tr th:only-of-type {\n",
       "        vertical-align: middle;\n",
       "    }\n",
       "\n",
       "    .dataframe tbody tr th {\n",
       "        vertical-align: top;\n",
       "    }\n",
       "\n",
       "    .dataframe thead th {\n",
       "        text-align: right;\n",
       "    }\n",
       "</style>\n",
       "<table border=\"1\" class=\"dataframe\">\n",
       "  <thead>\n",
       "    <tr style=\"text-align: right;\">\n",
       "      <th></th>\n",
       "      <th>Num_Topics</th>\n",
       "      <th>Coherence</th>\n",
       "      <th>Perplexity</th>\n",
       "    </tr>\n",
       "  </thead>\n",
       "  <tbody>\n",
       "    <tr>\n",
       "      <th>0</th>\n",
       "      <td>5</td>\n",
       "      <td>0.721682</td>\n",
       "      <td>-10.453707</td>\n",
       "    </tr>\n",
       "    <tr>\n",
       "      <th>1</th>\n",
       "      <td>6</td>\n",
       "      <td>0.709034</td>\n",
       "      <td>-10.766170</td>\n",
       "    </tr>\n",
       "    <tr>\n",
       "      <th>2</th>\n",
       "      <td>7</td>\n",
       "      <td>0.734403</td>\n",
       "      <td>-11.453039</td>\n",
       "    </tr>\n",
       "    <tr>\n",
       "      <th>3</th>\n",
       "      <td>8</td>\n",
       "      <td>0.708156</td>\n",
       "      <td>-12.357353</td>\n",
       "    </tr>\n",
       "    <tr>\n",
       "      <th>4</th>\n",
       "      <td>9</td>\n",
       "      <td>0.716590</td>\n",
       "      <td>-12.703423</td>\n",
       "    </tr>\n",
       "    <tr>\n",
       "      <th>5</th>\n",
       "      <td>10</td>\n",
       "      <td>0.707821</td>\n",
       "      <td>-12.885643</td>\n",
       "    </tr>\n",
       "    <tr>\n",
       "      <th>6</th>\n",
       "      <td>11</td>\n",
       "      <td>0.714631</td>\n",
       "      <td>-13.425973</td>\n",
       "    </tr>\n",
       "    <tr>\n",
       "      <th>7</th>\n",
       "      <td>12</td>\n",
       "      <td>0.710940</td>\n",
       "      <td>-15.957682</td>\n",
       "    </tr>\n",
       "    <tr>\n",
       "      <th>8</th>\n",
       "      <td>13</td>\n",
       "      <td>0.706828</td>\n",
       "      <td>-18.198569</td>\n",
       "    </tr>\n",
       "    <tr>\n",
       "      <th>9</th>\n",
       "      <td>14</td>\n",
       "      <td>0.720067</td>\n",
       "      <td>-19.746909</td>\n",
       "    </tr>\n",
       "    <tr>\n",
       "      <th>10</th>\n",
       "      <td>15</td>\n",
       "      <td>0.730719</td>\n",
       "      <td>-20.940940</td>\n",
       "    </tr>\n",
       "  </tbody>\n",
       "</table>\n",
       "</div>"
      ],
      "text/plain": [
       "    Num_Topics  Coherence  Perplexity\n",
       "0            5   0.721682  -10.453707\n",
       "1            6   0.709034  -10.766170\n",
       "2            7   0.734403  -11.453039\n",
       "3            8   0.708156  -12.357353\n",
       "4            9   0.716590  -12.703423\n",
       "5           10   0.707821  -12.885643\n",
       "6           11   0.714631  -13.425973\n",
       "7           12   0.710940  -15.957682\n",
       "8           13   0.706828  -18.198569\n",
       "9           14   0.720067  -19.746909\n",
       "10          15   0.730719  -20.940940"
      ]
     },
     "execution_count": 62,
     "metadata": {},
     "output_type": "execute_result"
    }
   ],
   "source": [
    "net_bigram_model_comparison = build_model_comparison_table(net_bi_gram_models, bigram_corpus_net, bigram_dict_net, bigrams_net_combined)\n",
    "net_bigram_model_comparison"
   ]
  },
  {
   "cell_type": "code",
   "execution_count": 63,
   "id": "worth-blanket",
   "metadata": {},
   "outputs": [
    {
     "data": {
      "text/html": [
       "<div>\n",
       "<style scoped>\n",
       "    .dataframe tbody tr th:only-of-type {\n",
       "        vertical-align: middle;\n",
       "    }\n",
       "\n",
       "    .dataframe tbody tr th {\n",
       "        vertical-align: top;\n",
       "    }\n",
       "\n",
       "    .dataframe thead th {\n",
       "        text-align: right;\n",
       "    }\n",
       "</style>\n",
       "<table border=\"1\" class=\"dataframe\">\n",
       "  <thead>\n",
       "    <tr style=\"text-align: right;\">\n",
       "      <th></th>\n",
       "      <th>Num_Topics</th>\n",
       "      <th>Coherence</th>\n",
       "      <th>Perplexity</th>\n",
       "    </tr>\n",
       "  </thead>\n",
       "  <tbody>\n",
       "    <tr>\n",
       "      <th>0</th>\n",
       "      <td>5</td>\n",
       "      <td>0.673715</td>\n",
       "      <td>-11.198606</td>\n",
       "    </tr>\n",
       "    <tr>\n",
       "      <th>1</th>\n",
       "      <td>6</td>\n",
       "      <td>0.701229</td>\n",
       "      <td>-11.559225</td>\n",
       "    </tr>\n",
       "    <tr>\n",
       "      <th>2</th>\n",
       "      <td>7</td>\n",
       "      <td>0.700761</td>\n",
       "      <td>-12.104204</td>\n",
       "    </tr>\n",
       "    <tr>\n",
       "      <th>3</th>\n",
       "      <td>8</td>\n",
       "      <td>0.693281</td>\n",
       "      <td>-12.414862</td>\n",
       "    </tr>\n",
       "    <tr>\n",
       "      <th>4</th>\n",
       "      <td>9</td>\n",
       "      <td>0.714751</td>\n",
       "      <td>-12.659020</td>\n",
       "    </tr>\n",
       "    <tr>\n",
       "      <th>5</th>\n",
       "      <td>10</td>\n",
       "      <td>0.691183</td>\n",
       "      <td>-14.055003</td>\n",
       "    </tr>\n",
       "    <tr>\n",
       "      <th>6</th>\n",
       "      <td>11</td>\n",
       "      <td>0.691361</td>\n",
       "      <td>-17.046302</td>\n",
       "    </tr>\n",
       "    <tr>\n",
       "      <th>7</th>\n",
       "      <td>12</td>\n",
       "      <td>0.698836</td>\n",
       "      <td>-18.693159</td>\n",
       "    </tr>\n",
       "    <tr>\n",
       "      <th>8</th>\n",
       "      <td>13</td>\n",
       "      <td>0.705513</td>\n",
       "      <td>-20.882810</td>\n",
       "    </tr>\n",
       "    <tr>\n",
       "      <th>9</th>\n",
       "      <td>14</td>\n",
       "      <td>0.720303</td>\n",
       "      <td>-22.156034</td>\n",
       "    </tr>\n",
       "    <tr>\n",
       "      <th>10</th>\n",
       "      <td>15</td>\n",
       "      <td>0.724604</td>\n",
       "      <td>-23.302686</td>\n",
       "    </tr>\n",
       "  </tbody>\n",
       "</table>\n",
       "</div>"
      ],
      "text/plain": [
       "    Num_Topics  Coherence  Perplexity\n",
       "0            5   0.673715  -11.198606\n",
       "1            6   0.701229  -11.559225\n",
       "2            7   0.700761  -12.104204\n",
       "3            8   0.693281  -12.414862\n",
       "4            9   0.714751  -12.659020\n",
       "5           10   0.691183  -14.055003\n",
       "6           11   0.691361  -17.046302\n",
       "7           12   0.698836  -18.693159\n",
       "8           13   0.705513  -20.882810\n",
       "9           14   0.720303  -22.156034\n",
       "10          15   0.724604  -23.302686"
      ]
     },
     "execution_count": 63,
     "metadata": {},
     "output_type": "execute_result"
    }
   ],
   "source": [
    "pos_bigram_model_comparison = build_model_comparison_table(pos_bi_gram_models, bigram_corpus_pos, bigram_dict_pos, bigrams_pos_combined)\n",
    "pos_bigram_model_comparison"
   ]
  },
  {
   "cell_type": "code",
   "execution_count": 64,
   "id": "realistic-soviet",
   "metadata": {},
   "outputs": [
    {
     "name": "stdout",
     "output_type": "stream",
     "text": [
      "Number of topics with the maximum Coherence is  15\n",
      "Number of topics with the minimum Perplexity is  15\n",
      "Num_Topics    15.000000\n",
      "Coherence      0.703511\n",
      "Perplexity   -23.903863\n",
      "Name: 10, dtype: float64\n",
      "Number of topics with the maximum Coherence is  15\n",
      "Number of topics with the minimum Perplexity is  15\n",
      "Num_Topics    15.000000\n",
      "Coherence      0.703511\n",
      "Perplexity   -23.903863\n",
      "Name: 10, dtype: float64\n"
     ]
    }
   ],
   "source": [
    "neg_bigram_best_row = find_best_model(neg_bigram_model_comparison)[0]\n",
    "neg_bigram_best_n_topics = find_best_model(neg_bigram_model_comparison)[1]"
   ]
  },
  {
   "cell_type": "code",
   "execution_count": 65,
   "id": "verbal-briefing",
   "metadata": {},
   "outputs": [
    {
     "name": "stdout",
     "output_type": "stream",
     "text": [
      "Number of topics with the maximum Coherence is  7\n",
      "Number of topics with the minimum Perplexity is  15\n",
      "Num_Topics               15.000000\n",
      "Coherence                 0.730719\n",
      "Perplexity              -20.940940\n",
      "Normalized_Perplexity     0.000000\n",
      "Normalized_Coherence      0.866394\n",
      "Inverted_Perplexity       1.000000\n",
      "Score                     0.933197\n",
      "Name: 10, dtype: float64\n",
      "Number of topics with the maximum Coherence is  7\n",
      "Number of topics with the minimum Perplexity is  15\n",
      "Num_Topics               15.000000\n",
      "Coherence                 0.730719\n",
      "Perplexity              -20.940940\n",
      "Normalized_Perplexity     0.000000\n",
      "Normalized_Coherence      0.866394\n",
      "Inverted_Perplexity       1.000000\n",
      "Score                     0.933197\n",
      "Name: 10, dtype: float64\n"
     ]
    }
   ],
   "source": [
    "net_bigram_best_row = find_best_model(net_bigram_model_comparison)[0]\n",
    "net_bigram_best_n_topics = find_best_model(net_bigram_model_comparison)[1]"
   ]
  },
  {
   "cell_type": "code",
   "execution_count": 66,
   "id": "naughty-police",
   "metadata": {},
   "outputs": [
    {
     "name": "stdout",
     "output_type": "stream",
     "text": [
      "Number of topics with the maximum Coherence is  15\n",
      "Number of topics with the minimum Perplexity is  15\n",
      "Num_Topics    15.000000\n",
      "Coherence      0.724604\n",
      "Perplexity   -23.302686\n",
      "Name: 10, dtype: float64\n",
      "Number of topics with the maximum Coherence is  15\n",
      "Number of topics with the minimum Perplexity is  15\n",
      "Num_Topics    15.000000\n",
      "Coherence      0.724604\n",
      "Perplexity   -23.302686\n",
      "Name: 10, dtype: float64\n"
     ]
    }
   ],
   "source": [
    "pos_bigram_best_row = find_best_model(pos_bigram_model_comparison)[0]\n",
    "pos_bigram_best_n_topics = find_best_model(pos_bigram_model_comparison)[1]"
   ]
  },
  {
   "cell_type": "code",
   "execution_count": 67,
   "id": "electric-windsor",
   "metadata": {},
   "outputs": [],
   "source": [
    "neg_bigram_best_model = pick_best_model(neg_bigram_best_n_topics, neg_bi_gram_models)\n",
    "net_bigram_best_model = pick_best_model(net_bigram_best_n_topics, net_bi_gram_models)\n",
    "pos_bigram_best_model = pick_best_model(pos_bigram_best_n_topics, pos_bi_gram_models)\n"
   ]
  },
  {
   "cell_type": "code",
   "execution_count": 68,
   "id": "naughty-robin",
   "metadata": {},
   "outputs": [
    {
     "name": "stdout",
     "output_type": "stream",
     "text": [
      "Best Negative Bigram model is: LdaModel(num_terms=60928, num_topics=15, decay=0.5, chunksize=1000)\n",
      "Best Neutral Bigram model is: LdaModel(num_terms=19139, num_topics=15, decay=0.5, chunksize=1000)\n",
      "Best Positive Bigram model is: LdaModel(num_terms=37687, num_topics=15, decay=0.5, chunksize=1000)\n"
     ]
    }
   ],
   "source": [
    "print(\"Best Negative Bigram model is:\", neg_bigram_best_model)\n",
    "print(\"Best Neutral Bigram model is:\", net_bigram_best_model)\n",
    "print(\"Best Positive Bigram model is:\", pos_bigram_best_model)"
   ]
  },
  {
   "cell_type": "code",
   "execution_count": 69,
   "id": "rubber-metropolitan",
   "metadata": {},
   "outputs": [],
   "source": [
    "neg_tri_gram_models = train_models(trigram_corpus_neg, trigram_dict_neg)\n",
    "net_tri_gram_models = train_models(trigram_corpus_net, trigram_dict_net)\n",
    "pos_tri_gram_models = train_models(trigram_corpus_pos, trigram_dict_pos)"
   ]
  },
  {
   "cell_type": "code",
   "execution_count": 70,
   "id": "minus-module",
   "metadata": {},
   "outputs": [
    {
     "data": {
      "text/html": [
       "<div>\n",
       "<style scoped>\n",
       "    .dataframe tbody tr th:only-of-type {\n",
       "        vertical-align: middle;\n",
       "    }\n",
       "\n",
       "    .dataframe tbody tr th {\n",
       "        vertical-align: top;\n",
       "    }\n",
       "\n",
       "    .dataframe thead th {\n",
       "        text-align: right;\n",
       "    }\n",
       "</style>\n",
       "<table border=\"1\" class=\"dataframe\">\n",
       "  <thead>\n",
       "    <tr style=\"text-align: right;\">\n",
       "      <th></th>\n",
       "      <th>Num_Topics</th>\n",
       "      <th>Coherence</th>\n",
       "      <th>Perplexity</th>\n",
       "    </tr>\n",
       "  </thead>\n",
       "  <tbody>\n",
       "    <tr>\n",
       "      <th>0</th>\n",
       "      <td>5</td>\n",
       "      <td>0.793645</td>\n",
       "      <td>-13.225974</td>\n",
       "    </tr>\n",
       "    <tr>\n",
       "      <th>1</th>\n",
       "      <td>6</td>\n",
       "      <td>0.796321</td>\n",
       "      <td>-16.706023</td>\n",
       "    </tr>\n",
       "    <tr>\n",
       "      <th>2</th>\n",
       "      <td>7</td>\n",
       "      <td>0.779125</td>\n",
       "      <td>-21.000096</td>\n",
       "    </tr>\n",
       "    <tr>\n",
       "      <th>3</th>\n",
       "      <td>8</td>\n",
       "      <td>0.747010</td>\n",
       "      <td>-22.556553</td>\n",
       "    </tr>\n",
       "    <tr>\n",
       "      <th>4</th>\n",
       "      <td>9</td>\n",
       "      <td>0.703027</td>\n",
       "      <td>-22.964766</td>\n",
       "    </tr>\n",
       "    <tr>\n",
       "      <th>5</th>\n",
       "      <td>10</td>\n",
       "      <td>0.663896</td>\n",
       "      <td>-25.969334</td>\n",
       "    </tr>\n",
       "    <tr>\n",
       "      <th>6</th>\n",
       "      <td>11</td>\n",
       "      <td>0.693486</td>\n",
       "      <td>-27.068322</td>\n",
       "    </tr>\n",
       "    <tr>\n",
       "      <th>7</th>\n",
       "      <td>12</td>\n",
       "      <td>0.684884</td>\n",
       "      <td>-29.333544</td>\n",
       "    </tr>\n",
       "    <tr>\n",
       "      <th>8</th>\n",
       "      <td>13</td>\n",
       "      <td>0.693135</td>\n",
       "      <td>-31.105500</td>\n",
       "    </tr>\n",
       "    <tr>\n",
       "      <th>9</th>\n",
       "      <td>14</td>\n",
       "      <td>0.642289</td>\n",
       "      <td>-32.940010</td>\n",
       "    </tr>\n",
       "    <tr>\n",
       "      <th>10</th>\n",
       "      <td>15</td>\n",
       "      <td>0.652671</td>\n",
       "      <td>-35.007068</td>\n",
       "    </tr>\n",
       "  </tbody>\n",
       "</table>\n",
       "</div>"
      ],
      "text/plain": [
       "    Num_Topics  Coherence  Perplexity\n",
       "0            5   0.793645  -13.225974\n",
       "1            6   0.796321  -16.706023\n",
       "2            7   0.779125  -21.000096\n",
       "3            8   0.747010  -22.556553\n",
       "4            9   0.703027  -22.964766\n",
       "5           10   0.663896  -25.969334\n",
       "6           11   0.693486  -27.068322\n",
       "7           12   0.684884  -29.333544\n",
       "8           13   0.693135  -31.105500\n",
       "9           14   0.642289  -32.940010\n",
       "10          15   0.652671  -35.007068"
      ]
     },
     "execution_count": 70,
     "metadata": {},
     "output_type": "execute_result"
    }
   ],
   "source": [
    "neg_trigram_model_comparison = build_model_comparison_table(neg_tri_gram_models, trigram_corpus_neg, trigram_dict_neg, trigrams_neg_combined)\n",
    "neg_trigram_model_comparison"
   ]
  },
  {
   "cell_type": "code",
   "execution_count": 71,
   "id": "general-approval",
   "metadata": {},
   "outputs": [
    {
     "data": {
      "text/html": [
       "<div>\n",
       "<style scoped>\n",
       "    .dataframe tbody tr th:only-of-type {\n",
       "        vertical-align: middle;\n",
       "    }\n",
       "\n",
       "    .dataframe tbody tr th {\n",
       "        vertical-align: top;\n",
       "    }\n",
       "\n",
       "    .dataframe thead th {\n",
       "        text-align: right;\n",
       "    }\n",
       "</style>\n",
       "<table border=\"1\" class=\"dataframe\">\n",
       "  <thead>\n",
       "    <tr style=\"text-align: right;\">\n",
       "      <th></th>\n",
       "      <th>Num_Topics</th>\n",
       "      <th>Coherence</th>\n",
       "      <th>Perplexity</th>\n",
       "    </tr>\n",
       "  </thead>\n",
       "  <tbody>\n",
       "    <tr>\n",
       "      <th>0</th>\n",
       "      <td>5</td>\n",
       "      <td>0.720056</td>\n",
       "      <td>-10.694077</td>\n",
       "    </tr>\n",
       "    <tr>\n",
       "      <th>1</th>\n",
       "      <td>6</td>\n",
       "      <td>0.775288</td>\n",
       "      <td>-11.033401</td>\n",
       "    </tr>\n",
       "    <tr>\n",
       "      <th>2</th>\n",
       "      <td>7</td>\n",
       "      <td>0.705263</td>\n",
       "      <td>-12.878838</td>\n",
       "    </tr>\n",
       "    <tr>\n",
       "      <th>3</th>\n",
       "      <td>8</td>\n",
       "      <td>0.696915</td>\n",
       "      <td>-17.112313</td>\n",
       "    </tr>\n",
       "    <tr>\n",
       "      <th>4</th>\n",
       "      <td>9</td>\n",
       "      <td>0.587343</td>\n",
       "      <td>-20.634841</td>\n",
       "    </tr>\n",
       "    <tr>\n",
       "      <th>5</th>\n",
       "      <td>10</td>\n",
       "      <td>0.529188</td>\n",
       "      <td>-22.252171</td>\n",
       "    </tr>\n",
       "    <tr>\n",
       "      <th>6</th>\n",
       "      <td>11</td>\n",
       "      <td>0.516922</td>\n",
       "      <td>-23.044091</td>\n",
       "    </tr>\n",
       "    <tr>\n",
       "      <th>7</th>\n",
       "      <td>12</td>\n",
       "      <td>0.503118</td>\n",
       "      <td>-24.555331</td>\n",
       "    </tr>\n",
       "    <tr>\n",
       "      <th>8</th>\n",
       "      <td>13</td>\n",
       "      <td>0.536837</td>\n",
       "      <td>-26.453053</td>\n",
       "    </tr>\n",
       "    <tr>\n",
       "      <th>9</th>\n",
       "      <td>14</td>\n",
       "      <td>0.565290</td>\n",
       "      <td>-27.749934</td>\n",
       "    </tr>\n",
       "    <tr>\n",
       "      <th>10</th>\n",
       "      <td>15</td>\n",
       "      <td>0.569072</td>\n",
       "      <td>-29.120526</td>\n",
       "    </tr>\n",
       "  </tbody>\n",
       "</table>\n",
       "</div>"
      ],
      "text/plain": [
       "    Num_Topics  Coherence  Perplexity\n",
       "0            5   0.720056  -10.694077\n",
       "1            6   0.775288  -11.033401\n",
       "2            7   0.705263  -12.878838\n",
       "3            8   0.696915  -17.112313\n",
       "4            9   0.587343  -20.634841\n",
       "5           10   0.529188  -22.252171\n",
       "6           11   0.516922  -23.044091\n",
       "7           12   0.503118  -24.555331\n",
       "8           13   0.536837  -26.453053\n",
       "9           14   0.565290  -27.749934\n",
       "10          15   0.569072  -29.120526"
      ]
     },
     "execution_count": 71,
     "metadata": {},
     "output_type": "execute_result"
    }
   ],
   "source": [
    "net_trigram_model_comparison = build_model_comparison_table(net_tri_gram_models, trigram_corpus_net, trigram_dict_net, trigrams_net_combined)\n",
    "net_trigram_model_comparison"
   ]
  },
  {
   "cell_type": "code",
   "execution_count": 72,
   "id": "terminal-requirement",
   "metadata": {},
   "outputs": [
    {
     "data": {
      "text/html": [
       "<div>\n",
       "<style scoped>\n",
       "    .dataframe tbody tr th:only-of-type {\n",
       "        vertical-align: middle;\n",
       "    }\n",
       "\n",
       "    .dataframe tbody tr th {\n",
       "        vertical-align: top;\n",
       "    }\n",
       "\n",
       "    .dataframe thead th {\n",
       "        text-align: right;\n",
       "    }\n",
       "</style>\n",
       "<table border=\"1\" class=\"dataframe\">\n",
       "  <thead>\n",
       "    <tr style=\"text-align: right;\">\n",
       "      <th></th>\n",
       "      <th>Num_Topics</th>\n",
       "      <th>Coherence</th>\n",
       "      <th>Perplexity</th>\n",
       "    </tr>\n",
       "  </thead>\n",
       "  <tbody>\n",
       "    <tr>\n",
       "      <th>0</th>\n",
       "      <td>5</td>\n",
       "      <td>0.801684</td>\n",
       "      <td>-11.937977</td>\n",
       "    </tr>\n",
       "    <tr>\n",
       "      <th>1</th>\n",
       "      <td>6</td>\n",
       "      <td>0.787211</td>\n",
       "      <td>-13.526703</td>\n",
       "    </tr>\n",
       "    <tr>\n",
       "      <th>2</th>\n",
       "      <td>7</td>\n",
       "      <td>0.776168</td>\n",
       "      <td>-17.721500</td>\n",
       "    </tr>\n",
       "    <tr>\n",
       "      <th>3</th>\n",
       "      <td>8</td>\n",
       "      <td>0.753939</td>\n",
       "      <td>-21.293742</td>\n",
       "    </tr>\n",
       "    <tr>\n",
       "      <th>4</th>\n",
       "      <td>9</td>\n",
       "      <td>0.688372</td>\n",
       "      <td>-22.144134</td>\n",
       "    </tr>\n",
       "    <tr>\n",
       "      <th>5</th>\n",
       "      <td>10</td>\n",
       "      <td>0.658608</td>\n",
       "      <td>-23.972049</td>\n",
       "    </tr>\n",
       "    <tr>\n",
       "      <th>6</th>\n",
       "      <td>11</td>\n",
       "      <td>0.581752</td>\n",
       "      <td>-26.834448</td>\n",
       "    </tr>\n",
       "    <tr>\n",
       "      <th>7</th>\n",
       "      <td>12</td>\n",
       "      <td>0.655358</td>\n",
       "      <td>-28.759071</td>\n",
       "    </tr>\n",
       "    <tr>\n",
       "      <th>8</th>\n",
       "      <td>13</td>\n",
       "      <td>0.686188</td>\n",
       "      <td>-30.647355</td>\n",
       "    </tr>\n",
       "    <tr>\n",
       "      <th>9</th>\n",
       "      <td>14</td>\n",
       "      <td>0.620291</td>\n",
       "      <td>-32.160388</td>\n",
       "    </tr>\n",
       "    <tr>\n",
       "      <th>10</th>\n",
       "      <td>15</td>\n",
       "      <td>0.639795</td>\n",
       "      <td>-33.803280</td>\n",
       "    </tr>\n",
       "  </tbody>\n",
       "</table>\n",
       "</div>"
      ],
      "text/plain": [
       "    Num_Topics  Coherence  Perplexity\n",
       "0            5   0.801684  -11.937977\n",
       "1            6   0.787211  -13.526703\n",
       "2            7   0.776168  -17.721500\n",
       "3            8   0.753939  -21.293742\n",
       "4            9   0.688372  -22.144134\n",
       "5           10   0.658608  -23.972049\n",
       "6           11   0.581752  -26.834448\n",
       "7           12   0.655358  -28.759071\n",
       "8           13   0.686188  -30.647355\n",
       "9           14   0.620291  -32.160388\n",
       "10          15   0.639795  -33.803280"
      ]
     },
     "execution_count": 72,
     "metadata": {},
     "output_type": "execute_result"
    }
   ],
   "source": [
    "pos_trigram_model_comparison = build_model_comparison_table(pos_tri_gram_models, trigram_corpus_pos, trigram_dict_pos, trigrams_pos_combined)\n",
    "pos_trigram_model_comparison"
   ]
  },
  {
   "cell_type": "code",
   "execution_count": 73,
   "id": "adjusted-framing",
   "metadata": {},
   "outputs": [
    {
     "name": "stdout",
     "output_type": "stream",
     "text": [
      "Number of topics with the maximum Coherence is  6\n",
      "Number of topics with the minimum Perplexity is  15\n",
      "Num_Topics                7.000000\n",
      "Coherence                 0.779125\n",
      "Perplexity              -21.000096\n",
      "Normalized_Perplexity     0.643079\n",
      "Normalized_Coherence      0.888361\n",
      "Inverted_Perplexity       0.356921\n",
      "Score                     0.622641\n",
      "Name: 2, dtype: float64\n",
      "Number of topics with the maximum Coherence is  6\n",
      "Number of topics with the minimum Perplexity is  15\n",
      "Num_Topics                7.000000\n",
      "Coherence                 0.779125\n",
      "Perplexity              -21.000096\n",
      "Normalized_Perplexity     0.643079\n",
      "Normalized_Coherence      0.888361\n",
      "Inverted_Perplexity       0.356921\n",
      "Score                     0.622641\n",
      "Name: 2, dtype: float64\n"
     ]
    }
   ],
   "source": [
    "neg_trigram_best_row = find_best_model(neg_trigram_model_comparison)[0]\n",
    "neg_trigram_best_n_topics = find_best_model(neg_trigram_model_comparison)[1]"
   ]
  },
  {
   "cell_type": "code",
   "execution_count": 74,
   "id": "neither-implementation",
   "metadata": {},
   "outputs": [
    {
     "name": "stdout",
     "output_type": "stream",
     "text": [
      "Number of topics with the maximum Coherence is  6\n",
      "Number of topics with the minimum Perplexity is  15\n",
      "Num_Topics               15.000000\n",
      "Coherence                 0.569072\n",
      "Perplexity              -29.120526\n",
      "Normalized_Perplexity     0.000000\n",
      "Normalized_Coherence      0.242327\n",
      "Inverted_Perplexity       1.000000\n",
      "Score                     0.621164\n",
      "Name: 10, dtype: float64\n",
      "Number of topics with the maximum Coherence is  6\n",
      "Number of topics with the minimum Perplexity is  15\n",
      "Num_Topics               15.000000\n",
      "Coherence                 0.569072\n",
      "Perplexity              -29.120526\n",
      "Normalized_Perplexity     0.000000\n",
      "Normalized_Coherence      0.242327\n",
      "Inverted_Perplexity       1.000000\n",
      "Score                     0.621164\n",
      "Name: 10, dtype: float64\n"
     ]
    }
   ],
   "source": [
    "net_trigram_best_row = find_best_model(net_trigram_model_comparison)[0]\n",
    "net_trigram_best_n_topics = find_best_model(net_trigram_model_comparison)[1]"
   ]
  },
  {
   "cell_type": "code",
   "execution_count": 75,
   "id": "floppy-cardiff",
   "metadata": {},
   "outputs": [
    {
     "name": "stdout",
     "output_type": "stream",
     "text": [
      "Number of topics with the maximum Coherence is  5\n",
      "Number of topics with the minimum Perplexity is  15\n",
      "Num_Topics               13.000000\n",
      "Coherence                 0.686188\n",
      "Perplexity              -30.647355\n",
      "Normalized_Perplexity     0.144335\n",
      "Normalized_Coherence      0.474856\n",
      "Inverted_Perplexity       0.855665\n",
      "Score                     0.665261\n",
      "Name: 8, dtype: float64\n",
      "Number of topics with the maximum Coherence is  5\n",
      "Number of topics with the minimum Perplexity is  15\n",
      "Num_Topics               13.000000\n",
      "Coherence                 0.686188\n",
      "Perplexity              -30.647355\n",
      "Normalized_Perplexity     0.144335\n",
      "Normalized_Coherence      0.474856\n",
      "Inverted_Perplexity       0.855665\n",
      "Score                     0.665261\n",
      "Name: 8, dtype: float64\n"
     ]
    }
   ],
   "source": [
    "pos_trigram_best_row = find_best_model(pos_trigram_model_comparison)[0]\n",
    "pos_trigram_best_n_topics = find_best_model(pos_trigram_model_comparison)[1]"
   ]
  },
  {
   "cell_type": "code",
   "execution_count": 76,
   "id": "altered-purchase",
   "metadata": {},
   "outputs": [],
   "source": [
    "neg_trigram_best_model = pick_best_model(neg_trigram_best_n_topics, neg_tri_gram_models)\n",
    "net_trigram_best_model = pick_best_model(net_trigram_best_n_topics, net_tri_gram_models)\n",
    "pos_trigram_best_model = pick_best_model(pos_trigram_best_n_topics, pos_tri_gram_models)"
   ]
  },
  {
   "cell_type": "code",
   "execution_count": 77,
   "id": "genetic-combining",
   "metadata": {},
   "outputs": [
    {
     "name": "stdout",
     "output_type": "stream",
     "text": [
      "Best Negative Trigram model is: LdaModel(num_terms=72765, num_topics=7, decay=0.5, chunksize=1000)\n",
      "Best Neutral Trigram model is: LdaModel(num_terms=20031, num_topics=15, decay=0.5, chunksize=1000)\n",
      "Best Positive Trigram model is: LdaModel(num_terms=42771, num_topics=13, decay=0.5, chunksize=1000)\n"
     ]
    }
   ],
   "source": [
    "print(\"Best Negative Trigram model is:\", neg_trigram_best_model)\n",
    "print(\"Best Neutral Trigram model is:\", net_trigram_best_model)\n",
    "print(\"Best Positive Trigram model is:\", pos_trigram_best_model)"
   ]
  },
  {
   "cell_type": "code",
   "execution_count": 267,
   "id": "correct-mainstream",
   "metadata": {},
   "outputs": [],
   "source": []
  },
  {
   "cell_type": "markdown",
   "id": "united-system",
   "metadata": {},
   "source": [
    "### SUMMARY OF RESULTS \n",
    "\n",
    "|N-gram|SENTIMENT|Perplexity|Coherence|# of topics|\n",
    "|------|---------|----------|---------|-----------|\n",
    "UNI | NEG | -9.536713 | 0.389507 | 15| \n",
    "**BI | NEG | -23.903863 | 0.703511 | 15**| \n",
    "*TRI | NEG | -21.000096 | 0.779125 | 7*| \n",
    "|------|---------|----------|---------|-----------|\n",
    "UNI | NEU | -9.076156 | 0.355122 | 15 | \n",
    "*BI | NEU | -20.940940 | 0.730719 | 15*| \n",
    "**TRI | NEU | -29.120526 | 0.569072 | 15**| \n",
    "|------|---------|----------|---------|-----------|\n",
    "UNI | POS | -9.379102 | 0.371542 | 15 | \n",
    "*BI | POS | -23.302686 | 0.724604 | 15* | \n",
    "**TRI | POS | -30.647355 | 0.686188 | 13**| \n",
    "\n",
    "**BEST NEGATIVE MODEL** \n",
    "$$score\\_neg\\_bigram  = (1 + 23.903863) \\times 0.5 + 0.5 \\times 0.703511 = 12.803687$$\n",
    "$$score\\_neg\\_trigram = (1 + 21.000096) \\times 0.5 + 0.5 \\times 0.779125 = 11.3896105$$\n",
    "\n",
    "**BEST NEUTRAL MODEL** \n",
    "$$score\\_net\\_bigram  = (1 + 20.940940) \\times 0.5 + 0.5 \\times 0.730719 = 11.335830$$\n",
    "$$score\\_net\\_trigram = (1 + 29.120526) \\times 0.5 + 0.5 \\times 0.569072 = 15.344799$$ \n",
    "\n",
    "\n",
    "**BEST POSITIVE MODEL** \n",
    "$$score\\_pos\\_bigram  = (1 + 23.302686) \\times 0.5 + 0.5 \\times 0.724604 = 12.513645$$\n",
    "$$score\\_pos\\_trigram = (1 + 30.647355) \\times 0.5 + 0.5 \\times 0.686188 = 16.1667715$$\n",
    " \n",
    "\n",
    "Therefore the best models are: \n",
    "\n",
    "- **For Negative**: `neg_bigram_best_model` bigrams \n",
    "- **For Neutral**: `net_trigram_best_model` trigrams \n",
    "- **For Positive**: `pos_trigram_best_model` trigrams "
   ]
  },
  {
   "cell_type": "code",
   "execution_count": 81,
   "id": "found-synthesis",
   "metadata": {},
   "outputs": [
    {
     "name": "stdout",
     "output_type": "stream",
     "text": [
      "5.46311 \n",
      " 5.375322 \n",
      " 12.803687 \n",
      " 12.513645 \n",
      " 11.3896105 \n",
      " 15.344799 \n",
      " 16.1667715 \n",
      " 11.335829500000001\n"
     ]
    }
   ],
   "source": [
    "a = (1 + 9.536713) * 0.5 + 0.5 * 0.389507 \n",
    "b = (1 + 9.379102) * 0.5 + 0.5 * 0.371542 \n",
    "\n",
    "c = (1 + 23.903863) * 0.5 + 0.5 * 0.703511\n",
    "d = (1 + 23.302686) * 0.5 + 0.5 * 0.724604\n",
    "\n",
    "e = (1 + 21.000096) * 0.5 + 0.5 * 0.779125 \n",
    "f = (1 + 29.120526) * 0.5 + 0.5 * 0.569072 \n",
    "g = (1 + 30.647355) * 0.5 + 0.5 * 0.686188 \n",
    "h = (1 + 20.940940) * 0.5 + 0.5 * 0.730719\n",
    "\n",
    "print(a, '\\n',b, '\\n',c, '\\n',d, '\\n',e, '\\n',f, '\\n',g, '\\n', h)"
   ]
  },
  {
   "cell_type": "code",
   "execution_count": 82,
   "id": "military-tuesday",
   "metadata": {},
   "outputs": [],
   "source": [
    "neg_best_topic_model = neg_bigram_best_model\n",
    "net_best_topic_model = net_trigram_best_model\n",
    "pos_best_topic_model = pos_trigram_best_model\n"
   ]
  },
  {
   "cell_type": "markdown",
   "id": "floral-response",
   "metadata": {},
   "source": [
    "#### What are the topics? "
   ]
  },
  {
   "cell_type": "code",
   "execution_count": 83,
   "id": "extraordinary-woman",
   "metadata": {},
   "outputs": [
    {
     "name": "stdout",
     "output_type": "stream",
     "text": [
      "For negative sentiment reviews, here are the topics: \n",
      "\n",
      "[(0,\n",
      "  '0.011*\"would nice\" + 0.007*\"user experience\" + 0.007*\"account balance\" + '\n",
      "  '0.006*\"previous version\" + 0.005*\"able access\" + 0.005*\"keep crashing\" + '\n",
      "  '0.005*\"check account\" + 0.005*\"buy new\" + 0.005*\"see account\" + 0.004*\"able '\n",
      "  'see\"'),\n",
      " (1,\n",
      "  '0.038*\"credit card\" + 0.036*\"easy use\" + 0.016*\"deposit cheque\" + '\n",
      "  '0.005*\"take picture\" + 0.004*\"give star\" + 0.004*\"doesnt even\" + '\n",
      "  '0.004*\"ever used\" + 0.004*\"try deposit\" + 0.003*\"take forever\" + 0.003*\"% '\n",
      "  'time\"'),\n",
      " (2,\n",
      "  '0.031*\"please fix\" + 0.012*\"latest update\" + 0.012*\"cheque deposit\" + '\n",
      "  '0.009*\"look like\" + 0.006*\"debit card\" + 0.006*\"went wrong\" + '\n",
      "  '0.006*\"something went\" + 0.005*\"chequing account\" + 0.005*\"cant log\" + '\n",
      "  '0.005*\"later ”\"'),\n",
      " (3,\n",
      "  '0.021*\"face id\" + 0.013*\"fix it\" + 0.012*\"dark mode\" + 0.010*\"e transfer\" + '\n",
      "  '0.009*\"cant use\" + 0.009*\"many time\" + 0.007*\"deposit check\" + '\n",
      "  '0.006*\"multiple time\" + 0.005*\"much money\" + 0.004*\"still work\"'),\n",
      " (4,\n",
      "  '0.026*\"step verification\" + 0.007*\"love app\" + 0.007*\"right now\" + '\n",
      "  '0.005*\"last month\" + 0.005*\"dont use\" + 0.004*\"new iphone\" + 0.003*\"always '\n",
      "  'say\" + 0.003*\"verification process\" + 0.003*\"sign again\" + 0.003*\"keep '\n",
      "  'loading\"'),\n",
      " (5,\n",
      "  '0.023*\"technical issue\" + 0.013*\"sign in\" + 0.012*\"issue technical\" + '\n",
      "  '0.007*\"latest version\" + 0.006*\"first time\" + 0.005*\"facial recognition\" + '\n",
      "  '0.005*\"login screen\" + 0.005*\"month ago\" + 0.005*\"depositing cheque\" + '\n",
      "  '0.004*\"work iphone\"'),\n",
      " (6,\n",
      "  '0.025*\"customer service\" + 0.020*\"doesnt work\" + 0.010*\"last update\" + '\n",
      "  '0.008*\"havent able\" + 0.008*\"waste time\" + 0.007*\"since last\" + 0.006*\"good '\n",
      "  'app\" + 0.006*\"stopped working\" + 0.005*\"card number\" + 0.005*\"ive tried\"'),\n",
      " (7,\n",
      "  '0.022*\"user friendly\" + 0.008*\"home screen\" + 0.006*\"much better\" + '\n",
      "  '0.006*\"pay bills\" + 0.004*\"real time\" + 0.004*\"cant access\" + 0.004*\"click '\n",
      "  '“\" + 0.003*\"old one\" + 0.003*\"wont allow\" + 0.003*\"taking picture\"'),\n",
      " (8,\n",
      "  '0.013*\"dont know\" + 0.011*\"online banking\" + 0.007*\"work great\" + '\n",
      "  '0.006*\"never issue\" + 0.005*\"apple pay\" + 0.005*\"excellent service\" + '\n",
      "  '0.005*\"enter password\" + 0.004*\"worst ever\" + 0.004*\"business account\" + '\n",
      "  '0.003*\"still working\"'),\n",
      " (9,\n",
      "  '0.018*\"time try\" + 0.014*\"every time\" + 0.010*\"reset password\" + '\n",
      "  '0.009*\"touch id\" + 0.009*\"every single\" + 0.008*\"great app\" + 0.007*\"single '\n",
      "  'time\" + 0.006*\"delete reinstall\" + 0.005*\"trying deposit\" + 0.004*\"need '\n",
      "  'update\"'),\n",
      " (10,\n",
      "  '0.012*\"try later\" + 0.012*\"even though\" + 0.007*\"please try\" + 0.007*\"use '\n",
      "  'app\" + 0.007*\"cant see\" + 0.006*\"try log\" + 0.006*\"keep saying\" + '\n",
      "  '0.006*\"never work\" + 0.005*\"use mobile\" + 0.004*\"want use\"'),\n",
      " (11,\n",
      "  '0.017*\"log in\" + 0.016*\"cant even\" + 0.014*\"go back\" + 0.014*\"wont let\" + '\n",
      "  '0.011*\"thank you\" + 0.008*\"mobile app\" + 0.007*\"work fine\" + 0.007*\"using '\n",
      "  'app\" + 0.007*\"bill payment\" + 0.007*\"bring back\"'),\n",
      " (12,\n",
      "  '0.038*\"every time\" + 0.015*\"access account\" + 0.011*\"please fix\" + '\n",
      "  '0.011*\"fix this\" + 0.009*\"easy navigate\" + 0.007*\"say “\" + 0.006*\"half '\n",
      "  'time\" + 0.006*\"fix issue\" + 0.006*\"trusted device\" + 0.006*\"long time\"'),\n",
      " (13,\n",
      "  '0.039*\"can not\" + 0.013*\"work well\" + 0.011*\"recent update\" + 0.010*\"new '\n",
      "  'phone\" + 0.009*\"phone number\" + 0.009*\"would like\" + 0.006*\"iphone pro\" + '\n",
      "  '0.006*\"ive used\" + 0.005*\"make sure\" + 0.004*\"say need\"'),\n",
      " (14,\n",
      "  '0.024*\"new update\" + 0.017*\"pay bill\" + 0.012*\"cant get\" + 0.010*\"new '\n",
      "  'version\" + 0.009*\"credit score\" + 0.005*\"dont like\" + 0.004*\"since update\" '\n",
      "  '+ 0.004*\"access accounts\" + 0.004*\"older version\" + 0.004*\"like new\"')]\n"
     ]
    },
    {
     "data": {
      "text/plain": [
       "<gensim.interfaces.TransformedCorpus at 0x7fdf6e0b8d60>"
      ]
     },
     "execution_count": 83,
     "metadata": {},
     "output_type": "execute_result"
    }
   ],
   "source": [
    "print(\"For negative sentiment reviews, here are the topics: \\n\")\n",
    "\n",
    "print_topics(neg_best_topic_model, bigram_corpus_neg)"
   ]
  },
  {
   "cell_type": "code",
   "execution_count": 86,
   "id": "understood-inspector",
   "metadata": {},
   "outputs": [
    {
     "name": "stdout",
     "output_type": "stream",
     "text": [
      "For neutral sentiment reviews, here are the topics: \n",
      "\n",
      "[(0,\n",
      "  '0.002*\"keep good work\" + 0.002*\"can not pay\" + 0.001*\"much money accounts\" '\n",
      "  '+ 0.001*\"know much money\" + 0.001*\"im writing review\" + 0.001*\"not pay '\n",
      "  'bill\" + 0.001*\"wont let use\" + 0.000*\"environment answer question\" + '\n",
      "  '0.000*\"easy navigate intuitive\" + 0.000*\"login using account\"'),\n",
      " (1,\n",
      "  '0.002*\"would nice see\" + 0.002*\"new update awful\" + 0.001*\"im switching '\n",
      "  'banks\" + 0.001*\"save card number\" + 0.001*\"tab every time\" + 0.001*\"true '\n",
      "  'available balance\" + 0.000*\"time see pending\" + 0.000*\"wish give actual\" + '\n",
      "  '0.000*\"go main webpage\" + 0.000*\"details tab every\"'),\n",
      " (2,\n",
      "  '0.002*\"dont think change\" + 0.002*\"need fixed asap\" + 0.002*\"please fix '\n",
      "  'bug\" + 0.002*\"remember card number\" + 0.001*\"try sign in\" + 0.001*\"worst '\n",
      "  'ive used\" + 0.001*\"id doesnt work\" + 0.001*\"face id doesnt\" + '\n",
      "  '0.001*\"everything else fine\" + 0.001*\"get white screen\"'),\n",
      " (3,\n",
      "  '0.002*\"every time use\" + 0.001*\"message come saying\" + 0.001*\"error message '\n",
      "  'come\" + 0.001*\"see account balance\" + 0.001*\"time use it\" + 0.001*\"time '\n",
      "  'want log\" + 0.001*\"every time want\" + 0.001*\"previous version worked\" + '\n",
      "  '0.000*\"bill one account\" + 0.000*\"go back transfer\"'),\n",
      " (4,\n",
      "  '0.003*\"since last update\" + 0.003*\"since new update\" + 0.003*\"password '\n",
      "  'every time\" + 0.002*\"wont let sign\" + 0.002*\"user friendly all\" + '\n",
      "  '0.002*\"ever used entire\" + 0.002*\"used entire life\" + 0.001*\"good job cibc\" '\n",
      "  '+ 0.001*\"please fix used\" + 0.001*\"otherwise great app\"'),\n",
      " (5,\n",
      "  '0.006*\"something went wrong\" + 0.006*\"“ something went\" + 0.003*\"please '\n",
      "  'bring back\" + 0.003*\"add credit card\" + 0.002*\"every single time\" + '\n",
      "  '0.002*\"wrong try again\" + 0.002*\"went wrong try\" + 0.002*\"back last '\n",
      "  'version\" + 0.002*\"card apple pay\" + 0.002*\"check credit score\"'),\n",
      " (6,\n",
      "  '0.007*\"please fix issue\" + 0.002*\"password log in\" + 0.001*\"bring back old\" '\n",
      "  '+ 0.001*\"much easier use\" + 0.001*\"every time login\" + 0.001*\"please fix '\n",
      "  'make\" + 0.001*\"receive push notification\" + 0.001*\"ever since started\" + '\n",
      "  '0.001*\"wont let me\" + 0.001*\"back old version\"'),\n",
      " (7,\n",
      "  '0.009*\"please fix asap\" + 0.003*\"every time go\" + 0.001*\"dark mode option\" '\n",
      "  '+ 0.001*\"back older version\" + 0.001*\"trying get mobile\" + 0.001*\"ive '\n",
      "  'trying get\" + 0.001*\"go back older\" + 0.001*\"feature dont work\" + '\n",
      "  '0.001*\"work well except\" + 0.001*\"straight forward easy\"'),\n",
      " (8,\n",
      "  '0.003*\"would nice able\" + 0.002*\"every time open\" + 0.002*\"can not see\" + '\n",
      "  '0.002*\"clean easy use\" + 0.002*\"would love see\" + 0.002*\"time open app\" + '\n",
      "  '0.001*\"using year ago\" + 0.001*\"not see accounts\" + 0.001*\"would great see\" '\n",
      "  '+ 0.000*\"month along website\"'),\n",
      " (9,\n",
      "  '0.006*\"every time try\" + 0.005*\"almost every time\" + 0.004*\"please fix it\" '\n",
      "  '+ 0.002*\"cant even access\" + 0.001*\"try log in\" + 0.000*\"cancel debit card\" '\n",
      "  '+ 0.000*\"shy front cashier\" + 0.000*\"sue done youi\" + 0.000*\"cant see real\" '\n",
      "  '+ 0.000*\"balance- time shy\"'),\n",
      " (10,\n",
      "  '0.005*\"can not update\" + 0.005*\"iphone pro max\" + 0.002*\"dont understand '\n",
      "  'its\" + 0.002*\"terrible customer service\" + 0.002*\"understand its difficult\" '\n",
      "  '+ 0.002*\"not update info\" + 0.002*\"service ive ever\" + 0.002*\"credit card '\n",
      "  'balance\" + 0.001*\"cant open account\" + 0.001*\"credit card transaction\"'),\n",
      " (11,\n",
      "  '0.003*\"ive ever used\" + 0.002*\"worst ive ever\" + 0.002*\"right now ”\" + '\n",
      "  '0.002*\"message saying “\" + 0.001*\"every time log\" + 0.001*\"trying deposit '\n",
      "  'cheque\" + 0.001*\"reliable easy use\" + 0.001*\"never issue app\" + 0.001*\"look '\n",
      "  'like its\" + 0.001*\"work anymore used\"'),\n",
      " (12,\n",
      "  '0.002*\"please go back\" + 0.002*\"payment credit card\" + 0.001*\"ever since '\n",
      "  'update\" + 0.001*\"feel like im\" + 0.001*\"since update every\" + '\n",
      "  '0.001*\"transfer fund account\" + 0.001*\"page can not\" + 0.001*\"best ive '\n",
      "  'ever\" + 0.001*\"scotiabank work great\" + 0.001*\"uninstalled reinstalled '\n",
      "  'app\"'),\n",
      " (13,\n",
      "  '0.002*\"card line credit\" + 0.002*\"credit card line\" + 0.002*\"its easy use\" '\n",
      "  '+ 0.001*\"view credit card\" + 0.001*\"feature doesnt work\" + 0.001*\"trusted '\n",
      "  'device ”\" + 0.001*\"password multiple time\" + 0.001*\"got new phone\" + '\n",
      "  '0.001*\"update ive tried\" + 0.001*\"credit card transactions\"'),\n",
      " (14,\n",
      "  '0.007*\"please fix this\" + 0.002*\"like many use\" + 0.002*\"two step '\n",
      "  'authentication\" + 0.001*\"email money transfers\" + 0.001*\"give error '\n",
      "  'message\" + 0.001*\"isnt working properly\" + 0.001*\"uninstall reinstall time\" '\n",
      "  '+ 0.001*\"“ offers ”\" + 0.000*\"ap spin spin\" + 0.000*\"cant open wont\"')]\n"
     ]
    },
    {
     "data": {
      "text/plain": [
       "<gensim.interfaces.TransformedCorpus at 0x7fdf8b250be0>"
      ]
     },
     "execution_count": 86,
     "metadata": {},
     "output_type": "execute_result"
    }
   ],
   "source": [
    "print(\"For neutral sentiment reviews, here are the topics: \\n\")\n",
    "\n",
    "print_topics(net_best_topic_model, trigram_corpus_net)"
   ]
  },
  {
   "cell_type": "code",
   "execution_count": 87,
   "id": "illegal-linux",
   "metadata": {
    "tags": []
   },
   "outputs": [
    {
     "name": "stdout",
     "output_type": "stream",
     "text": [
      "For positive sentiment reviews, here are the topics: \n",
      "\n",
      "[(0,\n",
      "  '0.008*\"every time try\" + 0.002*\"crash every time\" + 0.002*\"great easy use\" '\n",
      "  '+ 0.002*\"wont let sign\" + 0.002*\"its easy navigate\" + 0.001*\"called '\n",
      "  'customer service\" + 0.001*\"cant even get\" + 0.001*\"let sign in\" + '\n",
      "  '0.001*\"transaction dont show\" + 0.001*\"dark mode feature\"'),\n",
      " (1,\n",
      "  '0.002*\"every time open\" + 0.002*\"cheque deposit feature\" + 0.001*\"wrong end '\n",
      "  '”\" + 0.001*\"sure whats going\" + 0.001*\"go back forth\" + 0.001*\"time open '\n",
      "  'app\" + 0.001*\"accept e transfer\" + 0.001*\"would also nice\" + 0.001*\"please '\n",
      "  'fix glitch\" + 0.001*\"cant see account\"'),\n",
      " (2,\n",
      "  '0.002*\"its easy use\" + 0.002*\"still doesnt work\" + 0.001*\"please change '\n",
      "  'back\" + 0.001*\"easy use everything\" + 0.001*\"nice able transfer\" + '\n",
      "  '0.001*\"use older version\" + 0.001*\"customer service rep\" + 0.001*\"time '\n",
      "  'transfer money\" + 0.001*\"paid credit card\" + 0.001*\"much easier use\"'),\n",
      " (3,\n",
      "  '0.003*\"can not see\" + 0.002*\"im using iphone\" + 0.001*\"go back old\" + '\n",
      "  '0.001*\"super easy use\" + 0.001*\"its super easy\" + 0.001*\"can not go\" + '\n",
      "  '0.001*\"using phone number\" + 0.001*\"clean easy use\" + 0.001*\"face id '\n",
      "  'doesnt\" + 0.001*\"transaction credit card\"'),\n",
      " (4,\n",
      "  '0.002*\"every time use\" + 0.002*\"ive reset password\" + 0.001*\"love new '\n",
      "  'update\" + 0.001*\"deposit cheque feature\" + 0.001*\"keep getting “\" + '\n",
      "  '0.001*\"time use it\" + 0.001*\"new update really\" + 0.001*\"update really bad\" '\n",
      "  '+ 0.001*\"every time update\" + 0.001*\"face id iphone\"'),\n",
      " (5,\n",
      "  '0.003*\"can not update\" + 0.002*\"iphone pro max\" + 0.001*\"make life much\" + '\n",
      "  '0.001*\"cant open without\" + 0.001*\"new update completely\" + 0.001*\"would '\n",
      "  'like see\" + 0.001*\"quick easy use\" + 0.001*\"deposit e transfer\" + '\n",
      "  '0.001*\"doesnt show transaction\" + 0.000*\"good business practice\"'),\n",
      " (6,\n",
      "  '0.005*\"since last update\" + 0.001*\"everything need app\" + 0.001*\"customer '\n",
      "  'service ever\" + 0.001*\"would nice option\" + 0.001*\"cant use it\" + '\n",
      "  '0.001*\"best customer service\" + 0.001*\"print statement app\" + 0.001*\"easy '\n",
      "  'use navigate\" + 0.000*\"make feel unsafe\" + 0.000*\"make want stop\"'),\n",
      " (7,\n",
      "  '0.002*\"please fix it\" + 0.002*\"card apple pay\" + 0.001*\"using face id\" + '\n",
      "  '0.001*\"matter many time\" + 0.001*\"score free ding\" + 0.001*\"fico® score '\n",
      "  'free\" + 0.001*\"check fico® score\" + 0.001*\"scorecard check fico®\" + '\n",
      "  '0.001*\"credit scorecard check\" + 0.001*\"free ding credit\"'),\n",
      " (8,\n",
      "  '0.007*\"please fix this\" + 0.002*\"able deposit cheque\" + 0.001*\"life much '\n",
      "  'easier\" + 0.001*\"new update sucks\" + 0.001*\"track spend view\" + 0.001*\"help '\n",
      "  'build budget\" + 0.001*\"view reward help\" + 0.001*\"spend analyzer easily\" + '\n",
      "  '0.001*\"analyzer easily track\" + 0.001*\"reward help build\"'),\n",
      " (9,\n",
      "  '0.003*\"time try log\" + 0.002*\"please fix bug\" + 0.002*\"cant access account\" '\n",
      "  '+ 0.002*\"try log in\" + 0.001*\"please fix app\" + 0.001*\"great customer '\n",
      "  'service\" + 0.001*\"get white screen\" + 0.001*\"account want transfer\" + '\n",
      "  '0.001*\"visit local branch\" + 0.001*\"another financial institution\"'),\n",
      " (10,\n",
      "  '0.001*\"its user friendly\" + 0.001*\"able access account\" + 0.001*\"would like '\n",
      "  'able\" + 0.001*\"convenient easy use\" + 0.001*\"life lot easier\" + 0.001*\"make '\n",
      "  'life lot\" + 0.001*\"manually open password\" + 0.001*\"tried deleting '\n",
      "  'redownloading\" + 0.001*\"balance every transaction\" + 0.001*\"email phone '\n",
      "  'number\"'),\n",
      " (11,\n",
      "  '0.003*\"password every time\" + 0.003*\"can not use\" + 0.003*\"every time log\" '\n",
      "  '+ 0.001*\"time log in\" + 0.001*\"always say “\" + 0.001*\"bring back old\" + '\n",
      "  '0.001*\"not use app\" + 0.001*\"update doesnt work\" + 0.001*\"dark mode future\" '\n",
      "  '+ 0.001*\"dark mode please\"'),\n",
      " (12,\n",
      "  '0.005*\"every single time\" + 0.003*\"use face id\" + 0.002*\"keep getting '\n",
      "  'error\" + 0.002*\"old phone number\" + 0.001*\"best ever used\" + '\n",
      "  '0.001*\"recurring charge dashboard\" + 0.001*\"utility phone bill\" + '\n",
      "  '0.001*\"recurring charge like\" + 0.001*\"one convenient place\" + 0.001*\"phone '\n",
      "  'bill one\"')]\n"
     ]
    },
    {
     "data": {
      "text/plain": [
       "<gensim.interfaces.TransformedCorpus at 0x7fdf8ba2e0d0>"
      ]
     },
     "execution_count": 87,
     "metadata": {},
     "output_type": "execute_result"
    }
   ],
   "source": [
    "print(\"For positive sentiment reviews, here are the topics: \\n\")\n",
    "\n",
    "print_topics(pos_best_topic_model, trigram_corpus_pos)"
   ]
  },
  {
   "cell_type": "code",
   "execution_count": 88,
   "id": "informational-admission",
   "metadata": {},
   "outputs": [],
   "source": [
    "def visualize_topics_top_words(best_model, num_topics, filename):\n",
    "    topics = best_model.show_topics(num_topics = num_topics, num_words=10, formatted=False)\n",
    "\n",
    "    # Prepare data for plotting\n",
    "    data = []\n",
    "    for topic_id, terms in topics:\n",
    "        words, weights = zip(*terms)  # Unzip words and weights\n",
    "        data.append((topic_id, words, weights))\n",
    "\n",
    "    # Plotting\n",
    "    num_topics = len(data)\n",
    "    fig, axes = plt.subplots(nrows=(num_topics // 2) + (num_topics % 2), ncols=2, figsize=(15, num_topics * 1.5), sharex=True)\n",
    "    axes = axes.flatten()\n",
    "\n",
    "    for i, (topic_id, words, weights) in enumerate(data):\n",
    "        ax = axes[i]\n",
    "        y_pos = np.arange(len(words))\n",
    "        ax.barh(y_pos, weights, align='center', color=f'C{i % 10}')  # Assign colors dynamically\n",
    "        ax.set_yticks(y_pos)\n",
    "        ax.set_yticklabels(words, fontsize=10)\n",
    "        ax.invert_yaxis()  # Top-down\n",
    "        ax.set_title(f'Topic #{topic_id + 1}', fontsize=12)\n",
    "        ax.tick_params(axis='both', which='major', labelsize=8)\n",
    "\n",
    "    # Hide unused subplots\n",
    "    for j in range(i + 1, len(axes)):\n",
    "        fig.delaxes(axes[j])\n",
    "\n",
    "    plt.tight_layout()\n",
    "    plt.suptitle(\"Topic Model Visualization\", fontsize=16, y=1.02)\n",
    "    plt.subplots_adjust(top=0.9)\n",
    "    plt.savefig(filename)\n",
    "\n",
    "    plt.show()"
   ]
  },
  {
   "cell_type": "code",
   "execution_count": 89,
   "id": "moved-event",
   "metadata": {},
   "outputs": [
    {
     "data": {
      "image/png": "[encoded data removed]",
      "text/plain": [
       "<Figure size 1080x1620 with 15 Axes>"
      ]
     },
     "metadata": {
      "needs_background": "light"
     },
     "output_type": "display_data"
    },
    {
     "data": {
      "image/png": "[encoded data removed]",
      "text/plain": [
       "<Figure size 1080x1620 with 15 Axes>"
      ]
     },
     "metadata": {
      "needs_background": "light"
     },
     "output_type": "display_data"
    },
    {
     "data": {
      "image/png": "[encoded data removed]",
      "text/plain": [
       "<Figure size 1080x1404 with 13 Axes>"
      ]
     },
     "metadata": {
      "needs_background": "light"
     },
     "output_type": "display_data"
    }
   ],
   "source": [
    "visualize_topics_top_words(neg_best_topic_model, 15, \"ios_negative_reviews_topic_topWords.png\")\n",
    "visualize_topics_top_words(net_best_topic_model, 15, \"ios_neutral_reviews_topic_topWords.png\")\n",
    "visualize_topics_top_words(pos_best_topic_model, 13, \"ios_positive_reviews_topic_topWords.png\")\n",
    "\n"
   ]
  },
  {
   "cell_type": "code",
   "execution_count": 90,
   "id": "demographic-heating",
   "metadata": {},
   "outputs": [],
   "source": [
    "# pyLDAvis.enable_notebook()\n",
    "\n",
    "# vis = gensimvis.prepare(best_topic_model, bigram_corpus, bigram_dict)\n",
    "# vis"
   ]
  }
 ],
 "metadata": {
  "kernelspec": {
   "display_name": "Python 3",
   "language": "python",
   "name": "python3"
  },
  "language_info": {
   "codemirror_mode": {
    "name": "ipython",
    "version": 3
   },
   "file_extension": ".py",
   "mimetype": "text/x-python",
   "name": "python",
   "nbconvert_exporter": "python",
   "pygments_lexer": "ipython3",
   "version": "3.9.12"
  }
 },
 "nbformat": 4,
 "nbformat_minor": 5
}
